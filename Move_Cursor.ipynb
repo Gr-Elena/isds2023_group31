{
 "cells": [
  {
   "cell_type": "code",
   "execution_count": 1,
   "id": "a6bba248-0d5a-4d4a-aab4-256a24d3e2d0",
   "metadata": {
    "tags": []
   },
   "outputs": [
    {
     "ename": "KeyboardInterrupt",
     "evalue": "",
     "output_type": "error",
     "traceback": [
      "\u001b[1;31m---------------------------------------------------------------------------\u001b[0m",
      "\u001b[1;31mKeyboardInterrupt\u001b[0m                         Traceback (most recent call last)",
      "Cell \u001b[1;32mIn[1], line 12\u001b[0m\n\u001b[0;32m      9\u001b[0m         pyautogui\u001b[38;5;241m.\u001b[39mmoveTo(current_x, current_y)  \u001b[38;5;66;03m# Move it back\u001b[39;00m\n\u001b[0;32m     10\u001b[0m         time\u001b[38;5;241m.\u001b[39msleep(interval)\n\u001b[1;32m---> 12\u001b[0m move_mouse_periodically(\u001b[38;5;241m10\u001b[39m)\n",
      "Cell \u001b[1;32mIn[1], line 10\u001b[0m, in \u001b[0;36mmove_mouse_periodically\u001b[1;34m(interval)\u001b[0m\n\u001b[0;32m      8\u001b[0m time\u001b[38;5;241m.\u001b[39msleep(interval)\n\u001b[0;32m      9\u001b[0m pyautogui\u001b[38;5;241m.\u001b[39mmoveTo(current_x, current_y)  \u001b[38;5;66;03m# Move it back\u001b[39;00m\n\u001b[1;32m---> 10\u001b[0m time\u001b[38;5;241m.\u001b[39msleep(interval)\n",
      "\u001b[1;31mKeyboardInterrupt\u001b[0m: "
     ]
    }
   ],
   "source": [
    "import pyautogui\n",
    "import time\n",
    "\n",
    "def move_mouse_periodically(interval=10):\n",
    "    while True:\n",
    "        current_x, current_y = pyautogui.position()\n",
    "        pyautogui.moveTo(current_x + 5, current_y + 5)  # Move mouse slightly\n",
    "        time.sleep(interval)\n",
    "        pyautogui.moveTo(current_x, current_y)  # Move it back\n",
    "        time.sleep(interval)\n",
    "\n",
    "move_mouse_periodically(10)"
   ]
  },
  {
   "cell_type": "code",
   "execution_count": null,
   "id": "dcab069b-fa98-4dd9-ba01-5d7b839e9fab",
   "metadata": {},
   "outputs": [],
   "source": []
  }
 ],
 "metadata": {
  "kernelspec": {
   "display_name": "Python 3 (ipykernel)",
   "language": "python",
   "name": "python3"
  },
  "language_info": {
   "codemirror_mode": {
    "name": "ipython",
    "version": 3
   },
   "file_extension": ".py",
   "mimetype": "text/x-python",
   "name": "python",
   "nbconvert_exporter": "python",
   "pygments_lexer": "ipython3",
   "version": "3.11.4"
  }
 },
 "nbformat": 4,
 "nbformat_minor": 5
}
