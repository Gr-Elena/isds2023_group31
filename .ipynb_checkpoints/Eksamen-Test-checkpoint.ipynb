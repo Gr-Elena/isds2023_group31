{
 "cells": [
  {
   "cell_type": "code",
   "execution_count": 1,
   "id": "8afa7a47-6c13-4bad-b977-154054597692",
   "metadata": {
    "tags": []
   },
   "outputs": [],
   "source": [
    "from selenium import webdriver\n",
    "from webdriver_manager.chrome import ChromeDriverManager\n",
    "from selenium.webdriver.common.keys import Keys\n",
    "from selenium.webdriver.common.by import By\n",
    "import time\n",
    "from bs4 import BeautifulSoup\n",
    "import re\n",
    "from tqdm import tqdm\n",
    "import pandas as pd\n",
    "import requests"
   ]
  },
  {
   "cell_type": "code",
   "execution_count": 13,
   "id": "2679af5e-16af-42f0-b8b8-ad2681a5168a",
   "metadata": {
    "tags": []
   },
   "outputs": [],
   "source": [
    "url = 'https://nyheder.tv2.dk/seneste'\n",
    "driver = webdriver.Edge()\n",
    "driver.get(url)"
   ]
  },
  {
   "cell_type": "code",
   "execution_count": 14,
   "id": "122d94bb-025c-4c6d-a0c3-249410debb53",
   "metadata": {
    "tags": []
   },
   "outputs": [],
   "source": [
    "cookie = driver.find_element(By.CSS_SELECTOR, '#onetrust-reject-all-handler')\n",
    "cookie.click()"
   ]
  },
  {
   "cell_type": "code",
   "execution_count": 11,
   "id": "01573abb-64e5-47fa-b085-cb378f3022a0",
   "metadata": {
    "tags": []
   },
   "outputs": [],
   "source": [
    "Vis_flere = driver.find_element(By.CSS_SELECTOR, '.js-tc_load-more__bound')\n",
    "Vis_flere.click()"
   ]
  },
  {
   "cell_type": "code",
   "execution_count": 161,
   "id": "ec7e12ec-9335-4813-98ef-c6e6aa8f369d",
   "metadata": {},
   "outputs": [
    {
     "data": {
      "text/plain": [
       "\"\\nfor i in range(5):\\n    Vis_flere = driver.find_element(By.CSS_SELECTOR, '.js-tc_load-more__bound')\\n    Vis_flere.click()\\n    time.sleep(5)\\n\""
      ]
     },
     "execution_count": 161,
     "metadata": {},
     "output_type": "execute_result"
    }
   ],
   "source": [
    "\"\"\"\n",
    "for i in range(5):\n",
    "    Vis_flere = driver.find_element(By.CSS_SELECTOR, '.js-tc_load-more__bound')\n",
    "    Vis_flere.click()\n",
    "    time.sleep(5)\n",
    "\"\"\""
   ]
  },
  {
   "cell_type": "code",
   "execution_count": 17,
   "id": "f50ab441-7834-4e0d-afc6-f3849ed7ff90",
   "metadata": {
    "tags": []
   },
   "outputs": [
    {
     "name": "stderr",
     "output_type": "stream",
     "text": [
      " 60%|██████████████████████████████████████████████████▍                                 | 3/5 [00:26<00:19,  9.89s/it]"
     ]
    },
    {
     "name": "stdout",
     "output_type": "stream",
     "text": [
      "Max tries at: Number 29 and i: 3\n"
     ]
    },
    {
     "name": "stderr",
     "output_type": "stream",
     "text": [
      " 80%|███████████████████████████████████████████████████████████████████▏                | 4/5 [00:49<00:15, 15.36s/it]"
     ]
    },
    {
     "name": "stdout",
     "output_type": "stream",
     "text": [
      "Max tries at: Number 48 and i: 4\n"
     ]
    },
    {
     "name": "stderr",
     "output_type": "stream",
     "text": [
      "100%|████████████████████████████████████████████████████████████████████████████████████| 5/5 [01:13<00:00, 14.72s/it]\n"
     ]
    }
   ],
   "source": [
    "html = driver.page_source\n",
    "soup = BeautifulSoup(html, 'lxml')\n",
    "\n",
    "Headline = []\n",
    "Category = []\n",
    "Authors = []\n",
    "Time = []\n",
    "All_text = []\n",
    "nummer=0\n",
    "\n",
    "max_retries = 10\n",
    "retries = 0\n",
    "\n",
    "for i in tqdm(range(5)):\n",
    "    retries = 0\n",
    "    while retries < max_retries:\n",
    "        try:\n",
    "            one_column_lists = soup.find_all('ul', {'data-columns': '1'})[i]\n",
    "            break\n",
    "        except:\n",
    "            retries = retries + 1\n",
    "            time.sleep(1)\n",
    "    \n",
    "    if retries == max_retries:\n",
    "        print(f\"Max tries at: Number {nummer} and i: {i}\")\n",
    "    \n",
    "    for one_column_list in one_column_lists:\n",
    "        artikler = one_column_list.find_all(class_='tc_teaser')\n",
    "\n",
    "        for artikel in artikler:\n",
    "            nummer = nummer + 1\n",
    "\n",
    "            Category.append(artikel.find('span', class_='tc_label tc_label--color-nyheder').text)\n",
    "            Headline.append(artikel.find('a', class_='tc_teaser__link').get('aria-label'))\n",
    "\n",
    "            href = artikel.find('a', class_='tc_teaser__link').get('href') #if link else None\n",
    "\n",
    "            text = []\n",
    "            if href:\n",
    "                driver.execute_script(f'window.open(\"{href}\", \"_blank\");')\n",
    "                driver.switch_to.window(driver.window_handles[-1])\n",
    "\n",
    "                new_html = driver.page_source\n",
    "                new_soup = BeautifulSoup(new_html, 'lxml')\n",
    "\n",
    "                #Category.append(new_soup.find('div', class_='tc_page__label').find('a', class_='tc_label tc_label--color-nyheder').text)\n",
    "                #Headline.append(new_soup.find('header', class_=\"tc_page__header\").find('h1').text)\n",
    "\n",
    "                Authors.append(new_soup.find('div', class_=\"tc_byline\").find('strong').text)\n",
    "                Time.append(new_soup.find('time', class_='tc_timestamp').get('datetime'))\n",
    "                \n",
    "                if new_soup.find('div', class_=\"tc_liveblog__body\", attrs={'data-adobe-context':\"article-body\"}):\n",
    "                    article_body_div = new_soup.find('div', class_=\"tc_liveblog__body\", attrs={'data-adobe-context':\"article-body\"})\n",
    "                else:\n",
    "                    article_body_div = new_soup.find('div', class_='tc_page__body', attrs={'data-adobe-context': 'article-body'})\n",
    "                \n",
    "                if article_body_div:\n",
    "                    rich_content_paragraphs = article_body_div.find_all('p')\n",
    "\n",
    "                    for paragraph in rich_content_paragraphs:\n",
    "                        text.append(paragraph.text)\n",
    "\n",
    "                All_text.append(text)\n",
    "\n",
    "                driver.close()\n",
    "                driver.switch_to.window(driver.window_handles[0])\n",
    "\n",
    "            #print(nummer, Category[nummer-1], ':', Headline[nummer-1])\n",
    "    Vis_flere = driver.find_element(By.CSS_SELECTOR, '.js-tc_load-more__bound')\n",
    "    Vis_flere.click()\n",
    "    #print(i)"
   ]
  },
  {
   "cell_type": "code",
   "execution_count": 20,
   "id": "2b7a1de7-b7d6-4eee-8134-afe13a268545",
   "metadata": {
    "tags": []
   },
   "outputs": [
    {
     "name": "stdout",
     "output_type": "stream",
     "text": [
      "Politik\n",
      "Rikke Struck Westersø\n",
      "SF holder sommergruppemøde\n",
      "2023-08-14T08:44:20.010Z\n",
      "['Hvad sker der? SF holder sommergruppemøde ved HOFORs drikkevandsboring i Ringsted. Der er pressemøde klokken 11. ', 'Hvad skal det handle om? Danmark er ikke længere et grønt foregangsland, fordi der tøves i klimapolitikken, mener SF. Partiet kommer derfor i forbindelse med deres sommergruppemøder med en række klimaforslag samt et krav til regeringen om akut politisk klimahandling.', 'Nogle af partiets spidser er nu dukket op til pressemødet, der skal gå i gang lige om lidt.', 'Det er SF-formand Pia Olsen Dyhr, partiets politiske ordfører Signe Munk og Karina Lorentzen Dehnhardt, der er retsordfører.\\xa0', 'SF står et rigtig godt sted lige nu. De er med afstand Danmarks næststørste parti i målingerne.', 'Det er i høj grad udtryk for, at de har været i stand til at tiltrække rigtig mange skuffede socialdemokratiske vælgere. De er på mange måder det naturlige andetvalg for mange vælgere – også Enhedslisten-vælgere og radikale.\\xa0', 'Sammenholdt med, at de har en partileder, der gør det godt, laver meget få fejl, har været der længe og nyder stor troværdighed, så har de virkelig formået at lægge sig et sted nu, hvor de er lykkedes med at vokse, men samtidig ikke stiller sig selv helt udenfor indflydelse. De er et af de partier, regeringen gerne vil snakke med og også gerne lave aftaler med.', 'SFs klima- og politiske ordfører, Signe Munk, uddyber skuffelsen:\\xa0', '- Vi er enormt skuffede over, at Mette Frederiksen og den her regering løber fra det løfte, Socialdemokratiet var med til at indgå før valget om, at vi skulle passe på de områder, hvor vores drikkevand bliver dannet ved ikke at sprøjte på det, ved at plante skov, rejse natur og ellers dyrke økologisk landbrug. Det er de løbet fra, og det duer altså ikke. Kig på drikkevandsboringerne – de bliver i højere og højere grad forurenede.\\xa0', 'Men de anerkender jo stadig, at der skal gøres noget. Så helt løbet er de vel ikke?\\xa0', '- Så skal man nok sige, at de er kommet ned i slowmotion. Og det er et problem, der har forfulgt drikkevandsområdet i mange år. Man bliver ved at med at sige; vi skal lige undersøge lidt mere. Men mens det sker kan vi se, at der siver flere giftrester ned i vores drikkevand. Det kan vi ikke leve med i SF.\\xa0', '- Derfor vil vi have, at der er 200.000 hektar jord, hvor drikkevandet bliver dannet nedenunder, der bliver beskyttet mod gift.', 'Der er en grund til, at SF i dag tager opstilling på en mark ved Ringsted. Det var nemlig på samme mark, at SF-formand Pia Olsen Dyhr i oktober sidste år stod sammen med statsminister Mette Frederiksen (S), Enhedslistens politiske ordfører Mai Villadsen og politisk leder for Alternativet, Franciska Rosenkilde.', 'De foreslog dengang i et samlet udspil at forbyde sprøjtemidler på et areal op mod 200.000 hektar, en tyvendedel af Danmarks areal, frem mod 2030. Det skulle sikre rent drikkevand. Men siden er der ikke sket så meget, mener Pia Olsen Dyhr.', '- SF vil ikke se passivt til, mens vores drikkevand bliver mere og mere forurenet. Derfor bliver det også et centralt krav for SF til finansloven, at regeringen leverer på de løfter, siger hun til Ritzau og fremhæver, at det grønne flertal bag aftalen stadig er intakt, selvom det politiske landskab ser anderledes ud i dag.\\xa0', 'Regeringen skal fremlægge sit udspil til finansloven for næste år inden udgangen af august.']\n"
     ]
    }
   ],
   "source": [
    "print(Category[0])\n",
    "print(Authors[0])\n",
    "print(Headline[0])\n",
    "print(Time[0])\n",
    "print(All_text[0])"
   ]
  },
  {
   "cell_type": "code",
   "execution_count": 21,
   "id": "daabea2a-2841-4b85-8c72-f5a236fa059f",
   "metadata": {
    "tags": []
   },
   "outputs": [
    {
     "data": {
      "text/html": [
       "<div>\n",
       "<style scoped>\n",
       "    .dataframe tbody tr th:only-of-type {\n",
       "        vertical-align: middle;\n",
       "    }\n",
       "\n",
       "    .dataframe tbody tr th {\n",
       "        vertical-align: top;\n",
       "    }\n",
       "\n",
       "    .dataframe thead th {\n",
       "        text-align: right;\n",
       "    }\n",
       "</style>\n",
       "<table border=\"1\" class=\"dataframe\">\n",
       "  <thead>\n",
       "    <tr style=\"text-align: right;\">\n",
       "      <th></th>\n",
       "      <th>Category</th>\n",
       "      <th>Authors</th>\n",
       "      <th>Headline</th>\n",
       "      <th>Time</th>\n",
       "      <th>All_text</th>\n",
       "    </tr>\n",
       "  </thead>\n",
       "  <tbody>\n",
       "    <tr>\n",
       "      <th>0</th>\n",
       "      <td>Politik</td>\n",
       "      <td>Rikke Struck Westersø</td>\n",
       "      <td>SF holder sommergruppemøde</td>\n",
       "      <td>2023-08-14T08:44:20.010Z</td>\n",
       "      <td>[Hvad sker der? SF holder sommergruppemøde ved...</td>\n",
       "    </tr>\n",
       "    <tr>\n",
       "      <th>1</th>\n",
       "      <td>Lokalt</td>\n",
       "      <td>Marie Kjempff</td>\n",
       "      <td>Dyreejere vågnede op til makabert syn: - Det h...</td>\n",
       "      <td>2023-08-14T08:42:03.887Z</td>\n",
       "      <td>[Ubudne gæster i Dragør er stukket af med høns...</td>\n",
       "    </tr>\n",
       "    <tr>\n",
       "      <th>2</th>\n",
       "      <td>Lokalt</td>\n",
       "      <td>Iben Sørensen</td>\n",
       "      <td>Skolepatruljer chikaneres i trafikken</td>\n",
       "      <td>2023-08-14T08:34:59.764Z</td>\n",
       "      <td>[Mandag morgen var politiet på plads ved Rundh...</td>\n",
       "    </tr>\n",
       "    <tr>\n",
       "      <th>3</th>\n",
       "      <td>Politik</td>\n",
       "      <td>Rikke Steenbech</td>\n",
       "      <td>Hård kritik af regeringens klimapolitik: - Det...</td>\n",
       "      <td>2023-08-14T08:28:29.233Z</td>\n",
       "      <td>[I SF mener de ikke, at regeringen er ambitiøs...</td>\n",
       "    </tr>\n",
       "    <tr>\n",
       "      <th>4</th>\n",
       "      <td>Lokalt</td>\n",
       "      <td>Mathilde Justesen Ranners</td>\n",
       "      <td>Lokale redder købmandsbutik med millioner - og...</td>\n",
       "      <td>2023-08-14T08:19:53.601Z</td>\n",
       "      <td>[Flere steder i Danmark reddes pressede købmæn...</td>\n",
       "    </tr>\n",
       "    <tr>\n",
       "      <th>...</th>\n",
       "      <td>...</td>\n",
       "      <td>...</td>\n",
       "      <td>...</td>\n",
       "      <td>...</td>\n",
       "      <td>...</td>\n",
       "    </tr>\n",
       "    <tr>\n",
       "      <th>62</th>\n",
       "      <td>Politik</td>\n",
       "      <td>Jeppe Tholstrup Bach</td>\n",
       "      <td>Regeringen i bakgear – dropper idé om egen ops...</td>\n",
       "      <td>2023-08-13T15:27:07.094Z</td>\n",
       "      <td>[Regeringen har ikke planer om at fremsætte et...</td>\n",
       "    </tr>\n",
       "    <tr>\n",
       "      <th>63</th>\n",
       "      <td>Samfund</td>\n",
       "      <td>Ritzau</td>\n",
       "      <td>Lodsejer afbryder traditionsrigt racerløb for ...</td>\n",
       "      <td>2023-08-13T15:16:28.122Z</td>\n",
       "      <td>[En lodsejer valgte at blokere strækningen til...</td>\n",
       "    </tr>\n",
       "    <tr>\n",
       "      <th>64</th>\n",
       "      <td>Udland</td>\n",
       "      <td>Ritzau</td>\n",
       "      <td>Storbritannien advarer borgere mod risiko for ...</td>\n",
       "      <td>2023-08-13T14:23:33.700Z</td>\n",
       "      <td>[Det er meget sandsynligt, at terrorister vil ...</td>\n",
       "    </tr>\n",
       "    <tr>\n",
       "      <th>65</th>\n",
       "      <td>Udland</td>\n",
       "      <td>Lars Bach Jørgensen</td>\n",
       "      <td>Nudister klager over turister med badetøj</td>\n",
       "      <td>2023-08-13T14:00:12.787Z</td>\n",
       "      <td>[Ved Costa Brava i Spanien efterlyser naturist...</td>\n",
       "    </tr>\n",
       "    <tr>\n",
       "      <th>66</th>\n",
       "      <td>Klima</td>\n",
       "      <td>Mads Oxlund Petersen</td>\n",
       "      <td>Sommerens vejr har været ekstremt verden over ...</td>\n",
       "      <td>2023-08-13T13:51:43.336Z</td>\n",
       "      <td>[Siden 1950’erne er det globale klimasystem ku...</td>\n",
       "    </tr>\n",
       "  </tbody>\n",
       "</table>\n",
       "<p>67 rows × 5 columns</p>\n",
       "</div>"
      ],
      "text/plain": [
       "   Category                     Authors  \\\n",
       "0   Politik       Rikke Struck Westersø   \n",
       "1    Lokalt               Marie Kjempff   \n",
       "2    Lokalt               Iben Sørensen   \n",
       "3   Politik             Rikke Steenbech   \n",
       "4    Lokalt   Mathilde Justesen Ranners   \n",
       "..      ...                         ...   \n",
       "62  Politik        Jeppe Tholstrup Bach   \n",
       "63  Samfund                      Ritzau   \n",
       "64   Udland                      Ritzau   \n",
       "65   Udland         Lars Bach Jørgensen   \n",
       "66    Klima        Mads Oxlund Petersen   \n",
       "\n",
       "                                             Headline  \\\n",
       "0                          SF holder sommergruppemøde   \n",
       "1   Dyreejere vågnede op til makabert syn: - Det h...   \n",
       "2               Skolepatruljer chikaneres i trafikken   \n",
       "3   Hård kritik af regeringens klimapolitik: - Det...   \n",
       "4   Lokale redder købmandsbutik med millioner - og...   \n",
       "..                                                ...   \n",
       "62  Regeringen i bakgear – dropper idé om egen ops...   \n",
       "63  Lodsejer afbryder traditionsrigt racerløb for ...   \n",
       "64  Storbritannien advarer borgere mod risiko for ...   \n",
       "65          Nudister klager over turister med badetøj   \n",
       "66  Sommerens vejr har været ekstremt verden over ...   \n",
       "\n",
       "                        Time  \\\n",
       "0   2023-08-14T08:44:20.010Z   \n",
       "1   2023-08-14T08:42:03.887Z   \n",
       "2   2023-08-14T08:34:59.764Z   \n",
       "3   2023-08-14T08:28:29.233Z   \n",
       "4   2023-08-14T08:19:53.601Z   \n",
       "..                       ...   \n",
       "62  2023-08-13T15:27:07.094Z   \n",
       "63  2023-08-13T15:16:28.122Z   \n",
       "64  2023-08-13T14:23:33.700Z   \n",
       "65  2023-08-13T14:00:12.787Z   \n",
       "66  2023-08-13T13:51:43.336Z   \n",
       "\n",
       "                                             All_text  \n",
       "0   [Hvad sker der? SF holder sommergruppemøde ved...  \n",
       "1   [Ubudne gæster i Dragør er stukket af med høns...  \n",
       "2   [Mandag morgen var politiet på plads ved Rundh...  \n",
       "3   [I SF mener de ikke, at regeringen er ambitiøs...  \n",
       "4   [Flere steder i Danmark reddes pressede købmæn...  \n",
       "..                                                ...  \n",
       "62  [Regeringen har ikke planer om at fremsætte et...  \n",
       "63  [En lodsejer valgte at blokere strækningen til...  \n",
       "64  [Det er meget sandsynligt, at terrorister vil ...  \n",
       "65  [Ved Costa Brava i Spanien efterlyser naturist...  \n",
       "66  [Siden 1950’erne er det globale klimasystem ku...  \n",
       "\n",
       "[67 rows x 5 columns]"
      ]
     },
     "execution_count": 21,
     "metadata": {},
     "output_type": "execute_result"
    }
   ],
   "source": [
    "data = {\n",
    "    'Category': Category,\n",
    "    'Authors': Authors,\n",
    "    'Headline': Headline,\n",
    "    'Time': Time,\n",
    "    'All_text': All_text\n",
    "}\n",
    "\n",
    "df = pd.DataFrame(data)\n",
    "df"
   ]
  },
  {
   "cell_type": "code",
   "execution_count": 128,
   "id": "cd653571-b19e-4cc3-a7d0-36cb36d969c0",
   "metadata": {},
   "outputs": [],
   "source": [
    "#df.to_csv('Data.csv', index=False)"
   ]
  },
  {
   "cell_type": "code",
   "execution_count": null,
   "id": "b8ca0105-5efe-4a78-a3e9-3157cd9599c8",
   "metadata": {},
   "outputs": [],
   "source": []
  },
  {
   "cell_type": "code",
   "execution_count": null,
   "id": "0fea4881-2899-42dc-a50e-4db93dbe7f93",
   "metadata": {},
   "outputs": [],
   "source": []
  }
 ],
 "metadata": {
  "kernelspec": {
   "display_name": "Python 3 (ipykernel)",
   "language": "python",
   "name": "python3"
  },
  "language_info": {
   "codemirror_mode": {
    "name": "ipython",
    "version": 3
   },
   "file_extension": ".py",
   "mimetype": "text/x-python",
   "name": "python",
   "nbconvert_exporter": "python",
   "pygments_lexer": "ipython3",
   "version": "3.11.3"
  }
 },
 "nbformat": 4,
 "nbformat_minor": 5
}
