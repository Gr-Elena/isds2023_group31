{
 "cells": [
  {
   "cell_type": "code",
   "execution_count": 5,
   "id": "8afa7a47-6c13-4bad-b977-154054597692",
   "metadata": {
    "tags": []
   },
   "outputs": [],
   "source": [
    "from selenium import webdriver\n",
    "from webdriver_manager.chrome import ChromeDriverManager\n",
    "from selenium.webdriver.common.keys import Keys\n",
    "from selenium.webdriver.common.by import By\n",
    "import time\n",
    "from bs4 import BeautifulSoup\n",
    "import re\n",
    "from tqdm.notebook import tqdm\n",
    "import pandas as pd\n",
    "import requests"
   ]
  },
  {
   "cell_type": "code",
   "execution_count": 6,
   "id": "2679af5e-16af-42f0-b8b8-ad2681a5168a",
   "metadata": {
    "tags": []
   },
   "outputs": [],
   "source": [
    "url = 'https://nyheder.tv2.dk/seneste'\n",
    "driver = webdriver.Chrome()\n",
    "driver.get(url)\n",
    "\n",
    "headers = {\n",
    "    'Name': 'Mathias Udsen', \n",
    "    'E-mail':'lcv842@alumni.ku.dk',\n",
    "    'Message': 'Scraping as a part of our exam project at UCPH, Intoduction to social data science' \n",
    "}\n",
    "requests.get(url, headers)\n",
    "time.sleep(5)"
   ]
  },
  {
   "cell_type": "code",
   "execution_count": 7,
   "id": "122d94bb-025c-4c6d-a0c3-249410debb53",
   "metadata": {
    "tags": []
   },
   "outputs": [],
   "source": [
    "cookie = driver.find_element(By.CSS_SELECTOR, '#onetrust-reject-all-handler')\n",
    "cookie.click()\n",
    "time.sleep(5)"
   ]
  },
  {
   "cell_type": "code",
   "execution_count": 8,
   "id": "01573abb-64e5-47fa-b085-cb378f3022a0",
   "metadata": {
    "tags": []
   },
   "outputs": [],
   "source": [
    "Vis_flere = driver.find_element(By.CSS_SELECTOR, '.js-tc_load-more__bound')\n",
    "Vis_flere.click()\n",
    "time.sleep(5)"
   ]
  },
  {
   "cell_type": "code",
   "execution_count": null,
   "id": "ec7e12ec-9335-4813-98ef-c6e6aa8f369d",
   "metadata": {
    "tags": []
   },
   "outputs": [
    {
     "data": {
      "application/vnd.jupyter.widget-view+json": {
       "model_id": "0e279d31add24243965dc05be32f7888",
       "version_major": 2,
       "version_minor": 0
      },
      "text/plain": [
       "Loading content:   0%|          | 0/500 [00:00<?, ?it/s]"
      ]
     },
     "metadata": {},
     "output_type": "display_data"
    },
    {
     "name": "stderr",
     "output_type": "stream",
     "text": [
      "\n",
      "KeyboardInterrupt\n",
      "\n"
     ]
    }
   ],
   "source": [
    "nummer=0\n",
    "\n",
    "max_retries = 30\n",
    "retries = 0\n",
    "\n",
    "Mathias = 'Ja'\n",
    "\n",
    "max_iter = 500\n",
    "i = 500\n",
    "\n",
    "soup = BeautifulSoup(driver.page_source, 'html.parser')\n",
    "count_of_one_column_lists = len(soup.find_all('ul', {'data-columns': '1'}))\n",
    "\n",
    "if Mathias == 'Ja':\n",
    "    \n",
    "    pbar1 = tqdm(total=max_iter, desc=\"Loading content\")\n",
    "\n",
    "    while i < 1000 or retries < max_retries:\n",
    "        retries = 0\n",
    "        try:\n",
    "            Vis_flere = driver.find_element(By.CSS_SELECTOR, '.js-tc_load-more__trigger.tc_button--secondary.tc_button--default.js-tc_load-more__bound')\n",
    "            Vis_flere.click()\n",
    "\n",
    "            new_count_of_one_column_lists = 0\n",
    "            while new_count_of_one_column_lists <= count_of_one_column_lists:\n",
    "                #soup = BeautifulSoup(driver.page_source, 'html.parser')\n",
    "                soup = BeautifulSoup(driver.page_source, 'lxml')\n",
    "                new_count_of_one_column_lists = len(soup.find_all('ul', {'data-columns': '1'}))\n",
    "                time.sleep(0.5)\n",
    "\n",
    "            count_of_one_column_lists = new_count_of_one_column_lists\n",
    "            i += 1\n",
    "            nummer += 1\n",
    "            pbar1.update(1)\n",
    "        except:\n",
    "            time.sleep(1)\n",
    "            retries += 1\n",
    "    pbar1.close()\n",
    "time.sleep(5)"
   ]
  },
  {
   "cell_type": "code",
   "execution_count": 4,
   "id": "1cdf9d79-3e9b-428c-808f-66a817933eb1",
   "metadata": {
    "tags": []
   },
   "outputs": [
    {
     "data": {
      "text/plain": [
       "\"\\ni = 0\\ncount_of_one_column_lists = 0\\nwhile i <= 10:\\n    try:\\n        Vis_flere = driver.find_element(By.CSS_SELECTOR, '.js-tc_load-more__trigger.tc_button--secondary.tc_button--default.js-tc_load-more__bound')\\n        Vis_flere.click()\\n\\n        new_count_of_one_column_lists = 0\\n        while new_count_of_one_column_lists <= count_of_one_column_lists:\\n            soup = BeautifulSoup(driver.page_source, 'html.parser')\\n            new_count_of_one_column_lists = len(soup.find_all('ul', {'data-columns': '1'}))\\n            time.sleep(0.25)\\n\\n        count_of_one_column_lists = new_count_of_one_column_lists\\n        i += 1\\n    except:\\n        time.sleep(1)\\n\""
      ]
     },
     "execution_count": 4,
     "metadata": {},
     "output_type": "execute_result"
    }
   ],
   "source": [
    "\"\"\"\n",
    "i = 0\n",
    "count_of_one_column_lists = 0\n",
    "while i <= 10:\n",
    "    try:\n",
    "        Vis_flere = driver.find_element(By.CSS_SELECTOR, '.js-tc_load-more__trigger.tc_button--secondary.tc_button--default.js-tc_load-more__bound')\n",
    "        Vis_flere.click()\n",
    "\n",
    "        new_count_of_one_column_lists = 0\n",
    "        while new_count_of_one_column_lists <= count_of_one_column_lists:\n",
    "            soup = BeautifulSoup(driver.page_source, 'html.parser')\n",
    "            new_count_of_one_column_lists = len(soup.find_all('ul', {'data-columns': '1'}))\n",
    "            time.sleep(0.25)\n",
    "\n",
    "        count_of_one_column_lists = new_count_of_one_column_lists\n",
    "        i += 1\n",
    "    except:\n",
    "        time.sleep(1)\n",
    "\"\"\""
   ]
  },
  {
   "cell_type": "code",
   "execution_count": 7,
   "id": "f50ab441-7834-4e0d-afc6-f3849ed7ff90",
   "metadata": {
    "tags": []
   },
   "outputs": [
    {
     "data": {
      "application/vnd.jupyter.widget-view+json": {
       "model_id": "a11ee7bbb9db43bebf5a2d4e79975804",
       "version_major": 2,
       "version_minor": 0
      },
      "text/plain": [
       "Loading content:   0%|          | 0/500 [00:00<?, ?it/s]"
      ]
     },
     "metadata": {},
     "output_type": "display_data"
    },
    {
     "ename": "KeyboardInterrupt",
     "evalue": "",
     "output_type": "error",
     "traceback": [
      "\u001b[1;31m---------------------------------------------------------------------------\u001b[0m",
      "\u001b[1;31mNoSuchElementException\u001b[0m                    Traceback (most recent call last)",
      "Cell \u001b[1;32mIn[7], line 31\u001b[0m\n\u001b[0;32m     30\u001b[0m \u001b[38;5;28;01mtry\u001b[39;00m:\n\u001b[1;32m---> 31\u001b[0m     Vis_flere \u001b[38;5;241m=\u001b[39m \u001b[43mdriver\u001b[49m\u001b[38;5;241;43m.\u001b[39;49m\u001b[43mfind_element\u001b[49m\u001b[43m(\u001b[49m\u001b[43mBy\u001b[49m\u001b[38;5;241;43m.\u001b[39;49m\u001b[43mCSS_SELECTOR\u001b[49m\u001b[43m,\u001b[49m\u001b[43m \u001b[49m\u001b[38;5;124;43m'\u001b[39;49m\u001b[38;5;124;43m.js-tc_load-more__trigger.tc_button--secondary.tc_button--default.js-tc_load-more__bound\u001b[39;49m\u001b[38;5;124;43m'\u001b[39;49m\u001b[43m)\u001b[49m\n\u001b[0;32m     32\u001b[0m     Vis_flere\u001b[38;5;241m.\u001b[39mclick()\n",
      "File \u001b[1;32m~\\anaconda3\\lib\\site-packages\\selenium\\webdriver\\remote\\webdriver.py:739\u001b[0m, in \u001b[0;36mWebDriver.find_element\u001b[1;34m(self, by, value)\u001b[0m\n\u001b[0;32m    737\u001b[0m     value \u001b[38;5;241m=\u001b[39m \u001b[38;5;124mf\u001b[39m\u001b[38;5;124m'\u001b[39m\u001b[38;5;124m[name=\u001b[39m\u001b[38;5;124m\"\u001b[39m\u001b[38;5;132;01m{\u001b[39;00mvalue\u001b[38;5;132;01m}\u001b[39;00m\u001b[38;5;124m\"\u001b[39m\u001b[38;5;124m]\u001b[39m\u001b[38;5;124m'\u001b[39m\n\u001b[1;32m--> 739\u001b[0m \u001b[38;5;28;01mreturn\u001b[39;00m \u001b[38;5;28;43mself\u001b[39;49m\u001b[38;5;241;43m.\u001b[39;49m\u001b[43mexecute\u001b[49m\u001b[43m(\u001b[49m\u001b[43mCommand\u001b[49m\u001b[38;5;241;43m.\u001b[39;49m\u001b[43mFIND_ELEMENT\u001b[49m\u001b[43m,\u001b[49m\u001b[43m \u001b[49m\u001b[43m{\u001b[49m\u001b[38;5;124;43m\"\u001b[39;49m\u001b[38;5;124;43musing\u001b[39;49m\u001b[38;5;124;43m\"\u001b[39;49m\u001b[43m:\u001b[49m\u001b[43m \u001b[49m\u001b[43mby\u001b[49m\u001b[43m,\u001b[49m\u001b[43m \u001b[49m\u001b[38;5;124;43m\"\u001b[39;49m\u001b[38;5;124;43mvalue\u001b[39;49m\u001b[38;5;124;43m\"\u001b[39;49m\u001b[43m:\u001b[49m\u001b[43m \u001b[49m\u001b[43mvalue\u001b[49m\u001b[43m}\u001b[49m\u001b[43m)\u001b[49m[\u001b[38;5;124m\"\u001b[39m\u001b[38;5;124mvalue\u001b[39m\u001b[38;5;124m\"\u001b[39m]\n",
      "File \u001b[1;32m~\\anaconda3\\lib\\site-packages\\selenium\\webdriver\\remote\\webdriver.py:345\u001b[0m, in \u001b[0;36mWebDriver.execute\u001b[1;34m(self, driver_command, params)\u001b[0m\n\u001b[0;32m    344\u001b[0m \u001b[38;5;28;01mif\u001b[39;00m response:\n\u001b[1;32m--> 345\u001b[0m     \u001b[38;5;28;43mself\u001b[39;49m\u001b[38;5;241;43m.\u001b[39;49m\u001b[43merror_handler\u001b[49m\u001b[38;5;241;43m.\u001b[39;49m\u001b[43mcheck_response\u001b[49m\u001b[43m(\u001b[49m\u001b[43mresponse\u001b[49m\u001b[43m)\u001b[49m\n\u001b[0;32m    346\u001b[0m     response[\u001b[38;5;124m\"\u001b[39m\u001b[38;5;124mvalue\u001b[39m\u001b[38;5;124m\"\u001b[39m] \u001b[38;5;241m=\u001b[39m \u001b[38;5;28mself\u001b[39m\u001b[38;5;241m.\u001b[39m_unwrap_value(response\u001b[38;5;241m.\u001b[39mget(\u001b[38;5;124m\"\u001b[39m\u001b[38;5;124mvalue\u001b[39m\u001b[38;5;124m\"\u001b[39m, \u001b[38;5;28;01mNone\u001b[39;00m))\n",
      "File \u001b[1;32m~\\anaconda3\\lib\\site-packages\\selenium\\webdriver\\remote\\errorhandler.py:229\u001b[0m, in \u001b[0;36mErrorHandler.check_response\u001b[1;34m(self, response)\u001b[0m\n\u001b[0;32m    228\u001b[0m     \u001b[38;5;28;01mraise\u001b[39;00m exception_class(message, screen, stacktrace, alert_text)  \u001b[38;5;66;03m# type: ignore[call-arg]  # mypy is not smart enough here\u001b[39;00m\n\u001b[1;32m--> 229\u001b[0m \u001b[38;5;28;01mraise\u001b[39;00m exception_class(message, screen, stacktrace)\n",
      "\u001b[1;31mNoSuchElementException\u001b[0m: Message: no such element: Unable to locate element: {\"method\":\"css selector\",\"selector\":\".js-tc_load-more__trigger.tc_button--secondary.tc_button--default.js-tc_load-more__bound\"}\n  (Session info: chrome=115.0.5790.171); For documentation on this error, please visit: https://www.selenium.dev/documentation/webdriver/troubleshooting/errors#no-such-element-exception\nStacktrace:\nBacktrace:\n\tGetHandleVerifier [0x00007FF7470C4A62+57106]\n\t(No symbol) [0x00007FF74703CF52]\n\t(No symbol) [0x00007FF746F0E2CB]\n\t(No symbol) [0x00007FF746F4786E]\n\t(No symbol) [0x00007FF746F4795C]\n\t(No symbol) [0x00007FF746F80477]\n\t(No symbol) [0x00007FF746F669FF]\n\t(No symbol) [0x00007FF746F7E522]\n\t(No symbol) [0x00007FF746F66793]\n\t(No symbol) [0x00007FF746F3CE81]\n\t(No symbol) [0x00007FF746F3E064]\n\tGetHandleVerifier [0x00007FF747374222+2873042]\n\tGetHandleVerifier [0x00007FF7473C6590+3209792]\n\tGetHandleVerifier [0x00007FF7473BF3AF+3180639]\n\tGetHandleVerifier [0x00007FF747155F25+652245]\n\t(No symbol) [0x00007FF747048618]\n\t(No symbol) [0x00007FF7470447C4]\n\t(No symbol) [0x00007FF7470448BC]\n\t(No symbol) [0x00007FF747034C33]\n\tBaseThreadInitThunk [0x00007FFE6DF87614+20]\n\tRtlUserThreadStart [0x00007FFE6E7026B1+33]\n",
      "\nDuring handling of the above exception, another exception occurred:\n",
      "\u001b[1;31mKeyboardInterrupt\u001b[0m                         Traceback (most recent call last)",
      "Cell \u001b[1;32mIn[7], line 44\u001b[0m\n\u001b[0;32m     42\u001b[0m             pbar1\u001b[38;5;241m.\u001b[39mupdate(\u001b[38;5;241m1\u001b[39m)\n\u001b[0;32m     43\u001b[0m         \u001b[38;5;28;01mexcept\u001b[39;00m:\n\u001b[1;32m---> 44\u001b[0m             \u001b[43mtime\u001b[49m\u001b[38;5;241;43m.\u001b[39;49m\u001b[43msleep\u001b[49m\u001b[43m(\u001b[49m\u001b[38;5;241;43m1\u001b[39;49m\u001b[43m)\u001b[49m\n\u001b[0;32m     45\u001b[0m     pbar1\u001b[38;5;241m.\u001b[39mclose()\n\u001b[0;32m     47\u001b[0m pbar2 \u001b[38;5;241m=\u001b[39m tqdm(total\u001b[38;5;241m=\u001b[39mmax_iter, desc\u001b[38;5;241m=\u001b[39m\u001b[38;5;124m\"\u001b[39m\u001b[38;5;124mScraping\u001b[39m\u001b[38;5;124m\"\u001b[39m)\n",
      "\u001b[1;31mKeyboardInterrupt\u001b[0m: "
     ]
    }
   ],
   "source": [
    "html = driver.page_source\n",
    "soup = BeautifulSoup(html, 'lxml')\n",
    "\n",
    "Headline = []\n",
    "Category = []\n",
    "Authors = []\n",
    "Time = []\n",
    "Live = []\n",
    "All_text = []\n",
    "Fejl = []\n",
    "#nummer=0\n",
    "\n",
    "Live_find1 = False\n",
    "Live_find2 = False\n",
    "\n",
    "if nummer == 500:\n",
    "    max_iter = 1000\n",
    "elif nummer == 0:\n",
    "    max_iter = 500\n",
    "else: \n",
    "    max_iter = nummer\n",
    "    nummer = 0\n",
    "\n",
    "pbar2 = tqdm(total=nummer, desc=\"Scraping\")\n",
    "i = 0\n",
    "#for i in range(0, 500, 1):\n",
    "for i in range(nummer, max_iter, 1):\n",
    "    try:\n",
    "        Vis_flere = driver.find_element(By.CSS_SELECTOR, '.js-tc_load-more__trigger.tc_button--secondary.tc_button--default.js-tc_load-more__bound')\n",
    "        Vis_flere.click()\n",
    "\n",
    "        new_count_of_one_column_lists = 0\n",
    "        while new_count_of_one_column_lists <= count_of_one_column_lists:\n",
    "            soup = BeautifulSoup(driver.page_source, 'lxml')\n",
    "            new_count_of_one_column_lists = len(soup.find_all('ul', {'data-columns': '1'}))\n",
    "            time.sleep(0.25)\n",
    "\n",
    "        count_of_one_column_lists = new_count_of_one_column_lists\n",
    "    except:\n",
    "        time.sleep(1)\n",
    "        \n",
    "    retries = 0\n",
    "    while retries < max_retries:\n",
    "        try:\n",
    "            one_column_lists = soup.find_all('ul', {'data-columns': '1'})[i]\n",
    "            break\n",
    "        except:\n",
    "            #print(i)\n",
    "            retries = retries + 1\n",
    "            time.sleep(1)\n",
    "    \n",
    "    if retries == max_retries:\n",
    "        print(f\"Max tries at: Number {nummer} and i: {i}\")\n",
    "        continue\n",
    "        \n",
    "    pbar3 = tqdm(total=len(soup.find_all('ul', {'data-columns': '1'})[i].find_all(class_='tc_teaser')), desc=\"Articles\", leave=False)\n",
    "\n",
    "    for one_column_list in one_column_lists:\n",
    "        artikler = one_column_list.find_all(class_='tc_teaser')\n",
    "            \n",
    "        for artikel in artikler:\n",
    "            nummer += 1\n",
    "\n",
    "            # Initializations\n",
    "            current_headline = None\n",
    "            current_author = None\n",
    "            current_time = None\n",
    "            current_category = None\n",
    "            current_text = []\n",
    "            current_live = 0\n",
    "\n",
    "            if artikel.find('span', class_='tc_label tc_label--color-live'):\n",
    "                Live_find1 = True\n",
    "            else:\n",
    "                Live_find1 = False\n",
    "\n",
    "            # Extract link\n",
    "            href = artikel.find('a', class_='tc_teaser__link').get('href')\n",
    "            \n",
    "            try:\n",
    "                if href:\n",
    "                    driver.execute_script(f'window.open(\"{href}\", \"_blank\");')\n",
    "                    driver.switch_to.window(driver.window_handles[-1])\n",
    "\n",
    "                    new_html = driver.page_source\n",
    "                    new_soup = BeautifulSoup(new_html, 'lxml')\n",
    "\n",
    "                    liveblog_body = new_soup.find('div', class_=\"tc_liveblog__body\", attrs={'data-adobe-context': \"article-body\"})\n",
    "                    Live_find2 = bool(liveblog_body and liveblog_body.find('em') and liveblog_body.find('em').text == 'Denne liveblog opdateres ikke længere.')\n",
    "\n",
    "                    if Live_find1 or Live_find2:\n",
    "                        current_headline = new_soup.find('header', class_=\"tc_page__header\").find('h1').text\n",
    "\n",
    "                    byline = new_soup.find('div', class_=\"tc_byline\")\n",
    "                    if byline:\n",
    "                        current_author = byline.find('strong').text\n",
    "                    timestamp = new_soup.find('time', class_='tc_timestamp')\n",
    "                    if timestamp:\n",
    "                        current_time = timestamp.get('datetime')\n",
    "\n",
    "                    if liveblog_body:\n",
    "                        article_body_div = liveblog_body\n",
    "                    else:\n",
    "                        article_body_div = new_soup.find('div', class_='tc_page__body', attrs={'data-adobe-context': 'article-body'})\n",
    "\n",
    "                    if article_body_div:\n",
    "                        rich_content_paragraphs = article_body_div.find_all('p')\n",
    "                        for paragraph in rich_content_paragraphs:\n",
    "                            current_text.append(paragraph.text)\n",
    "\n",
    "                    driver.close()\n",
    "                    driver.switch_to.window(driver.window_handles[0])\n",
    "                \n",
    "            except Exception as e:\n",
    "                print(f\"Error processing article at nummer: {nummer}. Error: {e}. {href}\")\n",
    "                driver.close()   # Ensure the article page is closed even on error\n",
    "                driver.switch_to.window(driver.window_handles[0])\n",
    "                Fejl.append(href)\n",
    "                continue\n",
    "\n",
    "            if Live_find1 or Live_find2:\n",
    "                current_live = 1\n",
    "            else:\n",
    "                current_headline = artikel.find('a', class_='tc_teaser__link').get('aria-label')\n",
    "\n",
    "            label = artikel.find('span', class_='tc_label tc_label--color-nyheder')\n",
    "            if label:\n",
    "                current_category = label.text\n",
    "\n",
    "            if all([current_headline, current_author, current_time, current_category, current_text]):\n",
    "                Headline.append(current_headline)\n",
    "                Authors.append(current_author)\n",
    "                Time.append(current_time)\n",
    "                Category.append(current_category)\n",
    "                All_text.append(current_text)\n",
    "                Live.append(current_live)\n",
    "            else:\n",
    "                print(f\"Skipped article at nummer: {nummer} due to missing details: {href}\")\n",
    "                Fejl.append(href)\n",
    "            pbar3.update(1)\n",
    "    pbar3.close()\n",
    "    pbar2.update(1)\n",
    "pbar2.close()\n",
    "time.sleep(5)"
   ]
  },
  {
   "cell_type": "code",
   "execution_count": 9,
   "id": "2b7a1de7-b7d6-4eee-8134-afe13a268545",
   "metadata": {
    "tags": []
   },
   "outputs": [
    {
     "ename": "IndexError",
     "evalue": "list index out of range",
     "output_type": "error",
     "traceback": [
      "\u001b[1;31m---------------------------------------------------------------------------\u001b[0m",
      "\u001b[1;31mIndexError\u001b[0m                                Traceback (most recent call last)",
      "Cell \u001b[1;32mIn[9], line 1\u001b[0m\n\u001b[1;32m----> 1\u001b[0m \u001b[38;5;28mprint\u001b[39m(\u001b[38;5;28mlen\u001b[39m(Category), \u001b[43mCategory\u001b[49m\u001b[43m[\u001b[49m\u001b[38;5;241;43m0\u001b[39;49m\u001b[43m]\u001b[49m)\n\u001b[0;32m      2\u001b[0m \u001b[38;5;28mprint\u001b[39m(\u001b[38;5;28mlen\u001b[39m(Authors), Authors[\u001b[38;5;241m0\u001b[39m])\n\u001b[0;32m      3\u001b[0m \u001b[38;5;28mprint\u001b[39m(\u001b[38;5;28mlen\u001b[39m(Headline), Headline[\u001b[38;5;241m0\u001b[39m])\n",
      "\u001b[1;31mIndexError\u001b[0m: list index out of range"
     ]
    }
   ],
   "source": [
    "print(len(Category), Category[0])\n",
    "print(len(Authors), Authors[0])\n",
    "print(len(Headline), Headline[0])\n",
    "print(len(Time), Time[0])\n",
    "print(len(Live), Live[0])\n",
    "print(len(All_text), All_text[0])\n",
    "time.sleep(5)"
   ]
  },
  {
   "cell_type": "code",
   "execution_count": 8,
   "id": "daabea2a-2841-4b85-8c72-f5a236fa059f",
   "metadata": {
    "tags": []
   },
   "outputs": [
    {
     "data": {
      "text/html": [
       "<div>\n",
       "<style scoped>\n",
       "    .dataframe tbody tr th:only-of-type {\n",
       "        vertical-align: middle;\n",
       "    }\n",
       "\n",
       "    .dataframe tbody tr th {\n",
       "        vertical-align: top;\n",
       "    }\n",
       "\n",
       "    .dataframe thead th {\n",
       "        text-align: right;\n",
       "    }\n",
       "</style>\n",
       "<table border=\"1\" class=\"dataframe\">\n",
       "  <thead>\n",
       "    <tr style=\"text-align: right;\">\n",
       "      <th></th>\n",
       "      <th>Category</th>\n",
       "      <th>Authors</th>\n",
       "      <th>Headline</th>\n",
       "      <th>Time</th>\n",
       "      <th>Live</th>\n",
       "      <th>All_text</th>\n",
       "    </tr>\n",
       "  </thead>\n",
       "  <tbody>\n",
       "  </tbody>\n",
       "</table>\n",
       "</div>"
      ],
      "text/plain": [
       "Empty DataFrame\n",
       "Columns: [Category, Authors, Headline, Time, Live, All_text]\n",
       "Index: []"
      ]
     },
     "execution_count": 8,
     "metadata": {},
     "output_type": "execute_result"
    }
   ],
   "source": [
    "data = {\n",
    "    'Category': Category,\n",
    "    'Authors': Authors,\n",
    "    'Headline': Headline,\n",
    "    'Time': Time,\n",
    "    'Live': Live,\n",
    "    'All_text': All_text\n",
    "}\n",
    "df = pd.DataFrame(data)\n",
    "time.sleep(5)\n",
    "#pd.set_option('display.max_rows', None)\n",
    "#pd.set_option('display.max_columns', None)\n",
    "df\n",
    "#sorted_df = df.sort_values(by='Time')\n",
    "#sorted_df"
   ]
  },
  {
   "cell_type": "code",
   "execution_count": null,
   "id": "cd653571-b19e-4cc3-a7d0-36cb36d969c0",
   "metadata": {
    "tags": []
   },
   "outputs": [],
   "source": [
    "df.to_csv('Data.csv', index=False)\n",
    "time.sleep(5)"
   ]
  },
  {
   "cell_type": "code",
   "execution_count": null,
   "id": "b8ca0105-5efe-4a78-a3e9-3157cd9599c8",
   "metadata": {},
   "outputs": [],
   "source": [
    "df.to_csv(r'C:\\Users\\Mathias\\Desktop\\Privat\\Uni\\~Kandidat\\ISDS\\Data.csv', index=False)\n",
    "time.sleep(5)"
   ]
  },
  {
   "cell_type": "code",
   "execution_count": null,
   "id": "0fea4881-2899-42dc-a50e-4db93dbe7f93",
   "metadata": {},
   "outputs": [],
   "source": [
    "import os\n",
    "os.system(\"shutdown /s /t 10\")"
   ]
  },
  {
   "cell_type": "code",
   "execution_count": null,
   "id": "dbb36b0b-0794-4048-966a-ef1d3e3fe61d",
   "metadata": {
    "tags": []
   },
   "outputs": [],
   "source": [
    "#os.system(\"shutdown /a\")"
   ]
  },
  {
   "cell_type": "code",
   "execution_count": null,
   "id": "a5f63a13-b66a-4c80-bd3e-b8b2c2d5e2ec",
   "metadata": {},
   "outputs": [],
   "source": []
  }
 ],
 "metadata": {
  "kernelspec": {
   "display_name": "Python 3 (ipykernel)",
   "language": "python",
   "name": "python3"
  },
  "language_info": {
   "codemirror_mode": {
    "name": "ipython",
    "version": 3
   },
   "file_extension": ".py",
   "mimetype": "text/x-python",
   "name": "python",
   "nbconvert_exporter": "python",
   "pygments_lexer": "ipython3",
   "version": "3.10.9"
  }
 },
 "nbformat": 4,
 "nbformat_minor": 5
}
