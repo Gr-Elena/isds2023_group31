{
 "cells": [
  {
   "cell_type": "code",
   "execution_count": 1,
   "id": "8afa7a47-6c13-4bad-b977-154054597692",
   "metadata": {
    "tags": []
   },
   "outputs": [],
   "source": [
    "from selenium import webdriver\n",
    "from webdriver_manager.chrome import ChromeDriverManager\n",
    "from selenium.webdriver.common.keys import Keys\n",
    "from selenium.webdriver.common.by import By\n",
    "import time\n",
    "from bs4 import BeautifulSoup\n",
    "import re\n",
    "from tqdm.notebook import tqdm\n",
    "import pandas as pd\n",
    "import requests"
   ]
  },
  {
   "cell_type": "code",
   "execution_count": 2,
   "id": "2679af5e-16af-42f0-b8b8-ad2681a5168a",
   "metadata": {
    "tags": []
   },
   "outputs": [],
   "source": [
    "url = 'https://nyheder.tv2.dk/seneste'\n",
    "driver = webdriver.Chrome()\n",
    "driver.get(url)\n",
    "\n",
    "headers = {\n",
    "    'Name': 'Mathias Udsen', \n",
    "    'E-mail':'lcv842@alumni.ku.dk',\n",
    "    'Message': 'Scraping as a part of our exam project at UCPH, Intoduction to social data science' \n",
    "}\n",
    "requests.get(url, headers)\n",
    "time.sleep(5)"
   ]
  },
  {
   "cell_type": "code",
   "execution_count": 3,
   "id": "122d94bb-025c-4c6d-a0c3-249410debb53",
   "metadata": {
    "tags": []
   },
   "outputs": [],
   "source": [
    "cookie = driver.find_element(By.CSS_SELECTOR, '#onetrust-reject-all-handler')\n",
    "cookie.click()\n",
    "time.sleep(5)"
   ]
  },
  {
   "cell_type": "code",
   "execution_count": 4,
   "id": "01573abb-64e5-47fa-b085-cb378f3022a0",
   "metadata": {
    "tags": []
   },
   "outputs": [],
   "source": [
    "Vis_flere = driver.find_element(By.CSS_SELECTOR, '.js-tc_load-more__bound')\n",
    "Vis_flere.click()\n",
    "time.sleep(5)"
   ]
  },
  {
   "cell_type": "code",
   "execution_count": null,
   "id": "ec7e12ec-9335-4813-98ef-c6e6aa8f369d",
   "metadata": {
    "tags": []
   },
   "outputs": [
    {
     "data": {
      "application/vnd.jupyter.widget-view+json": {
       "model_id": "99b9cbbb0ce14b95a0e1212373f56572",
       "version_major": 2,
       "version_minor": 0
      },
      "text/plain": [
       "Loading content:   0%|          | 0/200 [00:00<?, ?it/s]"
      ]
     },
     "metadata": {},
     "output_type": "display_data"
    }
   ],
   "source": [
    "nummer=0\n",
    "\n",
    "max_retries = 30\n",
    "retries = 0\n",
    "\n",
    "Mathias = 'Ja'\n",
    "\n",
    "max_iter = 200\n",
    "i = 0\n",
    "\n",
    "soup = BeautifulSoup(driver.page_source, 'html.parser')\n",
    "count_of_one_column_lists = len(soup.find_all('ul', {'data-columns': '1'}))\n",
    "\n",
    "if Mathias == 'Ja':\n",
    "    \n",
    "    pbar1 = tqdm(total=max_iter, desc=\"Loading content\")\n",
    "\n",
    "    while i < 200 and retries < max_retries:\n",
    "        retries = 0\n",
    "        try:\n",
    "            Vis_flere = driver.find_element(By.CSS_SELECTOR, '.js-tc_load-more__trigger.tc_button--secondary.tc_button--default.js-tc_load-more__bound')\n",
    "            Vis_flere.click()\n",
    "\n",
    "            new_count_of_one_column_lists = 0\n",
    "            while new_count_of_one_column_lists <= count_of_one_column_lists:\n",
    "                #soup = BeautifulSoup(driver.page_source, 'html.parser')\n",
    "                soup = BeautifulSoup(driver.page_source, 'lxml')\n",
    "                new_count_of_one_column_lists = len(soup.find_all('ul', {'data-columns': '1'}))\n",
    "                time.sleep(0.5)\n",
    "\n",
    "            count_of_one_column_lists = new_count_of_one_column_lists\n",
    "            i += 1\n",
    "            nummer += 1\n",
    "            pbar1.update(1)\n",
    "        except:\n",
    "            time.sleep(1)\n",
    "            retries += 1\n",
    "    pbar1.close()\n",
    "time.sleep(5)"
   ]
  },
  {
   "cell_type": "code",
   "execution_count": null,
   "id": "1cdf9d79-3e9b-428c-808f-66a817933eb1",
   "metadata": {
    "tags": []
   },
   "outputs": [],
   "source": [
    "\"\"\"\n",
    "i = 0\n",
    "count_of_one_column_lists = 0\n",
    "while i <= 10:\n",
    "    try:\n",
    "        Vis_flere = driver.find_element(By.CSS_SELECTOR, '.js-tc_load-more__trigger.tc_button--secondary.tc_button--default.js-tc_load-more__bound')\n",
    "        Vis_flere.click()\n",
    "\n",
    "        new_count_of_one_column_lists = 0\n",
    "        while new_count_of_one_column_lists <= count_of_one_column_lists:\n",
    "            soup = BeautifulSoup(driver.page_source, 'html.parser')\n",
    "            new_count_of_one_column_lists = len(soup.find_all('ul', {'data-columns': '1'}))\n",
    "            time.sleep(0.25)\n",
    "\n",
    "        count_of_one_column_lists = new_count_of_one_column_lists\n",
    "        i += 1\n",
    "    except:\n",
    "        time.sleep(1)\n",
    "\"\"\""
   ]
  },
  {
   "cell_type": "code",
   "execution_count": null,
   "id": "f50ab441-7834-4e0d-afc6-f3849ed7ff90",
   "metadata": {
    "tags": []
   },
   "outputs": [],
   "source": [
    "html = driver.page_source\n",
    "soup = BeautifulSoup(html, 'lxml')\n",
    "\n",
    "Headline = []\n",
    "Category = []\n",
    "Authors = []\n",
    "Time = []\n",
    "Live = []\n",
    "All_text = []\n",
    "Fejl = []\n",
    "#nummer=0\n",
    "\n",
    "Live_find1 = False\n",
    "Live_find2 = False\n",
    "\n",
    "if nummer == 200:\n",
    "    max_iter = 300\n",
    "elif nummer == 0:\n",
    "    max_iter = 100\n",
    "else: \n",
    "    max_iter = nummer\n",
    "    nummer = 0\n",
    "\n",
    "pbar2 = tqdm(total=max_iter-nummer, desc=\"Scraping\")\n",
    "i = 0\n",
    "#for i in range(0, 500, 1):\n",
    "for i in range(nummer, max_iter, 1):\n",
    "    try:\n",
    "        Vis_flere = driver.find_element(By.CSS_SELECTOR, '.js-tc_load-more__trigger.tc_button--secondary.tc_button--default.js-tc_load-more__bound')\n",
    "        Vis_flere.click()\n",
    "\n",
    "        new_count_of_one_column_lists = 0\n",
    "        while new_count_of_one_column_lists <= count_of_one_column_lists:\n",
    "            soup = BeautifulSoup(driver.page_source, 'lxml')\n",
    "            new_count_of_one_column_lists = len(soup.find_all('ul', {'data-columns': '1'}))\n",
    "            time.sleep(0.25)\n",
    "\n",
    "        count_of_one_column_lists = new_count_of_one_column_lists\n",
    "    except:\n",
    "        time.sleep(1)\n",
    "        \n",
    "    retries = 0\n",
    "    while retries < max_retries:\n",
    "        try:\n",
    "            one_column_lists = soup.find_all('ul', {'data-columns': '1'})[i]\n",
    "            break\n",
    "        except:\n",
    "            #print(i)\n",
    "            retries = retries + 1\n",
    "            time.sleep(1)\n",
    "    \n",
    "    if retries == max_retries:\n",
    "        print(f\"Max tries at: Number {nummer} and i: {i}\")\n",
    "        continue\n",
    "        \n",
    "    pbar3 = tqdm(total=len(soup.find_all('ul', {'data-columns': '1'})[i].find_all(class_='tc_teaser')), desc=\"Articles\", leave=False)\n",
    "\n",
    "    for one_column_list in one_column_lists:\n",
    "        artikler = one_column_list.find_all(class_='tc_teaser')\n",
    "            \n",
    "        for artikel in artikler:\n",
    "            nummer += 1\n",
    "\n",
    "            # Initializations\n",
    "            current_headline = None\n",
    "            current_author = None\n",
    "            current_time = None\n",
    "            current_category = None\n",
    "            current_text = []\n",
    "            current_live = 0\n",
    "\n",
    "            if artikel.find('span', class_='tc_label tc_label--color-live'):\n",
    "                Live_find1 = True\n",
    "            else:\n",
    "                Live_find1 = False\n",
    "\n",
    "            # Extract link\n",
    "            href = artikel.find('a', class_='tc_teaser__link').get('href')\n",
    "            \n",
    "            try:\n",
    "                if href:\n",
    "                    driver.execute_script(f'window.open(\"{href}\", \"_blank\");')\n",
    "                    driver.switch_to.window(driver.window_handles[-1])\n",
    "\n",
    "                    new_html = driver.page_source\n",
    "                    new_soup = BeautifulSoup(new_html, 'lxml')\n",
    "\n",
    "                    liveblog_body = new_soup.find('div', class_=\"tc_liveblog__body\", attrs={'data-adobe-context': \"article-body\"})\n",
    "                    Live_find2 = bool(liveblog_body and liveblog_body.find('em') and liveblog_body.find('em').text == 'Denne liveblog opdateres ikke længere.')\n",
    "\n",
    "                    if Live_find1 or Live_find2:\n",
    "                        current_headline = new_soup.find('header', class_=\"tc_page__header\").find('h1').text\n",
    "\n",
    "                    byline = new_soup.find('div', class_=\"tc_byline\")\n",
    "                    if byline:\n",
    "                        current_author = byline.find('strong').text\n",
    "                    timestamp = new_soup.find('time', class_='tc_timestamp')\n",
    "                    if timestamp:\n",
    "                        current_time = timestamp.get('datetime')\n",
    "\n",
    "                    if liveblog_body:\n",
    "                        article_body_div = liveblog_body\n",
    "                    else:\n",
    "                        article_body_div = new_soup.find('div', class_='tc_page__body', attrs={'data-adobe-context': 'article-body'})\n",
    "\n",
    "                    if article_body_div:\n",
    "                        rich_content_paragraphs = article_body_div.find_all('p')\n",
    "                        for paragraph in rich_content_paragraphs:\n",
    "                            current_text.append(paragraph.text)\n",
    "\n",
    "                    driver.close()\n",
    "                    driver.switch_to.window(driver.window_handles[0])\n",
    "                \n",
    "            except Exception as e:\n",
    "                print(f\"Error processing article at nummer: {nummer}. Error: {e}. {href}\")\n",
    "                driver.close()   # Ensure the article page is closed even on error\n",
    "                driver.switch_to.window(driver.window_handles[0])\n",
    "                Fejl.append(href)\n",
    "                continue\n",
    "\n",
    "            if Live_find1 or Live_find2:\n",
    "                current_live = 1\n",
    "            else:\n",
    "                current_headline = artikel.find('a', class_='tc_teaser__link').get('aria-label')\n",
    "\n",
    "            label = artikel.find('span', class_='tc_label tc_label--color-nyheder')\n",
    "            if label:\n",
    "                current_category = label.text\n",
    "\n",
    "            if all([current_headline, current_author, current_time, current_category, current_text]):\n",
    "                Headline.append(current_headline)\n",
    "                Authors.append(current_author)\n",
    "                Time.append(current_time)\n",
    "                Category.append(current_category)\n",
    "                All_text.append(current_text)\n",
    "                Live.append(current_live)\n",
    "            else:\n",
    "                print(f\"Skipped article at nummer: {nummer} due to missing details: {href}\")\n",
    "                Fejl.append(href)\n",
    "            pbar3.update(1)\n",
    "    pbar3.close()\n",
    "    pbar2.update(1)\n",
    "pbar2.close()\n",
    "time.sleep(5)"
   ]
  },
  {
   "cell_type": "code",
   "execution_count": null,
   "id": "2b7a1de7-b7d6-4eee-8134-afe13a268545",
   "metadata": {
    "tags": []
   },
   "outputs": [],
   "source": [
    "print(len(Category), Category[0])\n",
    "print(len(Authors), Authors[0])\n",
    "print(len(Headline), Headline[0])\n",
    "print(len(Time), Time[0])\n",
    "print(len(Live), Live[0])\n",
    "print(len(All_text), All_text[0])\n",
    "time.sleep(5)"
   ]
  },
  {
   "cell_type": "code",
   "execution_count": null,
   "id": "daabea2a-2841-4b85-8c72-f5a236fa059f",
   "metadata": {
    "tags": []
   },
   "outputs": [],
   "source": [
    "data = {\n",
    "    'Category': Category,\n",
    "    'Authors': Authors,\n",
    "    'Headline': Headline,\n",
    "    'Time': Time,\n",
    "    'Live': Live,\n",
    "    'All_text': All_text\n",
    "}\n",
    "df = pd.DataFrame(data)\n",
    "time.sleep(5)\n",
    "#pd.set_option('display.max_rows', None)\n",
    "#pd.set_option('display.max_columns', None)\n",
    "df\n",
    "#sorted_df = df.sort_values(by='Time')\n",
    "#sorted_df"
   ]
  },
  {
   "cell_type": "code",
   "execution_count": null,
   "id": "cd653571-b19e-4cc3-a7d0-36cb36d969c0",
   "metadata": {
    "tags": []
   },
   "outputs": [],
   "source": [
    "df.to_csv('Data.csv', index=False)\n",
    "time.sleep(5)"
   ]
  },
  {
   "cell_type": "code",
   "execution_count": null,
   "id": "b8ca0105-5efe-4a78-a3e9-3157cd9599c8",
   "metadata": {},
   "outputs": [],
   "source": [
    "df.to_csv(r'T:\\Data.csv', index=False)\n",
    "time.sleep(5)"
   ]
  },
  {
   "cell_type": "code",
   "execution_count": null,
   "id": "0fea4881-2899-42dc-a50e-4db93dbe7f93",
   "metadata": {},
   "outputs": [],
   "source": [
    "import os\n",
    "os.system(\"shutdown /s /t 10\")"
   ]
  },
  {
   "cell_type": "code",
   "execution_count": null,
   "id": "dbb36b0b-0794-4048-966a-ef1d3e3fe61d",
   "metadata": {
    "tags": []
   },
   "outputs": [],
   "source": [
    "#os.system(\"shutdown /a\")"
   ]
  },
  {
   "cell_type": "code",
   "execution_count": null,
   "id": "a5f63a13-b66a-4c80-bd3e-b8b2c2d5e2ec",
   "metadata": {},
   "outputs": [],
   "source": []
  }
 ],
 "metadata": {
  "kernelspec": {
   "display_name": "Python 3 (ipykernel)",
   "language": "python",
   "name": "python3"
  },
  "language_info": {
   "codemirror_mode": {
    "name": "ipython",
    "version": 3
   },
   "file_extension": ".py",
   "mimetype": "text/x-python",
   "name": "python",
   "nbconvert_exporter": "python",
   "pygments_lexer": "ipython3",
   "version": "3.11.4"
  }
 },
 "nbformat": 4,
 "nbformat_minor": 5
}
