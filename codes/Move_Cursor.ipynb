{
 "cells": [
  {
   "cell_type": "code",
   "execution_count": 7,
   "id": "dcab069b-fa98-4dd9-ba01-5d7b839e9fab",
   "metadata": {
    "tags": []
   },
   "outputs": [],
   "source": [
    "import pyautogui\n",
    "import time\n",
    "\n",
    "def move_mouse_periodically(interval=10):\n",
    "    screen_width, screen_height = pyautogui.size()\n",
    "\n",
    "    middle_x, middle_y = screen_width // 2, screen_height // 2\n",
    "    pyautogui.moveTo(middle_x, middle_y)\n",
    "\n",
    "    while True:\n",
    "        current_x, current_y = pyautogui.position()\n",
    "        \n",
    "        top_left = current_x < 5 and current_y < 5\n",
    "\n",
    "        top_right = current_x > screen_width - 5 and current_y < 5\n",
    "\n",
    "        if top_left or top_right:\n",
    "            break\n",
    "\n",
    "        pyautogui.moveRel(5, 5)  \n",
    "        time.sleep(interval)\n",
    "        pyautogui.moveTo(middle_x, middle_y) \n",
    "        time.sleep(interval)\n",
    "\n",
    "move_mouse_periodically(10)"
   ]
  },
  {
   "cell_type": "code",
   "execution_count": null,
   "id": "228d7897-96f2-4e57-8ad7-c92af6b66b82",
   "metadata": {},
   "outputs": [],
   "source": []
  }
 ],
 "metadata": {
  "kernelspec": {
   "display_name": "Python 3 (ipykernel)",
   "language": "python",
   "name": "python3"
  },
  "language_info": {
   "codemirror_mode": {
    "name": "ipython",
    "version": 3
   },
   "file_extension": ".py",
   "mimetype": "text/x-python",
   "name": "python",
   "nbconvert_exporter": "python",
   "pygments_lexer": "ipython3",
   "version": "3.11.4"
  }
 },
 "nbformat": 4,
 "nbformat_minor": 5
}
