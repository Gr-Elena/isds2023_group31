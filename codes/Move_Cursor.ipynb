{
 "cells": [
  {
   "cell_type": "code",
   "execution_count": 2,
   "id": "dcab069b-fa98-4dd9-ba01-5d7b839e9fab",
   "metadata": {
    "tags": []
   },
   "outputs": [
    {
     "name": "stderr",
     "output_type": "stream",
     "text": [
      "\n",
      "KeyboardInterrupt\n",
      "\n"
     ]
    }
   ],
   "source": [
    "import pyautogui\n",
    "import time\n",
    "\n",
    "def move_mouse_periodically(interval=10):\n",
    "    screen_width, screen_height = pyautogui.size()\n",
    "\n",
    "    middle_x, middle_y = screen_width // 2, screen_height // 2\n",
    "    pyautogui.moveTo(middle_x, middle_y)\n",
    "\n",
    "    while True:\n",
    "        current_x, current_y = pyautogui.position()\n",
    "        \n",
    "        top_left = current_x < 5 and current_y < 5\n",
    "\n",
    "        top_right = current_x > screen_width - 5 and current_y < 5\n",
    "\n",
    "        if top_left or top_right:\n",
    "            break\n",
    "\n",
    "        pyautogui.moveRel(5, 5)  \n",
    "        time.sleep(interval)\n",
    "        pyautogui.moveTo(middle_x, middle_y) \n",
    "        time.sleep(interval)\n",
    "\n",
    "move_mouse_periodically(10)"
   ]
  },
  {
   "cell_type": "code",
   "execution_count": 2,
   "id": "228d7897-96f2-4e57-8ad7-c92af6b66b82",
   "metadata": {
    "tags": []
   },
   "outputs": [
    {
     "name": "stdout",
     "output_type": "stream",
     "text": [
      "Collecting pyautogui\n",
      "  Downloading PyAutoGUI-0.9.54.tar.gz (61 kB)\n",
      "\u001b[2K     \u001b[90m━━━━━━━━━━━━━━━━━━━━━━━━━━━━━━━━━━━━━━━\u001b[0m \u001b[32m61.2/61.2 kB\u001b[0m \u001b[31m849.1 kB/s\u001b[0m eta \u001b[36m0:00:00\u001b[0m \u001b[36m0:00:01\u001b[0m\n",
      "\u001b[?25h  Installing build dependencies ... \u001b[?25ldone\n",
      "\u001b[?25h  Getting requirements to build wheel ... \u001b[?25ldone\n",
      "\u001b[?25h  Preparing metadata (pyproject.toml) ... \u001b[?25ldone\n",
      "\u001b[?25hCollecting pymsgbox\n",
      "  Downloading PyMsgBox-1.0.9.tar.gz (18 kB)\n",
      "  Installing build dependencies ... \u001b[?25ldone\n",
      "\u001b[?25h  Getting requirements to build wheel ... \u001b[?25ldone\n",
      "\u001b[?25h  Preparing metadata (pyproject.toml) ... \u001b[?25ldone\n",
      "\u001b[?25hCollecting pygetwindow>=0.0.5\n",
      "  Downloading PyGetWindow-0.0.9.tar.gz (9.7 kB)\n",
      "  Preparing metadata (setup.py) ... \u001b[?25ldone\n",
      "\u001b[?25hCollecting pyscreeze>=0.1.21\n",
      "  Downloading PyScreeze-0.1.29.tar.gz (25 kB)\n",
      "  Installing build dependencies ... \u001b[?25ldone\n",
      "\u001b[?25h  Getting requirements to build wheel ... \u001b[?25ldone\n",
      "\u001b[?25h  Preparing metadata (pyproject.toml) ... \u001b[?25ldone\n",
      "\u001b[?25hCollecting pyobjc-framework-quartz\n",
      "  Downloading pyobjc_framework_Quartz-9.2-cp310-cp310-macosx_10_9_universal2.whl (228 kB)\n",
      "\u001b[2K     \u001b[90m━━━━━━━━━━━━━━━━━━━━━━━━━━━━━━━━━━━━━━━\u001b[0m \u001b[32m228.3/228.3 kB\u001b[0m \u001b[31m4.6 MB/s\u001b[0m eta \u001b[36m0:00:00\u001b[0m00:01\u001b[0m\n",
      "\u001b[?25hRequirement already satisfied: pyobjc-core in /Users/Nikolaj/anaconda3/lib/python3.10/site-packages (from pyautogui) (9.0)\n",
      "Collecting pytweening>=1.0.4\n",
      "  Downloading pytweening-1.0.7.tar.gz (168 kB)\n",
      "\u001b[2K     \u001b[90m━━━━━━━━━━━━━━━━━━━━━━━━━━━━━━━━━━━━━━━\u001b[0m \u001b[32m168.2/168.2 kB\u001b[0m \u001b[31m6.1 MB/s\u001b[0m eta \u001b[36m0:00:00\u001b[0m\n",
      "\u001b[?25h  Preparing metadata (setup.py) ... \u001b[?25ldone\n",
      "\u001b[?25hCollecting mouseinfo\n",
      "  Downloading MouseInfo-0.1.3.tar.gz (10 kB)\n",
      "  Preparing metadata (setup.py) ... \u001b[?25ldone\n",
      "\u001b[?25hCollecting pyrect\n",
      "  Downloading PyRect-0.2.0.tar.gz (17 kB)\n",
      "  Preparing metadata (setup.py) ... \u001b[?25ldone\n",
      "\u001b[?25hCollecting pyscreenshot\n",
      "  Downloading pyscreenshot-3.1-py3-none-any.whl (28 kB)\n",
      "Requirement already satisfied: Pillow>=9.2.0 in /Users/Nikolaj/anaconda3/lib/python3.10/site-packages (from pyscreeze>=0.1.21->pyautogui) (9.4.0)\n",
      "Collecting pyperclip\n",
      "  Downloading pyperclip-1.8.2.tar.gz (20 kB)\n",
      "  Preparing metadata (setup.py) ... \u001b[?25ldone\n",
      "\u001b[?25hCollecting rubicon-objc\n",
      "  Downloading rubicon_objc-0.4.6-py3-none-any.whl (60 kB)\n",
      "\u001b[2K     \u001b[90m━━━━━━━━━━━━━━━━━━━━━━━━━━━━━━━━━━━━━━━━\u001b[0m \u001b[32m60.7/60.7 kB\u001b[0m \u001b[31m2.6 MB/s\u001b[0m eta \u001b[36m0:00:00\u001b[0m\n",
      "\u001b[?25hCollecting pyobjc-framework-Cocoa>=9.2\n",
      "  Downloading pyobjc_framework_Cocoa-9.2-cp310-cp310-macosx_10_9_universal2.whl (390 kB)\n",
      "\u001b[2K     \u001b[90m━━━━━━━━━━━━━━━━━━━━━━━━━━━━━━━━━━━━━━━\u001b[0m \u001b[32m390.5/390.5 kB\u001b[0m \u001b[31m5.1 MB/s\u001b[0m eta \u001b[36m0:00:00\u001b[0m00:01\u001b[0m\n",
      "\u001b[?25hCollecting pyobjc-core\n",
      "  Downloading pyobjc_core-9.2-cp310-cp310-macosx_10_9_universal2.whl (736 kB)\n",
      "\u001b[2K     \u001b[90m━━━━━━━━━━━━━━━━━━━━━━━━━━━━━━━━━━━━━━━\u001b[0m \u001b[32m736.8/736.8 kB\u001b[0m \u001b[31m8.2 MB/s\u001b[0m eta \u001b[36m0:00:00\u001b[0m00:01\u001b[0m00:01\u001b[0m\n",
      "\u001b[?25hCollecting entrypoint2\n",
      "  Downloading entrypoint2-1.1-py2.py3-none-any.whl (9.9 kB)\n",
      "Collecting EasyProcess\n",
      "  Downloading EasyProcess-1.1-py3-none-any.whl (8.7 kB)\n",
      "Collecting mss\n",
      "  Downloading mss-9.0.1-py3-none-any.whl (22 kB)\n",
      "Building wheels for collected packages: pyautogui, pygetwindow, pyscreeze, pytweening, mouseinfo, pymsgbox, pyperclip, pyrect\n",
      "  Building wheel for pyautogui (pyproject.toml) ... \u001b[?25ldone\n",
      "\u001b[?25h  Created wheel for pyautogui: filename=PyAutoGUI-0.9.54-py3-none-any.whl size=37578 sha256=a589c3b9b1acc1ee197d2be0df9855d9a0646c7a38ddceaf5669fe8035042969\n",
      "  Stored in directory: /Users/Nikolaj/Library/Caches/pip/wheels/27/ae/44/6ed17dd0eb2109b293dfd896e6b32176a662472e9ec276e911\n",
      "  Building wheel for pygetwindow (setup.py) ... \u001b[?25ldone\n",
      "\u001b[?25h  Created wheel for pygetwindow: filename=PyGetWindow-0.0.9-py3-none-any.whl size=11064 sha256=64610348962ec3eab638c25d3abd6ad9283c986e90bd8cf2732dbb8e12af3c57\n",
      "  Stored in directory: /Users/Nikolaj/Library/Caches/pip/wheels/b4/ba/41/c09cef95c23cdfed6af9df7328306fafbf27df2e77b14d25d7\n",
      "  Building wheel for pyscreeze (pyproject.toml) ... \u001b[?25ldone\n",
      "\u001b[?25h  Created wheel for pyscreeze: filename=PyScreeze-0.1.29-py3-none-any.whl size=13466 sha256=95e52edb2148f5aa5cb298cbef470e6a79ac6fcf39edb02601e51c49ece7d3db\n",
      "  Stored in directory: /Users/Nikolaj/Library/Caches/pip/wheels/b9/76/96/c84d250d637354da1dfd1a3c255b2df6e30c192354d08af1b8\n",
      "  Building wheel for pytweening (setup.py) ... \u001b[?25ldone\n",
      "\u001b[?25h  Created wheel for pytweening: filename=pytweening-1.0.7-py3-none-any.whl size=6198 sha256=77534922319ef81bbdc4df1bf0636e73585c7d50825130a6128f58d8382469eb\n",
      "  Stored in directory: /Users/Nikolaj/Library/Caches/pip/wheels/c6/4a/25/8e83858414a3d4f8d69cb04f86501b11160106b05fc9c8063b\n",
      "  Building wheel for mouseinfo (setup.py) ... \u001b[?25ldone\n",
      "\u001b[?25h  Created wheel for mouseinfo: filename=MouseInfo-0.1.3-py3-none-any.whl size=10891 sha256=4fa3a52b561a04c7da7d74d3f5b6482393c57c4507862f28302a2718eb769d41\n",
      "  Stored in directory: /Users/Nikolaj/Library/Caches/pip/wheels/52/e8/77/5f70ba97301c6d825754eea9f12f0ffd00e119fba64a68f4d2\n",
      "  Building wheel for pymsgbox (pyproject.toml) ... \u001b[?25ldone\n",
      "\u001b[?25h  Created wheel for pymsgbox: filename=PyMsgBox-1.0.9-py3-none-any.whl size=7406 sha256=af52726587b57919dfcecffb9da8a9213ff3a61849655909ad375623821cb1dc\n",
      "  Stored in directory: /Users/Nikolaj/Library/Caches/pip/wheels/97/61/22/1a0de2324b204d675c5bfb28b944101eb48dcf1a1fe87bcce7\n",
      "  Building wheel for pyperclip (setup.py) ... \u001b[?25ldone\n",
      "\u001b[?25h  Created wheel for pyperclip: filename=pyperclip-1.8.2-py3-none-any.whl size=11124 sha256=91845dc63d0cde6805560b1bf82ed6ff8b2a5970fd2a73ad056f362584c27a6e\n",
      "  Stored in directory: /Users/Nikolaj/Library/Caches/pip/wheels/3c/77/81/aaa2802e9b0553585f2789c6f2756b50a09a01d2848423bb15\n",
      "  Building wheel for pyrect (setup.py) ... \u001b[?25ldone\n",
      "\u001b[?25h  Created wheel for pyrect: filename=PyRect-0.2.0-py2.py3-none-any.whl size=11180 sha256=f5a00d2b98bdbb531792d3d24fb1a7649612e4c1745075c55f52ccca65b7eaef\n",
      "  Stored in directory: /Users/Nikolaj/Library/Caches/pip/wheels/63/0e/55/adb1553ad973caacffc0bd779f74f4749f904da246674a26a1\n",
      "Successfully built pyautogui pygetwindow pyscreeze pytweening mouseinfo pymsgbox pyperclip pyrect\n",
      "Installing collected packages: pytweening, pyrect, pyperclip, pymsgbox, entrypoint2, EasyProcess, rubicon-objc, pyobjc-core, pygetwindow, mss, pyscreenshot, pyobjc-framework-Cocoa, mouseinfo, pyscreeze, pyobjc-framework-quartz, pyautogui\n",
      "  Attempting uninstall: pyobjc-core\n",
      "    Found existing installation: pyobjc-core 9.0\n",
      "    Uninstalling pyobjc-core-9.0:\n",
      "      Successfully uninstalled pyobjc-core-9.0\n",
      "  Attempting uninstall: pyobjc-framework-Cocoa\n",
      "    Found existing installation: pyobjc-framework-Cocoa 9.0\n",
      "    Uninstalling pyobjc-framework-Cocoa-9.0:\n",
      "      Successfully uninstalled pyobjc-framework-Cocoa-9.0\n",
      "Successfully installed EasyProcess-1.1 entrypoint2-1.1 mouseinfo-0.1.3 mss-9.0.1 pyautogui-0.9.54 pygetwindow-0.0.9 pymsgbox-1.0.9 pyobjc-core-9.2 pyobjc-framework-Cocoa-9.2 pyobjc-framework-quartz-9.2 pyperclip-1.8.2 pyrect-0.2.0 pyscreenshot-3.1 pyscreeze-0.1.29 pytweening-1.0.7 rubicon-objc-0.4.6\n",
      "Note: you may need to restart the kernel to use updated packages.\n"
     ]
    }
   ],
   "source": [
    "pip install pyautogui\n"
   ]
  }
 ],
 "metadata": {
  "kernelspec": {
   "display_name": "Python 3 (ipykernel)",
   "language": "python",
   "name": "python3"
  },
  "language_info": {
   "codemirror_mode": {
    "name": "ipython",
    "version": 3
   },
   "file_extension": ".py",
   "mimetype": "text/x-python",
   "name": "python",
   "nbconvert_exporter": "python",
   "pygments_lexer": "ipython3",
   "version": "3.10.9"
  }
 },
 "nbformat": 4,
 "nbformat_minor": 5
}
