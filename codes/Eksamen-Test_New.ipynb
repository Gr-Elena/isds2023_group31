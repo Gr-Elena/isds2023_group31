{
 "cells": [
  {
   "cell_type": "code",
   "execution_count": 1,
   "id": "8afa7a47-6c13-4bad-b977-154054597692",
   "metadata": {
    "tags": []
   },
   "outputs": [],
   "source": [
    "from selenium import webdriver\n",
    "from webdriver_manager.chrome import ChromeDriverManager\n",
    "from selenium.webdriver.common.keys import Keys\n",
    "from selenium.webdriver.common.by import By\n",
    "import time\n",
    "from bs4 import BeautifulSoup\n",
    "import re\n",
    "from tqdm.notebook import tqdm\n",
    "import pandas as pd\n",
    "import requests"
   ]
  },
  {
   "cell_type": "code",
   "execution_count": 2,
   "id": "2679af5e-16af-42f0-b8b8-ad2681a5168a",
   "metadata": {
    "tags": []
   },
   "outputs": [],
   "source": [
    "url = 'https://nyheder.tv2.dk/seneste'\n",
    "driver = webdriver.Chrome()\n",
    "driver.get(url)\n",
    "\n",
    "headers = {\n",
    "    'Name': 'Mathias Udsen', \n",
    "    'E-mail':'lcv842@alumni.ku.dk',\n",
    "    'Message': 'Scraping as a part of our exam project at UCPH, Intoduction to social data science' \n",
    "}\n",
    "requests.get(url, headers)\n",
    "time.sleep(5)"
   ]
  },
  {
   "cell_type": "code",
   "execution_count": 3,
   "id": "122d94bb-025c-4c6d-a0c3-249410debb53",
   "metadata": {
    "tags": []
   },
   "outputs": [],
   "source": [
    "cookie = driver.find_element(By.CSS_SELECTOR, '#onetrust-reject-all-handler')\n",
    "cookie.click()\n",
    "time.sleep(5)"
   ]
  },
  {
   "cell_type": "code",
   "execution_count": 4,
   "id": "01573abb-64e5-47fa-b085-cb378f3022a0",
   "metadata": {
    "tags": []
   },
   "outputs": [],
   "source": [
    "Vis_flere = driver.find_element(By.CSS_SELECTOR, '.js-tc_load-more__bound')\n",
    "Vis_flere.click()\n",
    "time.sleep(5)"
   ]
  },
  {
   "cell_type": "code",
   "execution_count": 5,
   "id": "ec7e12ec-9335-4813-98ef-c6e6aa8f369d",
   "metadata": {
    "tags": []
   },
   "outputs": [
    {
     "data": {
      "text/plain": [
       "\"\\ni = 0\\nwhile i <= 10:\\n    try:\\n        Vis_flere = driver.find_element(By.CSS_SELECTOR, '.js-tc_load-more__bound')\\n        Vis_flere.click()\\n        time.sleep(1)\\n        i = i + 1\\n    except:\\n        time.sleep(1)\\n\""
      ]
     },
     "execution_count": 5,
     "metadata": {},
     "output_type": "execute_result"
    }
   ],
   "source": [
    "\"\"\"\n",
    "i = 0\n",
    "while i <= 10:\n",
    "    try:\n",
    "        Vis_flere = driver.find_element(By.CSS_SELECTOR, '.js-tc_load-more__bound')\n",
    "        Vis_flere.click()\n",
    "        time.sleep(1)\n",
    "        i = i + 1\n",
    "    except:\n",
    "        time.sleep(1)\n",
    "\"\"\""
   ]
  },
  {
   "cell_type": "code",
   "execution_count": 6,
   "id": "1cdf9d79-3e9b-428c-808f-66a817933eb1",
   "metadata": {
    "tags": []
   },
   "outputs": [
    {
     "data": {
      "text/plain": [
       "\"\\ni = 0\\ncount_of_one_column_lists = 0\\nwhile i <= 10:\\n    try:\\n        Vis_flere = driver.find_element(By.CSS_SELECTOR, '.js-tc_load-more__trigger.tc_button--secondary.tc_button--default.js-tc_load-more__bound')\\n        Vis_flere.click()\\n\\n        new_count_of_one_column_lists = 0\\n        while new_count_of_one_column_lists <= count_of_one_column_lists:\\n            soup = BeautifulSoup(driver.page_source, 'html.parser')\\n            new_count_of_one_column_lists = len(soup.find_all('ul', {'data-columns': '1'}))\\n            time.sleep(0.25)\\n\\n        count_of_one_column_lists = new_count_of_one_column_lists\\n        i += 1\\n    except:\\n        time.sleep(1)\\n\""
      ]
     },
     "execution_count": 6,
     "metadata": {},
     "output_type": "execute_result"
    }
   ],
   "source": [
    "\"\"\"\n",
    "i = 0\n",
    "count_of_one_column_lists = 0\n",
    "while i <= 10:\n",
    "    try:\n",
    "        Vis_flere = driver.find_element(By.CSS_SELECTOR, '.js-tc_load-more__trigger.tc_button--secondary.tc_button--default.js-tc_load-more__bound')\n",
    "        Vis_flere.click()\n",
    "\n",
    "        new_count_of_one_column_lists = 0\n",
    "        while new_count_of_one_column_lists <= count_of_one_column_lists:\n",
    "            soup = BeautifulSoup(driver.page_source, 'html.parser')\n",
    "            new_count_of_one_column_lists = len(soup.find_all('ul', {'data-columns': '1'}))\n",
    "            time.sleep(0.25)\n",
    "\n",
    "        count_of_one_column_lists = new_count_of_one_column_lists\n",
    "        i += 1\n",
    "    except:\n",
    "        time.sleep(1)\n",
    "\"\"\""
   ]
  },
  {
   "cell_type": "code",
   "execution_count": 7,
   "id": "f50ab441-7834-4e0d-afc6-f3849ed7ff90",
   "metadata": {
    "tags": []
   },
   "outputs": [
    {
     "data": {
      "application/vnd.jupyter.widget-view+json": {
       "model_id": "414a6a08f5be4d5b91abb1dd2bea3b33",
       "version_major": 2,
       "version_minor": 0
      },
      "text/plain": [
       "Loading content:   0%|          | 0/5 [00:00<?, ?it/s]"
      ]
     },
     "metadata": {},
     "output_type": "display_data"
    },
    {
     "data": {
      "application/vnd.jupyter.widget-view+json": {
       "model_id": "0bf4c7bd5eb04bcda782e64ee1b69b6c",
       "version_major": 2,
       "version_minor": 0
      },
      "text/plain": [
       "Scraping:   0%|          | 0/5 [00:00<?, ?it/s]"
      ]
     },
     "metadata": {},
     "output_type": "display_data"
    }
   ],
   "source": [
    "html = driver.page_source\n",
    "soup = BeautifulSoup(html, 'lxml')\n",
    "\n",
    "Headline = []\n",
    "Category = []\n",
    "Authors = []\n",
    "Time = []\n",
    "Live = []\n",
    "All_text = []\n",
    "nummer=0\n",
    "\n",
    "Live_find1 = False\n",
    "Live_find2 = False\n",
    "\n",
    "max_retries = 30\n",
    "retries = 0\n",
    "\n",
    "Mathias = 'Ja'\n",
    "\n",
    "#max_iter = 1001\n",
    "max_iter = 5\n",
    "pbar1 = tqdm(total=max_iter, desc=\"Loading content\")\n",
    "#i = 1000\n",
    "i = 0\n",
    "count_of_one_column_lists = 0\n",
    "if Mathias == 'Ja':\n",
    "    #while i < 2001:\n",
    "    while i < 5:\n",
    "        try:\n",
    "            Vis_flere = driver.find_element(By.CSS_SELECTOR, '.js-tc_load-more__trigger.tc_button--secondary.tc_button--default.js-tc_load-more__bound')\n",
    "            Vis_flere.click()\n",
    "\n",
    "            new_count_of_one_column_lists = 0\n",
    "            while new_count_of_one_column_lists <= count_of_one_column_lists:\n",
    "                soup = BeautifulSoup(driver.page_source, 'html.parser')\n",
    "                new_count_of_one_column_lists = len(soup.find_all('ul', {'data-columns': '1'}))\n",
    "                time.sleep(0.25)\n",
    "\n",
    "            count_of_one_column_lists = new_count_of_one_column_lists\n",
    "            i += 1\n",
    "            pbar1.update(1)\n",
    "        except:\n",
    "            time.sleep(1)\n",
    "    pbar1.close()\n",
    "\n",
    "pbar2 = tqdm(total=max_iter, desc=\"Scraping\")\n",
    "#for i in range(1000, 2001, 1):\n",
    "for i in range(5):\n",
    "    retries = 0\n",
    "    while retries < max_retries:\n",
    "        try:\n",
    "            one_column_lists = soup.find_all('ul', {'data-columns': '1'})[i]\n",
    "            break\n",
    "        except:\n",
    "            retries = retries + 1\n",
    "            time.sleep(1)\n",
    "    \n",
    "    if retries == max_retries:\n",
    "        print(f\"Max tries at: Number {nummer} and i: {i}\")\n",
    "    \n",
    "    for one_column_list in one_column_lists:\n",
    "        artikler = one_column_list.find_all(class_='tc_teaser')\n",
    "\n",
    "        for artikel in artikler:\n",
    "            nummer = nummer + 1\n",
    "            \n",
    "            if artikel.find('span', class_='tc_label tc_label--color-live'):\n",
    "                Live_find1 = True\n",
    "            else:\n",
    "                Live_find1 = False\n",
    "            \n",
    "            Category.append(artikel.find('span', class_='tc_label tc_label--color-nyheder').text)\n",
    "            \n",
    "            href = artikel.find('a', class_='tc_teaser__link').get('href') #if link else None\n",
    "\n",
    "            text = []\n",
    "            if href:\n",
    "                driver.execute_script(f'window.open(\"{href}\", \"_blank\");')\n",
    "                driver.switch_to.window(driver.window_handles[-1])\n",
    "\n",
    "                new_html = driver.page_source\n",
    "                new_soup = BeautifulSoup(new_html, 'lxml')\n",
    "\n",
    "                #Category.append(new_soup.find('div', class_='tc_page__label').find('a', class_='tc_label tc_label--color-nyheder').text)\n",
    "                #Headline.append(new_soup.find('header', class_=\"tc_page__header\").find('h1').text)\n",
    "                \n",
    "                liveblog_body = new_soup.find('div', class_=\"tc_liveblog__body\", attrs={'data-adobe-context': \"article-body\"})\n",
    "                if liveblog_body:\n",
    "                    em_tag = liveblog_body.find('em')\n",
    "                    if em_tag and em_tag.text == 'Denne liveblog opdateres ikke længere.':\n",
    "                        Live_find2 = True\n",
    "                    else:\n",
    "                        Live_find2 = False\n",
    "                else:\n",
    "                    Live_find2 = False\n",
    "                \n",
    "                if Live_find1 == True or Live_find2 == True:\n",
    "                    Headline.append(new_soup.find('header', class_=\"tc_page__header\").find('h1').text)\n",
    "                \n",
    "                Authors.append(new_soup.find('div', class_=\"tc_byline\").find('strong').text)\n",
    "                Time.append(new_soup.find('time', class_='tc_timestamp').get('datetime'))\n",
    "                \n",
    "                if liveblog_body:\n",
    "                    article_body_div = liveblog_body\n",
    "                else:\n",
    "                    article_body_div = new_soup.find('div', class_='tc_page__body', attrs={'data-adobe-context': 'article-body'})\n",
    "                \n",
    "                if article_body_div:\n",
    "                    rich_content_paragraphs = article_body_div.find_all('p')\n",
    "\n",
    "                    for paragraph in rich_content_paragraphs:\n",
    "                        text.append(paragraph.text)\n",
    "\n",
    "                All_text.append(text)\n",
    "\n",
    "                driver.close()\n",
    "                driver.switch_to.window(driver.window_handles[0])\n",
    "            \n",
    "            if Live_find1 == True or Live_find2 == True:\n",
    "                Live.append(1)\n",
    "            else:\n",
    "                Live.append(0)\n",
    "            \n",
    "            if Live_find1 == False and Live_find2 == False:\n",
    "                Headline.append(artikel.find('a', class_='tc_teaser__link').get('aria-label'))\n",
    "\n",
    "    pbar2.update(1)\n",
    "\n",
    "            #print(nummer, Category[nummer-1], ':', Headline[nummer-1])\n",
    "    Vis_flere = driver.find_element(By.CSS_SELECTOR, '.js-tc_load-more__bound')\n",
    "    Vis_flere.click()\n",
    "    #print(i)\n",
    "pbar2.close()\n",
    "time.sleep(5)"
   ]
  },
  {
   "cell_type": "code",
   "execution_count": 8,
   "id": "2b7a1de7-b7d6-4eee-8134-afe13a268545",
   "metadata": {
    "tags": []
   },
   "outputs": [
    {
     "name": "stdout",
     "output_type": "stream",
     "text": [
      "129 Lokalt\n",
      "129  Pernille Leftes\n",
      "129 Jysk skole opretter 0. klasse med bare tre elever\n",
      "129 2023-08-14T11:04:48.740Z\n",
      "129 0\n",
      "129 ['Mange spændte børn har mandag første skoledag i 0. klasse. Også i Ørslevkloster, hvor 0. klasse i år består af kun tre nye elever.', 'Petrina, Anna og Olivia. ', 'Navneopråbet på de nye elever i 0. klasse på skolen i Ørslevkloster er hurtig overstået, for årgangen består af kun tre piger. Det er dog ikke noget, der bekymrer Annas forældre.', '- Vi er slet ikke utrygge, fordi det personale, der er her, er virkelig gode til børnene. Og fagligheden fejler ikke noget, og de er gode til at se hvert enkelt barn, siger Mette Vestergaard Kristensen. ', 'De tre nye skoleelever skal dog ikke nøjes med hinandens selskab. Deres årgang bliver fra start slået sammen med både 1. og 2. klasse, så de bliver 23 elever på holdet:', '- Så lærer de jo af de ældre børn. Jeg tror faktisk, at det er en god idé i forhold til skolestart, at de er sammen med nogle, der har gået lidt i skole, som kan lære lidt fra sig, siger Annas far Peter Vestergaard Kristensen.', 'Familien Vestergaard Kristensen har allerede to ældre børn på skolen og en i børnehaven, så de kender i forvejen Ørslevkloster Skole godt. ', 'På første skoledag blev pigerne budt velkommen med morgensang i gymnastiksalen. Herefter fik de et flag og blev præsenteret for resten af eleverne, som gav dem en klapsalve.', 'Skolen har elever til og med 6. klasse, og der er lige nu 56 elever fordelt på alle årgangene.', 'Ifølge Inga Kaastrup, der er skole- og dagtilbudsleder hos Ørslevkloster Børneunivers, som skolen hører under, er det et særligt tilfælde, at 0. årgang er så lille i år. Men skolen har ikke overvejet, om det var for få elever til, at de skulle starte:', '- Herude kender de jo hinanden. Dem, der går i 1. og 2. klasse, er dem, de har gået i børnehave med. Alle børn kender hinanden, siger Inga Kaastrup. ', 'Ifølge Annas forældre, er det heller ikke noget, den nye skoleelev selv har tænkt over:', '- Anna har slet ikke snakket om, at de kun er tre. Hun glæder sig bare til at se sine kammerater som går i 1. klasse og 2. klasse, siger Mette Vestergaard Kristensen.', 'Pigerne er kommet meget på skolen, før de startede. Derfor er springet fra børnehaven til 0. klasse heller ikke så stort for børnene, fortæller Annas forældre.', 'Det ser ud til, at der næste år bliver flere nye ansigter blandt eleverne på skolen. Hvis prognosen holder, skal skolen byde velkommen til syv nye børn i 0. klasse. ']\n"
     ]
    }
   ],
   "source": [
    "print(len(Category), Category[0])\n",
    "print(len(Authors), Authors[0])\n",
    "print(len(Headline), Headline[0])\n",
    "print(len(Time), Time[0])\n",
    "print(len(Live), Live[0])\n",
    "print(len(All_text), All_text[0])\n",
    "time.sleep(5)"
   ]
  },
  {
   "cell_type": "code",
   "execution_count": 14,
   "id": "daabea2a-2841-4b85-8c72-f5a236fa059f",
   "metadata": {
    "tags": []
   },
   "outputs": [
    {
     "data": {
      "text/html": [
       "<div>\n",
       "<style scoped>\n",
       "    .dataframe tbody tr th:only-of-type {\n",
       "        vertical-align: middle;\n",
       "    }\n",
       "\n",
       "    .dataframe tbody tr th {\n",
       "        vertical-align: top;\n",
       "    }\n",
       "\n",
       "    .dataframe thead th {\n",
       "        text-align: right;\n",
       "    }\n",
       "</style>\n",
       "<table border=\"1\" class=\"dataframe\">\n",
       "  <thead>\n",
       "    <tr style=\"text-align: right;\">\n",
       "      <th></th>\n",
       "      <th>Category</th>\n",
       "      <th>Authors</th>\n",
       "      <th>Headline</th>\n",
       "      <th>Time</th>\n",
       "      <th>Live</th>\n",
       "      <th>All_text</th>\n",
       "    </tr>\n",
       "  </thead>\n",
       "  <tbody>\n",
       "    <tr>\n",
       "      <th>0</th>\n",
       "      <td>Lokalt</td>\n",
       "      <td>Pernille Leftes</td>\n",
       "      <td>Jysk skole opretter 0. klasse med bare tre elever</td>\n",
       "      <td>2023-08-14T11:04:48.740Z</td>\n",
       "      <td>0</td>\n",
       "      <td>[Mange spændte børn har mandag første skoledag...</td>\n",
       "    </tr>\n",
       "    <tr>\n",
       "      <th>1</th>\n",
       "      <td>Samfund</td>\n",
       "      <td>Ritzau</td>\n",
       "      <td>Ekspert: Rusland sender signal om, at de også ...</td>\n",
       "      <td>2023-08-14T11:01:59.766Z</td>\n",
       "      <td>0</td>\n",
       "      <td>[Russiske fly over Nordsøen er et signal om, a...</td>\n",
       "    </tr>\n",
       "    <tr>\n",
       "      <th>2</th>\n",
       "      <td>Udland</td>\n",
       "      <td>Ritzau</td>\n",
       "      <td>Desperate pårørende og hunde leder efter overl...</td>\n",
       "      <td>2023-08-14T10:21:08.678Z</td>\n",
       "      <td>0</td>\n",
       "      <td>[På sociale medier beder borgere fra Maui-øen ...</td>\n",
       "    </tr>\n",
       "    <tr>\n",
       "      <th>3</th>\n",
       "      <td>Lokalt</td>\n",
       "      <td>Mie Leonora Heiberg</td>\n",
       "      <td>Nordjyde vil hoppe uafbrudt i 13 timer i streg...</td>\n",
       "      <td>2023-08-14T10:07:49.929Z</td>\n",
       "      <td>0</td>\n",
       "      <td>[Ditte Leere Hesselborgs rekordforsøg i Søpark...</td>\n",
       "    </tr>\n",
       "    <tr>\n",
       "      <th>4</th>\n",
       "      <td>Krigen i Ukraine</td>\n",
       "      <td>Mikkel Secher</td>\n",
       "      <td>\"Alvorlig hindring\" bremser Ukraines modoffens...</td>\n",
       "      <td>2023-08-14T09:33:59.711Z</td>\n",
       "      <td>0</td>\n",
       "      <td>[Ukraine kæmper med mangel på minerydningsmand...</td>\n",
       "    </tr>\n",
       "    <tr>\n",
       "      <th>...</th>\n",
       "      <td>...</td>\n",
       "      <td>...</td>\n",
       "      <td>...</td>\n",
       "      <td>...</td>\n",
       "      <td>...</td>\n",
       "      <td>...</td>\n",
       "    </tr>\n",
       "    <tr>\n",
       "      <th>124</th>\n",
       "      <td>Udland</td>\n",
       "      <td>Ritzau</td>\n",
       "      <td>USA havde sidste år det største antal selvmord...</td>\n",
       "      <td>2023-08-10T21:04:28.409Z</td>\n",
       "      <td>0</td>\n",
       "      <td>[Forsker: - Jeg ved ikke, om man overhovedet k...</td>\n",
       "    </tr>\n",
       "    <tr>\n",
       "      <th>125</th>\n",
       "      <td>Business</td>\n",
       "      <td>Steffen Neupert</td>\n",
       "      <td>Novo Nordisks succes risikerer at gøre dansk ø...</td>\n",
       "      <td>2023-08-10T20:44:08.464Z</td>\n",
       "      <td>0</td>\n",
       "      <td>[Novo Nordisk er \"meget bevidst\" om sin større...</td>\n",
       "    </tr>\n",
       "    <tr>\n",
       "      <th>126</th>\n",
       "      <td>Udland</td>\n",
       "      <td>Mads Oxlund Petersen</td>\n",
       "      <td>Vesten frygter kinesisk kvantespring - nu reag...</td>\n",
       "      <td>2023-08-10T20:43:51.265Z</td>\n",
       "      <td>0</td>\n",
       "      <td>[Kina har selv tidligere indført eksportrestri...</td>\n",
       "    </tr>\n",
       "    <tr>\n",
       "      <th>127</th>\n",
       "      <td>Udland</td>\n",
       "      <td>Ritzau</td>\n",
       "      <td>Biden underskriver katastrofeerklæring efter n...</td>\n",
       "      <td>2023-08-10T20:20:30.299Z</td>\n",
       "      <td>0</td>\n",
       "      <td>[USA's præsident har underskrevet en katastrof...</td>\n",
       "    </tr>\n",
       "    <tr>\n",
       "      <th>128</th>\n",
       "      <td>Krimi</td>\n",
       "      <td>Ritzau</td>\n",
       "      <td>76-årig mand omkommet i brand i villa</td>\n",
       "      <td>2023-08-10T19:25:15.703Z</td>\n",
       "      <td>0</td>\n",
       "      <td>[Brandvæsen fik reddet en 76-årig ud af et hus...</td>\n",
       "    </tr>\n",
       "  </tbody>\n",
       "</table>\n",
       "<p>129 rows × 6 columns</p>\n",
       "</div>"
      ],
      "text/plain": [
       "             Category                Authors  \\\n",
       "0              Lokalt        Pernille Leftes   \n",
       "1             Samfund                 Ritzau   \n",
       "2              Udland                 Ritzau   \n",
       "3              Lokalt    Mie Leonora Heiberg   \n",
       "4    Krigen i Ukraine          Mikkel Secher   \n",
       "..                ...                    ...   \n",
       "124            Udland                 Ritzau   \n",
       "125          Business        Steffen Neupert   \n",
       "126            Udland   Mads Oxlund Petersen   \n",
       "127            Udland                 Ritzau   \n",
       "128             Krimi                 Ritzau   \n",
       "\n",
       "                                              Headline  \\\n",
       "0    Jysk skole opretter 0. klasse med bare tre elever   \n",
       "1    Ekspert: Rusland sender signal om, at de også ...   \n",
       "2    Desperate pårørende og hunde leder efter overl...   \n",
       "3    Nordjyde vil hoppe uafbrudt i 13 timer i streg...   \n",
       "4    \"Alvorlig hindring\" bremser Ukraines modoffens...   \n",
       "..                                                 ...   \n",
       "124  USA havde sidste år det største antal selvmord...   \n",
       "125  Novo Nordisks succes risikerer at gøre dansk ø...   \n",
       "126  Vesten frygter kinesisk kvantespring - nu reag...   \n",
       "127  Biden underskriver katastrofeerklæring efter n...   \n",
       "128              76-årig mand omkommet i brand i villa   \n",
       "\n",
       "                         Time  Live  \\\n",
       "0    2023-08-14T11:04:48.740Z     0   \n",
       "1    2023-08-14T11:01:59.766Z     0   \n",
       "2    2023-08-14T10:21:08.678Z     0   \n",
       "3    2023-08-14T10:07:49.929Z     0   \n",
       "4    2023-08-14T09:33:59.711Z     0   \n",
       "..                        ...   ...   \n",
       "124  2023-08-10T21:04:28.409Z     0   \n",
       "125  2023-08-10T20:44:08.464Z     0   \n",
       "126  2023-08-10T20:43:51.265Z     0   \n",
       "127  2023-08-10T20:20:30.299Z     0   \n",
       "128  2023-08-10T19:25:15.703Z     0   \n",
       "\n",
       "                                              All_text  \n",
       "0    [Mange spændte børn har mandag første skoledag...  \n",
       "1    [Russiske fly over Nordsøen er et signal om, a...  \n",
       "2    [På sociale medier beder borgere fra Maui-øen ...  \n",
       "3    [Ditte Leere Hesselborgs rekordforsøg i Søpark...  \n",
       "4    [Ukraine kæmper med mangel på minerydningsmand...  \n",
       "..                                                 ...  \n",
       "124  [Forsker: - Jeg ved ikke, om man overhovedet k...  \n",
       "125  [Novo Nordisk er \"meget bevidst\" om sin større...  \n",
       "126  [Kina har selv tidligere indført eksportrestri...  \n",
       "127  [USA's præsident har underskrevet en katastrof...  \n",
       "128  [Brandvæsen fik reddet en 76-årig ud af et hus...  \n",
       "\n",
       "[129 rows x 6 columns]"
      ]
     },
     "execution_count": 14,
     "metadata": {},
     "output_type": "execute_result"
    }
   ],
   "source": [
    "data = {\n",
    "    'Category': Category,\n",
    "    'Authors': Authors,\n",
    "    'Headline': Headline,\n",
    "    'Time': Time,\n",
    "    'Live': Live,\n",
    "    'All_text': All_text\n",
    "}\n",
    "df = pd.DataFrame(data)\n",
    "time.sleep(5)\n",
    "df"
   ]
  },
  {
   "cell_type": "code",
   "execution_count": 10,
   "id": "cd653571-b19e-4cc3-a7d0-36cb36d969c0",
   "metadata": {
    "tags": []
   },
   "outputs": [],
   "source": [
    "df.to_csv('Data.csv', index=False)\n",
    "time.sleep(5)"
   ]
  },
  {
   "cell_type": "code",
   "execution_count": 11,
   "id": "b8ca0105-5efe-4a78-a3e9-3157cd9599c8",
   "metadata": {},
   "outputs": [],
   "source": [
    "df.to_csv('T:\\Data.csv', index=False)\n",
    "time.sleep(5)"
   ]
  },
  {
   "cell_type": "code",
   "execution_count": 17,
   "id": "0fea4881-2899-42dc-a50e-4db93dbe7f93",
   "metadata": {},
   "outputs": [
    {
     "data": {
      "text/plain": [
       "0"
      ]
     },
     "execution_count": 17,
     "metadata": {},
     "output_type": "execute_result"
    }
   ],
   "source": [
    "import os\n",
    "os.system(\"shutdown /s /t 10\")"
   ]
  },
  {
   "cell_type": "code",
   "execution_count": 18,
   "id": "dbb36b0b-0794-4048-966a-ef1d3e3fe61d",
   "metadata": {
    "tags": []
   },
   "outputs": [
    {
     "data": {
      "text/plain": [
       "0"
      ]
     },
     "execution_count": 18,
     "metadata": {},
     "output_type": "execute_result"
    }
   ],
   "source": [
    "#os.system(\"shutdown /a\")"
   ]
  },
  {
   "cell_type": "code",
   "execution_count": null,
   "id": "a5f63a13-b66a-4c80-bd3e-b8b2c2d5e2ec",
   "metadata": {},
   "outputs": [],
   "source": []
  }
 ],
 "metadata": {
  "kernelspec": {
   "display_name": "Python 3 (ipykernel)",
   "language": "python",
   "name": "python3"
  },
  "language_info": {
   "codemirror_mode": {
    "name": "ipython",
    "version": 3
   },
   "file_extension": ".py",
   "mimetype": "text/x-python",
   "name": "python",
   "nbconvert_exporter": "python",
   "pygments_lexer": "ipython3",
   "version": "3.11.4"
  }
 },
 "nbformat": 4,
 "nbformat_minor": 5
}
