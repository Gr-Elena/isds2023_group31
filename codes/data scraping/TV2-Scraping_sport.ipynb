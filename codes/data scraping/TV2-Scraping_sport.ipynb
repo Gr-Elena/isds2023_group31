{
 "cells": [
  {
   "cell_type": "code",
   "execution_count": 3,
   "id": "8afa7a47-6c13-4bad-b977-154054597692",
   "metadata": {
    "tags": []
   },
   "outputs": [],
   "source": [
    "from selenium import webdriver\n",
    "from webdriver_manager.chrome import ChromeDriverManager\n",
    "from selenium.webdriver.common.keys import Keys\n",
    "from selenium.webdriver.common.by import By\n",
    "import time\n",
    "from bs4 import BeautifulSoup\n",
    "import re\n",
    "from tqdm.notebook import tqdm\n",
    "import pandas as pd\n",
    "import requests"
   ]
  },
  {
   "cell_type": "code",
   "execution_count": 16,
   "id": "2679af5e-16af-42f0-b8b8-ad2681a5168a",
   "metadata": {
    "tags": []
   },
   "outputs": [],
   "source": [
    "url = 'https://sport.tv2.dk/seneste'\n",
    "driver = webdriver.Chrome()\n",
    "driver.get(url)\n",
    "\n",
    "headers = {\n",
    "    'Name': 'Nikolaj Fu Jie Lin', \n",
    "    'E-mail':'qhs970@alumni.ku.dk',\n",
    "    'Message': 'Scraping as a part of our exam project at UCPH, Intoduction to social data science' \n",
    "}\n",
    "requests.get(url, headers)\n",
    "time.sleep(5)"
   ]
  },
  {
   "cell_type": "code",
   "execution_count": 17,
   "id": "122d94bb-025c-4c6d-a0c3-249410debb53",
   "metadata": {
    "tags": []
   },
   "outputs": [],
   "source": [
    "cookie = driver.find_element(By.CSS_SELECTOR, '#onetrust-reject-all-handler')\n",
    "cookie.click()\n",
    "time.sleep(5)"
   ]
  },
  {
   "cell_type": "code",
   "execution_count": 33,
   "id": "01573abb-64e5-47fa-b085-cb378f3022a0",
   "metadata": {
    "tags": []
   },
   "outputs": [],
   "source": [
    "Vis_flere = driver.find_element(By.CSS_SELECTOR, '.js-tc_load-more__bound')\n",
    "Vis_flere.click()\n",
    "time.sleep(5)"
   ]
  },
  {
   "cell_type": "code",
   "execution_count": 5,
   "id": "ec7e12ec-9335-4813-98ef-c6e6aa8f369d",
   "metadata": {
    "tags": []
   },
   "outputs": [
    {
     "data": {
      "text/plain": [
       "\"\\ni = 0\\nwhile i <= 10:\\n    try:\\n        Vis_flere = driver.find_element(By.CSS_SELECTOR, '.js-tc_load-more__bound')\\n        Vis_flere.click()\\n        time.sleep(1)\\n        i = i + 1\\n    except:\\n        time.sleep(1)\\n\""
      ]
     },
     "execution_count": 5,
     "metadata": {},
     "output_type": "execute_result"
    }
   ],
   "source": [
    "\"\"\"\n",
    "i = 0\n",
    "while i <= 10:\n",
    "    try:\n",
    "        Vis_flere = driver.find_element(By.CSS_SELECTOR, '.js-tc_load-more__bound')\n",
    "        Vis_flere.click()\n",
    "        time.sleep(1)\n",
    "        i = i + 1\n",
    "    except:\n",
    "        time.sleep(1)\n",
    "\"\"\""
   ]
  },
  {
   "cell_type": "code",
   "execution_count": 79,
   "id": "1cdf9d79-3e9b-428c-808f-66a817933eb1",
   "metadata": {
    "tags": []
   },
   "outputs": [
    {
     "data": {
      "text/plain": [
       "\"\\ni = 0\\ncount_of_one_column_lists = 0\\nwhile i <= 10:\\n    try:\\n        Vis_flere = driver.find_element(By.CSS_SELECTOR, '.js-tc_load-more__trigger.tc_button--secondary.tc_button--default.js-tc_load-more__bound')\\n        Vis_flere.click()\\n\\n        new_count_of_one_column_lists = 0\\n        while new_count_of_one_column_lists <= count_of_one_column_lists:\\n            soup = BeautifulSoup(driver.page_source, 'html.parser')\\n            new_count_of_one_column_lists = len(soup.find_all('ul', {'data-columns': '1'}))\\n            time.sleep(0.25)\\n\\n        count_of_one_column_lists = new_count_of_one_column_lists\\n        i += 1\\n    except:\\n        time.sleep(1)\\n\""
      ]
     },
     "execution_count": 79,
     "metadata": {},
     "output_type": "execute_result"
    }
   ],
   "source": [
    "\"\"\"\n",
    "i = 0\n",
    "count_of_one_column_lists = 0\n",
    "while i <= 10:\n",
    "    try:\n",
    "        Vis_flere = driver.find_element(By.CSS_SELECTOR, '.js-tc_load-more__trigger.tc_button--secondary.tc_button--default.js-tc_load-more__bound')\n",
    "        Vis_flere.click()\n",
    "\n",
    "        new_count_of_one_column_lists = 0\n",
    "        while new_count_of_one_column_lists <= count_of_one_column_lists:\n",
    "            soup = BeautifulSoup(driver.page_source, 'html.parser')\n",
    "            new_count_of_one_column_lists = len(soup.find_all('ul', {'data-columns': '1'}))\n",
    "            time.sleep(0.25)\n",
    "\n",
    "        count_of_one_column_lists = new_count_of_one_column_lists\n",
    "        i += 1\n",
    "    except:\n",
    "        time.sleep(1)\n",
    "\"\"\""
   ]
  },
  {
   "cell_type": "code",
   "execution_count": 18,
   "id": "f50ab441-7834-4e0d-afc6-f3849ed7ff90",
   "metadata": {
    "tags": []
   },
   "outputs": [
    {
     "data": {
      "application/vnd.jupyter.widget-view+json": {
       "model_id": "fc239c7d0e6d46ee9174a4875c5ee9fa",
       "version_major": 2,
       "version_minor": 0
      },
      "text/plain": [
       "Scraping:   0%|          | 0/15 [00:00<?, ?it/s]"
      ]
     },
     "metadata": {},
     "output_type": "display_data"
    },
    {
     "data": {
      "application/vnd.jupyter.widget-view+json": {
       "model_id": "",
       "version_major": 2,
       "version_minor": 0
      },
      "text/plain": [
       "Articles:   0%|          | 0/5 [00:00<?, ?it/s]"
      ]
     },
     "metadata": {},
     "output_type": "display_data"
    },
    {
     "data": {
      "application/vnd.jupyter.widget-view+json": {
       "model_id": "",
       "version_major": 2,
       "version_minor": 0
      },
      "text/plain": [
       "Articles:   0%|          | 0/5 [00:00<?, ?it/s]"
      ]
     },
     "metadata": {},
     "output_type": "display_data"
    },
    {
     "data": {
      "application/vnd.jupyter.widget-view+json": {
       "model_id": "",
       "version_major": 2,
       "version_minor": 0
      },
      "text/plain": [
       "Articles:   0%|          | 0/19 [00:00<?, ?it/s]"
      ]
     },
     "metadata": {},
     "output_type": "display_data"
    },
    {
     "data": {
      "application/vnd.jupyter.widget-view+json": {
       "model_id": "",
       "version_major": 2,
       "version_minor": 0
      },
      "text/plain": [
       "Articles:   0%|          | 0/50 [00:00<?, ?it/s]"
      ]
     },
     "metadata": {},
     "output_type": "display_data"
    },
    {
     "data": {
      "application/vnd.jupyter.widget-view+json": {
       "model_id": "",
       "version_major": 2,
       "version_minor": 0
      },
      "text/plain": [
       "Articles:   0%|          | 0/50 [00:00<?, ?it/s]"
      ]
     },
     "metadata": {},
     "output_type": "display_data"
    },
    {
     "data": {
      "application/vnd.jupyter.widget-view+json": {
       "model_id": "",
       "version_major": 2,
       "version_minor": 0
      },
      "text/plain": [
       "Articles:   0%|          | 0/50 [00:00<?, ?it/s]"
      ]
     },
     "metadata": {},
     "output_type": "display_data"
    },
    {
     "data": {
      "application/vnd.jupyter.widget-view+json": {
       "model_id": "",
       "version_major": 2,
       "version_minor": 0
      },
      "text/plain": [
       "Articles:   0%|          | 0/50 [00:00<?, ?it/s]"
      ]
     },
     "metadata": {},
     "output_type": "display_data"
    },
    {
     "data": {
      "application/vnd.jupyter.widget-view+json": {
       "model_id": "",
       "version_major": 2,
       "version_minor": 0
      },
      "text/plain": [
       "Articles:   0%|          | 0/50 [00:00<?, ?it/s]"
      ]
     },
     "metadata": {},
     "output_type": "display_data"
    },
    {
     "data": {
      "application/vnd.jupyter.widget-view+json": {
       "model_id": "",
       "version_major": 2,
       "version_minor": 0
      },
      "text/plain": [
       "Articles:   0%|          | 0/50 [00:00<?, ?it/s]"
      ]
     },
     "metadata": {},
     "output_type": "display_data"
    },
    {
     "data": {
      "application/vnd.jupyter.widget-view+json": {
       "model_id": "",
       "version_major": 2,
       "version_minor": 0
      },
      "text/plain": [
       "Articles:   0%|          | 0/50 [00:00<?, ?it/s]"
      ]
     },
     "metadata": {},
     "output_type": "display_data"
    },
    {
     "data": {
      "application/vnd.jupyter.widget-view+json": {
       "model_id": "",
       "version_major": 2,
       "version_minor": 0
      },
      "text/plain": [
       "Articles:   0%|          | 0/50 [00:00<?, ?it/s]"
      ]
     },
     "metadata": {},
     "output_type": "display_data"
    },
    {
     "name": "stdout",
     "output_type": "stream",
     "text": [
      "Skipped article at nummer: 425 due to missing details: https://nyheder.tv2.dk/samfund/2023-08-04-danske-kunder-foeler-sig-snydt-3760-kroner-for-aftale-der-aldrig-er-indgaaet\n"
     ]
    },
    {
     "data": {
      "application/vnd.jupyter.widget-view+json": {
       "model_id": "",
       "version_major": 2,
       "version_minor": 0
      },
      "text/plain": [
       "Articles:   0%|          | 0/50 [00:00<?, ?it/s]"
      ]
     },
     "metadata": {},
     "output_type": "display_data"
    },
    {
     "data": {
      "application/vnd.jupyter.widget-view+json": {
       "model_id": "",
       "version_major": 2,
       "version_minor": 0
      },
      "text/plain": [
       "Articles:   0%|          | 0/50 [00:00<?, ?it/s]"
      ]
     },
     "metadata": {},
     "output_type": "display_data"
    },
    {
     "data": {
      "application/vnd.jupyter.widget-view+json": {
       "model_id": "",
       "version_major": 2,
       "version_minor": 0
      },
      "text/plain": [
       "Articles:   0%|          | 0/50 [00:00<?, ?it/s]"
      ]
     },
     "metadata": {},
     "output_type": "display_data"
    },
    {
     "data": {
      "application/vnd.jupyter.widget-view+json": {
       "model_id": "",
       "version_major": 2,
       "version_minor": 0
      },
      "text/plain": [
       "Articles:   0%|          | 0/50 [00:00<?, ?it/s]"
      ]
     },
     "metadata": {},
     "output_type": "display_data"
    }
   ],
   "source": [
    "html = driver.page_source\n",
    "soup = BeautifulSoup(html, 'lxml')\n",
    "\n",
    "Headline = []\n",
    "Category = []\n",
    "Authors = []\n",
    "Time = []\n",
    "Live = []\n",
    "All_text = []\n",
    "nummer=0\n",
    "\n",
    "Live_find1 = False\n",
    "Live_find2 = False\n",
    "\n",
    "max_retries = 10\n",
    "retries = 0\n",
    "\n",
    "Mathias = 'Ja'\n",
    "\n",
    "max_iter = 15\n",
    "i = 0\n",
    "count_of_one_column_lists = 0\n",
    "if Mathias == 'Nej':\n",
    "    \n",
    "    pbar1 = tqdm(total=max_iter, desc=\"Loading content\")\n",
    "\n",
    "    while i < 93:\n",
    "        try:\n",
    "            Vis_flere = driver.find_element(By.CSS_SELECTOR, '.js-tc_load-more__trigger.tc_button--secondary.tc_button--default.js-tc_load-more__bound')\n",
    "            Vis_flere.click()\n",
    "\n",
    "            new_count_of_one_column_lists = 0\n",
    "            while new_count_of_one_column_lists <= count_of_one_column_lists:\n",
    "                soup = BeautifulSoup(driver.page_source, 'html.parser')\n",
    "                new_count_of_one_column_lists = len(soup.find_all('ul', {'data-columns': '1'}))\n",
    "                time.sleep(0.25)\n",
    "\n",
    "            count_of_one_column_lists = new_count_of_one_column_lists\n",
    "            i += 1\n",
    "            pbar1.update(1)\n",
    "        except:\n",
    "            time.sleep(1)\n",
    "    pbar1.close()\n",
    "\n",
    "pbar2 = tqdm(total=max_iter, desc=\"Scraping\")\n",
    "i = 0\n",
    "for i in range(0, 15, 1):\n",
    "    try:\n",
    "        Vis_flere = driver.find_element(By.CSS_SELECTOR, '.js-tc_load-more__trigger.tc_button--secondary.tc_button--default.js-tc_load-more__bound')\n",
    "        Vis_flere.click()\n",
    "\n",
    "        new_count_of_one_column_lists = 0\n",
    "        while new_count_of_one_column_lists <= count_of_one_column_lists:\n",
    "            soup = BeautifulSoup(driver.page_source, 'html.parser')\n",
    "            new_count_of_one_column_lists = len(soup.find_all('ul', {'data-columns': '1'}))\n",
    "            time.sleep(0.25)\n",
    "\n",
    "        count_of_one_column_lists = new_count_of_one_column_lists\n",
    "    except:\n",
    "        time.sleep(1)\n",
    "        \n",
    "    retries = 0\n",
    "    while retries < max_retries:\n",
    "        try:\n",
    "            one_column_lists = soup.find_all('ul', {'data-columns': '1'})[i]\n",
    "            break\n",
    "        except:\n",
    "            #print(i)\n",
    "            retries = retries + 1\n",
    "            time.sleep(1)\n",
    "    \n",
    "    if retries == max_retries:\n",
    "        print(f\"Max tries at: Number {nummer} and i: {i}\")\n",
    "        continue\n",
    "        \n",
    "    pbar3 = tqdm(total=len(soup.find_all('ul', {'data-columns': '1'})[i].find_all(class_='tc_teaser')), desc=\"Articles\", leave=False)\n",
    "\n",
    "    for one_column_list in one_column_lists:\n",
    "        artikler = one_column_list.find_all(class_='tc_teaser')\n",
    "            \n",
    "        for artikel in artikler:\n",
    "            nummer += 1\n",
    "\n",
    "            # Initializations\n",
    "            current_headline = None\n",
    "            current_author = None\n",
    "            current_time = None\n",
    "            current_category = None\n",
    "            current_text = []\n",
    "            current_live = 0\n",
    "\n",
    "            # Check for Live label\n",
    "            if artikel.find('span', class_='tc_label tc_label--color-live'):\n",
    "                Live_find1 = True\n",
    "            else:\n",
    "                Live_find1 = False\n",
    "\n",
    "            # Extract link\n",
    "            href = artikel.find('a', class_='tc_teaser__link').get('href')\n",
    "\n",
    "            if href:\n",
    "                driver.execute_script(f'window.open(\"{href}\", \"_blank\");')\n",
    "                driver.switch_to.window(driver.window_handles[-1])\n",
    "\n",
    "                new_html = driver.page_source\n",
    "                new_soup = BeautifulSoup(new_html, 'lxml')\n",
    "\n",
    "                # Live blog check\n",
    "                liveblog_body = new_soup.find('div', class_=\"tc_liveblog__body\", attrs={'data-adobe-context': \"article-body\"})\n",
    "                Live_find2 = bool(liveblog_body and liveblog_body.find('em') and liveblog_body.find('em').text == 'Denne liveblog opdateres ikke længere.')\n",
    "\n",
    "                # Extract details\n",
    "                if Live_find1 or Live_find2:\n",
    "                    current_headline = new_soup.find('header', class_=\"tc_page__header\").find('h1').text\n",
    "\n",
    "                byline = new_soup.find('div', class_=\"tc_byline\")\n",
    "                if byline:\n",
    "                    current_author = byline.find('strong').text\n",
    "                timestamp = new_soup.find('time', class_='tc_timestamp')\n",
    "                if timestamp:\n",
    "                    current_time = timestamp.get('datetime')\n",
    "\n",
    "                if liveblog_body:\n",
    "                    article_body_div = liveblog_body\n",
    "                else:\n",
    "                    article_body_div = new_soup.find('div', class_='tc_page__body', attrs={'data-adobe-context': 'article-body'})\n",
    "\n",
    "                if article_body_div:\n",
    "                    rich_content_paragraphs = article_body_div.find_all('p')\n",
    "                    for paragraph in rich_content_paragraphs:\n",
    "                        current_text.append(paragraph.text)\n",
    "\n",
    "                driver.close()\n",
    "                driver.switch_to.window(driver.window_handles[0])\n",
    "\n",
    "            if Live_find1 or Live_find2:\n",
    "                current_live = 1\n",
    "            else:\n",
    "                current_headline = artikel.find('a', class_='tc_teaser__link').get('aria-label')\n",
    "\n",
    "\n",
    "            if all([current_headline, current_author, current_time, current_text]):\n",
    "                Headline.append(current_headline)\n",
    "                Authors.append(current_author)\n",
    "                Time.append(current_time)\n",
    "                All_text.append(current_text)\n",
    "                Live.append(current_live)\n",
    "            else:\n",
    "                print(f\"Skipped article at nummer: {nummer} due to missing details: {href}\")\n",
    "\n",
    "            pbar3.update(1)\n",
    "    pbar3.close()\n",
    "    pbar2.update(1)\n",
    "pbar2.close()\n",
    "time.sleep(5)"
   ]
  },
  {
   "cell_type": "code",
   "execution_count": 1,
   "id": "2b7a1de7-b7d6-4eee-8134-afe13a268545",
   "metadata": {
    "tags": []
   },
   "outputs": [
    {
     "ename": "NameError",
     "evalue": "name 'Category' is not defined",
     "output_type": "error",
     "traceback": [
      "\u001b[0;31m---------------------------------------------------------------------------\u001b[0m",
      "\u001b[0;31mNameError\u001b[0m                                 Traceback (most recent call last)",
      "Cell \u001b[0;32mIn[1], line 1\u001b[0m\n\u001b[0;32m----> 1\u001b[0m \u001b[38;5;28mprint\u001b[39m(\u001b[38;5;28mlen\u001b[39m(\u001b[43mCategory\u001b[49m), Category[\u001b[38;5;241m0\u001b[39m])\n\u001b[1;32m      2\u001b[0m \u001b[38;5;28mprint\u001b[39m(\u001b[38;5;28mlen\u001b[39m(Authors), Authors[\u001b[38;5;241m0\u001b[39m])\n\u001b[1;32m      3\u001b[0m \u001b[38;5;28mprint\u001b[39m(\u001b[38;5;28mlen\u001b[39m(Headline), Headline[\u001b[38;5;241m0\u001b[39m])\n",
      "\u001b[0;31mNameError\u001b[0m: name 'Category' is not defined"
     ]
    }
   ],
   "source": [
    "print(len(Category), Category[0])\n",
    "print(len(Authors), Authors[0])\n",
    "print(len(Headline), Headline[0])\n",
    "print(len(Time), Time[0])\n",
    "print(len(Live), Live[0])\n",
    "print(len(All_text), All_text[0])\n",
    "time.sleep(5)"
   ]
  },
  {
   "cell_type": "code",
   "execution_count": 25,
   "id": "daabea2a-2841-4b85-8c72-f5a236fa059f",
   "metadata": {
    "tags": []
   },
   "outputs": [],
   "source": [
    "data = {\n",
    "    #'Category': Category,\n",
    "    'Authors': Authors,\n",
    "    'Headline': Headline,\n",
    "    'Time': Time,\n",
    "    'Live': Live,\n",
    "    'All_text': All_text\n",
    "}\n",
    "df = pd.DataFrame(data)\n",
    "time.sleep(5)\n",
    "#pd.set_option('display.max_rows', None)\n",
    "#pd.set_option('display.max_columns', None)\n",
    "df['Category'] = 'Sport'\n",
    "#sorted_df = df.sort_values(by='Time')\n",
    "#sorted_df"
   ]
  },
  {
   "cell_type": "code",
   "execution_count": 27,
   "id": "cd653571-b19e-4cc3-a7d0-36cb36d969c0",
   "metadata": {
    "tags": []
   },
   "outputs": [],
   "source": [
    "df.to_csv('sport.csv', index=False)\n",
    "time.sleep(5)"
   ]
  },
  {
   "cell_type": "code",
   "execution_count": 26,
   "id": "98185ebd-9d02-440b-99b0-03e93894590c",
   "metadata": {
    "tags": []
   },
   "outputs": [
    {
     "data": {
      "text/html": [
       "<div>\n",
       "<style scoped>\n",
       "    .dataframe tbody tr th:only-of-type {\n",
       "        vertical-align: middle;\n",
       "    }\n",
       "\n",
       "    .dataframe tbody tr th {\n",
       "        vertical-align: top;\n",
       "    }\n",
       "\n",
       "    .dataframe thead th {\n",
       "        text-align: right;\n",
       "    }\n",
       "</style>\n",
       "<table border=\"1\" class=\"dataframe\">\n",
       "  <thead>\n",
       "    <tr style=\"text-align: right;\">\n",
       "      <th></th>\n",
       "      <th>Authors</th>\n",
       "      <th>Headline</th>\n",
       "      <th>Time</th>\n",
       "      <th>Live</th>\n",
       "      <th>All_text</th>\n",
       "      <th>Category</th>\n",
       "    </tr>\n",
       "  </thead>\n",
       "  <tbody>\n",
       "    <tr>\n",
       "      <th>0</th>\n",
       "      <td>Christian Kjær</td>\n",
       "      <td>Quick-Step præsenterer stjerne</td>\n",
       "      <td>2023-08-16T08:56:04.222Z</td>\n",
       "      <td>0</td>\n",
       "      <td>[Mikel Landa har skrevet en toårig kontrakt me...</td>\n",
       "      <td>Sport</td>\n",
       "    </tr>\n",
       "    <tr>\n",
       "      <th>1</th>\n",
       "      <td>Nicolai Dvinge</td>\n",
       "      <td>Messi skriver historie med Miami – selv modsta...</td>\n",
       "      <td>2023-08-16T08:18:43.961Z</td>\n",
       "      <td>0</td>\n",
       "      <td>[Lionel Messi har nu scoret ni mål i seks Inte...</td>\n",
       "      <td>Sport</td>\n",
       "    </tr>\n",
       "    <tr>\n",
       "      <th>2</th>\n",
       "      <td>Christian Kraglund</td>\n",
       "      <td>Her mangler Wozniacki stadig noget, siger eksp...</td>\n",
       "      <td>2023-08-16T07:37:27.238Z</td>\n",
       "      <td>0</td>\n",
       "      <td>[Det kørte ikke på skinner for Caroline Woznia...</td>\n",
       "      <td>Sport</td>\n",
       "    </tr>\n",
       "    <tr>\n",
       "      <th>3</th>\n",
       "      <td>Lars Bruun-Mortensen</td>\n",
       "      <td>Skjern skal have ny træner – ekspert er overra...</td>\n",
       "      <td>2023-08-16T07:00:59.070Z</td>\n",
       "      <td>0</td>\n",
       "      <td>[Henrik Kronborg ønsker ikke at forlænge sin k...</td>\n",
       "      <td>Sport</td>\n",
       "    </tr>\n",
       "    <tr>\n",
       "      <th>4</th>\n",
       "      <td>Ritzau</td>\n",
       "      <td>Rune skal møde amerikansk wildcard-spiller</td>\n",
       "      <td>2023-08-16T06:05:28.567Z</td>\n",
       "      <td>0</td>\n",
       "      <td>[Mackenzie McDonald vandt sin kamp og brager i...</td>\n",
       "      <td>Sport</td>\n",
       "    </tr>\n",
       "    <tr>\n",
       "      <th>...</th>\n",
       "      <td>...</td>\n",
       "      <td>...</td>\n",
       "      <td>...</td>\n",
       "      <td>...</td>\n",
       "      <td>...</td>\n",
       "      <td>...</td>\n",
       "    </tr>\n",
       "    <tr>\n",
       "      <th>623</th>\n",
       "      <td>Oliver Orup Kristensen</td>\n",
       "      <td>- Jeg var helt nede i sækken, erkender Axelsen</td>\n",
       "      <td>2023-07-28T10:27:19.608Z</td>\n",
       "      <td>0</td>\n",
       "      <td>[29-årige Axelsen skal møde japanske Kodai Nar...</td>\n",
       "      <td>Sport</td>\n",
       "    </tr>\n",
       "    <tr>\n",
       "      <th>624</th>\n",
       "      <td>Jonas Kjærsgaard</td>\n",
       "      <td>Danmark tæt på VM-overraskelse</td>\n",
       "      <td>2023-07-28T10:25:01.649Z</td>\n",
       "      <td>0</td>\n",
       "      <td>[Landsholdet har tre point efter to kampe ved ...</td>\n",
       "      <td>Sport</td>\n",
       "    </tr>\n",
       "    <tr>\n",
       "      <th>625</th>\n",
       "      <td>Simon Mølgaard</td>\n",
       "      <td>Vingegaards far: - Vi kan næsten ikke være i o...</td>\n",
       "      <td>2023-07-28T09:35:13.818Z</td>\n",
       "      <td>0</td>\n",
       "      <td>[Jonas Vingegaards far Claus Vingegaard er sto...</td>\n",
       "      <td>Sport</td>\n",
       "    </tr>\n",
       "    <tr>\n",
       "      <th>626</th>\n",
       "      <td>Jonas Kjærsgaard</td>\n",
       "      <td>Axelsen overvinder store problemer</td>\n",
       "      <td>2023-07-28T09:17:54.533Z</td>\n",
       "      <td>0</td>\n",
       "      <td>[Kampen blev afgjort i tre sæt., Semifinalerne...</td>\n",
       "      <td>Sport</td>\n",
       "    </tr>\n",
       "    <tr>\n",
       "      <th>627</th>\n",
       "      <td>Oliver Orup Kristensen</td>\n",
       "      <td>Sær hændelse kostede dyrt – nu får ryttere all...</td>\n",
       "      <td>2023-07-28T09:01:22.304Z</td>\n",
       "      <td>0</td>\n",
       "      <td>[Dramatikken mod etapens afslutning var torsda...</td>\n",
       "      <td>Sport</td>\n",
       "    </tr>\n",
       "  </tbody>\n",
       "</table>\n",
       "<p>628 rows × 6 columns</p>\n",
       "</div>"
      ],
      "text/plain": [
       "                    Authors  \\\n",
       "0            Christian Kjær   \n",
       "1            Nicolai Dvinge   \n",
       "2        Christian Kraglund   \n",
       "3      Lars Bruun-Mortensen   \n",
       "4                    Ritzau   \n",
       "..                      ...   \n",
       "623  Oliver Orup Kristensen   \n",
       "624        Jonas Kjærsgaard   \n",
       "625          Simon Mølgaard   \n",
       "626        Jonas Kjærsgaard   \n",
       "627  Oliver Orup Kristensen   \n",
       "\n",
       "                                              Headline  \\\n",
       "0                       Quick-Step præsenterer stjerne   \n",
       "1    Messi skriver historie med Miami – selv modsta...   \n",
       "2    Her mangler Wozniacki stadig noget, siger eksp...   \n",
       "3    Skjern skal have ny træner – ekspert er overra...   \n",
       "4           Rune skal møde amerikansk wildcard-spiller   \n",
       "..                                                 ...   \n",
       "623     - Jeg var helt nede i sækken, erkender Axelsen   \n",
       "624                     Danmark tæt på VM-overraskelse   \n",
       "625  Vingegaards far: - Vi kan næsten ikke være i o...   \n",
       "626                 Axelsen overvinder store problemer   \n",
       "627  Sær hændelse kostede dyrt – nu får ryttere all...   \n",
       "\n",
       "                         Time  Live  \\\n",
       "0    2023-08-16T08:56:04.222Z     0   \n",
       "1    2023-08-16T08:18:43.961Z     0   \n",
       "2    2023-08-16T07:37:27.238Z     0   \n",
       "3    2023-08-16T07:00:59.070Z     0   \n",
       "4    2023-08-16T06:05:28.567Z     0   \n",
       "..                        ...   ...   \n",
       "623  2023-07-28T10:27:19.608Z     0   \n",
       "624  2023-07-28T10:25:01.649Z     0   \n",
       "625  2023-07-28T09:35:13.818Z     0   \n",
       "626  2023-07-28T09:17:54.533Z     0   \n",
       "627  2023-07-28T09:01:22.304Z     0   \n",
       "\n",
       "                                              All_text Category  \n",
       "0    [Mikel Landa har skrevet en toårig kontrakt me...    Sport  \n",
       "1    [Lionel Messi har nu scoret ni mål i seks Inte...    Sport  \n",
       "2    [Det kørte ikke på skinner for Caroline Woznia...    Sport  \n",
       "3    [Henrik Kronborg ønsker ikke at forlænge sin k...    Sport  \n",
       "4    [Mackenzie McDonald vandt sin kamp og brager i...    Sport  \n",
       "..                                                 ...      ...  \n",
       "623  [29-årige Axelsen skal møde japanske Kodai Nar...    Sport  \n",
       "624  [Landsholdet har tre point efter to kampe ved ...    Sport  \n",
       "625  [Jonas Vingegaards far Claus Vingegaard er sto...    Sport  \n",
       "626  [Kampen blev afgjort i tre sæt., Semifinalerne...    Sport  \n",
       "627  [Dramatikken mod etapens afslutning var torsda...    Sport  \n",
       "\n",
       "[628 rows x 6 columns]"
      ]
     },
     "execution_count": 26,
     "metadata": {},
     "output_type": "execute_result"
    }
   ],
   "source": [
    "df"
   ]
  },
  {
   "cell_type": "code",
   "execution_count": 84,
   "id": "b8ca0105-5efe-4a78-a3e9-3157cd9599c8",
   "metadata": {},
   "outputs": [],
   "source": [
    "df.to_csv(r'C:\\Users\\Mathias\\Desktop\\Privat\\Uni\\~Kandidat\\ISDS\\Data.csv', index=False)\n",
    "time.sleep(5)"
   ]
  },
  {
   "cell_type": "code",
   "execution_count": 17,
   "id": "0fea4881-2899-42dc-a50e-4db93dbe7f93",
   "metadata": {},
   "outputs": [
    {
     "data": {
      "text/plain": [
       "0"
      ]
     },
     "execution_count": 17,
     "metadata": {},
     "output_type": "execute_result"
    }
   ],
   "source": [
    "import os\n",
    "os.system(\"shutdown /s /t 10\")"
   ]
  },
  {
   "cell_type": "code",
   "execution_count": 18,
   "id": "dbb36b0b-0794-4048-966a-ef1d3e3fe61d",
   "metadata": {
    "tags": []
   },
   "outputs": [
    {
     "data": {
      "text/plain": [
       "0"
      ]
     },
     "execution_count": 18,
     "metadata": {},
     "output_type": "execute_result"
    }
   ],
   "source": [
    "#os.system(\"shutdown /a\")"
   ]
  },
  {
   "cell_type": "code",
   "execution_count": null,
   "id": "a5f63a13-b66a-4c80-bd3e-b8b2c2d5e2ec",
   "metadata": {},
   "outputs": [],
   "source": []
  }
 ],
 "metadata": {
  "kernelspec": {
   "display_name": "Python 3 (ipykernel)",
   "language": "python",
   "name": "python3"
  },
  "language_info": {
   "codemirror_mode": {
    "name": "ipython",
    "version": 3
   },
   "file_extension": ".py",
   "mimetype": "text/x-python",
   "name": "python",
   "nbconvert_exporter": "python",
   "pygments_lexer": "ipython3",
   "version": "3.10.9"
  }
 },
 "nbformat": 4,
 "nbformat_minor": 5
}
