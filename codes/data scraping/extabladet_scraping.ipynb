{
 "cells": [
  {
   "cell_type": "code",
   "execution_count": 2,
   "id": "d46b7d90",
   "metadata": {},
   "outputs": [],
   "source": [
    "from selenium import webdriver\n",
    "from webdriver_manager.chrome import ChromeDriverManager\n",
    "from selenium.webdriver.common.keys import Keys\n",
    "from selenium.webdriver.common.by import By\n",
    "import time\n",
    "from bs4 import BeautifulSoup\n",
    "import re\n",
    "from tqdm import tqdm\n",
    "import pandas as pd\n",
    "import requests\n",
    "\n",
    "headers = {\n",
    "    'name': 'Elena Gritskevich',\n",
    "    'email': 'hfb570@alumni.ku.dk',\n",
    "    'message': \"Student of Copenhagen University, doing 1 week research project on machine learning\"\n",
    "}"
   ]
  },
  {
   "cell_type": "code",
   "execution_count": 2,
   "id": "5fe25897",
   "metadata": {},
   "outputs": [
    {
     "data": {
      "text/html": [
       "<div>\n",
       "<style scoped>\n",
       "    .dataframe tbody tr th:only-of-type {\n",
       "        vertical-align: middle;\n",
       "    }\n",
       "\n",
       "    .dataframe tbody tr th {\n",
       "        vertical-align: top;\n",
       "    }\n",
       "\n",
       "    .dataframe thead th {\n",
       "        text-align: right;\n",
       "    }\n",
       "</style>\n",
       "<table border=\"1\" class=\"dataframe\">\n",
       "  <thead>\n",
       "    <tr style=\"text-align: right;\">\n",
       "      <th></th>\n",
       "      <th>categories</th>\n",
       "      <th>urls</th>\n",
       "    </tr>\n",
       "    <tr>\n",
       "      <th>url_num</th>\n",
       "      <th></th>\n",
       "      <th></th>\n",
       "    </tr>\n",
       "  </thead>\n",
       "  <tbody>\n",
       "    <tr>\n",
       "      <th>url0</th>\n",
       "      <td>Nyheder</td>\n",
       "      <td>https://ekstrabladet.dk/nyheder/</td>\n",
       "    </tr>\n",
       "    <tr>\n",
       "      <th>url1</th>\n",
       "      <td>Samfund</td>\n",
       "      <td>https://ekstrabladet.dk/nyheder/samfund/</td>\n",
       "    </tr>\n",
       "    <tr>\n",
       "      <th>url2</th>\n",
       "      <td>Krimi</td>\n",
       "      <td>https://ekstrabladet.dk/krimi/</td>\n",
       "    </tr>\n",
       "    <tr>\n",
       "      <th>url3</th>\n",
       "      <td>Penge</td>\n",
       "      <td>https://ekstrabladet.dk/penge/</td>\n",
       "    </tr>\n",
       "    <tr>\n",
       "      <th>url4</th>\n",
       "      <td>Politik</td>\n",
       "      <td>https://ekstrabladet.dk/nyheder/politik/</td>\n",
       "    </tr>\n",
       "    <tr>\n",
       "      <th>url5</th>\n",
       "      <td>Dansk politik</td>\n",
       "      <td>https://ekstrabladet.dk/nyheder/politik/danskp...</td>\n",
       "    </tr>\n",
       "    <tr>\n",
       "      <th>url6</th>\n",
       "      <td>Terror</td>\n",
       "      <td>https://ekstrabladet.dk/nyheder/terror/</td>\n",
       "    </tr>\n",
       "    <tr>\n",
       "      <th>url7</th>\n",
       "      <td>Krig &amp; katastrofer</td>\n",
       "      <td>https://ekstrabladet.dk/nyheder/krigogkatastro...</td>\n",
       "    </tr>\n",
       "    <tr>\n",
       "      <th>url8</th>\n",
       "      <td>Sport</td>\n",
       "      <td>https://ekstrabladet.dk/sport/</td>\n",
       "    </tr>\n",
       "    <tr>\n",
       "      <th>url9</th>\n",
       "      <td>Vejret</td>\n",
       "      <td>https://ekstrabladet.dk/nyheder/samfund/vejret/</td>\n",
       "    </tr>\n",
       "  </tbody>\n",
       "</table>\n",
       "</div>"
      ],
      "text/plain": [
       "                 categories                                               urls\n",
       "url_num                                                                       \n",
       "url0                Nyheder                   https://ekstrabladet.dk/nyheder/\n",
       "url1                Samfund           https://ekstrabladet.dk/nyheder/samfund/\n",
       "url2                  Krimi                     https://ekstrabladet.dk/krimi/\n",
       "url3                  Penge                     https://ekstrabladet.dk/penge/\n",
       "url4                Politik           https://ekstrabladet.dk/nyheder/politik/\n",
       "url5          Dansk politik  https://ekstrabladet.dk/nyheder/politik/danskp...\n",
       "url6                 Terror            https://ekstrabladet.dk/nyheder/terror/\n",
       "url7     Krig & katastrofer  https://ekstrabladet.dk/nyheder/krigogkatastro...\n",
       "url8                  Sport                     https://ekstrabladet.dk/sport/\n",
       "url9                 Vejret    https://ekstrabladet.dk/nyheder/samfund/vejret/"
      ]
     },
     "execution_count": 2,
     "metadata": {},
     "output_type": "execute_result"
    }
   ],
   "source": [
    "#create list of urls for scraping - news' categories pages\n",
    "url0 = 'https://ekstrabladet.dk/nyheder/'\n",
    "url1='https://ekstrabladet.dk/nyheder/samfund/'\n",
    "url2='https://ekstrabladet.dk/krimi/'\n",
    "url3='https://ekstrabladet.dk/penge/'\n",
    "url4='https://ekstrabladet.dk/nyheder/politik/'\n",
    "url5='https://ekstrabladet.dk/nyheder/politik/danskpolitik/'\n",
    "url6='https://ekstrabladet.dk/nyheder/terror/'\n",
    "url7='https://ekstrabladet.dk/nyheder/krigogkatastrofer/'\n",
    "url8= 'https://ekstrabladet.dk/sport/'  #10 additional sub urls\n",
    "#url81= 'https://ekstrabladet.dk/sport/fodbold/landsholdsfodbold/VM2022/'\n",
    "url9= 'https://ekstrabladet.dk/nyheder/samfund/vejret/'\n",
    "#url10= 'https://ekstrabladet.dk/underholdning/' #8 sub categories\n",
    "\n",
    "url_num= ['url0', 'url1', 'url2', 'url3', 'url4', 'url5', 'url6', 'url7', 'url8', 'url9']\n",
    "categories = ['Nyheder', 'Samfund', 'Krimi', 'Penge', 'Politik','Dansk politik', 'Terror', 'Krig & katastrofer', 'Sport', 'Vejret']\n",
    "urls = ['https://ekstrabladet.dk/nyheder/' \\\n",
    "        ,'https://ekstrabladet.dk/nyheder/samfund/' \\\n",
    "        ,'https://ekstrabladet.dk/krimi/' \\\n",
    "        ,'https://ekstrabladet.dk/penge/' \\\n",
    "        ,'https://ekstrabladet.dk/nyheder/politik/'\\\n",
    "        ,'https://ekstrabladet.dk/nyheder/politik/danskpolitik/'\\\n",
    "        ,'https://ekstrabladet.dk/nyheder/terror/'\\\n",
    "        ,'https://ekstrabladet.dk/nyheder/krigogkatastrofer/'\\\n",
    "        ,'https://ekstrabladet.dk/sport/' \\\n",
    "        ,'https://ekstrabladet.dk/nyheder/samfund/vejret/' ]\n",
    "\n",
    "data = {'url_num': url_num, 'categories': categories, 'urls': urls}\n",
    "url_list = pd.DataFrame(data)\n",
    "url_list.set_index('url_num', inplace=True)\n",
    "url_list"
   ]
  },
  {
   "cell_type": "code",
   "execution_count": 3,
   "id": "a8b7287b",
   "metadata": {},
   "outputs": [
    {
     "name": "stderr",
     "output_type": "stream",
     "text": [
      "100%|██████████| 10/10 [00:01<00:00,  6.64it/s]\n"
     ]
    },
    {
     "data": {
      "text/plain": [
       "['/nyheder/samfund/vejret/livreddere-har-denne-sommer-set-usaedvanligt-mange-i-livsfare/9907418',\n",
       " '/nyheder/samfund/snart-er-det-slut-dropper-kontanter-i-busserne/9907429',\n",
       " '/nyheder/samfund/de-vil-draebe-i-danmark-saadan-staar-al-qaeda/9904288',\n",
       " '/nyheder/samfund/11-aarig-voldtaegtsoffer-faar-tilladelse-til-abort-i-peru/9907275',\n",
       " '/nyheder/samfund/63-frygtes-doede-i-migrantbaads-forlis-ud-for-kap-verde/9907269',\n",
       " '/nyheder/samfund/var-det-noget-med-en-tur-i-rummet-saa-dyrt-er-det/9902622',\n",
       " '/nyheder/samfund/nikitas-dom-det-absolut-vaerste-sted-at-bo-i-koebenhavn/9896826',\n",
       " '/nyheder/samfund/haard-kritik-af-kendt-hotel/9906415',\n",
       " '/nyheder/samfund/krads-kritik-kraeftfremkaldende-belastninger/9906889',\n",
       " '/nyheder/samfund/polsk-kebab-koed-har-ogsaa-givet-danskere-salmonella/9906737',\n",
       " '/nyheder/samfund/ledige-pladser-tjen-40.000-som-nyuddannet/9895539',\n",
       " '/nyheder/samfund/doedelig-familiemiddag-mystikken-tager-til/9905944',\n",
       " '/nyheder/samfund/to-aar-med-taleban-kvinder-bliver-slettet/9906022',\n",
       " '/nyheder/samfund/mathias-og-familien-er-fanget-i-bolighelvede-svigtet-af-tilstandsrapport/9902524',\n",
       " '/nyheder/samfund/praesidentens-skandaleombruste-soen/9882361',\n",
       " '/nyheder/samfund/ny-undersoegelse-viser-alvorlige-problemer-det-gav-et-sug-i-maven/9906108',\n",
       " '/nyheder/samfund/ramt-af-giftige-alger-fraraader-badning/9905870',\n",
       " '/nyheder/samfund/flere-byer-evakueret-paa-ferieoe/9906046',\n",
       " '/nyheder/samfund/putins-store-oelkup-carlsberg-kylet-paa-porten/9868222',\n",
       " '/nyheder/samfund/flertal-vil-opkalde-vej-efter-muhammedtegner/9905731',\n",
       " '/nyheder/politik/elever-paa-erhvervsskoler-oensker-seksualundervisning-som-gymnasier/9907462',\n",
       " '/nyheder/politik/danskpolitik/eksminister-forlader-direktoerjob-for-at-uddanne-sig-til-sygeplejerske/9906905',\n",
       " '/nyheder/politik/danskpolitik/regeringen-vil-afsaette-200-millioner-om-aaret-til-landdistrikterne/9907260',\n",
       " '/nyheder/politik/danskpolitik/mettes-blaa-habitter/9906533',\n",
       " '/nyheder/politik/danskpolitik/papes-hykleri/9906626',\n",
       " '/nyheder/politik/k-indstiller-folketingsmedlem-som-ny-eu-spidskandidat/9906223',\n",
       " '/nyheder/politik/esben-lunde-larsen-springer-ud-som-homoseksuel/9906588',\n",
       " '/nyheder/politik/danskpolitik/faerdig-med-fuld-loen/9906199',\n",
       " '/nyheder/politik/danskpolitik/presset-pape-et-voldsomt-aar/9906187',\n",
       " '/nyheder/politik/danskpolitik/rigtige-venner-frederiksberg-borgmester-bader-i-fck-billetter/9905955',\n",
       " '/nyheder/krigogkatastrofer/biden-lover-at-besoege-kriseramt-hawaii-efter-kritik-for-noel/9905668',\n",
       " '/nyheder/politik/regeringen-vil-ligestille-bloddonation-fra-homoseksuelle-maend/9905676',\n",
       " '/nyheder/politik/danskpolitik/toemmermaend-griner-ad-mette/9904692',\n",
       " '/nyheder/krigogkatastrofer/mindst-27-draebt-i-voldsomme-kampe-i-libyen/9905505',\n",
       " '/nyheder/krigogkatastrofer/nordkorea-om-amerikansk-soldat-han-flygter-fra-diskrimination/9905493',\n",
       " '/nyheder/krigogkatastrofer/ukraine-afviser-fuldstaendig-uacceptabelt-forslag/9905412',\n",
       " '/nyheder/politik/danskpolitik/eu-kommissionen-undersoeger-dansk-graensekontrols-lovlighed/9905262',\n",
       " '/nyheder/politik/danskpolitik/nu-er-det-slut-lukker-for-skolemaelken/9904694',\n",
       " '/nyheder/politik/danskpolitik/bomben-der-kostede-ham-jobbet-ekstremt-mistaenkeligt/9903088',\n",
       " '/nyheder/politik/danskpolitik/borgmester-i-struer-sygemeldt/9904420',\n",
       " '/nyheder/politik/danskpolitik/eksminister-forlader-direktoerjob-for-at-uddanne-sig-til-sygeplejerske/9906905',\n",
       " '/nyheder/politik/danskpolitik/regeringen-vil-afsaette-200-millioner-om-aaret-til-landdistrikterne/9907260',\n",
       " '/nyheder/politik/danskpolitik/mettes-blaa-habitter/9906533',\n",
       " '/nyheder/politik/danskpolitik/papes-hykleri/9906626',\n",
       " '/nyheder/politik/esben-lunde-larsen-springer-ud-som-homoseksuel/9906588',\n",
       " '/nyheder/politik/danskpolitik/faerdig-med-fuld-loen/9906199',\n",
       " '/nyheder/politik/danskpolitik/presset-pape-et-voldsomt-aar/9906187',\n",
       " '/nyheder/politik/danskpolitik/rigtige-venner-frederiksberg-borgmester-bader-i-fck-billetter/9905955',\n",
       " '/nyheder/krigogkatastrofer/biden-lover-at-besoege-kriseramt-hawaii-efter-kritik-for-noel/9905668',\n",
       " '/nyheder/politik/danskpolitik/toemmermaend-griner-ad-mette/9904692',\n",
       " '/nyheder/krigogkatastrofer/mindst-27-draebt-i-voldsomme-kampe-i-libyen/9905505',\n",
       " '/nyheder/krigogkatastrofer/nordkorea-om-amerikansk-soldat-han-flygter-fra-diskrimination/9905493',\n",
       " '/nyheder/krigogkatastrofer/ukraine-afviser-fuldstaendig-uacceptabelt-forslag/9905412',\n",
       " '/nyheder/politik/danskpolitik/eu-kommissionen-undersoeger-dansk-graensekontrols-lovlighed/9905262',\n",
       " '/nyheder/politik/danskpolitik/nu-er-det-slut-lukker-for-skolemaelken/9904694',\n",
       " '/nyheder/politik/danskpolitik/bomben-der-kostede-ham-jobbet-ekstremt-mistaenkeligt/9903088',\n",
       " '/nyheder/politik/danskpolitik/borgmester-i-struer-sygemeldt/9904420',\n",
       " '/nyheder/trump-tiltale-saerdeles-alvorlig/9904089',\n",
       " '/nyheder/guvernoer-stort-luftangreb-mod-ukraine/9904073',\n",
       " '/nyheder/politik/danskpolitik/fn-eksperter-om-afghanistan-loefterne-om-et-nyt-taliban-var-falske/9903847',\n",
       " '/nyheder/seks-kendt-skyldige-i-drab-i-bruxelles-terrorsag/9876023',\n",
       " '/nyheder/krigogkatastrofer/rusland-ukraine-har-angrebet-bro-til-krim/9865349',\n",
       " '/nyheder/krigogkatastrofer/svensk-iraner-er-blevet-henrettet-i-iran-trods-protester/9751517',\n",
       " '/nyheder/krigogkatastrofer/flere-3d-printede-vaaben-beslaglaegges-i-sverige/9681054',\n",
       " '/nyheder/putin-forlanger-dansk-samarbejde-i-sag-om-nord-stream-sabotage/9675349',\n",
       " '/nyheder/krigogkatastrofer/irans-oeverste-domstol-stadfaester-doedsdom-til-svensk-iraner/9672051',\n",
       " '/nyheder/krigogkatastrofer/manchester-angreb-i-2017-kunne-maaske-have-vaeret-afvaerget/9658056',\n",
       " '/nyheder/terror/cia-kina-overvejer-vaabenhjaelp-til-putin/9651134',\n",
       " '/nyheder/krigogkatastrofer/mindst-ti-draebt-i-bombeangreb-mod-kirke/9590995',\n",
       " '/nyheder/krigogkatastrofer/bombe-eksploderer-i-det-centrale-kabul-med-mange-ofre/9584550',\n",
       " '/nyheder/krigogkatastrofer/1200-personer-er-anholdt-i-brasilien-efter-stormloeb/9581563',\n",
       " '/nyheder/krigogkatastrofer/202-doede-nu-er-mand-bag-bali-bomber-loesladt/9544294',\n",
       " '/nyheder/krigogkatastrofer/tyrkiet-haevner-istanbul-angreb-og-bomber-kurdere-i-irak-og-syrien/9519915',\n",
       " '/nyheder/terror/spionchef-afsloerer-uhyggelige-attentatplaner/9516723',\n",
       " '/nyheder/krigogkatastrofer/ofre-afviser-undskyldning-fra-bombemand/9465463',\n",
       " '/nyheder/krigogkatastrofer/russisk-angreb-har-ramt-infrastruktur-i-lviv-i-ukraine/9464117',\n",
       " '/nyheder/putin-vi-har-i-foretaget-missilangreb-i-ukraine/9462404',\n",
       " '/nyheder/krigogkatastrofer/putin-kalder-sabotage-af-nord-stream-international-terror/9448943',\n",
       " '/nyheder/krigogkatastrofer/fn-slaar-alarm-reel-risiko-for-atomkatastrofe-ved-kraftvaerk/9368399',\n",
       " '/nyheder/krigogkatastrofer/russisk-embedsmand-likvideret/9314144',\n",
       " '/nyheder/krigogkatastrofer/russiske-krigsskibe-i-danmark-forsvaret-foelger-dem-taet/9907085',\n",
       " '/nyheder/krigogkatastrofer/putins-doedsdroner-nu-tager-han-sagen-i-egen-haand/9906255',\n",
       " '/nyheder/krigogkatastrofer/vanvittige-fund-i-wagner-bossens-palae/9851013',\n",
       " '/nyheder/samfund/flere-byer-evakueret-paa-ferieoe/9906046',\n",
       " '/nyheder/krigogkatastrofer/biden-lover-at-besoege-kriseramt-hawaii-efter-kritik-for-noel/9905668',\n",
       " '/nyheder/krigogkatastrofer/mindst-27-draebt-i-voldsomme-kampe-i-libyen/9905505',\n",
       " '/nyheder/krigogkatastrofer/mytisk-lejesoldat-bagmanden-der-forsvandt/9834945',\n",
       " '/nyheder/krigogkatastrofer/nordkorea-om-amerikansk-soldat-han-flygter-fra-diskrimination/9905493',\n",
       " '/nyheder/krigogkatastrofer/ukraine-afviser-fuldstaendig-uacceptabelt-forslag/9905412',\n",
       " '/nyheder/krigogkatastrofer/blandt-de-dyreste-nogensinde-7000-kunder-ramt/9905095',\n",
       " '/nyheder/krigogkatastrofer/de-skal-redde-putin/9832179',\n",
       " '/nyheder/krigogkatastrofer/rusland-beskylder-danske-soldater-for-at-traene-nynazister-ubehageligt/9904280',\n",
       " '/nyheder/krigogkatastrofer/kaos-i-hawaii-desperate-borgere-roever-og-plyndrer/9904282',\n",
       " '/nyheder/krigogkatastrofer/doedstal-stiger-til-99-efter-skovbrande-paa-hawaii/9903792',\n",
       " '/nyheder/krigogkatastrofer/manden-bag-vanviddet-her-er-wagner-gruppens-leder/9831945',\n",
       " '/nyheder/krigogkatastrofer/bosniere-demonstrerer-efter-livestreaming-af-kvindedrab/9903779',\n",
       " '/nyheder/12-draebt-og-50-saaret-i-brand-i-rusland/9903765',\n",
       " '/penge/rublen-falder-laveste-siden-starten-af-krigen/9902571',\n",
       " '/nyheder/krigogkatastrofer/her-er-nord-stream-teorierne/9828334',\n",
       " '/nyheder/mineryddere-goer-voldsomt-fund-under-skole/9902408',\n",
       " '/nyheder/samfund/vejret/livreddere-har-denne-sommer-set-usaedvanligt-mange-i-livsfare/9907418',\n",
       " '/nyheder/krigogkatastrofer/blandt-de-dyreste-nogensinde-7000-kunder-ramt/9905095',\n",
       " '/nyheder/krigogkatastrofer/beboere-paa-hawaii-kritiserer-manglende-varsel-under-skovbrand/9901374',\n",
       " '/nyheder/samfund/vejret/hundredvis-af-stjerneskud-vil-ramme-nattehimlen/9901023',\n",
       " '/nyheder/samfund/efter-jordskred-i-norge-65-huse-evakueret/9896022',\n",
       " '/nyheder/samfund/vanvittigt-vejr-2000-anmeldelser-om-skader/9895668',\n",
       " '/nyheder/krigogkatastrofer/kina-frygter-smittespredning-fra-doede-dyr-efter-uvejr/9894670',\n",
       " '/nyheder/samfund/vejret/voldsomt-vejr-har-affoedt-over-1000-skadesanmeldelser/9894584',\n",
       " '/nyheder/samfund/vejret/utaette-tage-og-flyvende-trampoliner-uvejr-giver-flere-skader/9893558',\n",
       " '/nyheder/juli-slaar-varmerekord/9893246',\n",
       " '/nyheder/vejrkaos-rammer-usa-to-personer-doede/9893169',\n",
       " '/nyheder/samfund/vildt-vejr-togdriften-paavirket-i-hele-landet/9893159',\n",
       " '/nyheder/samfund/vejret/oslos-borgmester-opfordrer-til-hjemmearbejde-under-uvejr/9893024',\n",
       " '/nyheder/samfund/vejret/alle-afgange-med-hurtigfaergen-fra-sverige-til-bornholm-aflyst/9891890',\n",
       " '/nyheder/krigogkatastrofer/orkanvarsel-faar-danske-spejdere-til-at-forlade-lejr-i-sydkorea/9891811',\n",
       " '/nyheder/samfund/vejret/voldsomt-vejr-rammer-danmark-masser-af-regn-og-blaest/9891764',\n",
       " '/nyheder/samfund/vejret/ny-kedelig-temperaturrekord/9888674',\n",
       " '/nyheder/samfund/vejret/skybrud-truer-mulighed-for-sjaeldent-vejrfaenomen/9886624',\n",
       " '/nyheder/krigogkatastrofer/onsdag-er-jordens-ressourcer-opbrugt-for-2023/9884501',\n",
       " '/nyheder/samfund/vejret/rekordregnvejr-rammer-beijing-efter-ekstreme-hedeboelger/9884585']"
      ]
     },
     "execution_count": 3,
     "metadata": {},
     "output_type": "execute_result"
    }
   ],
   "source": [
    "#scrap all links to articles from category pages\n",
    "\n",
    "art_urls= []\n",
    "\n",
    "for link in tqdm(url_list['urls']):\n",
    "    response= requests.get(link, headers=headers)\n",
    "    soup = BeautifulSoup(response.content, 'lxml')\n",
    "    #time.sleep(1)\n",
    "    \n",
    "    # Find all <a> elements with class 'card-mode' and extract href attribute\n",
    "    href_elements = soup.find_all('a', class_='card-mode')\n",
    "    \n",
    "    # Extract href attribute value from each <a> element and append to art_urls list\n",
    "    for href_element in href_elements:\n",
    "        href = href_element.get('href')\n",
    "        if href:\n",
    "            art_urls.append(href)\n",
    "\n",
    "art_urls\n",
    "\n",
    "      "
   ]
  },
  {
   "cell_type": "code",
   "execution_count": 4,
   "id": "5669b14e",
   "metadata": {},
   "outputs": [
    {
     "data": {
      "text/plain": [
       "120"
      ]
     },
     "execution_count": 4,
     "metadata": {},
     "output_type": "execute_result"
    }
   ],
   "source": [
    "len(art_urls)"
   ]
  },
  {
   "cell_type": "code",
   "execution_count": 5,
   "id": "90a19749",
   "metadata": {},
   "outputs": [
    {
     "data": {
      "text/plain": [
       "96"
      ]
     },
     "execution_count": 5,
     "metadata": {},
     "output_type": "execute_result"
    }
   ],
   "source": [
    "ded= list(set(art_urls))\n",
    "len(ded)\n"
   ]
  },
  {
   "cell_type": "code",
   "execution_count": 6,
   "id": "d972891d",
   "metadata": {},
   "outputs": [
    {
     "data": {
      "text/html": [
       "<div>\n",
       "<style scoped>\n",
       "    .dataframe tbody tr th:only-of-type {\n",
       "        vertical-align: middle;\n",
       "    }\n",
       "\n",
       "    .dataframe tbody tr th {\n",
       "        vertical-align: top;\n",
       "    }\n",
       "\n",
       "    .dataframe thead th {\n",
       "        text-align: right;\n",
       "    }\n",
       "</style>\n",
       "<table border=\"1\" class=\"dataframe\">\n",
       "  <thead>\n",
       "    <tr style=\"text-align: right;\">\n",
       "      <th></th>\n",
       "      <th>full_link</th>\n",
       "    </tr>\n",
       "  </thead>\n",
       "  <tbody>\n",
       "    <tr>\n",
       "      <th>0</th>\n",
       "      <td>https://ekstrabladet.dk/nyheder/krigogkatastro...</td>\n",
       "    </tr>\n",
       "    <tr>\n",
       "      <th>1</th>\n",
       "      <td>https://ekstrabladet.dk/nyheder/politik/danskp...</td>\n",
       "    </tr>\n",
       "    <tr>\n",
       "      <th>2</th>\n",
       "      <td>https://ekstrabladet.dk/nyheder/politik/danskp...</td>\n",
       "    </tr>\n",
       "    <tr>\n",
       "      <th>3</th>\n",
       "      <td>https://ekstrabladet.dk/nyheder/samfund/doedel...</td>\n",
       "    </tr>\n",
       "    <tr>\n",
       "      <th>4</th>\n",
       "      <td>https://ekstrabladet.dk/nyheder/mineryddere-go...</td>\n",
       "    </tr>\n",
       "    <tr>\n",
       "      <th>...</th>\n",
       "      <td>...</td>\n",
       "    </tr>\n",
       "    <tr>\n",
       "      <th>91</th>\n",
       "      <td>https://ekstrabladet.dk/nyheder/politik/danskp...</td>\n",
       "    </tr>\n",
       "    <tr>\n",
       "      <th>92</th>\n",
       "      <td>https://ekstrabladet.dk/nyheder/samfund/flere-...</td>\n",
       "    </tr>\n",
       "    <tr>\n",
       "      <th>93</th>\n",
       "      <td>https://ekstrabladet.dk/nyheder/samfund/vejret...</td>\n",
       "    </tr>\n",
       "    <tr>\n",
       "      <th>94</th>\n",
       "      <td>https://ekstrabladet.dk/nyheder/krigogkatastro...</td>\n",
       "    </tr>\n",
       "    <tr>\n",
       "      <th>95</th>\n",
       "      <td>https://ekstrabladet.dk/nyheder/politik/danskp...</td>\n",
       "    </tr>\n",
       "  </tbody>\n",
       "</table>\n",
       "<p>96 rows × 1 columns</p>\n",
       "</div>"
      ],
      "text/plain": [
       "                                            full_link\n",
       "0   https://ekstrabladet.dk/nyheder/krigogkatastro...\n",
       "1   https://ekstrabladet.dk/nyheder/politik/danskp...\n",
       "2   https://ekstrabladet.dk/nyheder/politik/danskp...\n",
       "3   https://ekstrabladet.dk/nyheder/samfund/doedel...\n",
       "4   https://ekstrabladet.dk/nyheder/mineryddere-go...\n",
       "..                                                ...\n",
       "91  https://ekstrabladet.dk/nyheder/politik/danskp...\n",
       "92  https://ekstrabladet.dk/nyheder/samfund/flere-...\n",
       "93  https://ekstrabladet.dk/nyheder/samfund/vejret...\n",
       "94  https://ekstrabladet.dk/nyheder/krigogkatastro...\n",
       "95  https://ekstrabladet.dk/nyheder/politik/danskp...\n",
       "\n",
       "[96 rows x 1 columns]"
      ]
     },
     "execution_count": 6,
     "metadata": {},
     "output_type": "execute_result"
    }
   ],
   "source": [
    "art_links1= pd.DataFrame(ded)\n",
    "art_links1['full_link'] = 'https://ekstrabladet.dk' + art_links1[0]\n",
    "art_links1.drop(columns=[0], inplace=True)\n",
    "art_links1"
   ]
  },
  {
   "cell_type": "code",
   "execution_count": 3,
   "id": "9f95d22b",
   "metadata": {},
   "outputs": [
    {
     "name": "stderr",
     "output_type": "stream",
     "text": [
      "  5%|▌         | 104/2029 [00:52<14:36,  2.20it/s]"
     ]
    },
    {
     "name": "stdout",
     "output_type": "stream",
     "text": [
      "Error requesting link: https://ekstrabladet.dkhttp://ekstrabladet.dk/biler/voldsom-stigning-salget-af-elbiler-eksploderer/6267199. Skipping to the next link.\n"
     ]
    },
    {
     "name": "stderr",
     "output_type": "stream",
     "text": [
      "  5%|▌         | 107/2029 [00:53<11:51,  2.70it/s]"
     ]
    },
    {
     "name": "stdout",
     "output_type": "stream",
     "text": [
      "Error requesting link: https://ekstrabladet.dkhttp://www.jv.dk/esbjerg/Bilister-chikanerede-hinanden-groft/artikel/2543624. Skipping to the next link.\n"
     ]
    },
    {
     "name": "stderr",
     "output_type": "stream",
     "text": [
      "  6%|▌         | 123/2029 [01:01<14:37,  2.17it/s]"
     ]
    },
    {
     "name": "stdout",
     "output_type": "stream",
     "text": [
      "Error requesting link: https://ekstrabladet.dkhttps://www.jv.dk/kolding/Vognmand-idoemt-kaempeboede-efter-gentagende-snyd-med-hastighedsbegraensning/artikel/2699772. Skipping to the next link.\n"
     ]
    },
    {
     "name": "stderr",
     "output_type": "stream",
     "text": [
      "  7%|▋         | 140/2029 [01:18<16:57,  1.86it/s]  "
     ]
    },
    {
     "name": "stdout",
     "output_type": "stream",
     "text": [
      "Error requesting link: https://ekstrabladet.dkhttp://ekstrabladet.dk/biler/smart-trick-faa-pakker-leveret-direkte-til-bagagerummet/6210733. Skipping to the next link.\n"
     ]
    },
    {
     "name": "stderr",
     "output_type": "stream",
     "text": [
      " 12%|█▏        | 252/2029 [02:14<14:26,  2.05it/s]"
     ]
    },
    {
     "name": "stdout",
     "output_type": "stream",
     "text": [
      "Error requesting link: https://ekstrabladet.dkhttps://www.jv.dk/regionalt/Elbtunnellen-bliver-totalt-afspaerret/artikel/2623375. Skipping to the next link.\n"
     ]
    },
    {
     "name": "stderr",
     "output_type": "stream",
     "text": [
      " 17%|█▋        | 342/2029 [03:04<10:34,  2.66it/s]"
     ]
    },
    {
     "name": "stdout",
     "output_type": "stream",
     "text": [
      "Error requesting link: https://ekstrabladet.dkhttps://www.bilbasen.dk/brugt/bil/cadillac/cts/32-sport-luxury-aut-4d/4186036. Skipping to the next link.\n"
     ]
    },
    {
     "name": "stderr",
     "output_type": "stream",
     "text": [
      " 21%|██        | 416/2029 [03:42<10:54,  2.47it/s]"
     ]
    },
    {
     "name": "stdout",
     "output_type": "stream",
     "text": [
      "Error requesting link: https://ekstrabladet.dkhttp://ekstrabladet.dk/nyheder/erhvervsnyheder/tesla-koerer-med-underskud-for-13-kvartal-i-traek/6222108. Skipping to the next link.\n"
     ]
    },
    {
     "name": "stderr",
     "output_type": "stream",
     "text": [
      " 24%|██▍       | 486/2029 [04:09<09:59,  2.58it/s]"
     ]
    },
    {
     "name": "stdout",
     "output_type": "stream",
     "text": [
      "Error requesting link: https://ekstrabladet.dkhttp://ekstrabladet.dk/biler/gav-bilnoegle-til-hotelpersonale-nu-er-porschen-vaek/6231921. Skipping to the next link.\n"
     ]
    },
    {
     "name": "stderr",
     "output_type": "stream",
     "text": [
      " 26%|██▌       | 524/2029 [04:23<09:18,  2.70it/s]"
     ]
    },
    {
     "name": "stdout",
     "output_type": "stream",
     "text": [
      "Error requesting link: https://ekstrabladet.dkhttp://ekstrabladet.dk/flash/dkkendte/her-er-kage-stjernens-store-tragedie/5777605. Skipping to the next link.\n"
     ]
    },
    {
     "name": "stderr",
     "output_type": "stream",
     "text": [
      " 27%|██▋       | 543/2029 [04:30<10:44,  2.31it/s]"
     ]
    },
    {
     "name": "stdout",
     "output_type": "stream",
     "text": [
      "Error requesting link: https://ekstrabladet.dkhttp://ekstrabladet.dk/nyheder/erhverv/investor/tesla-udskyder-stor-overraskelse-har-brug-for-mere-tid/6353704. Skipping to the next link.\n"
     ]
    },
    {
     "name": "stderr",
     "output_type": "stream",
     "text": [
      " 27%|██▋       | 546/2029 [04:31<10:20,  2.39it/s]"
     ]
    },
    {
     "name": "stdout",
     "output_type": "stream",
     "text": [
      "Error requesting link: https://ekstrabladet.dkhttp://ekstrabladet.dk/services/spoergsmaal-og-svar-til-dit-medielogin-paa-ekstrabladetdk/4502895. Skipping to the next link.\n"
     ]
    },
    {
     "name": "stderr",
     "output_type": "stream",
     "text": [
      " 30%|██▉       | 600/2029 [04:54<08:43,  2.73it/s]"
     ]
    },
    {
     "name": "stdout",
     "output_type": "stream",
     "text": [
      "Error requesting link: https://ekstrabladet.dkhttps://www.fyens.dk/indland/Regeringen-vil-give-alle-motorcyklister-styrthjelm-paa/artikel/3297321. Skipping to the next link.\n"
     ]
    },
    {
     "name": "stderr",
     "output_type": "stream",
     "text": [
      " 30%|███       | 613/2029 [04:58<08:58,  2.63it/s]"
     ]
    },
    {
     "name": "stdout",
     "output_type": "stream",
     "text": [
      "Error requesting link: https://ekstrabladet.dkhttp://ekstrabladet.dk/biler/tesla-boss-til-ansatte-absolut-ingen-maa-faa-rabat-paa-vores-biler/6324555. Skipping to the next link.\n"
     ]
    },
    {
     "name": "stderr",
     "output_type": "stream",
     "text": [
      " 31%|███       | 629/2029 [05:07<13:36,  1.72it/s]"
     ]
    },
    {
     "name": "stdout",
     "output_type": "stream",
     "text": [
      "Error requesting link: https://ekstrabladet.dk/incoming/ingen-kommentarer-regeringens-kovending-og-galimatias-v-maalsaetning/8585060. Skipping to the next link.\n"
     ]
    },
    {
     "name": "stderr",
     "output_type": "stream",
     "text": [
      " 31%|███▏      | 637/2029 [05:10<09:04,  2.56it/s]"
     ]
    },
    {
     "name": "stdout",
     "output_type": "stream",
     "text": [
      "Error requesting link: https://ekstrabladet.dk/plus/tech/henrik-blev-snydt-af-nyt-trick-paa-facebook-troede-jeg-havde-sikret-mig/6912494. Skipping to the next link.\n"
     ]
    },
    {
     "name": "stderr",
     "output_type": "stream",
     "text": [
      " 34%|███▍      | 692/2029 [05:28<06:41,  3.33it/s]"
     ]
    },
    {
     "name": "stdout",
     "output_type": "stream",
     "text": [
      "Error requesting link: https://ekstrabladet.dkhttp://ekstrabladet.dk/112/politiet-advarer-nu-risikerer-du-boederegn/6329019. Skipping to the next link.\n"
     ]
    },
    {
     "name": "stderr",
     "output_type": "stream",
     "text": [
      " 37%|███▋      | 754/2029 [05:50<03:51,  5.50it/s]"
     ]
    },
    {
     "name": "stdout",
     "output_type": "stream",
     "text": [
      "Error requesting link: https://ekstrabladet.dkhttp://ekstrabladet.dk/nyheder/samfund/kendte-godsejere-i-problemer-millionerne-fosser-ud/6430849. Skipping to the next link.\n"
     ]
    },
    {
     "name": "stderr",
     "output_type": "stream",
     "text": [
      " 39%|███▉      | 789/2029 [06:00<05:42,  3.62it/s]"
     ]
    },
    {
     "name": "stdout",
     "output_type": "stream",
     "text": [
      "Error requesting link: https://ekstrabladet.dkhttp://ekstrabladet.dk/biler/godt-trick-saadan-fjerner-du-nemt-doede-insekter-paa-bilen/6230472. Skipping to the next link.\n"
     ]
    },
    {
     "name": "stderr",
     "output_type": "stream",
     "text": [
      " 40%|███▉      | 805/2029 [06:05<05:25,  3.76it/s]"
     ]
    },
    {
     "name": "stdout",
     "output_type": "stream",
     "text": [
      "Error requesting link: https://ekstrabladet.dkhttp://ekstrabladet.dk/biler/tesla-i-ny-ulykke-autopilot-sender-to-maend-paa-hospitalet/6178172. Skipping to the next link.\n"
     ]
    },
    {
     "name": "stderr",
     "output_type": "stream",
     "text": [
      " 41%|████▏     | 840/2029 [06:33<06:29,  3.06it/s]  "
     ]
    },
    {
     "name": "stdout",
     "output_type": "stream",
     "text": [
      "Error requesting link: https://ekstrabladet.dkhttps://www.herognu.dk/kendte/inger-saelger-kolonihaven-ramt-af-sygdom/1065193. Skipping to the next link.\n"
     ]
    },
    {
     "name": "stderr",
     "output_type": "stream",
     "text": [
      " 42%|████▏     | 859/2029 [06:38<06:23,  3.05it/s]"
     ]
    },
    {
     "name": "stdout",
     "output_type": "stream",
     "text": [
      "Error requesting link: https://ekstrabladet.dkhttp://ekstrabladet.dk/biler/politiet-ude-efter-syndere-bilister-som-goer-dette-faar-boede/6288756. Skipping to the next link.\n"
     ]
    },
    {
     "name": "stderr",
     "output_type": "stream",
     "text": [
      " 43%|████▎     | 863/2029 [06:39<03:24,  5.69it/s]"
     ]
    },
    {
     "name": "stdout",
     "output_type": "stream",
     "text": [
      "Error requesting link: https://ekstrabladet.dkhttps://www.krone.at/2071342. Skipping to the next link.\n",
      "Error requesting link: https://ekstrabladet.dkhttps://www.bilbasen.dk/brugt/bil/jaguar/xj8/40-sovereign-4d/4181090. Skipping to the next link.\n"
     ]
    },
    {
     "name": "stderr",
     "output_type": "stream",
     "text": [
      " 45%|████▌     | 915/2029 [06:55<05:21,  3.46it/s]"
     ]
    },
    {
     "name": "stdout",
     "output_type": "stream",
     "text": [
      "Error requesting link: https://ekstrabladet.dkhttp://ekstrabladet.dk/biler/bilgigant-det-er-direkte-dumt-at-afskaffe-diesel/6331065. Skipping to the next link.\n"
     ]
    },
    {
     "name": "stderr",
     "output_type": "stream",
     "text": [
      " 46%|████▌     | 930/2029 [06:59<05:21,  3.42it/s]"
     ]
    },
    {
     "name": "stdout",
     "output_type": "stream",
     "text": [
      "Error requesting link: https://ekstrabladet.dkhttps://www.bilbasen.dk/brugt/bil/rover/620/20-ti-4d/4160649. Skipping to the next link.\n"
     ]
    },
    {
     "name": "stderr",
     "output_type": "stream",
     "text": [
      " 48%|████▊     | 976/2029 [07:13<05:17,  3.32it/s]"
     ]
    },
    {
     "name": "stdout",
     "output_type": "stream",
     "text": [
      "Error requesting link: https://ekstrabladet.dkhttp://www.jv.dk/indland/Gribende-billeder-Saa-er-Anneca-paa-vej-ud-af-landet/artikel/2485782. Skipping to the next link.\n"
     ]
    },
    {
     "name": "stderr",
     "output_type": "stream",
     "text": [
      " 51%|█████▏    | 1041/2029 [07:35<03:38,  4.52it/s]"
     ]
    },
    {
     "name": "stdout",
     "output_type": "stream",
     "text": [
      "Error requesting link: https://ekstrabladet.dkhttp://ekstrabladet.dk/biler/pas-paa-speederfoden-politiet-er-klar-med-stor-fartkontrol/6340272. Skipping to the next link.\n"
     ]
    },
    {
     "name": "stderr",
     "output_type": "stream",
     "text": [
      " 52%|█████▏    | 1050/2029 [07:37<05:15,  3.10it/s]"
     ]
    },
    {
     "name": "stdout",
     "output_type": "stream",
     "text": [
      "Error requesting link: https://ekstrabladet.dkhttps://ebcontent.ekstrabladet.dk/G_L/klar-ved-grillen-her-er-sommerens-laekreste-poelsemenu/9686003. Skipping to the next link.\n"
     ]
    },
    {
     "name": "stderr",
     "output_type": "stream",
     "text": [
      " 55%|█████▌    | 1116/2029 [08:03<06:37,  2.30it/s]"
     ]
    },
    {
     "name": "stdout",
     "output_type": "stream",
     "text": [
      "Error requesting link: https://ekstrabladet.dkhttp://ekstrabladet.dk/nationen/toerklaeder-selvfoelgelig-skal-de-forbydes-i-boernehaver-og-skoler/6851170. Skipping to the next link.\n"
     ]
    },
    {
     "name": "stderr",
     "output_type": "stream",
     "text": [
      " 55%|█████▌    | 1121/2029 [08:04<05:27,  2.77it/s]"
     ]
    },
    {
     "name": "stdout",
     "output_type": "stream",
     "text": [
      "Error requesting link: https://ekstrabladet.dkhttps://www.fyens.dk/odense/Flere-sager-anmeldt-Bilejere-faar-daekkene-skaaret-op/artikel/3227382. Skipping to the next link.\n"
     ]
    },
    {
     "name": "stderr",
     "output_type": "stream",
     "text": [
      " 57%|█████▋    | 1148/2029 [08:18<09:55,  1.48it/s]"
     ]
    },
    {
     "name": "stdout",
     "output_type": "stream",
     "text": [
      "Error requesting link: https://ekstrabladet.dkhttp://ekstrabladet.dk/112/efter-natklub-gik-konkurs-politiet-vil-undersoege-amalies-ekskaereste/5967434. Skipping to the next link.\n"
     ]
    },
    {
     "name": "stderr",
     "output_type": "stream",
     "text": [
      " 57%|█████▋    | 1151/2029 [08:18<06:21,  2.30it/s]"
     ]
    },
    {
     "name": "stdout",
     "output_type": "stream",
     "text": [
      "Error requesting link: https://ekstrabladet.dkhttps://www.herognu.dk/kendte/fantastisk-sommer-manu-sareen-forlovet/1066591. Skipping to the next link.\n"
     ]
    },
    {
     "name": "stderr",
     "output_type": "stream",
     "text": [
      " 58%|█████▊    | 1186/2029 [08:37<05:49,  2.41it/s]"
     ]
    },
    {
     "name": "stdout",
     "output_type": "stream",
     "text": [
      "Error requesting link: https://ekstrabladet.dkhttps://nordjyske.dk/nyheder/aalborg/personbil-skubbet-300-meter-henad-motorvej/4516510. Skipping to the next link.\n"
     ]
    },
    {
     "name": "stderr",
     "output_type": "stream",
     "text": [
      " 59%|█████▊    | 1191/2029 [08:39<05:00,  2.78it/s]"
     ]
    },
    {
     "name": "stdout",
     "output_type": "stream",
     "text": [
      "Error requesting link: https://ekstrabladet.dkhttp://ekstrabladet.dk/flash/kongelige/jokkes-forretning-i-frit-fald-daarligste-regnskab-i-12-aar/6685197. Skipping to the next link.\n"
     ]
    },
    {
     "name": "stderr",
     "output_type": "stream",
     "text": [
      " 64%|██████▍   | 1302/2029 [10:00<05:37,  2.15it/s]  "
     ]
    },
    {
     "name": "stdout",
     "output_type": "stream",
     "text": [
      "Error requesting link: https://ekstrabladet.dkhttp://ekstrabladet.dk/biler/har-du-ogsaa-proevet-det-hver-fjerde-bilist-har-faaet-fingeren-i-trafikken/6842244. Skipping to the next link.\n"
     ]
    },
    {
     "name": "stderr",
     "output_type": "stream",
     "text": [
      " 64%|██████▍   | 1307/2029 [10:02<07:22,  1.63it/s]"
     ]
    },
    {
     "name": "stdout",
     "output_type": "stream",
     "text": [
      "Error requesting link: https://ekstrabladet.dkhttp://ekstrabladet.dk/biler/mercedes-skal-have-ny-motor-efter-50000-km/6572810. Skipping to the next link.\n"
     ]
    },
    {
     "name": "stderr",
     "output_type": "stream",
     "text": [
      " 66%|██████▋   | 1347/2029 [10:22<04:32,  2.51it/s]"
     ]
    },
    {
     "name": "stdout",
     "output_type": "stream",
     "text": [
      "Error requesting link: https://ekstrabladet.dkhttp://ekstrabladet.dk/biler/skandaloese-tal-nye-dieselbiler-dumper-faelt-i-test/6305062. Skipping to the next link.\n"
     ]
    },
    {
     "name": "stderr",
     "output_type": "stream",
     "text": [
      " 67%|██████▋   | 1354/2029 [10:24<04:13,  2.66it/s]"
     ]
    },
    {
     "name": "stdout",
     "output_type": "stream",
     "text": [
      "Error requesting link: https://ekstrabladet.dkhttp://ekstrabladet.dk/nationen/arnes-datter-udvises-paa-tirsdag-du-er-16-aar-du-kan-passe-sig-selv/6555719. Skipping to the next link.\n"
     ]
    },
    {
     "name": "stderr",
     "output_type": "stream",
     "text": [
      " 67%|██████▋   | 1361/2029 [10:27<04:39,  2.39it/s]"
     ]
    },
    {
     "name": "stdout",
     "output_type": "stream",
     "text": [
      "Error requesting link: https://ekstrabladet.dkhttp://ekstrabladet.dk/biler/mystisk-tesla-kvaeler-spritny-model-i-stilhed/6344898. Skipping to the next link.\n"
     ]
    },
    {
     "name": "stderr",
     "output_type": "stream",
     "text": [
      " 70%|███████   | 1421/2029 [11:01<06:36,  1.53it/s]"
     ]
    },
    {
     "name": "stdout",
     "output_type": "stream",
     "text": [
      "Error requesting link: https://ekstrabladet.dkhttp://ekstrabladet.dk/flash/filmogtv/radio/du-bestemmer-hvem-er-aarets-bedste-radiovaert/6732340. Skipping to the next link.\n"
     ]
    },
    {
     "name": "stderr",
     "output_type": "stream",
     "text": [
      " 71%|███████   | 1443/2029 [11:09<03:36,  2.70it/s]"
     ]
    },
    {
     "name": "stdout",
     "output_type": "stream",
     "text": [
      "Error requesting link: https://ekstrabladet.dkhttps://www.herognu.dk/kendte/de-skal-ogsa-danse-med-i-vild-med-dans/1065576. Skipping to the next link.\n"
     ]
    },
    {
     "name": "stderr",
     "output_type": "stream",
     "text": [
      " 73%|███████▎  | 1487/2029 [11:31<04:01,  2.25it/s]"
     ]
    },
    {
     "name": "stdout",
     "output_type": "stream",
     "text": [
      "Error requesting link: https://ekstrabladet.dkhttp://ekstrabladet.dk/biler/minister-vil-aendre-lov-selvkoerende-biler-skal-ud-paa-danske-veje/6253333. Skipping to the next link.\n"
     ]
    },
    {
     "name": "stderr",
     "output_type": "stream",
     "text": [
      " 74%|███████▍  | 1500/2029 [11:36<03:25,  2.58it/s]"
     ]
    },
    {
     "name": "stdout",
     "output_type": "stream",
     "text": [
      "Error requesting link: https://ekstrabladet.dkhttp://ekstrabladet.dk/biler/autopilot-og-harry-potter-maaske-skyld-i-tesla-doedsulykke/6172166. Skipping to the next link.\n"
     ]
    },
    {
     "name": "stderr",
     "output_type": "stream",
     "text": [
      " 75%|███████▌  | 1529/2029 [11:50<03:34,  2.33it/s]"
     ]
    },
    {
     "name": "stdout",
     "output_type": "stream",
     "text": [
      "Error requesting link: https://ekstrabladet.dkhttp://www.jv.dk/esbjerg/Koerekortet-ryger-To-maend-paa-54-og-72-aar-koerte-chikanekoersel-ved-Ribe-/artikel/2544275. Skipping to the next link.\n"
     ]
    },
    {
     "name": "stderr",
     "output_type": "stream",
     "text": [
      " 76%|███████▌  | 1541/2029 [11:55<04:15,  1.91it/s]"
     ]
    },
    {
     "name": "stdout",
     "output_type": "stream",
     "text": [
      "Error requesting link: https://ekstrabladet.dkhttps://www.jv.dk/kolding/Tyrkisk-vognmand-straffet-med-stor-boede-Chauffoer-koerte-naesten-fem-timer-laengere-end-han-maatte/artikel/2703024. Skipping to the next link.\n"
     ]
    },
    {
     "name": "stderr",
     "output_type": "stream",
     "text": [
      " 77%|███████▋  | 1563/2029 [12:08<05:10,  1.50it/s]"
     ]
    },
    {
     "name": "stdout",
     "output_type": "stream",
     "text": [
      "Error requesting link: https://ekstrabladet.dkhttp://www.bt.dk/content/item/1002288. Skipping to the next link.\n"
     ]
    },
    {
     "name": "stderr",
     "output_type": "stream",
     "text": [
      " 77%|███████▋  | 1570/2029 [12:12<07:40,  1.00s/it]"
     ]
    },
    {
     "name": "stdout",
     "output_type": "stream",
     "text": [
      "Error requesting link: https://ekstrabladet.dkhttp://www.bilbasen.dk/brugt/bil/tesla/model-x/p90d-ludicrous-7prs-5d/2989731. Skipping to the next link.\n"
     ]
    },
    {
     "name": "stderr",
     "output_type": "stream",
     "text": [
      " 79%|███████▉  | 1611/2029 [12:30<02:52,  2.43it/s]"
     ]
    },
    {
     "name": "stdout",
     "output_type": "stream",
     "text": [
      "Error requesting link: https://ekstrabladet.dkhttp://ekstrabladet.dk/biler/nu-kan-17-aarige-snart-tage-koerekort/6315525. Skipping to the next link.\n"
     ]
    },
    {
     "name": "stderr",
     "output_type": "stream",
     "text": [
      " 86%|████████▌ | 1738/2029 [13:28<01:37,  2.98it/s]"
     ]
    },
    {
     "name": "stdout",
     "output_type": "stream",
     "text": [
      "Error requesting link: https://ekstrabladet.dkhttps://nordjyske.dk/nyheder/nordjylland/to-chefer-brugte-93-000-kroner-paa-faa-dage-aalborg-universitet-betalte/4463651. Skipping to the next link.\n"
     ]
    },
    {
     "name": "stderr",
     "output_type": "stream",
     "text": [
      " 87%|████████▋ | 1767/2029 [13:38<01:38,  2.65it/s]"
     ]
    },
    {
     "name": "stdout",
     "output_type": "stream",
     "text": [
      "Error requesting link: https://ekstrabladet.dkhttps://nordjyske.dk/nyheder/nordjylland/omstridte-chefer-paa-aalborg-universitet-faerdige/4515034. Skipping to the next link.\n"
     ]
    },
    {
     "name": "stderr",
     "output_type": "stream",
     "text": [
      " 93%|█████████▎| 1884/2029 [14:29<01:16,  1.89it/s]"
     ]
    },
    {
     "name": "stdout",
     "output_type": "stream",
     "text": [
      "Error requesting link: https://ekstrabladet.dkhttps://www.herognu.dk/nyheder/tv-kendis-afslorer-konkurs/1051117. Skipping to the next link.\n"
     ]
    },
    {
     "name": "stderr",
     "output_type": "stream",
     "text": [
      " 95%|█████████▍| 1925/2029 [15:10<06:24,  3.70s/it]"
     ]
    },
    {
     "name": "stdout",
     "output_type": "stream",
     "text": [
      "Error requesting link: https://ekstrabladet.dkhttps://www.herognu.dk/kendte/astrid-olsen-det-faldt-jeg-for-ved-boris/1065773. Skipping to the next link.\n"
     ]
    },
    {
     "name": "stderr",
     "output_type": "stream",
     "text": [
      " 97%|█████████▋| 1967/2029 [16:28<00:27,  2.24it/s]"
     ]
    },
    {
     "name": "stdout",
     "output_type": "stream",
     "text": [
      "Error requesting link: https://ekstrabladet.dkhttps://www.lequipe.fr/Football/Actualites/Transferts-neymar-d-accord-avec-al-hilal/1413412. Skipping to the next link.\n"
     ]
    },
    {
     "name": "stderr",
     "output_type": "stream",
     "text": [
      " 99%|█████████▊| 1999/2029 [16:48<00:08,  3.52it/s]"
     ]
    },
    {
     "name": "stdout",
     "output_type": "stream",
     "text": [
      "Error requesting link: https://ekstrabladet.dkhttps://nordjyske.dk/nyheder/nordjylland/to-chefer-paa-aalborg-university-business-school-sendt-hjem/4433387. Skipping to the next link.\n"
     ]
    },
    {
     "name": "stderr",
     "output_type": "stream",
     "text": [
      " 99%|█████████▊| 2002/2029 [16:49<00:06,  4.21it/s]"
     ]
    },
    {
     "name": "stdout",
     "output_type": "stream",
     "text": [
      "Error requesting link: https://ekstrabladet.dkhttps://www.herognu.dk/kendte/kevin-larsen-smaskforelsket-tilbage-hos-eksen/1059498. Skipping to the next link.\n"
     ]
    },
    {
     "name": "stderr",
     "output_type": "stream",
     "text": [
      "100%|██████████| 2029/2029 [16:56<00:00,  2.00it/s]\n"
     ]
    },
    {
     "ename": "AttributeError",
     "evalue": "'list' object has no attribute 'to_csv'",
     "output_type": "error",
     "traceback": [
      "\u001b[1;31m---------------------------------------------------------------------------\u001b[0m",
      "\u001b[1;31mAttributeError\u001b[0m                            Traceback (most recent call last)",
      "\u001b[1;32m~\\AppData\\Local\\Temp\\ipykernel_20300\\3926927848.py\u001b[0m in \u001b[0;36m<module>\u001b[1;34m\u001b[0m\n\u001b[0;32m     48\u001b[0m         \u001b[1;32mcontinue\u001b[0m  \u001b[1;31m# Skip to the next iteration if erroneous link\u001b[0m\u001b[1;33m\u001b[0m\u001b[1;33m\u001b[0m\u001b[0m\n\u001b[0;32m     49\u001b[0m \u001b[1;33m\u001b[0m\u001b[0m\n\u001b[1;32m---> 50\u001b[1;33m \u001b[0mdata\u001b[0m\u001b[1;33m.\u001b[0m\u001b[0mto_csv\u001b[0m\u001b[1;33m(\u001b[0m\u001b[1;34m'extrabladet_2029_18082023.csv'\u001b[0m\u001b[1;33m,\u001b[0m \u001b[0mindex\u001b[0m\u001b[1;33m=\u001b[0m\u001b[1;32mFalse\u001b[0m\u001b[1;33m)\u001b[0m\u001b[1;33m\u001b[0m\u001b[1;33m\u001b[0m\u001b[0m\n\u001b[0m\u001b[0;32m     51\u001b[0m \u001b[1;33m\u001b[0m\u001b[0m\n\u001b[0;32m     52\u001b[0m \u001b[0mdata\u001b[0m \u001b[1;33m=\u001b[0m \u001b[0mpd\u001b[0m\u001b[1;33m.\u001b[0m\u001b[0mDataFrame\u001b[0m\u001b[1;33m(\u001b[0m\u001b[0mdata\u001b[0m\u001b[1;33m)\u001b[0m\u001b[1;33m\u001b[0m\u001b[1;33m\u001b[0m\u001b[0m\n",
      "\u001b[1;31mAttributeError\u001b[0m: 'list' object has no attribute 'to_csv'"
     ]
    }
   ],
   "source": [
    "# scrap data about each article \n",
    "data = []\n",
    "\n",
    "df=pd.read_csv('all_urls_18082023_2029.csv')\n",
    "\n",
    "#for link in tqdm(art_links1['full_link']): ## first itteration, later to be changed for scrapped 'combined_urls[0]'\n",
    "for link in tqdm(df['full_link']):\n",
    "    try:\n",
    "        response = requests.get(link, headers=headers)\n",
    "        response.raise_for_status()\n",
    "        soup = BeautifulSoup(response.content, 'lxml')\n",
    "\n",
    "        try:\n",
    "            title = soup.find(class_='art-title').text.strip()\n",
    "        except AttributeError:\n",
    "            title = None\n",
    "\n",
    "        try:\n",
    "            category = soup.find(class_='section-indicator flex flex-align--center margin-m--r').text.strip()\n",
    "        except AttributeError:\n",
    "            category = None\n",
    "\n",
    "        try:\n",
    "            body = soup.find(class_='article-bodytext').text.strip()\n",
    "        except AttributeError:\n",
    "            body = None\n",
    "\n",
    "        try:\n",
    "            time = soup.find('div', class_='toggle toggle-off').find('span', {'data-timestamp': True})['data-timestamp']\n",
    "        except AttributeError:\n",
    "            time = None\n",
    "\n",
    "        try:\n",
    "            author = soup.find(class_='flex flex-wrap--wrap').text.strip()\n",
    "        except AttributeError:\n",
    "            author = None\n",
    "\n",
    "            if author is None:\n",
    "                try:\n",
    "                    author = soup.find(class_='fontweight-bold').text.strip()\n",
    "                except AttributeError:\n",
    "                    author = None\n",
    "\n",
    "        data.append({'link': link, 'title': title, 'category': category, 'body': body, 'time': time, 'author': author})\n",
    "    \n",
    "    except requests.exceptions.RequestException as e:\n",
    "        print(f\"Error requesting link: {link}. Skipping to the next link.\")\n",
    "        continue  # Skip to the next iteration if erroneous link\n",
    "\n",
    "\n",
    "\n",
    "data = pd.DataFrame(data)\n",
    "print(\"Scraping completed.\")\n"
   ]
  },
  {
   "cell_type": "code",
   "execution_count": 4,
   "id": "7517d4f5",
   "metadata": {},
   "outputs": [],
   "source": [
    "data = pd.DataFrame(data)\n",
    "\n"
   ]
  },
  {
   "cell_type": "code",
   "execution_count": 5,
   "id": "26299482",
   "metadata": {},
   "outputs": [
    {
     "data": {
      "text/html": [
       "<div>\n",
       "<style scoped>\n",
       "    .dataframe tbody tr th:only-of-type {\n",
       "        vertical-align: middle;\n",
       "    }\n",
       "\n",
       "    .dataframe tbody tr th {\n",
       "        vertical-align: top;\n",
       "    }\n",
       "\n",
       "    .dataframe thead th {\n",
       "        text-align: right;\n",
       "    }\n",
       "</style>\n",
       "<table border=\"1\" class=\"dataframe\">\n",
       "  <thead>\n",
       "    <tr style=\"text-align: right;\">\n",
       "      <th></th>\n",
       "      <th>link</th>\n",
       "      <th>title</th>\n",
       "      <th>category</th>\n",
       "      <th>body</th>\n",
       "      <th>time</th>\n",
       "      <th>author</th>\n",
       "    </tr>\n",
       "  </thead>\n",
       "  <tbody>\n",
       "    <tr>\n",
       "      <th>0</th>\n",
       "      <td>https://ekstrabladet.dk/biler/goer-du-det-her-...</td>\n",
       "      <td>Gør du det her om morgenen? Det er ulovligt - ...</td>\n",
       "      <td>Biler</td>\n",
       "      <td>Det er ikke sjovt at komme ud til en bil, hvor...</td>\n",
       "      <td>2017-12-20T09:48:22+01:00</td>\n",
       "      <td>Niels Friis</td>\n",
       "    </tr>\n",
       "    <tr>\n",
       "      <th>1</th>\n",
       "      <td>https://ekstrabladet.dk/krimi/yahya-i-ny-balla...</td>\n",
       "      <td>Yahya i ny ballade: I klammeri med bartender</td>\n",
       "      <td>Krimi</td>\n",
       "      <td>Yahya Hassan har været i en regulær medie-stor...</td>\n",
       "      <td>2015-06-11T16:30:21+02:00</td>\n",
       "      <td>Emil Ingvorsen</td>\n",
       "    </tr>\n",
       "    <tr>\n",
       "      <th>2</th>\n",
       "      <td>https://ekstrabladet.dk/nyheder/politik/danskp...</td>\n",
       "      <td>Kalder minister i samråd: - Det gør mig rasende</td>\n",
       "      <td>Dansk politik</td>\n",
       "      <td>Er du en af de danskere, der kæmper med at få ...</td>\n",
       "      <td>2021-05-24T06:48:12+02:00</td>\n",
       "      <td>Cecilie Guldberg\\n•\\n\\n\\n                    E...</td>\n",
       "    </tr>\n",
       "    <tr>\n",
       "      <th>3</th>\n",
       "      <td>https://ekstrabladet.dk/nyheder/politik/danskp...</td>\n",
       "      <td>Konservativ krise: Papes problemer står i kø</td>\n",
       "      <td>Dansk politik</td>\n",
       "      <td>Med et Venstre i ruiner skulle man måske tro, ...</td>\n",
       "      <td>2023-08-11T12:45:42+02:00</td>\n",
       "      <td>Cecilie Guldberg</td>\n",
       "    </tr>\n",
       "    <tr>\n",
       "      <th>4</th>\n",
       "      <td>https://ekstrabladet.dk/biler/400-danskere-paa...</td>\n",
       "      <td>400 danskere på venteliste: Hypet elbil får ny...</td>\n",
       "      <td>Biler</td>\n",
       "      <td>16 års abonnement på strøm til elbilen, CO2-ko...</td>\n",
       "      <td>2019-01-19T21:03:26+01:00</td>\n",
       "      <td>Mathias Gram</td>\n",
       "    </tr>\n",
       "    <tr>\n",
       "      <th>...</th>\n",
       "      <td>...</td>\n",
       "      <td>...</td>\n",
       "      <td>...</td>\n",
       "      <td>...</td>\n",
       "      <td>...</td>\n",
       "      <td>...</td>\n",
       "    </tr>\n",
       "    <tr>\n",
       "      <th>1969</th>\n",
       "      <td>https://ekstrabladet.dk/nyheder/samfund/vejret...</td>\n",
       "      <td>Utætte tage og flyvende trampoliner: Uvejr giv...</td>\n",
       "      <td>Vejret</td>\n",
       "      <td>Uvejret, der har ramt Danmark, har resulteret ...</td>\n",
       "      <td>2023-08-08T11:45:50+02:00</td>\n",
       "      <td>/ritzau/</td>\n",
       "    </tr>\n",
       "    <tr>\n",
       "      <th>1970</th>\n",
       "      <td>https://ekstrabladet.dk/nyheder/krigogkatastro...</td>\n",
       "      <td>Bombe eksploderer i det centrale Kabul med man...</td>\n",
       "      <td>Krig &amp; katastrofer</td>\n",
       "      <td>En selvmordsbombe er eksploderet nær Afghanist...</td>\n",
       "      <td>2023-01-11T14:25:39+01:00</td>\n",
       "      <td>/ritzau/</td>\n",
       "    </tr>\n",
       "    <tr>\n",
       "      <th>1971</th>\n",
       "      <td>https://ekstrabladet.dk/krimi/mike-slaas-i-ukr...</td>\n",
       "      <td>Mike slås i Ukraine: Putins danske mareridt</td>\n",
       "      <td>Krimi</td>\n",
       "      <td>Artilleri-granaten falder med et langstrakt, k...</td>\n",
       "      <td>2022-10-02T10:21:10+02:00</td>\n",
       "      <td>Kristian Kornø</td>\n",
       "    </tr>\n",
       "    <tr>\n",
       "      <th>1972</th>\n",
       "      <td>https://ekstrabladet.dk/underholdning/udlandke...</td>\n",
       "      <td>Efter voldsomme anklager: Nu bryder hun tavsheden</td>\n",
       "      <td>Intl. kendte</td>\n",
       "      <td>De seneste dage har den kendte sangerinde Lizz...</td>\n",
       "      <td>2023-08-03T13:23:00+02:00</td>\n",
       "      <td>Nanna Bay Madsen</td>\n",
       "    </tr>\n",
       "    <tr>\n",
       "      <th>1973</th>\n",
       "      <td>https://ekstrabladet.dk/underholdning/kongelig...</td>\n",
       "      <td>Millioner på spil: Kongehuset klapper i</td>\n",
       "      <td>Danske kongelige</td>\n",
       "      <td>En gave i millionklassen.\\nDet er, hvad der er...</td>\n",
       "      <td>2023-06-20T06:52:31+02:00</td>\n",
       "      <td>Caroline H. Bilstrup</td>\n",
       "    </tr>\n",
       "  </tbody>\n",
       "</table>\n",
       "<p>1974 rows × 6 columns</p>\n",
       "</div>"
      ],
      "text/plain": [
       "                                                   link  \\\n",
       "0     https://ekstrabladet.dk/biler/goer-du-det-her-...   \n",
       "1     https://ekstrabladet.dk/krimi/yahya-i-ny-balla...   \n",
       "2     https://ekstrabladet.dk/nyheder/politik/danskp...   \n",
       "3     https://ekstrabladet.dk/nyheder/politik/danskp...   \n",
       "4     https://ekstrabladet.dk/biler/400-danskere-paa...   \n",
       "...                                                 ...   \n",
       "1969  https://ekstrabladet.dk/nyheder/samfund/vejret...   \n",
       "1970  https://ekstrabladet.dk/nyheder/krigogkatastro...   \n",
       "1971  https://ekstrabladet.dk/krimi/mike-slaas-i-ukr...   \n",
       "1972  https://ekstrabladet.dk/underholdning/udlandke...   \n",
       "1973  https://ekstrabladet.dk/underholdning/kongelig...   \n",
       "\n",
       "                                                  title            category  \\\n",
       "0     Gør du det her om morgenen? Det er ulovligt - ...               Biler   \n",
       "1          Yahya i ny ballade: I klammeri med bartender               Krimi   \n",
       "2       Kalder minister i samråd: - Det gør mig rasende       Dansk politik   \n",
       "3          Konservativ krise: Papes problemer står i kø       Dansk politik   \n",
       "4     400 danskere på venteliste: Hypet elbil får ny...               Biler   \n",
       "...                                                 ...                 ...   \n",
       "1969  Utætte tage og flyvende trampoliner: Uvejr giv...              Vejret   \n",
       "1970  Bombe eksploderer i det centrale Kabul med man...  Krig & katastrofer   \n",
       "1971        Mike slås i Ukraine: Putins danske mareridt               Krimi   \n",
       "1972  Efter voldsomme anklager: Nu bryder hun tavsheden        Intl. kendte   \n",
       "1973            Millioner på spil: Kongehuset klapper i    Danske kongelige   \n",
       "\n",
       "                                                   body  \\\n",
       "0     Det er ikke sjovt at komme ud til en bil, hvor...   \n",
       "1     Yahya Hassan har været i en regulær medie-stor...   \n",
       "2     Er du en af de danskere, der kæmper med at få ...   \n",
       "3     Med et Venstre i ruiner skulle man måske tro, ...   \n",
       "4     16 års abonnement på strøm til elbilen, CO2-ko...   \n",
       "...                                                 ...   \n",
       "1969  Uvejret, der har ramt Danmark, har resulteret ...   \n",
       "1970  En selvmordsbombe er eksploderet nær Afghanist...   \n",
       "1971  Artilleri-granaten falder med et langstrakt, k...   \n",
       "1972  De seneste dage har den kendte sangerinde Lizz...   \n",
       "1973  En gave i millionklassen.\\nDet er, hvad der er...   \n",
       "\n",
       "                           time  \\\n",
       "0     2017-12-20T09:48:22+01:00   \n",
       "1     2015-06-11T16:30:21+02:00   \n",
       "2     2021-05-24T06:48:12+02:00   \n",
       "3     2023-08-11T12:45:42+02:00   \n",
       "4     2019-01-19T21:03:26+01:00   \n",
       "...                         ...   \n",
       "1969  2023-08-08T11:45:50+02:00   \n",
       "1970  2023-01-11T14:25:39+01:00   \n",
       "1971  2022-10-02T10:21:10+02:00   \n",
       "1972  2023-08-03T13:23:00+02:00   \n",
       "1973  2023-06-20T06:52:31+02:00   \n",
       "\n",
       "                                                 author  \n",
       "0                                           Niels Friis  \n",
       "1                                        Emil Ingvorsen  \n",
       "2     Cecilie Guldberg\\n•\\n\\n\\n                    E...  \n",
       "3                                      Cecilie Guldberg  \n",
       "4                                          Mathias Gram  \n",
       "...                                                 ...  \n",
       "1969                                           /ritzau/  \n",
       "1970                                           /ritzau/  \n",
       "1971                                     Kristian Kornø  \n",
       "1972                                   Nanna Bay Madsen  \n",
       "1973                               Caroline H. Bilstrup  \n",
       "\n",
       "[1974 rows x 6 columns]"
      ]
     },
     "execution_count": 5,
     "metadata": {},
     "output_type": "execute_result"
    }
   ],
   "source": [
    "data"
   ]
  },
  {
   "cell_type": "code",
   "execution_count": 6,
   "id": "0070b3db",
   "metadata": {},
   "outputs": [],
   "source": [
    "data.to_csv('extrabladet_1974_18082023.csv', index=False)"
   ]
  },
  {
   "cell_type": "code",
   "execution_count": 172,
   "id": "58e8a57f",
   "metadata": {},
   "outputs": [
    {
     "name": "stderr",
     "output_type": "stream",
     "text": [
      "100%|██████████| 240/240 [01:20<00:00,  2.97it/s]\n"
     ]
    },
    {
     "data": {
      "text/html": [
       "<div>\n",
       "<style scoped>\n",
       "    .dataframe tbody tr th:only-of-type {\n",
       "        vertical-align: middle;\n",
       "    }\n",
       "\n",
       "    .dataframe tbody tr th {\n",
       "        vertical-align: top;\n",
       "    }\n",
       "\n",
       "    .dataframe thead th {\n",
       "        text-align: right;\n",
       "    }\n",
       "</style>\n",
       "<table border=\"1\" class=\"dataframe\">\n",
       "  <thead>\n",
       "    <tr style=\"text-align: right;\">\n",
       "      <th></th>\n",
       "      <th>full_link</th>\n",
       "    </tr>\n",
       "  </thead>\n",
       "  <tbody>\n",
       "    <tr>\n",
       "      <th>0</th>\n",
       "      <td>https://ekstrabladet.dk/nyheder/politik/danskp...</td>\n",
       "    </tr>\n",
       "    <tr>\n",
       "      <th>1</th>\n",
       "      <td>https://ekstrabladet.dk/nyheder/politik/danskp...</td>\n",
       "    </tr>\n",
       "    <tr>\n",
       "      <th>2</th>\n",
       "      <td>https://ekstrabladet.dk/sport/fodbold/se-fcks-...</td>\n",
       "    </tr>\n",
       "    <tr>\n",
       "      <th>3</th>\n",
       "      <td>https://ekstrabladet.dk/sport/cykling/kaempeta...</td>\n",
       "    </tr>\n",
       "    <tr>\n",
       "      <th>4</th>\n",
       "      <td>https://ekstrabladet.dk/nyheder/samfund/britis...</td>\n",
       "    </tr>\n",
       "    <tr>\n",
       "      <th>...</th>\n",
       "      <td>...</td>\n",
       "    </tr>\n",
       "    <tr>\n",
       "      <th>153</th>\n",
       "      <td>https://ekstrabladet.dk/nyheder/trump-tiltale-...</td>\n",
       "    </tr>\n",
       "    <tr>\n",
       "      <th>154</th>\n",
       "      <td>https://ekstrabladet.dk/nyheder/politik/danskp...</td>\n",
       "    </tr>\n",
       "    <tr>\n",
       "      <th>155</th>\n",
       "      <td>https://ekstrabladet.dk/nyheder/politik/danskp...</td>\n",
       "    </tr>\n",
       "    <tr>\n",
       "      <th>156</th>\n",
       "      <td>https://ekstrabladet.dk/sport/fodbold/dansk_fo...</td>\n",
       "    </tr>\n",
       "    <tr>\n",
       "      <th>157</th>\n",
       "      <td>https://ekstrabladet.dk/nyheder/politik/danskp...</td>\n",
       "    </tr>\n",
       "  </tbody>\n",
       "</table>\n",
       "<p>158 rows × 1 columns</p>\n",
       "</div>"
      ],
      "text/plain": [
       "                                             full_link\n",
       "0    https://ekstrabladet.dk/nyheder/politik/danskp...\n",
       "1    https://ekstrabladet.dk/nyheder/politik/danskp...\n",
       "2    https://ekstrabladet.dk/sport/fodbold/se-fcks-...\n",
       "3    https://ekstrabladet.dk/sport/cykling/kaempeta...\n",
       "4    https://ekstrabladet.dk/nyheder/samfund/britis...\n",
       "..                                                 ...\n",
       "153  https://ekstrabladet.dk/nyheder/trump-tiltale-...\n",
       "154  https://ekstrabladet.dk/nyheder/politik/danskp...\n",
       "155  https://ekstrabladet.dk/nyheder/politik/danskp...\n",
       "156  https://ekstrabladet.dk/sport/fodbold/dansk_fo...\n",
       "157  https://ekstrabladet.dk/nyheder/politik/danskp...\n",
       "\n",
       "[158 rows x 1 columns]"
      ]
     },
     "execution_count": 172,
     "metadata": {},
     "output_type": "execute_result"
    }
   ],
   "source": [
    "#scrap urls from single articles (above ~240 articles), one time run, later a loop will be applied (see below code)\n",
    "\n",
    "links1= []\n",
    "\n",
    "for link in tqdm(art_links1['full_link']):\n",
    "    response= requests.get(link, headers=headers)\n",
    "    soup = BeautifulSoup(response.content, 'lxml')\n",
    "\n",
    "    try:\n",
    "        links = soup.find_all('a')\n",
    "        valid_links = [link['href'] for link in links if 'href' in link.attrs]\n",
    "    except Exception:\n",
    "        valid_links = None\n",
    "\n",
    "    if valid_links is not None:\n",
    "        links1.extend(valid_links)\n",
    "\n",
    "    # keep only links to articles with 7 digit article ids\n",
    "    filtered_links = [link for link in links1 if re.search(r'\\/\\d{7}$', link)]\n",
    "\n",
    "    # Remove duplicates  \n",
    "    filtered_links = list(set(filtered_links))\n",
    "\n",
    "    # Create a DataFrame with the filtered links\n",
    "links_round1 = pd.DataFrame(filtered_links, columns=['filtered_link'])\n",
    "\n",
    "# Create the 'full_link' column based on the conditions\n",
    "def create_full_link(row):\n",
    "    if '/medielogin/login?returnTo=' in row['filtered_link']:\n",
    "        return row['filtered_link'].replace('/medielogin/login?returnTo=', '')\n",
    "    elif 'https://ekstrabladet.dk' in row['filtered_link']:\n",
    "        return row['filtered_link']\n",
    "    else:\n",
    "        return 'https://ekstrabladet.dk' + row['filtered_link']\n",
    "\n",
    "# Apply the 'create_full_link' function to create 'full_link' column\n",
    "links_round1['full_link'] = links_round1.apply(create_full_link, axis=1)\n",
    "\n",
    "    \n",
    "links_round1.drop(columns=['filtered_link'], inplace=True)\n",
    "links_round1.to_csv('links_round4.csv', index=False)\n",
    "    \n",
    "links_round1\n"
   ]
  },
  {
   "cell_type": "code",
   "execution_count": 203,
   "id": "c6c320b9",
   "metadata": {},
   "outputs": [
    {
     "name": "stderr",
     "output_type": "stream",
     "text": [
      "  0%|          | 1/337 [00:00<00:42,  7.97it/s]"
     ]
    },
    {
     "name": "stdout",
     "output_type": "stream",
     "text": [
      "Error requesting link: https://ekstrabladet.dkhttps://www.herognu.dk/kendte/astrid-olsen-det-faldt-jeg-for-ved-boris/1065773. Skipping to the next link.\n"
     ]
    },
    {
     "name": "stderr",
     "output_type": "stream",
     "text": [
      "  2%|▏         | 6/337 [00:07<07:13,  1.31s/it]"
     ]
    },
    {
     "name": "stdout",
     "output_type": "stream",
     "text": [
      "Error requesting link: https://ekstrabladet.dk/incoming/ingen-kommentarer-regeringens-kovending-og-galimatias-v-maalsaetning/8585060. Skipping to the next link.\n"
     ]
    },
    {
     "name": "stderr",
     "output_type": "stream",
     "text": [
      " 49%|████▊     | 164/337 [03:36<03:53,  1.35s/it]"
     ]
    },
    {
     "name": "stdout",
     "output_type": "stream",
     "text": [
      "Error requesting link: https://ekstrabladet.dkhttps://ebcontent.ekstrabladet.dk/G_L/klar-ved-grillen-her-er-sommerens-laekreste-poelsemenu/9686003. Skipping to the next link.\n"
     ]
    },
    {
     "name": "stderr",
     "output_type": "stream",
     "text": [
      " 77%|███████▋  | 258/337 [05:40<01:47,  1.36s/it]"
     ]
    },
    {
     "name": "stdout",
     "output_type": "stream",
     "text": [
      "Error requesting link: https://ekstrabladet.dkhttp://ekstrabladet.dk/services/spoergsmaal-og-svar-til-dit-medielogin-paa-ekstrabladetdk/4502895. Skipping to the next link.\n"
     ]
    },
    {
     "name": "stderr",
     "output_type": "stream",
     "text": [
      "100%|██████████| 337/337 [07:59<00:00,  1.42s/it]\n"
     ]
    },
    {
     "name": "stdout",
     "output_type": "stream",
     "text": [
      "Round 1 completed. Saved to links_round1.csv\n"
     ]
    },
    {
     "name": "stderr",
     "output_type": "stream",
     "text": [
      "  0%|          | 1/335 [00:01<06:40,  1.20s/it]"
     ]
    },
    {
     "name": "stdout",
     "output_type": "stream",
     "text": [
      "Error requesting link: https://ekstrabladet.dkhttps://www.herognu.dk/kendte/astrid-olsen-det-faldt-jeg-for-ved-boris/1065773. Skipping to the next link.\n"
     ]
    },
    {
     "name": "stderr",
     "output_type": "stream",
     "text": [
      "  2%|▏         | 7/335 [00:07<06:41,  1.23s/it]"
     ]
    },
    {
     "name": "stdout",
     "output_type": "stream",
     "text": [
      "Error requesting link: https://ekstrabladet.dk/incoming/ingen-kommentarer-regeringens-kovending-og-galimatias-v-maalsaetning/8585060. Skipping to the next link.\n"
     ]
    },
    {
     "name": "stderr",
     "output_type": "stream",
     "text": [
      " 50%|█████     | 169/335 [03:35<03:38,  1.32s/it]"
     ]
    },
    {
     "name": "stdout",
     "output_type": "stream",
     "text": [
      "Error requesting link: https://ekstrabladet.dkhttps://ebcontent.ekstrabladet.dk/G_L/klar-ved-grillen-her-er-sommerens-laekreste-poelsemenu/9686003. Skipping to the next link.\n"
     ]
    },
    {
     "name": "stderr",
     "output_type": "stream",
     "text": [
      " 76%|███████▌  | 255/335 [05:41<01:45,  1.32s/it]"
     ]
    },
    {
     "name": "stdout",
     "output_type": "stream",
     "text": [
      "Error requesting link: https://ekstrabladet.dkhttp://ekstrabladet.dk/services/spoergsmaal-og-svar-til-dit-medielogin-paa-ekstrabladetdk/4502895. Skipping to the next link.\n"
     ]
    },
    {
     "name": "stderr",
     "output_type": "stream",
     "text": [
      "100%|██████████| 335/335 [07:23<00:00,  1.32s/it]\n"
     ]
    },
    {
     "name": "stdout",
     "output_type": "stream",
     "text": [
      "Round 2 completed. Saved to links_round2.csv\n"
     ]
    },
    {
     "name": "stderr",
     "output_type": "stream",
     "text": [
      "  0%|          | 1/348 [00:01<06:53,  1.19s/it]"
     ]
    },
    {
     "name": "stdout",
     "output_type": "stream",
     "text": [
      "Error requesting link: https://ekstrabladet.dkhttps://www.herognu.dk/kendte/astrid-olsen-det-faldt-jeg-for-ved-boris/1065773. Skipping to the next link.\n"
     ]
    },
    {
     "name": "stderr",
     "output_type": "stream",
     "text": [
      "  3%|▎         | 9/348 [00:08<04:46,  1.18it/s]"
     ]
    },
    {
     "name": "stdout",
     "output_type": "stream",
     "text": [
      "Error requesting link: https://ekstrabladet.dk/incoming/ingen-kommentarer-regeringens-kovending-og-galimatias-v-maalsaetning/8585060. Skipping to the next link.\n"
     ]
    },
    {
     "name": "stderr",
     "output_type": "stream",
     "text": [
      " 34%|███▍      | 120/348 [02:50<06:42,  1.76s/it]"
     ]
    },
    {
     "name": "stdout",
     "output_type": "stream",
     "text": [
      "Error requesting link: https://ekstrabladet.dkhttps://nordjyske.dk/nyheder/nordjylland/to-chefer-paa-aalborg-university-business-school-sendt-hjem/4433387. Skipping to the next link.\n"
     ]
    },
    {
     "name": "stderr",
     "output_type": "stream",
     "text": [
      " 46%|████▋     | 161/348 [03:40<03:47,  1.22s/it]"
     ]
    },
    {
     "name": "stdout",
     "output_type": "stream",
     "text": [
      "Error requesting link: https://ekstrabladet.dkhttps://nordjyske.dk/nyheder/nordjylland/omstridte-chefer-paa-aalborg-universitet-faerdige/4515034. Skipping to the next link.\n"
     ]
    },
    {
     "name": "stderr",
     "output_type": "stream",
     "text": [
      " 50%|████▉     | 173/348 [03:54<03:39,  1.25s/it]"
     ]
    },
    {
     "name": "stdout",
     "output_type": "stream",
     "text": [
      "Error requesting link: https://ekstrabladet.dkhttps://ebcontent.ekstrabladet.dk/G_L/klar-ved-grillen-her-er-sommerens-laekreste-poelsemenu/9686003. Skipping to the next link.\n"
     ]
    },
    {
     "name": "stderr",
     "output_type": "stream",
     "text": [
      " 76%|███████▌  | 264/348 [05:47<01:50,  1.31s/it]"
     ]
    },
    {
     "name": "stdout",
     "output_type": "stream",
     "text": [
      "Error requesting link: https://ekstrabladet.dkhttp://ekstrabladet.dk/services/spoergsmaal-og-svar-til-dit-medielogin-paa-ekstrabladetdk/4502895. Skipping to the next link.\n"
     ]
    },
    {
     "name": "stderr",
     "output_type": "stream",
     "text": [
      " 91%|█████████ | 317/348 [06:51<00:37,  1.22s/it]"
     ]
    },
    {
     "name": "stdout",
     "output_type": "stream",
     "text": [
      "Error requesting link: https://ekstrabladet.dkhttps://nordjyske.dk/nyheder/nordjylland/to-chefer-brugte-93-000-kroner-paa-faa-dage-aalborg-universitet-betalte/4463651. Skipping to the next link.\n"
     ]
    },
    {
     "name": "stderr",
     "output_type": "stream",
     "text": [
      " 95%|█████████▍| 330/348 [07:07<00:22,  1.27s/it]"
     ]
    },
    {
     "name": "stdout",
     "output_type": "stream",
     "text": [
      "Error requesting link: https://ekstrabladet.dkhttps://www.lequipe.fr/Football/Actualites/Transferts-neymar-d-accord-avec-al-hilal/1413412. Skipping to the next link.\n"
     ]
    },
    {
     "name": "stderr",
     "output_type": "stream",
     "text": [
      "100%|██████████| 348/348 [07:28<00:00,  1.29s/it]\n"
     ]
    },
    {
     "name": "stdout",
     "output_type": "stream",
     "text": [
      "Round 3 completed. Saved to links_round3.csv\n"
     ]
    },
    {
     "name": "stderr",
     "output_type": "stream",
     "text": [
      "  0%|          | 1/363 [00:01<07:06,  1.18s/it]"
     ]
    },
    {
     "name": "stdout",
     "output_type": "stream",
     "text": [
      "Error requesting link: https://ekstrabladet.dkhttps://www.herognu.dk/kendte/astrid-olsen-det-faldt-jeg-for-ved-boris/1065773. Skipping to the next link.\n"
     ]
    },
    {
     "name": "stderr",
     "output_type": "stream",
     "text": [
      "  2%|▏         | 8/363 [00:08<06:43,  1.14s/it]"
     ]
    },
    {
     "name": "stdout",
     "output_type": "stream",
     "text": [
      "Error requesting link: https://ekstrabladet.dk/incoming/ingen-kommentarer-regeringens-kovending-og-galimatias-v-maalsaetning/8585060. Skipping to the next link.\n"
     ]
    },
    {
     "name": "stderr",
     "output_type": "stream",
     "text": [
      " 25%|██▍       | 90/363 [01:54<05:48,  1.28s/it]"
     ]
    },
    {
     "name": "stdout",
     "output_type": "stream",
     "text": [
      "Error requesting link: https://ekstrabladet.dkhttps://www.herognu.dk/kendte/kevin-larsen-smaskforelsket-tilbage-hos-eksen/1059498. Skipping to the next link.\n"
     ]
    },
    {
     "name": "stderr",
     "output_type": "stream",
     "text": [
      " 35%|███▍      | 126/363 [02:37<04:52,  1.24s/it]"
     ]
    },
    {
     "name": "stdout",
     "output_type": "stream",
     "text": [
      "Error requesting link: https://ekstrabladet.dkhttps://nordjyske.dk/nyheder/nordjylland/to-chefer-paa-aalborg-university-business-school-sendt-hjem/4433387. Skipping to the next link.\n"
     ]
    },
    {
     "name": "stderr",
     "output_type": "stream",
     "text": [
      " 46%|████▋     | 168/363 [03:29<04:02,  1.25s/it]"
     ]
    },
    {
     "name": "stdout",
     "output_type": "stream",
     "text": [
      "Error requesting link: https://ekstrabladet.dkhttps://nordjyske.dk/nyheder/nordjylland/omstridte-chefer-paa-aalborg-universitet-faerdige/4515034. Skipping to the next link.\n"
     ]
    },
    {
     "name": "stderr",
     "output_type": "stream",
     "text": [
      " 50%|████▉     | 180/363 [03:43<03:42,  1.21s/it]"
     ]
    },
    {
     "name": "stdout",
     "output_type": "stream",
     "text": [
      "Error requesting link: https://ekstrabladet.dkhttps://ebcontent.ekstrabladet.dk/G_L/klar-ved-grillen-her-er-sommerens-laekreste-poelsemenu/9686003. Skipping to the next link.\n"
     ]
    },
    {
     "name": "stderr",
     "output_type": "stream",
     "text": [
      " 77%|███████▋  | 278/363 [05:46<01:50,  1.30s/it]"
     ]
    },
    {
     "name": "stdout",
     "output_type": "stream",
     "text": [
      "Error requesting link: https://ekstrabladet.dkhttp://ekstrabladet.dk/services/spoergsmaal-og-svar-til-dit-medielogin-paa-ekstrabladetdk/4502895. Skipping to the next link.\n"
     ]
    },
    {
     "name": "stderr",
     "output_type": "stream",
     "text": [
      " 91%|█████████ | 331/363 [06:56<00:40,  1.27s/it]"
     ]
    },
    {
     "name": "stdout",
     "output_type": "stream",
     "text": [
      "Error requesting link: https://ekstrabladet.dkhttps://nordjyske.dk/nyheder/nordjylland/to-chefer-brugte-93-000-kroner-paa-faa-dage-aalborg-universitet-betalte/4463651. Skipping to the next link.\n"
     ]
    },
    {
     "name": "stderr",
     "output_type": "stream",
     "text": [
      " 95%|█████████▌| 345/363 [07:12<00:22,  1.24s/it]"
     ]
    },
    {
     "name": "stdout",
     "output_type": "stream",
     "text": [
      "Error requesting link: https://ekstrabladet.dkhttps://www.lequipe.fr/Football/Actualites/Transferts-neymar-d-accord-avec-al-hilal/1413412. Skipping to the next link.\n"
     ]
    },
    {
     "name": "stderr",
     "output_type": "stream",
     "text": [
      "100%|██████████| 363/363 [07:33<00:00,  1.25s/it]\n"
     ]
    },
    {
     "name": "stdout",
     "output_type": "stream",
     "text": [
      "Round 4 completed. Saved to links_round4.csv\n"
     ]
    },
    {
     "name": "stderr",
     "output_type": "stream",
     "text": [
      "  0%|          | 1/371 [00:01<07:17,  1.18s/it]"
     ]
    },
    {
     "name": "stdout",
     "output_type": "stream",
     "text": [
      "Error requesting link: https://ekstrabladet.dkhttps://www.herognu.dk/kendte/astrid-olsen-det-faldt-jeg-for-ved-boris/1065773. Skipping to the next link.\n"
     ]
    },
    {
     "name": "stderr",
     "output_type": "stream",
     "text": [
      "  2%|▏         | 9/371 [00:10<07:18,  1.21s/it]"
     ]
    },
    {
     "name": "stdout",
     "output_type": "stream",
     "text": [
      "Error requesting link: https://ekstrabladet.dk/incoming/ingen-kommentarer-regeringens-kovending-og-galimatias-v-maalsaetning/8585060. Skipping to the next link.\n"
     ]
    },
    {
     "name": "stderr",
     "output_type": "stream",
     "text": [
      " 25%|██▌       | 94/371 [01:53<05:44,  1.24s/it]"
     ]
    },
    {
     "name": "stdout",
     "output_type": "stream",
     "text": [
      "Error requesting link: https://ekstrabladet.dkhttps://www.herognu.dk/kendte/kevin-larsen-smaskforelsket-tilbage-hos-eksen/1059498. Skipping to the next link.\n"
     ]
    },
    {
     "name": "stderr",
     "output_type": "stream",
     "text": [
      " 35%|███▌      | 131/371 [02:38<04:56,  1.24s/it]"
     ]
    },
    {
     "name": "stdout",
     "output_type": "stream",
     "text": [
      "Error requesting link: https://ekstrabladet.dkhttps://nordjyske.dk/nyheder/nordjylland/to-chefer-paa-aalborg-university-business-school-sendt-hjem/4433387. Skipping to the next link.\n"
     ]
    },
    {
     "name": "stderr",
     "output_type": "stream",
     "text": [
      " 47%|████▋     | 175/371 [03:32<04:01,  1.23s/it]"
     ]
    },
    {
     "name": "stdout",
     "output_type": "stream",
     "text": [
      "Error requesting link: https://ekstrabladet.dkhttps://nordjyske.dk/nyheder/nordjylland/omstridte-chefer-paa-aalborg-universitet-faerdige/4515034. Skipping to the next link.\n"
     ]
    },
    {
     "name": "stderr",
     "output_type": "stream",
     "text": [
      " 50%|█████     | 187/371 [03:46<03:50,  1.25s/it]"
     ]
    },
    {
     "name": "stdout",
     "output_type": "stream",
     "text": [
      "Error requesting link: https://ekstrabladet.dkhttps://ebcontent.ekstrabladet.dk/G_L/klar-ved-grillen-her-er-sommerens-laekreste-poelsemenu/9686003. Skipping to the next link.\n"
     ]
    },
    {
     "name": "stderr",
     "output_type": "stream",
     "text": [
      " 77%|███████▋  | 285/371 [05:54<01:47,  1.25s/it]"
     ]
    },
    {
     "name": "stdout",
     "output_type": "stream",
     "text": [
      "Error requesting link: https://ekstrabladet.dkhttp://ekstrabladet.dk/services/spoergsmaal-og-svar-til-dit-medielogin-paa-ekstrabladetdk/4502895. Skipping to the next link.\n"
     ]
    },
    {
     "name": "stderr",
     "output_type": "stream",
     "text": [
      " 91%|█████████ | 338/371 [07:01<00:42,  1.28s/it]"
     ]
    },
    {
     "name": "stdout",
     "output_type": "stream",
     "text": [
      "Error requesting link: https://ekstrabladet.dkhttps://nordjyske.dk/nyheder/nordjylland/to-chefer-brugte-93-000-kroner-paa-faa-dage-aalborg-universitet-betalte/4463651. Skipping to the next link.\n"
     ]
    },
    {
     "name": "stderr",
     "output_type": "stream",
     "text": [
      " 95%|█████████▍| 352/371 [07:18<00:24,  1.27s/it]"
     ]
    },
    {
     "name": "stdout",
     "output_type": "stream",
     "text": [
      "Error requesting link: https://ekstrabladet.dkhttps://www.lequipe.fr/Football/Actualites/Transferts-neymar-d-accord-avec-al-hilal/1413412. Skipping to the next link.\n"
     ]
    },
    {
     "name": "stderr",
     "output_type": "stream",
     "text": [
      "100%|██████████| 371/371 [07:41<00:00,  1.24s/it]\n"
     ]
    },
    {
     "name": "stdout",
     "output_type": "stream",
     "text": [
      "Round 5 completed. Saved to links_round5.csv\n"
     ]
    },
    {
     "name": "stderr",
     "output_type": "stream",
     "text": [
      "  0%|          | 1/371 [00:01<07:29,  1.21s/it]"
     ]
    },
    {
     "name": "stdout",
     "output_type": "stream",
     "text": [
      "Error requesting link: https://ekstrabladet.dkhttps://www.herognu.dk/kendte/astrid-olsen-det-faldt-jeg-for-ved-boris/1065773. Skipping to the next link.\n"
     ]
    },
    {
     "name": "stderr",
     "output_type": "stream",
     "text": [
      "  3%|▎         | 10/371 [00:11<07:08,  1.19s/it]"
     ]
    },
    {
     "name": "stdout",
     "output_type": "stream",
     "text": [
      "Error requesting link: https://ekstrabladet.dk/incoming/ingen-kommentarer-regeringens-kovending-og-galimatias-v-maalsaetning/8585060. Skipping to the next link.\n"
     ]
    },
    {
     "name": "stderr",
     "output_type": "stream",
     "text": [
      " 26%|██▌       | 95/371 [01:58<05:45,  1.25s/it]"
     ]
    },
    {
     "name": "stdout",
     "output_type": "stream",
     "text": [
      "Error requesting link: https://ekstrabladet.dkhttps://www.herognu.dk/kendte/kevin-larsen-smaskforelsket-tilbage-hos-eksen/1059498. Skipping to the next link.\n"
     ]
    },
    {
     "name": "stderr",
     "output_type": "stream",
     "text": [
      " 35%|███▌      | 131/371 [02:46<05:18,  1.33s/it]"
     ]
    },
    {
     "name": "stdout",
     "output_type": "stream",
     "text": [
      "Error requesting link: https://ekstrabladet.dkhttps://nordjyske.dk/nyheder/nordjylland/to-chefer-paa-aalborg-university-business-school-sendt-hjem/4433387. Skipping to the next link.\n"
     ]
    },
    {
     "name": "stderr",
     "output_type": "stream",
     "text": [
      " 47%|████▋     | 175/371 [03:41<04:02,  1.24s/it]"
     ]
    },
    {
     "name": "stdout",
     "output_type": "stream",
     "text": [
      "Error requesting link: https://ekstrabladet.dkhttps://nordjyske.dk/nyheder/nordjylland/omstridte-chefer-paa-aalborg-universitet-faerdige/4515034. Skipping to the next link.\n"
     ]
    },
    {
     "name": "stderr",
     "output_type": "stream",
     "text": [
      " 50%|█████     | 187/371 [03:55<03:57,  1.29s/it]"
     ]
    },
    {
     "name": "stdout",
     "output_type": "stream",
     "text": [
      "Error requesting link: https://ekstrabladet.dkhttps://ebcontent.ekstrabladet.dk/G_L/klar-ved-grillen-her-er-sommerens-laekreste-poelsemenu/9686003. Skipping to the next link.\n"
     ]
    },
    {
     "name": "stderr",
     "output_type": "stream",
     "text": [
      " 77%|███████▋  | 285/371 [06:00<01:54,  1.34s/it]"
     ]
    },
    {
     "name": "stdout",
     "output_type": "stream",
     "text": [
      "Error requesting link: https://ekstrabladet.dkhttp://ekstrabladet.dk/services/spoergsmaal-og-svar-til-dit-medielogin-paa-ekstrabladetdk/4502895. Skipping to the next link.\n"
     ]
    },
    {
     "name": "stderr",
     "output_type": "stream",
     "text": [
      " 91%|█████████ | 338/371 [07:05<00:42,  1.29s/it]"
     ]
    },
    {
     "name": "stdout",
     "output_type": "stream",
     "text": [
      "Error requesting link: https://ekstrabladet.dkhttps://nordjyske.dk/nyheder/nordjylland/to-chefer-brugte-93-000-kroner-paa-faa-dage-aalborg-universitet-betalte/4463651. Skipping to the next link.\n"
     ]
    },
    {
     "name": "stderr",
     "output_type": "stream",
     "text": [
      " 95%|█████████▍| 352/371 [07:21<00:23,  1.23s/it]"
     ]
    },
    {
     "name": "stdout",
     "output_type": "stream",
     "text": [
      "Error requesting link: https://ekstrabladet.dkhttps://www.lequipe.fr/Football/Actualites/Transferts-neymar-d-accord-avec-al-hilal/1413412. Skipping to the next link.\n"
     ]
    },
    {
     "name": "stderr",
     "output_type": "stream",
     "text": [
      "100%|██████████| 371/371 [07:48<00:00,  1.26s/it]\n"
     ]
    },
    {
     "name": "stdout",
     "output_type": "stream",
     "text": [
      "Round 6 completed. Saved to links_round6.csv\n"
     ]
    },
    {
     "name": "stderr",
     "output_type": "stream",
     "text": [
      "  0%|          | 1/371 [00:01<07:38,  1.24s/it]"
     ]
    },
    {
     "name": "stdout",
     "output_type": "stream",
     "text": [
      "Error requesting link: https://ekstrabladet.dkhttps://www.herognu.dk/kendte/astrid-olsen-det-faldt-jeg-for-ved-boris/1065773. Skipping to the next link.\n"
     ]
    },
    {
     "name": "stderr",
     "output_type": "stream",
     "text": [
      "  3%|▎         | 11/371 [00:11<05:30,  1.09it/s]"
     ]
    },
    {
     "name": "stdout",
     "output_type": "stream",
     "text": [
      "Error requesting link: https://ekstrabladet.dk/incoming/ingen-kommentarer-regeringens-kovending-og-galimatias-v-maalsaetning/8585060. Skipping to the next link.\n"
     ]
    },
    {
     "name": "stderr",
     "output_type": "stream",
     "text": [
      " 26%|██▌       | 95/371 [01:54<05:39,  1.23s/it]"
     ]
    },
    {
     "name": "stdout",
     "output_type": "stream",
     "text": [
      "Error requesting link: https://ekstrabladet.dkhttps://www.herognu.dk/kendte/kevin-larsen-smaskforelsket-tilbage-hos-eksen/1059498. Skipping to the next link.\n"
     ]
    },
    {
     "name": "stderr",
     "output_type": "stream",
     "text": [
      " 35%|███▌      | 131/371 [02:37<04:48,  1.20s/it]"
     ]
    },
    {
     "name": "stdout",
     "output_type": "stream",
     "text": [
      "Error requesting link: https://ekstrabladet.dkhttps://nordjyske.dk/nyheder/nordjylland/to-chefer-paa-aalborg-university-business-school-sendt-hjem/4433387. Skipping to the next link.\n"
     ]
    },
    {
     "name": "stderr",
     "output_type": "stream",
     "text": [
      " 47%|████▋     | 175/371 [03:29<03:53,  1.19s/it]"
     ]
    },
    {
     "name": "stdout",
     "output_type": "stream",
     "text": [
      "Error requesting link: https://ekstrabladet.dkhttps://nordjyske.dk/nyheder/nordjylland/omstridte-chefer-paa-aalborg-universitet-faerdige/4515034. Skipping to the next link.\n"
     ]
    },
    {
     "name": "stderr",
     "output_type": "stream",
     "text": [
      " 50%|█████     | 187/371 [03:43<03:39,  1.19s/it]"
     ]
    },
    {
     "name": "stdout",
     "output_type": "stream",
     "text": [
      "Error requesting link: https://ekstrabladet.dkhttps://ebcontent.ekstrabladet.dk/G_L/klar-ved-grillen-her-er-sommerens-laekreste-poelsemenu/9686003. Skipping to the next link.\n"
     ]
    },
    {
     "name": "stderr",
     "output_type": "stream",
     "text": [
      " 77%|███████▋  | 285/371 [05:47<01:42,  1.19s/it]"
     ]
    },
    {
     "name": "stdout",
     "output_type": "stream",
     "text": [
      "Error requesting link: https://ekstrabladet.dkhttp://ekstrabladet.dk/services/spoergsmaal-og-svar-til-dit-medielogin-paa-ekstrabladetdk/4502895. Skipping to the next link.\n"
     ]
    },
    {
     "name": "stderr",
     "output_type": "stream",
     "text": [
      " 91%|█████████ | 338/371 [06:51<00:40,  1.23s/it]"
     ]
    },
    {
     "name": "stdout",
     "output_type": "stream",
     "text": [
      "Error requesting link: https://ekstrabladet.dkhttps://nordjyske.dk/nyheder/nordjylland/to-chefer-brugte-93-000-kroner-paa-faa-dage-aalborg-universitet-betalte/4463651. Skipping to the next link.\n"
     ]
    },
    {
     "name": "stderr",
     "output_type": "stream",
     "text": [
      " 95%|█████████▍| 352/371 [07:06<00:22,  1.19s/it]"
     ]
    },
    {
     "name": "stdout",
     "output_type": "stream",
     "text": [
      "Error requesting link: https://ekstrabladet.dkhttps://www.lequipe.fr/Football/Actualites/Transferts-neymar-d-accord-avec-al-hilal/1413412. Skipping to the next link.\n"
     ]
    },
    {
     "name": "stderr",
     "output_type": "stream",
     "text": [
      "100%|██████████| 371/371 [07:28<00:00,  1.21s/it]\n"
     ]
    },
    {
     "name": "stdout",
     "output_type": "stream",
     "text": [
      "Round 7 completed. Saved to links_round7.csv\n"
     ]
    },
    {
     "name": "stderr",
     "output_type": "stream",
     "text": [
      "  0%|          | 1/370 [00:01<07:24,  1.20s/it]"
     ]
    },
    {
     "name": "stdout",
     "output_type": "stream",
     "text": [
      "Error requesting link: https://ekstrabladet.dkhttps://www.herognu.dk/kendte/astrid-olsen-det-faldt-jeg-for-ved-boris/1065773. Skipping to the next link.\n"
     ]
    },
    {
     "name": "stderr",
     "output_type": "stream",
     "text": [
      "  3%|▎         | 10/370 [00:10<06:57,  1.16s/it]"
     ]
    },
    {
     "name": "stdout",
     "output_type": "stream",
     "text": [
      "Error requesting link: https://ekstrabladet.dk/incoming/ingen-kommentarer-regeringens-kovending-og-galimatias-v-maalsaetning/8585060. Skipping to the next link.\n"
     ]
    },
    {
     "name": "stderr",
     "output_type": "stream",
     "text": [
      " 25%|██▌       | 94/370 [01:51<05:32,  1.20s/it]"
     ]
    },
    {
     "name": "stdout",
     "output_type": "stream",
     "text": [
      "Error requesting link: https://ekstrabladet.dkhttps://www.herognu.dk/kendte/kevin-larsen-smaskforelsket-tilbage-hos-eksen/1059498. Skipping to the next link.\n"
     ]
    },
    {
     "name": "stderr",
     "output_type": "stream",
     "text": [
      " 35%|███▌      | 130/370 [02:34<05:20,  1.33s/it]"
     ]
    },
    {
     "name": "stdout",
     "output_type": "stream",
     "text": [
      "Error requesting link: https://ekstrabladet.dkhttps://nordjyske.dk/nyheder/nordjylland/to-chefer-paa-aalborg-university-business-school-sendt-hjem/4433387. Skipping to the next link.\n"
     ]
    },
    {
     "name": "stderr",
     "output_type": "stream",
     "text": [
      " 47%|████▋     | 173/370 [03:30<03:53,  1.18s/it]"
     ]
    },
    {
     "name": "stdout",
     "output_type": "stream",
     "text": [
      "Error requesting link: https://ekstrabladet.dkhttps://nordjyske.dk/nyheder/nordjylland/omstridte-chefer-paa-aalborg-universitet-faerdige/4515034. Skipping to the next link.\n"
     ]
    },
    {
     "name": "stderr",
     "output_type": "stream",
     "text": [
      " 50%|█████     | 185/370 [03:43<03:39,  1.19s/it]"
     ]
    },
    {
     "name": "stdout",
     "output_type": "stream",
     "text": [
      "Error requesting link: https://ekstrabladet.dkhttps://ebcontent.ekstrabladet.dk/G_L/klar-ved-grillen-her-er-sommerens-laekreste-poelsemenu/9686003. Skipping to the next link.\n"
     ]
    },
    {
     "name": "stderr",
     "output_type": "stream",
     "text": [
      " 76%|███████▋  | 283/370 [05:42<01:50,  1.27s/it]"
     ]
    },
    {
     "name": "stdout",
     "output_type": "stream",
     "text": [
      "Error requesting link: https://ekstrabladet.dkhttp://ekstrabladet.dk/services/spoergsmaal-og-svar-til-dit-medielogin-paa-ekstrabladetdk/4502895. Skipping to the next link.\n"
     ]
    },
    {
     "name": "stderr",
     "output_type": "stream",
     "text": [
      " 91%|█████████ | 336/370 [06:46<00:41,  1.22s/it]"
     ]
    },
    {
     "name": "stdout",
     "output_type": "stream",
     "text": [
      "Error requesting link: https://ekstrabladet.dkhttps://nordjyske.dk/nyheder/nordjylland/to-chefer-brugte-93-000-kroner-paa-faa-dage-aalborg-universitet-betalte/4463651. Skipping to the next link.\n"
     ]
    },
    {
     "name": "stderr",
     "output_type": "stream",
     "text": [
      " 95%|█████████▍| 351/370 [07:03<00:23,  1.21s/it]"
     ]
    },
    {
     "name": "stdout",
     "output_type": "stream",
     "text": [
      "Error requesting link: https://ekstrabladet.dkhttps://www.lequipe.fr/Football/Actualites/Transferts-neymar-d-accord-avec-al-hilal/1413412. Skipping to the next link.\n"
     ]
    },
    {
     "name": "stderr",
     "output_type": "stream",
     "text": [
      "100%|██████████| 370/370 [07:24<00:00,  1.20s/it]\n"
     ]
    },
    {
     "name": "stdout",
     "output_type": "stream",
     "text": [
      "Round 8 completed. Saved to links_round8.csv\n"
     ]
    },
    {
     "name": "stderr",
     "output_type": "stream",
     "text": [
      "  0%|          | 1/369 [00:01<07:14,  1.18s/it]"
     ]
    },
    {
     "name": "stdout",
     "output_type": "stream",
     "text": [
      "Error requesting link: https://ekstrabladet.dkhttps://www.herognu.dk/kendte/astrid-olsen-det-faldt-jeg-for-ved-boris/1065773. Skipping to the next link.\n"
     ]
    },
    {
     "name": "stderr",
     "output_type": "stream",
     "text": [
      "  3%|▎         | 10/369 [00:10<07:11,  1.20s/it]"
     ]
    },
    {
     "name": "stdout",
     "output_type": "stream",
     "text": [
      "Error requesting link: https://ekstrabladet.dk/incoming/ingen-kommentarer-regeringens-kovending-og-galimatias-v-maalsaetning/8585060. Skipping to the next link.\n"
     ]
    },
    {
     "name": "stderr",
     "output_type": "stream",
     "text": [
      " 25%|██▌       | 94/369 [01:56<05:31,  1.20s/it]"
     ]
    },
    {
     "name": "stdout",
     "output_type": "stream",
     "text": [
      "Error requesting link: https://ekstrabladet.dkhttps://www.herognu.dk/kendte/kevin-larsen-smaskforelsket-tilbage-hos-eksen/1059498. Skipping to the next link.\n"
     ]
    },
    {
     "name": "stderr",
     "output_type": "stream",
     "text": [
      " 35%|███▌      | 130/369 [02:38<04:45,  1.19s/it]"
     ]
    },
    {
     "name": "stdout",
     "output_type": "stream",
     "text": [
      "Error requesting link: https://ekstrabladet.dkhttps://nordjyske.dk/nyheder/nordjylland/to-chefer-paa-aalborg-university-business-school-sendt-hjem/4433387. Skipping to the next link.\n"
     ]
    },
    {
     "name": "stderr",
     "output_type": "stream",
     "text": [
      " 47%|████▋     | 174/369 [03:30<04:00,  1.23s/it]"
     ]
    },
    {
     "name": "stdout",
     "output_type": "stream",
     "text": [
      "Error requesting link: https://ekstrabladet.dkhttps://nordjyske.dk/nyheder/nordjylland/omstridte-chefer-paa-aalborg-universitet-faerdige/4515034. Skipping to the next link.\n"
     ]
    },
    {
     "name": "stderr",
     "output_type": "stream",
     "text": [
      " 50%|█████     | 186/369 [03:43<03:39,  1.20s/it]"
     ]
    },
    {
     "name": "stdout",
     "output_type": "stream",
     "text": [
      "Error requesting link: https://ekstrabladet.dkhttps://ebcontent.ekstrabladet.dk/G_L/klar-ved-grillen-her-er-sommerens-laekreste-poelsemenu/9686003. Skipping to the next link.\n"
     ]
    },
    {
     "name": "stderr",
     "output_type": "stream",
     "text": [
      " 77%|███████▋  | 283/369 [05:39<01:44,  1.21s/it]"
     ]
    },
    {
     "name": "stdout",
     "output_type": "stream",
     "text": [
      "Error requesting link: https://ekstrabladet.dkhttp://ekstrabladet.dk/services/spoergsmaal-og-svar-til-dit-medielogin-paa-ekstrabladetdk/4502895. Skipping to the next link.\n"
     ]
    },
    {
     "name": "stderr",
     "output_type": "stream",
     "text": [
      " 91%|█████████ | 335/369 [06:46<00:41,  1.23s/it]"
     ]
    },
    {
     "name": "stdout",
     "output_type": "stream",
     "text": [
      "Error requesting link: https://ekstrabladet.dkhttps://nordjyske.dk/nyheder/nordjylland/to-chefer-brugte-93-000-kroner-paa-faa-dage-aalborg-universitet-betalte/4463651. Skipping to the next link.\n"
     ]
    },
    {
     "name": "stderr",
     "output_type": "stream",
     "text": [
      " 95%|█████████▍| 350/369 [07:02<00:22,  1.20s/it]"
     ]
    },
    {
     "name": "stdout",
     "output_type": "stream",
     "text": [
      "Error requesting link: https://ekstrabladet.dkhttps://www.lequipe.fr/Football/Actualites/Transferts-neymar-d-accord-avec-al-hilal/1413412. Skipping to the next link.\n"
     ]
    },
    {
     "name": "stderr",
     "output_type": "stream",
     "text": [
      "100%|██████████| 369/369 [07:24<00:00,  1.21s/it]\n"
     ]
    },
    {
     "name": "stdout",
     "output_type": "stream",
     "text": [
      "Round 9 completed. Saved to links_round9.csv\n"
     ]
    },
    {
     "name": "stderr",
     "output_type": "stream",
     "text": [
      "  0%|          | 1/365 [00:01<07:17,  1.20s/it]"
     ]
    },
    {
     "name": "stdout",
     "output_type": "stream",
     "text": [
      "Error requesting link: https://ekstrabladet.dkhttps://www.herognu.dk/kendte/astrid-olsen-det-faldt-jeg-for-ved-boris/1065773. Skipping to the next link.\n"
     ]
    },
    {
     "name": "stderr",
     "output_type": "stream",
     "text": [
      "  3%|▎         | 10/365 [00:11<06:56,  1.17s/it]"
     ]
    },
    {
     "name": "stdout",
     "output_type": "stream",
     "text": [
      "Error requesting link: https://ekstrabladet.dk/incoming/ingen-kommentarer-regeringens-kovending-og-galimatias-v-maalsaetning/8585060. Skipping to the next link.\n"
     ]
    },
    {
     "name": "stderr",
     "output_type": "stream",
     "text": [
      " 26%|██▌       | 94/365 [01:51<05:24,  1.20s/it]"
     ]
    },
    {
     "name": "stdout",
     "output_type": "stream",
     "text": [
      "Error requesting link: https://ekstrabladet.dkhttps://www.herognu.dk/kendte/kevin-larsen-smaskforelsket-tilbage-hos-eksen/1059498. Skipping to the next link.\n"
     ]
    },
    {
     "name": "stderr",
     "output_type": "stream",
     "text": [
      " 35%|███▌      | 128/365 [02:30<05:03,  1.28s/it]"
     ]
    },
    {
     "name": "stdout",
     "output_type": "stream",
     "text": [
      "Error requesting link: https://ekstrabladet.dkhttps://nordjyske.dk/nyheder/nordjylland/to-chefer-paa-aalborg-university-business-school-sendt-hjem/4433387. Skipping to the next link.\n"
     ]
    },
    {
     "name": "stderr",
     "output_type": "stream",
     "text": [
      " 47%|████▋     | 172/365 [03:22<03:50,  1.19s/it]"
     ]
    },
    {
     "name": "stdout",
     "output_type": "stream",
     "text": [
      "Error requesting link: https://ekstrabladet.dkhttps://nordjyske.dk/nyheder/nordjylland/omstridte-chefer-paa-aalborg-universitet-faerdige/4515034. Skipping to the next link.\n"
     ]
    },
    {
     "name": "stderr",
     "output_type": "stream",
     "text": [
      " 50%|█████     | 184/365 [03:35<03:38,  1.21s/it]"
     ]
    },
    {
     "name": "stdout",
     "output_type": "stream",
     "text": [
      "Error requesting link: https://ekstrabladet.dkhttps://ebcontent.ekstrabladet.dk/G_L/klar-ved-grillen-her-er-sommerens-laekreste-poelsemenu/9686003. Skipping to the next link.\n"
     ]
    },
    {
     "name": "stderr",
     "output_type": "stream",
     "text": [
      " 77%|███████▋  | 280/365 [05:35<01:44,  1.23s/it]"
     ]
    },
    {
     "name": "stdout",
     "output_type": "stream",
     "text": [
      "Error requesting link: https://ekstrabladet.dkhttp://ekstrabladet.dk/services/spoergsmaal-og-svar-til-dit-medielogin-paa-ekstrabladetdk/4502895. Skipping to the next link.\n"
     ]
    },
    {
     "name": "stderr",
     "output_type": "stream",
     "text": [
      " 91%|█████████ | 331/365 [06:35<00:40,  1.20s/it]"
     ]
    },
    {
     "name": "stdout",
     "output_type": "stream",
     "text": [
      "Error requesting link: https://ekstrabladet.dkhttps://nordjyske.dk/nyheder/nordjylland/to-chefer-brugte-93-000-kroner-paa-faa-dage-aalborg-universitet-betalte/4463651. Skipping to the next link.\n"
     ]
    },
    {
     "name": "stderr",
     "output_type": "stream",
     "text": [
      " 95%|█████████▍| 346/365 [06:52<00:23,  1.23s/it]"
     ]
    },
    {
     "name": "stdout",
     "output_type": "stream",
     "text": [
      "Error requesting link: https://ekstrabladet.dkhttps://www.lequipe.fr/Football/Actualites/Transferts-neymar-d-accord-avec-al-hilal/1413412. Skipping to the next link.\n"
     ]
    },
    {
     "name": "stderr",
     "output_type": "stream",
     "text": [
      "100%|██████████| 365/365 [07:14<00:00,  1.19s/it]\n"
     ]
    },
    {
     "name": "stdout",
     "output_type": "stream",
     "text": [
      "Round 10 completed. Saved to links_round10.csv\n"
     ]
    },
    {
     "name": "stderr",
     "output_type": "stream",
     "text": [
      "  0%|          | 1/360 [00:01<07:09,  1.20s/it]"
     ]
    },
    {
     "name": "stdout",
     "output_type": "stream",
     "text": [
      "Error requesting link: https://ekstrabladet.dkhttps://www.herognu.dk/kendte/astrid-olsen-det-faldt-jeg-for-ved-boris/1065773. Skipping to the next link.\n"
     ]
    },
    {
     "name": "stderr",
     "output_type": "stream",
     "text": [
      "  3%|▎         | 10/360 [00:10<06:41,  1.15s/it]"
     ]
    },
    {
     "name": "stdout",
     "output_type": "stream",
     "text": [
      "Error requesting link: https://ekstrabladet.dk/incoming/ingen-kommentarer-regeringens-kovending-og-galimatias-v-maalsaetning/8585060. Skipping to the next link.\n"
     ]
    },
    {
     "name": "stderr",
     "output_type": "stream",
     "text": [
      " 26%|██▌       | 94/360 [01:50<05:18,  1.20s/it]"
     ]
    },
    {
     "name": "stdout",
     "output_type": "stream",
     "text": [
      "Error requesting link: https://ekstrabladet.dkhttps://www.herognu.dk/kendte/kevin-larsen-smaskforelsket-tilbage-hos-eksen/1059498. Skipping to the next link.\n"
     ]
    },
    {
     "name": "stderr",
     "output_type": "stream",
     "text": [
      " 36%|███▌      | 128/360 [02:34<04:41,  1.21s/it]"
     ]
    },
    {
     "name": "stdout",
     "output_type": "stream",
     "text": [
      "Error requesting link: https://ekstrabladet.dkhttps://nordjyske.dk/nyheder/nordjylland/to-chefer-paa-aalborg-university-business-school-sendt-hjem/4433387. Skipping to the next link.\n"
     ]
    },
    {
     "name": "stderr",
     "output_type": "stream",
     "text": [
      " 48%|████▊     | 172/360 [03:26<03:51,  1.23s/it]"
     ]
    },
    {
     "name": "stdout",
     "output_type": "stream",
     "text": [
      "Error requesting link: https://ekstrabladet.dkhttps://nordjyske.dk/nyheder/nordjylland/omstridte-chefer-paa-aalborg-universitet-faerdige/4515034. Skipping to the next link.\n"
     ]
    },
    {
     "name": "stderr",
     "output_type": "stream",
     "text": [
      " 51%|█████     | 184/360 [03:39<03:29,  1.19s/it]"
     ]
    },
    {
     "name": "stdout",
     "output_type": "stream",
     "text": [
      "Error requesting link: https://ekstrabladet.dkhttps://ebcontent.ekstrabladet.dk/G_L/klar-ved-grillen-her-er-sommerens-laekreste-poelsemenu/9686003. Skipping to the next link.\n"
     ]
    },
    {
     "name": "stderr",
     "output_type": "stream",
     "text": [
      " 77%|███████▋  | 276/360 [05:30<01:44,  1.25s/it]"
     ]
    },
    {
     "name": "stdout",
     "output_type": "stream",
     "text": [
      "Error requesting link: https://ekstrabladet.dkhttp://ekstrabladet.dk/services/spoergsmaal-og-svar-til-dit-medielogin-paa-ekstrabladetdk/4502895. Skipping to the next link.\n"
     ]
    },
    {
     "name": "stderr",
     "output_type": "stream",
     "text": [
      " 91%|█████████ | 326/360 [06:28<00:40,  1.19s/it]"
     ]
    },
    {
     "name": "stdout",
     "output_type": "stream",
     "text": [
      "Error requesting link: https://ekstrabladet.dkhttps://nordjyske.dk/nyheder/nordjylland/to-chefer-brugte-93-000-kroner-paa-faa-dage-aalborg-universitet-betalte/4463651. Skipping to the next link.\n"
     ]
    },
    {
     "name": "stderr",
     "output_type": "stream",
     "text": [
      " 95%|█████████▍| 341/360 [06:45<00:23,  1.22s/it]"
     ]
    },
    {
     "name": "stdout",
     "output_type": "stream",
     "text": [
      "Error requesting link: https://ekstrabladet.dkhttps://www.lequipe.fr/Football/Actualites/Transferts-neymar-d-accord-avec-al-hilal/1413412. Skipping to the next link.\n"
     ]
    },
    {
     "name": "stderr",
     "output_type": "stream",
     "text": [
      "100%|██████████| 360/360 [07:07<00:00,  1.19s/it]\n"
     ]
    },
    {
     "name": "stdout",
     "output_type": "stream",
     "text": [
      "Round 11 completed. Saved to links_round11.csv\n"
     ]
    },
    {
     "name": "stderr",
     "output_type": "stream",
     "text": [
      "  0%|          | 1/357 [00:01<07:06,  1.20s/it]"
     ]
    },
    {
     "name": "stdout",
     "output_type": "stream",
     "text": [
      "Error requesting link: https://ekstrabladet.dkhttps://www.herognu.dk/kendte/astrid-olsen-det-faldt-jeg-for-ved-boris/1065773. Skipping to the next link.\n"
     ]
    },
    {
     "name": "stderr",
     "output_type": "stream",
     "text": [
      "  3%|▎         | 10/357 [00:15<10:30,  1.82s/it]"
     ]
    },
    {
     "name": "stdout",
     "output_type": "stream",
     "text": [
      "Error requesting link: https://ekstrabladet.dk/incoming/ingen-kommentarer-regeringens-kovending-og-galimatias-v-maalsaetning/8585060. Skipping to the next link.\n"
     ]
    },
    {
     "name": "stderr",
     "output_type": "stream",
     "text": [
      " 26%|██▌       | 93/357 [01:51<05:25,  1.23s/it]"
     ]
    },
    {
     "name": "stdout",
     "output_type": "stream",
     "text": [
      "Error requesting link: https://ekstrabladet.dkhttps://www.herognu.dk/kendte/kevin-larsen-smaskforelsket-tilbage-hos-eksen/1059498. Skipping to the next link.\n"
     ]
    },
    {
     "name": "stderr",
     "output_type": "stream",
     "text": [
      " 36%|███▌      | 127/357 [02:31<04:41,  1.22s/it]"
     ]
    },
    {
     "name": "stdout",
     "output_type": "stream",
     "text": [
      "Error requesting link: https://ekstrabladet.dkhttps://nordjyske.dk/nyheder/nordjylland/to-chefer-paa-aalborg-university-business-school-sendt-hjem/4433387. Skipping to the next link.\n"
     ]
    },
    {
     "name": "stderr",
     "output_type": "stream",
     "text": [
      " 48%|████▊     | 171/357 [03:23<03:50,  1.24s/it]"
     ]
    },
    {
     "name": "stdout",
     "output_type": "stream",
     "text": [
      "Error requesting link: https://ekstrabladet.dkhttps://nordjyske.dk/nyheder/nordjylland/omstridte-chefer-paa-aalborg-universitet-faerdige/4515034. Skipping to the next link.\n"
     ]
    },
    {
     "name": "stderr",
     "output_type": "stream",
     "text": [
      " 51%|█████▏    | 183/357 [03:36<03:25,  1.18s/it]"
     ]
    },
    {
     "name": "stdout",
     "output_type": "stream",
     "text": [
      "Error requesting link: https://ekstrabladet.dkhttps://ebcontent.ekstrabladet.dk/G_L/klar-ved-grillen-her-er-sommerens-laekreste-poelsemenu/9686003. Skipping to the next link.\n"
     ]
    },
    {
     "name": "stderr",
     "output_type": "stream",
     "text": [
      " 77%|███████▋  | 274/357 [05:28<02:56,  2.12s/it]"
     ]
    },
    {
     "name": "stdout",
     "output_type": "stream",
     "text": [
      "Error requesting link: https://ekstrabladet.dkhttp://ekstrabladet.dk/services/spoergsmaal-og-svar-til-dit-medielogin-paa-ekstrabladetdk/4502895. Skipping to the next link.\n"
     ]
    },
    {
     "name": "stderr",
     "output_type": "stream",
     "text": [
      " 90%|█████████ | 323/357 [06:26<00:40,  1.19s/it]"
     ]
    },
    {
     "name": "stdout",
     "output_type": "stream",
     "text": [
      "Error requesting link: https://ekstrabladet.dkhttps://nordjyske.dk/nyheder/nordjylland/to-chefer-brugte-93-000-kroner-paa-faa-dage-aalborg-universitet-betalte/4463651. Skipping to the next link.\n"
     ]
    },
    {
     "name": "stderr",
     "output_type": "stream",
     "text": [
      " 95%|█████████▍| 338/357 [06:43<00:22,  1.18s/it]"
     ]
    },
    {
     "name": "stdout",
     "output_type": "stream",
     "text": [
      "Error requesting link: https://ekstrabladet.dkhttps://www.lequipe.fr/Football/Actualites/Transferts-neymar-d-accord-avec-al-hilal/1413412. Skipping to the next link.\n"
     ]
    },
    {
     "name": "stderr",
     "output_type": "stream",
     "text": [
      "100%|██████████| 357/357 [07:05<00:00,  1.19s/it]\n"
     ]
    },
    {
     "name": "stdout",
     "output_type": "stream",
     "text": [
      "Round 12 completed. Saved to links_round12.csv\n"
     ]
    },
    {
     "name": "stderr",
     "output_type": "stream",
     "text": [
      "  0%|          | 1/355 [00:01<07:04,  1.20s/it]"
     ]
    },
    {
     "name": "stdout",
     "output_type": "stream",
     "text": [
      "Error requesting link: https://ekstrabladet.dkhttps://www.herognu.dk/kendte/astrid-olsen-det-faldt-jeg-for-ved-boris/1065773. Skipping to the next link.\n"
     ]
    },
    {
     "name": "stderr",
     "output_type": "stream",
     "text": [
      "  3%|▎         | 10/355 [00:11<06:53,  1.20s/it]"
     ]
    },
    {
     "name": "stdout",
     "output_type": "stream",
     "text": [
      "Error requesting link: https://ekstrabladet.dk/incoming/ingen-kommentarer-regeringens-kovending-og-galimatias-v-maalsaetning/8585060. Skipping to the next link.\n"
     ]
    },
    {
     "name": "stderr",
     "output_type": "stream",
     "text": [
      " 26%|██▌       | 92/355 [01:50<05:39,  1.29s/it]"
     ]
    },
    {
     "name": "stdout",
     "output_type": "stream",
     "text": [
      "Error requesting link: https://ekstrabladet.dkhttps://www.herognu.dk/kendte/kevin-larsen-smaskforelsket-tilbage-hos-eksen/1059498. Skipping to the next link.\n"
     ]
    },
    {
     "name": "stderr",
     "output_type": "stream",
     "text": [
      " 35%|███▌      | 126/355 [02:31<04:42,  1.23s/it]"
     ]
    },
    {
     "name": "stdout",
     "output_type": "stream",
     "text": [
      "Error requesting link: https://ekstrabladet.dkhttps://nordjyske.dk/nyheder/nordjylland/to-chefer-paa-aalborg-university-business-school-sendt-hjem/4433387. Skipping to the next link.\n"
     ]
    },
    {
     "name": "stderr",
     "output_type": "stream",
     "text": [
      " 48%|████▊     | 169/355 [03:22<03:40,  1.18s/it]"
     ]
    },
    {
     "name": "stdout",
     "output_type": "stream",
     "text": [
      "Error requesting link: https://ekstrabladet.dkhttps://nordjyske.dk/nyheder/nordjylland/omstridte-chefer-paa-aalborg-universitet-faerdige/4515034. Skipping to the next link.\n"
     ]
    },
    {
     "name": "stderr",
     "output_type": "stream",
     "text": [
      " 51%|█████     | 181/355 [03:40<06:19,  2.18s/it]"
     ]
    },
    {
     "name": "stdout",
     "output_type": "stream",
     "text": [
      "Error requesting link: https://ekstrabladet.dkhttps://ebcontent.ekstrabladet.dk/G_L/klar-ved-grillen-her-er-sommerens-laekreste-poelsemenu/9686003. Skipping to the next link.\n"
     ]
    },
    {
     "name": "stderr",
     "output_type": "stream",
     "text": [
      " 77%|███████▋  | 273/355 [05:33<01:41,  1.24s/it]"
     ]
    },
    {
     "name": "stdout",
     "output_type": "stream",
     "text": [
      "Error requesting link: https://ekstrabladet.dkhttp://ekstrabladet.dk/services/spoergsmaal-og-svar-til-dit-medielogin-paa-ekstrabladetdk/4502895. Skipping to the next link.\n"
     ]
    },
    {
     "name": "stderr",
     "output_type": "stream",
     "text": [
      " 90%|█████████ | 321/355 [06:30<00:42,  1.26s/it]"
     ]
    },
    {
     "name": "stdout",
     "output_type": "stream",
     "text": [
      "Error requesting link: https://ekstrabladet.dkhttps://nordjyske.dk/nyheder/nordjylland/to-chefer-brugte-93-000-kroner-paa-faa-dage-aalborg-universitet-betalte/4463651. Skipping to the next link.\n"
     ]
    },
    {
     "name": "stderr",
     "output_type": "stream",
     "text": [
      " 95%|█████████▍| 336/355 [06:48<00:22,  1.20s/it]"
     ]
    },
    {
     "name": "stdout",
     "output_type": "stream",
     "text": [
      "Error requesting link: https://ekstrabladet.dkhttps://www.lequipe.fr/Football/Actualites/Transferts-neymar-d-accord-avec-al-hilal/1413412. Skipping to the next link.\n"
     ]
    },
    {
     "name": "stderr",
     "output_type": "stream",
     "text": [
      "100%|██████████| 355/355 [07:10<00:00,  1.21s/it]\n"
     ]
    },
    {
     "name": "stdout",
     "output_type": "stream",
     "text": [
      "Round 13 completed. Saved to links_round13.csv\n"
     ]
    },
    {
     "name": "stderr",
     "output_type": "stream",
     "text": [
      "  0%|          | 1/352 [00:01<06:55,  1.18s/it]"
     ]
    },
    {
     "name": "stdout",
     "output_type": "stream",
     "text": [
      "Error requesting link: https://ekstrabladet.dkhttps://www.herognu.dk/kendte/astrid-olsen-det-faldt-jeg-for-ved-boris/1065773. Skipping to the next link.\n"
     ]
    },
    {
     "name": "stderr",
     "output_type": "stream",
     "text": [
      "  3%|▎         | 10/352 [00:10<06:33,  1.15s/it]"
     ]
    },
    {
     "name": "stdout",
     "output_type": "stream",
     "text": [
      "Error requesting link: https://ekstrabladet.dk/incoming/ingen-kommentarer-regeringens-kovending-og-galimatias-v-maalsaetning/8585060. Skipping to the next link.\n"
     ]
    },
    {
     "name": "stderr",
     "output_type": "stream",
     "text": [
      " 26%|██▌       | 90/352 [01:51<05:51,  1.34s/it]"
     ]
    },
    {
     "name": "stdout",
     "output_type": "stream",
     "text": [
      "Error requesting link: https://ekstrabladet.dkhttps://www.herognu.dk/kendte/kevin-larsen-smaskforelsket-tilbage-hos-eksen/1059498. Skipping to the next link.\n"
     ]
    },
    {
     "name": "stderr",
     "output_type": "stream",
     "text": [
      " 35%|███▍      | 123/352 [02:29<04:34,  1.20s/it]"
     ]
    },
    {
     "name": "stdout",
     "output_type": "stream",
     "text": [
      "Error requesting link: https://ekstrabladet.dkhttps://nordjyske.dk/nyheder/nordjylland/to-chefer-paa-aalborg-university-business-school-sendt-hjem/4433387. Skipping to the next link.\n"
     ]
    },
    {
     "name": "stderr",
     "output_type": "stream",
     "text": [
      " 47%|████▋     | 166/352 [03:19<03:45,  1.21s/it]"
     ]
    },
    {
     "name": "stdout",
     "output_type": "stream",
     "text": [
      "Error requesting link: https://ekstrabladet.dkhttps://nordjyske.dk/nyheder/nordjylland/omstridte-chefer-paa-aalborg-universitet-faerdige/4515034. Skipping to the next link.\n"
     ]
    },
    {
     "name": "stderr",
     "output_type": "stream",
     "text": [
      " 51%|█████     | 178/352 [03:33<03:29,  1.20s/it]"
     ]
    },
    {
     "name": "stdout",
     "output_type": "stream",
     "text": [
      "Error requesting link: https://ekstrabladet.dkhttps://ebcontent.ekstrabladet.dk/G_L/klar-ved-grillen-her-er-sommerens-laekreste-poelsemenu/9686003. Skipping to the next link.\n"
     ]
    },
    {
     "name": "stderr",
     "output_type": "stream",
     "text": [
      " 77%|███████▋  | 270/352 [05:22<01:38,  1.20s/it]"
     ]
    },
    {
     "name": "stdout",
     "output_type": "stream",
     "text": [
      "Error requesting link: https://ekstrabladet.dkhttp://ekstrabladet.dk/services/spoergsmaal-og-svar-til-dit-medielogin-paa-ekstrabladetdk/4502895. Skipping to the next link.\n"
     ]
    },
    {
     "name": "stderr",
     "output_type": "stream",
     "text": [
      " 90%|█████████ | 318/352 [06:19<00:40,  1.18s/it]"
     ]
    },
    {
     "name": "stdout",
     "output_type": "stream",
     "text": [
      "Error requesting link: https://ekstrabladet.dkhttps://nordjyske.dk/nyheder/nordjylland/to-chefer-brugte-93-000-kroner-paa-faa-dage-aalborg-universitet-betalte/4463651. Skipping to the next link.\n"
     ]
    },
    {
     "name": "stderr",
     "output_type": "stream",
     "text": [
      " 95%|█████████▍| 333/352 [06:36<00:22,  1.18s/it]"
     ]
    },
    {
     "name": "stdout",
     "output_type": "stream",
     "text": [
      "Error requesting link: https://ekstrabladet.dkhttps://www.lequipe.fr/Football/Actualites/Transferts-neymar-d-accord-avec-al-hilal/1413412. Skipping to the next link.\n"
     ]
    },
    {
     "name": "stderr",
     "output_type": "stream",
     "text": [
      "100%|██████████| 352/352 [07:02<00:00,  1.20s/it]\n"
     ]
    },
    {
     "name": "stdout",
     "output_type": "stream",
     "text": [
      "Round 14 completed. Saved to links_round14.csv\n"
     ]
    },
    {
     "name": "stderr",
     "output_type": "stream",
     "text": [
      "  0%|          | 1/352 [00:01<06:59,  1.19s/it]"
     ]
    },
    {
     "name": "stdout",
     "output_type": "stream",
     "text": [
      "Error requesting link: https://ekstrabladet.dkhttps://www.herognu.dk/kendte/astrid-olsen-det-faldt-jeg-for-ved-boris/1065773. Skipping to the next link.\n"
     ]
    },
    {
     "name": "stderr",
     "output_type": "stream",
     "text": [
      "  3%|▎         | 10/352 [00:10<06:34,  1.15s/it]"
     ]
    },
    {
     "name": "stdout",
     "output_type": "stream",
     "text": [
      "Error requesting link: https://ekstrabladet.dk/incoming/ingen-kommentarer-regeringens-kovending-og-galimatias-v-maalsaetning/8585060. Skipping to the next link.\n"
     ]
    },
    {
     "name": "stderr",
     "output_type": "stream",
     "text": [
      " 26%|██▌       | 91/352 [01:46<05:13,  1.20s/it]"
     ]
    },
    {
     "name": "stdout",
     "output_type": "stream",
     "text": [
      "Error requesting link: https://ekstrabladet.dkhttps://www.herognu.dk/kendte/kevin-larsen-smaskforelsket-tilbage-hos-eksen/1059498. Skipping to the next link.\n"
     ]
    },
    {
     "name": "stderr",
     "output_type": "stream",
     "text": [
      " 35%|███▌      | 124/352 [02:25<04:33,  1.20s/it]"
     ]
    },
    {
     "name": "stdout",
     "output_type": "stream",
     "text": [
      "Error requesting link: https://ekstrabladet.dkhttps://nordjyske.dk/nyheder/nordjylland/to-chefer-paa-aalborg-university-business-school-sendt-hjem/4433387. Skipping to the next link.\n"
     ]
    },
    {
     "name": "stderr",
     "output_type": "stream",
     "text": [
      " 47%|████▋     | 167/352 [03:16<03:34,  1.16s/it]"
     ]
    },
    {
     "name": "stdout",
     "output_type": "stream",
     "text": [
      "Error requesting link: https://ekstrabladet.dkhttps://nordjyske.dk/nyheder/nordjylland/omstridte-chefer-paa-aalborg-universitet-faerdige/4515034. Skipping to the next link.\n"
     ]
    },
    {
     "name": "stderr",
     "output_type": "stream",
     "text": [
      " 51%|█████     | 179/352 [03:29<03:24,  1.18s/it]"
     ]
    },
    {
     "name": "stdout",
     "output_type": "stream",
     "text": [
      "Error requesting link: https://ekstrabladet.dkhttps://ebcontent.ekstrabladet.dk/G_L/klar-ved-grillen-her-er-sommerens-laekreste-poelsemenu/9686003. Skipping to the next link.\n"
     ]
    },
    {
     "name": "stderr",
     "output_type": "stream",
     "text": [
      " 77%|███████▋  | 270/352 [05:22<01:38,  1.21s/it]"
     ]
    },
    {
     "name": "stdout",
     "output_type": "stream",
     "text": [
      "Error requesting link: https://ekstrabladet.dkhttp://ekstrabladet.dk/services/spoergsmaal-og-svar-til-dit-medielogin-paa-ekstrabladetdk/4502895. Skipping to the next link.\n"
     ]
    },
    {
     "name": "stderr",
     "output_type": "stream",
     "text": [
      " 90%|█████████ | 317/352 [06:18<00:45,  1.31s/it]"
     ]
    },
    {
     "name": "stdout",
     "output_type": "stream",
     "text": [
      "Error requesting link: https://ekstrabladet.dkhttps://nordjyske.dk/nyheder/nordjylland/to-chefer-brugte-93-000-kroner-paa-faa-dage-aalborg-universitet-betalte/4463651. Skipping to the next link.\n"
     ]
    },
    {
     "name": "stderr",
     "output_type": "stream",
     "text": [
      " 94%|█████████▍| 332/352 [06:35<00:23,  1.20s/it]"
     ]
    },
    {
     "name": "stdout",
     "output_type": "stream",
     "text": [
      "Error requesting link: https://ekstrabladet.dkhttps://www.lequipe.fr/Football/Actualites/Transferts-neymar-d-accord-avec-al-hilal/1413412. Skipping to the next link.\n"
     ]
    },
    {
     "name": "stderr",
     "output_type": "stream",
     "text": [
      "100%|██████████| 352/352 [06:57<00:00,  1.19s/it]\n"
     ]
    },
    {
     "name": "stdout",
     "output_type": "stream",
     "text": [
      "Round 15 completed. Saved to links_round15.csv\n"
     ]
    },
    {
     "name": "stderr",
     "output_type": "stream",
     "text": [
      "  0%|          | 1/353 [00:01<06:52,  1.17s/it]"
     ]
    },
    {
     "name": "stdout",
     "output_type": "stream",
     "text": [
      "Error requesting link: https://ekstrabladet.dkhttps://www.herognu.dk/kendte/astrid-olsen-det-faldt-jeg-for-ved-boris/1065773. Skipping to the next link.\n"
     ]
    },
    {
     "name": "stderr",
     "output_type": "stream",
     "text": [
      "  3%|▎         | 10/353 [00:10<06:35,  1.15s/it]"
     ]
    },
    {
     "name": "stdout",
     "output_type": "stream",
     "text": [
      "Error requesting link: https://ekstrabladet.dk/incoming/ingen-kommentarer-regeringens-kovending-og-galimatias-v-maalsaetning/8585060. Skipping to the next link.\n"
     ]
    },
    {
     "name": "stderr",
     "output_type": "stream",
     "text": [
      " 26%|██▌       | 91/353 [01:47<05:15,  1.20s/it]"
     ]
    },
    {
     "name": "stdout",
     "output_type": "stream",
     "text": [
      "Error requesting link: https://ekstrabladet.dkhttps://www.herognu.dk/kendte/kevin-larsen-smaskforelsket-tilbage-hos-eksen/1059498. Skipping to the next link.\n"
     ]
    },
    {
     "name": "stderr",
     "output_type": "stream",
     "text": [
      " 35%|███▌      | 124/353 [02:25<04:31,  1.19s/it]"
     ]
    },
    {
     "name": "stdout",
     "output_type": "stream",
     "text": [
      "Error requesting link: https://ekstrabladet.dkhttps://nordjyske.dk/nyheder/nordjylland/to-chefer-paa-aalborg-university-business-school-sendt-hjem/4433387. Skipping to the next link.\n"
     ]
    },
    {
     "name": "stderr",
     "output_type": "stream",
     "text": [
      " 47%|████▋     | 167/353 [03:21<04:01,  1.30s/it]"
     ]
    },
    {
     "name": "stdout",
     "output_type": "stream",
     "text": [
      "Error requesting link: https://ekstrabladet.dkhttps://nordjyske.dk/nyheder/nordjylland/omstridte-chefer-paa-aalborg-universitet-faerdige/4515034. Skipping to the next link.\n"
     ]
    },
    {
     "name": "stderr",
     "output_type": "stream",
     "text": [
      " 51%|█████     | 179/353 [03:34<03:28,  1.20s/it]"
     ]
    },
    {
     "name": "stdout",
     "output_type": "stream",
     "text": [
      "Error requesting link: https://ekstrabladet.dkhttps://ebcontent.ekstrabladet.dk/G_L/klar-ved-grillen-her-er-sommerens-laekreste-poelsemenu/9686003. Skipping to the next link.\n"
     ]
    },
    {
     "name": "stderr",
     "output_type": "stream",
     "text": [
      " 76%|███████▋  | 270/353 [05:23<01:40,  1.21s/it]"
     ]
    },
    {
     "name": "stdout",
     "output_type": "stream",
     "text": [
      "Error requesting link: https://ekstrabladet.dkhttp://ekstrabladet.dk/services/spoergsmaal-og-svar-til-dit-medielogin-paa-ekstrabladetdk/4502895. Skipping to the next link.\n"
     ]
    },
    {
     "name": "stderr",
     "output_type": "stream",
     "text": [
      " 90%|████████▉ | 317/353 [06:18<00:42,  1.19s/it]"
     ]
    },
    {
     "name": "stdout",
     "output_type": "stream",
     "text": [
      "Error requesting link: https://ekstrabladet.dkhttps://nordjyske.dk/nyheder/nordjylland/to-chefer-brugte-93-000-kroner-paa-faa-dage-aalborg-universitet-betalte/4463651. Skipping to the next link.\n"
     ]
    },
    {
     "name": "stderr",
     "output_type": "stream",
     "text": [
      " 94%|█████████▍| 332/353 [06:35<00:25,  1.21s/it]"
     ]
    },
    {
     "name": "stdout",
     "output_type": "stream",
     "text": [
      "Error requesting link: https://ekstrabladet.dkhttps://www.lequipe.fr/Football/Actualites/Transferts-neymar-d-accord-avec-al-hilal/1413412. Skipping to the next link.\n"
     ]
    },
    {
     "name": "stderr",
     "output_type": "stream",
     "text": [
      "100%|██████████| 353/353 [06:59<00:00,  1.19s/it]\n"
     ]
    },
    {
     "name": "stdout",
     "output_type": "stream",
     "text": [
      "Round 16 completed. Saved to links_round16.csv\n"
     ]
    },
    {
     "name": "stderr",
     "output_type": "stream",
     "text": [
      "  0%|          | 1/355 [00:01<06:51,  1.16s/it]"
     ]
    },
    {
     "name": "stdout",
     "output_type": "stream",
     "text": [
      "Error requesting link: https://ekstrabladet.dkhttps://www.herognu.dk/kendte/astrid-olsen-det-faldt-jeg-for-ved-boris/1065773. Skipping to the next link.\n"
     ]
    },
    {
     "name": "stderr",
     "output_type": "stream",
     "text": [
      "  3%|▎         | 10/355 [00:10<06:45,  1.18s/it]"
     ]
    },
    {
     "name": "stdout",
     "output_type": "stream",
     "text": [
      "Error requesting link: https://ekstrabladet.dk/incoming/ingen-kommentarer-regeringens-kovending-og-galimatias-v-maalsaetning/8585060. Skipping to the next link.\n"
     ]
    },
    {
     "name": "stderr",
     "output_type": "stream",
     "text": [
      " 26%|██▌       | 91/355 [01:52<05:14,  1.19s/it]"
     ]
    },
    {
     "name": "stdout",
     "output_type": "stream",
     "text": [
      "Error requesting link: https://ekstrabladet.dkhttps://www.herognu.dk/kendte/kevin-larsen-smaskforelsket-tilbage-hos-eksen/1059498. Skipping to the next link.\n"
     ]
    },
    {
     "name": "stderr",
     "output_type": "stream",
     "text": [
      " 35%|███▍      | 124/355 [02:30<04:37,  1.20s/it]"
     ]
    },
    {
     "name": "stdout",
     "output_type": "stream",
     "text": [
      "Error requesting link: https://ekstrabladet.dkhttps://nordjyske.dk/nyheder/nordjylland/to-chefer-paa-aalborg-university-business-school-sendt-hjem/4433387. Skipping to the next link.\n"
     ]
    },
    {
     "name": "stderr",
     "output_type": "stream",
     "text": [
      " 47%|████▋     | 167/355 [03:20<03:42,  1.18s/it]"
     ]
    },
    {
     "name": "stdout",
     "output_type": "stream",
     "text": [
      "Error requesting link: https://ekstrabladet.dkhttps://nordjyske.dk/nyheder/nordjylland/omstridte-chefer-paa-aalborg-universitet-faerdige/4515034. Skipping to the next link.\n"
     ]
    },
    {
     "name": "stderr",
     "output_type": "stream",
     "text": [
      " 50%|█████     | 179/355 [03:33<03:29,  1.19s/it]"
     ]
    },
    {
     "name": "stdout",
     "output_type": "stream",
     "text": [
      "Error requesting link: https://ekstrabladet.dkhttps://ebcontent.ekstrabladet.dk/G_L/klar-ved-grillen-her-er-sommerens-laekreste-poelsemenu/9686003. Skipping to the next link.\n"
     ]
    },
    {
     "name": "stderr",
     "output_type": "stream",
     "text": [
      " 76%|███████▋  | 271/355 [05:22<01:40,  1.19s/it]"
     ]
    },
    {
     "name": "stdout",
     "output_type": "stream",
     "text": [
      "Error requesting link: https://ekstrabladet.dkhttp://ekstrabladet.dk/services/spoergsmaal-og-svar-til-dit-medielogin-paa-ekstrabladetdk/4502895. Skipping to the next link.\n"
     ]
    },
    {
     "name": "stderr",
     "output_type": "stream",
     "text": [
      " 90%|████████▉ | 318/355 [06:18<00:43,  1.18s/it]"
     ]
    },
    {
     "name": "stdout",
     "output_type": "stream",
     "text": [
      "Error requesting link: https://ekstrabladet.dkhttps://nordjyske.dk/nyheder/nordjylland/to-chefer-brugte-93-000-kroner-paa-faa-dage-aalborg-universitet-betalte/4463651. Skipping to the next link.\n"
     ]
    },
    {
     "name": "stderr",
     "output_type": "stream",
     "text": [
      " 94%|█████████▍| 333/355 [06:39<00:27,  1.27s/it]"
     ]
    },
    {
     "name": "stdout",
     "output_type": "stream",
     "text": [
      "Error requesting link: https://ekstrabladet.dkhttps://www.lequipe.fr/Football/Actualites/Transferts-neymar-d-accord-avec-al-hilal/1413412. Skipping to the next link.\n"
     ]
    },
    {
     "name": "stderr",
     "output_type": "stream",
     "text": [
      "100%|██████████| 355/355 [07:04<00:00,  1.20s/it]\n"
     ]
    },
    {
     "name": "stdout",
     "output_type": "stream",
     "text": [
      "Round 17 completed. Saved to links_round17.csv\n"
     ]
    },
    {
     "name": "stderr",
     "output_type": "stream",
     "text": [
      "  0%|          | 1/356 [00:01<06:56,  1.17s/it]"
     ]
    },
    {
     "name": "stdout",
     "output_type": "stream",
     "text": [
      "Error requesting link: https://ekstrabladet.dkhttps://www.herognu.dk/kendte/astrid-olsen-det-faldt-jeg-for-ved-boris/1065773. Skipping to the next link.\n"
     ]
    },
    {
     "name": "stderr",
     "output_type": "stream",
     "text": [
      "  3%|▎         | 10/356 [00:10<06:44,  1.17s/it]"
     ]
    },
    {
     "name": "stdout",
     "output_type": "stream",
     "text": [
      "Error requesting link: https://ekstrabladet.dk/incoming/ingen-kommentarer-regeringens-kovending-og-galimatias-v-maalsaetning/8585060. Skipping to the next link.\n"
     ]
    },
    {
     "name": "stderr",
     "output_type": "stream",
     "text": [
      " 26%|██▌       | 91/356 [01:46<05:23,  1.22s/it]"
     ]
    },
    {
     "name": "stdout",
     "output_type": "stream",
     "text": [
      "Error requesting link: https://ekstrabladet.dkhttps://www.herognu.dk/kendte/kevin-larsen-smaskforelsket-tilbage-hos-eksen/1059498. Skipping to the next link.\n"
     ]
    },
    {
     "name": "stderr",
     "output_type": "stream",
     "text": [
      " 35%|███▍      | 124/356 [02:25<04:39,  1.20s/it]"
     ]
    },
    {
     "name": "stdout",
     "output_type": "stream",
     "text": [
      "Error requesting link: https://ekstrabladet.dkhttps://nordjyske.dk/nyheder/nordjylland/to-chefer-paa-aalborg-university-business-school-sendt-hjem/4433387. Skipping to the next link.\n"
     ]
    },
    {
     "name": "stderr",
     "output_type": "stream",
     "text": [
      " 47%|████▋     | 167/356 [03:15<03:44,  1.19s/it]"
     ]
    },
    {
     "name": "stdout",
     "output_type": "stream",
     "text": [
      "Error requesting link: https://ekstrabladet.dkhttps://nordjyske.dk/nyheder/nordjylland/omstridte-chefer-paa-aalborg-universitet-faerdige/4515034. Skipping to the next link.\n"
     ]
    },
    {
     "name": "stderr",
     "output_type": "stream",
     "text": [
      " 50%|█████     | 179/356 [03:28<03:31,  1.20s/it]"
     ]
    },
    {
     "name": "stdout",
     "output_type": "stream",
     "text": [
      "Error requesting link: https://ekstrabladet.dkhttps://ebcontent.ekstrabladet.dk/G_L/klar-ved-grillen-her-er-sommerens-laekreste-poelsemenu/9686003. Skipping to the next link.\n"
     ]
    },
    {
     "name": "stderr",
     "output_type": "stream",
     "text": [
      " 76%|███████▌  | 271/356 [05:23<01:44,  1.23s/it]"
     ]
    },
    {
     "name": "stdout",
     "output_type": "stream",
     "text": [
      "Error requesting link: https://ekstrabladet.dkhttp://ekstrabladet.dk/services/spoergsmaal-og-svar-til-dit-medielogin-paa-ekstrabladetdk/4502895. Skipping to the next link.\n"
     ]
    },
    {
     "name": "stderr",
     "output_type": "stream",
     "text": [
      " 90%|████████▉ | 319/356 [06:19<00:45,  1.22s/it]"
     ]
    },
    {
     "name": "stdout",
     "output_type": "stream",
     "text": [
      "Error requesting link: https://ekstrabladet.dkhttps://nordjyske.dk/nyheder/nordjylland/to-chefer-brugte-93-000-kroner-paa-faa-dage-aalborg-universitet-betalte/4463651. Skipping to the next link.\n"
     ]
    },
    {
     "name": "stderr",
     "output_type": "stream",
     "text": [
      " 94%|█████████▍| 334/356 [06:36<00:26,  1.22s/it]"
     ]
    },
    {
     "name": "stdout",
     "output_type": "stream",
     "text": [
      "Error requesting link: https://ekstrabladet.dkhttps://www.lequipe.fr/Football/Actualites/Transferts-neymar-d-accord-avec-al-hilal/1413412. Skipping to the next link.\n"
     ]
    },
    {
     "name": "stderr",
     "output_type": "stream",
     "text": [
      "100%|██████████| 356/356 [07:01<00:00,  1.19s/it]\n"
     ]
    },
    {
     "name": "stdout",
     "output_type": "stream",
     "text": [
      "Round 18 completed. Saved to links_round18.csv\n"
     ]
    },
    {
     "name": "stderr",
     "output_type": "stream",
     "text": [
      "  0%|          | 1/362 [00:01<07:09,  1.19s/it]"
     ]
    },
    {
     "name": "stdout",
     "output_type": "stream",
     "text": [
      "Error requesting link: https://ekstrabladet.dkhttps://www.herognu.dk/kendte/astrid-olsen-det-faldt-jeg-for-ved-boris/1065773. Skipping to the next link.\n"
     ]
    },
    {
     "name": "stderr",
     "output_type": "stream",
     "text": [
      "  3%|▎         | 10/362 [00:10<06:55,  1.18s/it]"
     ]
    },
    {
     "name": "stdout",
     "output_type": "stream",
     "text": [
      "Error requesting link: https://ekstrabladet.dk/incoming/ingen-kommentarer-regeringens-kovending-og-galimatias-v-maalsaetning/8585060. Skipping to the next link.\n"
     ]
    },
    {
     "name": "stderr",
     "output_type": "stream",
     "text": [
      " 25%|██▌       | 91/362 [01:47<05:28,  1.21s/it]"
     ]
    },
    {
     "name": "stdout",
     "output_type": "stream",
     "text": [
      "Error requesting link: https://ekstrabladet.dkhttps://www.herognu.dk/kendte/kevin-larsen-smaskforelsket-tilbage-hos-eksen/1059498. Skipping to the next link.\n"
     ]
    },
    {
     "name": "stderr",
     "output_type": "stream",
     "text": [
      " 34%|███▍      | 124/362 [02:25<04:39,  1.17s/it]"
     ]
    },
    {
     "name": "stdout",
     "output_type": "stream",
     "text": [
      "Error requesting link: https://ekstrabladet.dkhttps://nordjyske.dk/nyheder/nordjylland/to-chefer-paa-aalborg-university-business-school-sendt-hjem/4433387. Skipping to the next link.\n"
     ]
    },
    {
     "name": "stderr",
     "output_type": "stream",
     "text": [
      " 47%|████▋     | 170/362 [03:23<03:47,  1.19s/it]"
     ]
    },
    {
     "name": "stdout",
     "output_type": "stream",
     "text": [
      "Error requesting link: https://ekstrabladet.dkhttps://nordjyske.dk/nyheder/nordjylland/omstridte-chefer-paa-aalborg-universitet-faerdige/4515034. Skipping to the next link.\n"
     ]
    },
    {
     "name": "stderr",
     "output_type": "stream",
     "text": [
      " 50%|█████     | 182/362 [03:37<03:32,  1.18s/it]"
     ]
    },
    {
     "name": "stdout",
     "output_type": "stream",
     "text": [
      "Error requesting link: https://ekstrabladet.dkhttps://ebcontent.ekstrabladet.dk/G_L/klar-ved-grillen-her-er-sommerens-laekreste-poelsemenu/9686003. Skipping to the next link.\n"
     ]
    },
    {
     "name": "stderr",
     "output_type": "stream",
     "text": [
      " 75%|███████▌  | 273/362 [05:25<01:46,  1.20s/it]"
     ]
    },
    {
     "name": "stdout",
     "output_type": "stream",
     "text": [
      "Error requesting link: https://ekstrabladet.dkhttp://ekstrabladet.dk/services/spoergsmaal-og-svar-til-dit-medielogin-paa-ekstrabladetdk/4502895. Skipping to the next link.\n"
     ]
    },
    {
     "name": "stderr",
     "output_type": "stream",
     "text": [
      " 90%|████████▉ | 325/362 [06:26<00:43,  1.19s/it]"
     ]
    },
    {
     "name": "stdout",
     "output_type": "stream",
     "text": [
      "Error requesting link: https://ekstrabladet.dkhttps://nordjyske.dk/nyheder/nordjylland/to-chefer-brugte-93-000-kroner-paa-faa-dage-aalborg-universitet-betalte/4463651. Skipping to the next link.\n"
     ]
    },
    {
     "name": "stderr",
     "output_type": "stream",
     "text": [
      " 94%|█████████▍| 340/362 [06:43<00:26,  1.20s/it]"
     ]
    },
    {
     "name": "stdout",
     "output_type": "stream",
     "text": [
      "Error requesting link: https://ekstrabladet.dkhttps://www.lequipe.fr/Football/Actualites/Transferts-neymar-d-accord-avec-al-hilal/1413412. Skipping to the next link.\n"
     ]
    },
    {
     "name": "stderr",
     "output_type": "stream",
     "text": [
      "100%|██████████| 362/362 [07:08<00:00,  1.18s/it]\n"
     ]
    },
    {
     "name": "stdout",
     "output_type": "stream",
     "text": [
      "Round 19 completed. Saved to links_round19.csv\n"
     ]
    },
    {
     "name": "stderr",
     "output_type": "stream",
     "text": [
      "  0%|          | 1/364 [00:01<07:22,  1.22s/it]"
     ]
    },
    {
     "name": "stdout",
     "output_type": "stream",
     "text": [
      "Error requesting link: https://ekstrabladet.dkhttps://www.herognu.dk/kendte/astrid-olsen-det-faldt-jeg-for-ved-boris/1065773. Skipping to the next link.\n"
     ]
    },
    {
     "name": "stderr",
     "output_type": "stream",
     "text": [
      "  3%|▎         | 10/364 [00:10<06:53,  1.17s/it]"
     ]
    },
    {
     "name": "stdout",
     "output_type": "stream",
     "text": [
      "Error requesting link: https://ekstrabladet.dk/incoming/ingen-kommentarer-regeringens-kovending-og-galimatias-v-maalsaetning/8585060. Skipping to the next link.\n"
     ]
    },
    {
     "name": "stderr",
     "output_type": "stream",
     "text": [
      " 25%|██▌       | 91/364 [01:51<05:32,  1.22s/it]"
     ]
    },
    {
     "name": "stdout",
     "output_type": "stream",
     "text": [
      "Error requesting link: https://ekstrabladet.dkhttps://www.herognu.dk/kendte/kevin-larsen-smaskforelsket-tilbage-hos-eksen/1059498. Skipping to the next link.\n"
     ]
    },
    {
     "name": "stderr",
     "output_type": "stream",
     "text": [
      " 34%|███▍      | 124/364 [02:29<04:47,  1.20s/it]"
     ]
    },
    {
     "name": "stdout",
     "output_type": "stream",
     "text": [
      "Error requesting link: https://ekstrabladet.dkhttps://nordjyske.dk/nyheder/nordjylland/to-chefer-paa-aalborg-university-business-school-sendt-hjem/4433387. Skipping to the next link.\n"
     ]
    },
    {
     "name": "stderr",
     "output_type": "stream",
     "text": [
      " 47%|████▋     | 172/364 [03:25<03:46,  1.18s/it]"
     ]
    },
    {
     "name": "stdout",
     "output_type": "stream",
     "text": [
      "Error requesting link: https://ekstrabladet.dkhttps://nordjyske.dk/nyheder/nordjylland/omstridte-chefer-paa-aalborg-universitet-faerdige/4515034. Skipping to the next link.\n"
     ]
    },
    {
     "name": "stderr",
     "output_type": "stream",
     "text": [
      " 51%|█████     | 184/364 [03:38<03:35,  1.20s/it]"
     ]
    },
    {
     "name": "stdout",
     "output_type": "stream",
     "text": [
      "Error requesting link: https://ekstrabladet.dkhttps://ebcontent.ekstrabladet.dk/G_L/klar-ved-grillen-her-er-sommerens-laekreste-poelsemenu/9686003. Skipping to the next link.\n"
     ]
    },
    {
     "name": "stderr",
     "output_type": "stream",
     "text": [
      " 76%|███████▌  | 275/364 [05:26<01:46,  1.19s/it]"
     ]
    },
    {
     "name": "stdout",
     "output_type": "stream",
     "text": [
      "Error requesting link: https://ekstrabladet.dkhttp://ekstrabladet.dk/services/spoergsmaal-og-svar-til-dit-medielogin-paa-ekstrabladetdk/4502895. Skipping to the next link.\n"
     ]
    },
    {
     "name": "stderr",
     "output_type": "stream",
     "text": [
      " 90%|████████▉ | 327/364 [06:32<00:44,  1.21s/it]"
     ]
    },
    {
     "name": "stdout",
     "output_type": "stream",
     "text": [
      "Error requesting link: https://ekstrabladet.dkhttps://nordjyske.dk/nyheder/nordjylland/to-chefer-brugte-93-000-kroner-paa-faa-dage-aalborg-universitet-betalte/4463651. Skipping to the next link.\n"
     ]
    },
    {
     "name": "stderr",
     "output_type": "stream",
     "text": [
      " 94%|█████████▍| 342/364 [06:48<00:26,  1.19s/it]"
     ]
    },
    {
     "name": "stdout",
     "output_type": "stream",
     "text": [
      "Error requesting link: https://ekstrabladet.dkhttps://www.lequipe.fr/Football/Actualites/Transferts-neymar-d-accord-avec-al-hilal/1413412. Skipping to the next link.\n"
     ]
    },
    {
     "name": "stderr",
     "output_type": "stream",
     "text": [
      "100%|██████████| 364/364 [07:14<00:00,  1.19s/it]\n"
     ]
    },
    {
     "name": "stdout",
     "output_type": "stream",
     "text": [
      "Round 20 completed. Saved to links_round20.csv\n"
     ]
    },
    {
     "name": "stderr",
     "output_type": "stream",
     "text": [
      "  0%|          | 1/363 [00:01<07:10,  1.19s/it]"
     ]
    },
    {
     "name": "stdout",
     "output_type": "stream",
     "text": [
      "Error requesting link: https://ekstrabladet.dkhttps://www.herognu.dk/kendte/astrid-olsen-det-faldt-jeg-for-ved-boris/1065773. Skipping to the next link.\n"
     ]
    },
    {
     "name": "stderr",
     "output_type": "stream",
     "text": [
      "  3%|▎         | 10/363 [00:10<06:46,  1.15s/it]"
     ]
    },
    {
     "name": "stdout",
     "output_type": "stream",
     "text": [
      "Error requesting link: https://ekstrabladet.dk/incoming/ingen-kommentarer-regeringens-kovending-og-galimatias-v-maalsaetning/8585060. Skipping to the next link.\n"
     ]
    },
    {
     "name": "stderr",
     "output_type": "stream",
     "text": [
      " 25%|██▌       | 91/363 [01:46<05:23,  1.19s/it]"
     ]
    },
    {
     "name": "stdout",
     "output_type": "stream",
     "text": [
      "Error requesting link: https://ekstrabladet.dkhttps://www.herognu.dk/kendte/kevin-larsen-smaskforelsket-tilbage-hos-eksen/1059498. Skipping to the next link.\n"
     ]
    },
    {
     "name": "stderr",
     "output_type": "stream",
     "text": [
      " 34%|███▍      | 124/363 [02:24<04:46,  1.20s/it]"
     ]
    },
    {
     "name": "stdout",
     "output_type": "stream",
     "text": [
      "Error requesting link: https://ekstrabladet.dkhttps://nordjyske.dk/nyheder/nordjylland/to-chefer-paa-aalborg-university-business-school-sendt-hjem/4433387. Skipping to the next link.\n"
     ]
    },
    {
     "name": "stderr",
     "output_type": "stream",
     "text": [
      " 47%|████▋     | 172/363 [03:21<03:45,  1.18s/it]"
     ]
    },
    {
     "name": "stdout",
     "output_type": "stream",
     "text": [
      "Error requesting link: https://ekstrabladet.dkhttps://nordjyske.dk/nyheder/nordjylland/omstridte-chefer-paa-aalborg-universitet-faerdige/4515034. Skipping to the next link.\n"
     ]
    },
    {
     "name": "stderr",
     "output_type": "stream",
     "text": [
      " 51%|█████     | 184/363 [03:39<06:24,  2.15s/it]"
     ]
    },
    {
     "name": "stdout",
     "output_type": "stream",
     "text": [
      "Error requesting link: https://ekstrabladet.dkhttps://ebcontent.ekstrabladet.dk/G_L/klar-ved-grillen-her-er-sommerens-laekreste-poelsemenu/9686003. Skipping to the next link.\n"
     ]
    },
    {
     "name": "stderr",
     "output_type": "stream",
     "text": [
      " 76%|███████▌  | 275/363 [05:26<01:46,  1.21s/it]"
     ]
    },
    {
     "name": "stdout",
     "output_type": "stream",
     "text": [
      "Error requesting link: https://ekstrabladet.dkhttp://ekstrabladet.dk/services/spoergsmaal-og-svar-til-dit-medielogin-paa-ekstrabladetdk/4502895. Skipping to the next link.\n"
     ]
    },
    {
     "name": "stderr",
     "output_type": "stream",
     "text": [
      " 90%|█████████ | 327/363 [06:27<00:42,  1.19s/it]"
     ]
    },
    {
     "name": "stdout",
     "output_type": "stream",
     "text": [
      "Error requesting link: https://ekstrabladet.dkhttps://nordjyske.dk/nyheder/nordjylland/to-chefer-brugte-93-000-kroner-paa-faa-dage-aalborg-universitet-betalte/4463651. Skipping to the next link.\n"
     ]
    },
    {
     "name": "stderr",
     "output_type": "stream",
     "text": [
      " 94%|█████████▍| 342/363 [06:44<00:24,  1.18s/it]"
     ]
    },
    {
     "name": "stdout",
     "output_type": "stream",
     "text": [
      "Error requesting link: https://ekstrabladet.dkhttps://www.lequipe.fr/Football/Actualites/Transferts-neymar-d-accord-avec-al-hilal/1413412. Skipping to the next link.\n"
     ]
    },
    {
     "name": "stderr",
     "output_type": "stream",
     "text": [
      "100%|██████████| 363/363 [07:08<00:00,  1.18s/it]\n"
     ]
    },
    {
     "name": "stdout",
     "output_type": "stream",
     "text": [
      "Round 21 completed. Saved to links_round21.csv\n"
     ]
    },
    {
     "name": "stderr",
     "output_type": "stream",
     "text": [
      "  0%|          | 1/364 [00:01<06:59,  1.16s/it]"
     ]
    },
    {
     "name": "stdout",
     "output_type": "stream",
     "text": [
      "Error requesting link: https://ekstrabladet.dkhttps://www.herognu.dk/kendte/astrid-olsen-det-faldt-jeg-for-ved-boris/1065773. Skipping to the next link.\n"
     ]
    },
    {
     "name": "stderr",
     "output_type": "stream",
     "text": [
      "  3%|▎         | 10/364 [00:10<06:54,  1.17s/it]"
     ]
    },
    {
     "name": "stdout",
     "output_type": "stream",
     "text": [
      "Error requesting link: https://ekstrabladet.dk/incoming/ingen-kommentarer-regeringens-kovending-og-galimatias-v-maalsaetning/8585060. Skipping to the next link.\n"
     ]
    },
    {
     "name": "stderr",
     "output_type": "stream",
     "text": [
      " 25%|██▌       | 91/364 [01:51<05:35,  1.23s/it]"
     ]
    },
    {
     "name": "stdout",
     "output_type": "stream",
     "text": [
      "Error requesting link: https://ekstrabladet.dkhttps://www.herognu.dk/kendte/kevin-larsen-smaskforelsket-tilbage-hos-eksen/1059498. Skipping to the next link.\n"
     ]
    },
    {
     "name": "stderr",
     "output_type": "stream",
     "text": [
      " 34%|███▍      | 124/364 [02:30<04:45,  1.19s/it]"
     ]
    },
    {
     "name": "stdout",
     "output_type": "stream",
     "text": [
      "Error requesting link: https://ekstrabladet.dkhttps://nordjyske.dk/nyheder/nordjylland/to-chefer-paa-aalborg-university-business-school-sendt-hjem/4433387. Skipping to the next link.\n"
     ]
    },
    {
     "name": "stderr",
     "output_type": "stream",
     "text": [
      " 48%|████▊     | 173/364 [03:28<03:48,  1.19s/it]"
     ]
    },
    {
     "name": "stdout",
     "output_type": "stream",
     "text": [
      "Error requesting link: https://ekstrabladet.dkhttps://nordjyske.dk/nyheder/nordjylland/omstridte-chefer-paa-aalborg-universitet-faerdige/4515034. Skipping to the next link.\n"
     ]
    },
    {
     "name": "stderr",
     "output_type": "stream",
     "text": [
      " 51%|█████     | 185/364 [03:41<03:29,  1.17s/it]"
     ]
    },
    {
     "name": "stdout",
     "output_type": "stream",
     "text": [
      "Error requesting link: https://ekstrabladet.dkhttps://ebcontent.ekstrabladet.dk/G_L/klar-ved-grillen-her-er-sommerens-laekreste-poelsemenu/9686003. Skipping to the next link.\n"
     ]
    },
    {
     "name": "stderr",
     "output_type": "stream",
     "text": [
      " 76%|███████▌  | 276/364 [05:30<01:44,  1.19s/it]"
     ]
    },
    {
     "name": "stdout",
     "output_type": "stream",
     "text": [
      "Error requesting link: https://ekstrabladet.dkhttp://ekstrabladet.dk/services/spoergsmaal-og-svar-til-dit-medielogin-paa-ekstrabladetdk/4502895. Skipping to the next link.\n"
     ]
    },
    {
     "name": "stderr",
     "output_type": "stream",
     "text": [
      " 90%|█████████ | 328/364 [06:31<00:43,  1.20s/it]"
     ]
    },
    {
     "name": "stdout",
     "output_type": "stream",
     "text": [
      "Error requesting link: https://ekstrabladet.dkhttps://nordjyske.dk/nyheder/nordjylland/to-chefer-brugte-93-000-kroner-paa-faa-dage-aalborg-universitet-betalte/4463651. Skipping to the next link.\n"
     ]
    },
    {
     "name": "stderr",
     "output_type": "stream",
     "text": [
      " 94%|█████████▍| 343/364 [06:52<00:26,  1.26s/it]"
     ]
    },
    {
     "name": "stdout",
     "output_type": "stream",
     "text": [
      "Error requesting link: https://ekstrabladet.dkhttps://www.lequipe.fr/Football/Actualites/Transferts-neymar-d-accord-avec-al-hilal/1413412. Skipping to the next link.\n"
     ]
    },
    {
     "name": "stderr",
     "output_type": "stream",
     "text": [
      "100%|██████████| 364/364 [07:16<00:00,  1.20s/it]\n"
     ]
    },
    {
     "name": "stdout",
     "output_type": "stream",
     "text": [
      "Round 22 completed. Saved to links_round22.csv\n"
     ]
    },
    {
     "name": "stderr",
     "output_type": "stream",
     "text": [
      "  0%|          | 1/364 [00:01<07:02,  1.16s/it]"
     ]
    },
    {
     "name": "stdout",
     "output_type": "stream",
     "text": [
      "Error requesting link: https://ekstrabladet.dkhttps://www.herognu.dk/kendte/astrid-olsen-det-faldt-jeg-for-ved-boris/1065773. Skipping to the next link.\n"
     ]
    },
    {
     "name": "stderr",
     "output_type": "stream",
     "text": [
      "  3%|▎         | 10/364 [00:10<06:44,  1.14s/it]"
     ]
    },
    {
     "name": "stdout",
     "output_type": "stream",
     "text": [
      "Error requesting link: https://ekstrabladet.dk/incoming/ingen-kommentarer-regeringens-kovending-og-galimatias-v-maalsaetning/8585060. Skipping to the next link.\n"
     ]
    },
    {
     "name": "stderr",
     "output_type": "stream",
     "text": [
      " 25%|██▌       | 91/364 [01:46<05:27,  1.20s/it]"
     ]
    },
    {
     "name": "stdout",
     "output_type": "stream",
     "text": [
      "Error requesting link: https://ekstrabladet.dkhttps://www.herognu.dk/kendte/kevin-larsen-smaskforelsket-tilbage-hos-eksen/1059498. Skipping to the next link.\n"
     ]
    },
    {
     "name": "stderr",
     "output_type": "stream",
     "text": [
      " 34%|███▍      | 124/364 [02:24<04:44,  1.18s/it]"
     ]
    },
    {
     "name": "stdout",
     "output_type": "stream",
     "text": [
      "Error requesting link: https://ekstrabladet.dkhttps://nordjyske.dk/nyheder/nordjylland/to-chefer-paa-aalborg-university-business-school-sendt-hjem/4433387. Skipping to the next link.\n"
     ]
    },
    {
     "name": "stderr",
     "output_type": "stream",
     "text": [
      " 48%|████▊     | 173/364 [03:23<03:48,  1.20s/it]"
     ]
    },
    {
     "name": "stdout",
     "output_type": "stream",
     "text": [
      "Error requesting link: https://ekstrabladet.dkhttps://nordjyske.dk/nyheder/nordjylland/omstridte-chefer-paa-aalborg-universitet-faerdige/4515034. Skipping to the next link.\n"
     ]
    },
    {
     "name": "stderr",
     "output_type": "stream",
     "text": [
      " 51%|█████     | 185/364 [03:36<03:32,  1.19s/it]"
     ]
    },
    {
     "name": "stdout",
     "output_type": "stream",
     "text": [
      "Error requesting link: https://ekstrabladet.dkhttps://ebcontent.ekstrabladet.dk/G_L/klar-ved-grillen-her-er-sommerens-laekreste-poelsemenu/9686003. Skipping to the next link.\n"
     ]
    },
    {
     "name": "stderr",
     "output_type": "stream",
     "text": [
      " 76%|███████▌  | 276/364 [05:29<01:45,  1.20s/it]"
     ]
    },
    {
     "name": "stdout",
     "output_type": "stream",
     "text": [
      "Error requesting link: https://ekstrabladet.dkhttp://ekstrabladet.dk/services/spoergsmaal-og-svar-til-dit-medielogin-paa-ekstrabladetdk/4502895. Skipping to the next link.\n"
     ]
    },
    {
     "name": "stderr",
     "output_type": "stream",
     "text": [
      " 90%|█████████ | 328/364 [06:30<00:43,  1.22s/it]"
     ]
    },
    {
     "name": "stdout",
     "output_type": "stream",
     "text": [
      "Error requesting link: https://ekstrabladet.dkhttps://nordjyske.dk/nyheder/nordjylland/to-chefer-brugte-93-000-kroner-paa-faa-dage-aalborg-universitet-betalte/4463651. Skipping to the next link.\n"
     ]
    },
    {
     "name": "stderr",
     "output_type": "stream",
     "text": [
      " 94%|█████████▍| 343/364 [06:46<00:25,  1.22s/it]"
     ]
    },
    {
     "name": "stdout",
     "output_type": "stream",
     "text": [
      "Error requesting link: https://ekstrabladet.dkhttps://www.lequipe.fr/Football/Actualites/Transferts-neymar-d-accord-avec-al-hilal/1413412. Skipping to the next link.\n"
     ]
    },
    {
     "name": "stderr",
     "output_type": "stream",
     "text": [
      "100%|██████████| 364/364 [07:10<00:00,  1.18s/it]\n"
     ]
    },
    {
     "name": "stdout",
     "output_type": "stream",
     "text": [
      "Round 23 completed. Saved to links_round23.csv\n"
     ]
    },
    {
     "name": "stderr",
     "output_type": "stream",
     "text": [
      "  0%|          | 1/366 [00:01<07:08,  1.17s/it]"
     ]
    },
    {
     "name": "stdout",
     "output_type": "stream",
     "text": [
      "Error requesting link: https://ekstrabladet.dkhttps://www.herognu.dk/kendte/astrid-olsen-det-faldt-jeg-for-ved-boris/1065773. Skipping to the next link.\n"
     ]
    },
    {
     "name": "stderr",
     "output_type": "stream",
     "text": [
      "  3%|▎         | 10/366 [00:10<06:54,  1.17s/it]"
     ]
    },
    {
     "name": "stdout",
     "output_type": "stream",
     "text": [
      "Error requesting link: https://ekstrabladet.dk/incoming/ingen-kommentarer-regeringens-kovending-og-galimatias-v-maalsaetning/8585060. Skipping to the next link.\n"
     ]
    },
    {
     "name": "stderr",
     "output_type": "stream",
     "text": [
      " 25%|██▌       | 92/366 [01:48<05:34,  1.22s/it]"
     ]
    },
    {
     "name": "stdout",
     "output_type": "stream",
     "text": [
      "Error requesting link: https://ekstrabladet.dkhttps://www.herognu.dk/kendte/kevin-larsen-smaskforelsket-tilbage-hos-eksen/1059498. Skipping to the next link.\n"
     ]
    },
    {
     "name": "stderr",
     "output_type": "stream",
     "text": [
      " 34%|███▍      | 125/366 [02:31<06:16,  1.56s/it]"
     ]
    },
    {
     "name": "stdout",
     "output_type": "stream",
     "text": [
      "Error requesting link: https://ekstrabladet.dkhttps://nordjyske.dk/nyheder/nordjylland/to-chefer-paa-aalborg-university-business-school-sendt-hjem/4433387. Skipping to the next link.\n"
     ]
    },
    {
     "name": "stderr",
     "output_type": "stream",
     "text": [
      " 37%|███▋      | 135/366 [8:46:59<322:43:56, 5029.60s/it]"
     ]
    },
    {
     "name": "stdout",
     "output_type": "stream",
     "text": [
      "Error requesting link: https://ekstrabladet.dk/sport/fodbold/dansk_fodbold/superligaen/fc_koebenhavn/dramaet-om-delaney-saa-lang-vej-er-der/9895408. Skipping to the next link.\n",
      "Error requesting link: https://ekstrabladet.dk/nyheder/politik/danskpolitik/bomben-der-kostede-ham-jobbet-ekstremt-mistaenkeligt/9903088. Skipping to the next link.\n"
     ]
    },
    {
     "name": "stderr",
     "output_type": "stream",
     "text": [
      " 39%|███▉      | 143/366 [8:46:59<55:17:57, 892.72s/it]  "
     ]
    },
    {
     "name": "stdout",
     "output_type": "stream",
     "text": [
      "Error requesting link: https://ekstrabladet.dk/nyheder/politik/danskpolitik/kraenker-til-bords-med-mette/8496677. Skipping to the next link.\n",
      "Error requesting link: https://ekstrabladet.dk/nyheder/samfund/trods-ny-trist-rekord-lys-gennem-regnskoven/9398623. Skipping to the next link.\n",
      "Error requesting link: https://ekstrabladet.dk/nyheder/politik/danskpolitik/se-ellemanns-antistress-plan/9897132. Skipping to the next link.\n",
      "Error requesting link: https://ekstrabladet.dk/krimi/samsams-vilde-fortid-roevede-kvinde-stak-af-med-hund/9633320. Skipping to the next link.\n",
      "Error requesting link: https://ekstrabladet.dk/underholdning/dkkendte/nu-taler-hun-det-er-ikke-noget-der-kommer-bag-paa-mig/9905268. Skipping to the next link.\n",
      "Error requesting link: https://ekstrabladet.dk/nyheder/lederen/mette-har-en-anden-version/9903287. Skipping to the next link.\n",
      "Error requesting link: https://ekstrabladet.dk/underholdning/eksklusive-billeder-saadan-foregik-rees-million-dyre-igle-kur/7980821. Skipping to the next link.\n",
      "Error requesting link: https://ekstrabladet.dk/sport/anden_sport/badminton/dansk-stjerne-melder-ud-klar-til-at-flytte-hjem/9899883. Skipping to the next link.\n"
     ]
    },
    {
     "name": "stderr",
     "output_type": "stream",
     "text": [
      "\r",
      " 40%|███▉      | 145/366 [8:46:59<41:59:25, 684.01s/it]"
     ]
    },
    {
     "name": "stdout",
     "output_type": "stream",
     "text": [
      "Error requesting link: https://ekstrabladet.dk/nyheder/politik/danskpolitik/paeredanske-hanne-skal-vente-22-maaneder-paa-at-blive-dansker/9437065. Skipping to the next link.\n",
      "Error requesting link: https://ekstrabladet.dk/nyheder/krigogkatastrofer/stolt-diktator-viser-sine-missiler-frem-for-rusland/9877643. Skipping to the next link.\n"
     ]
    },
    {
     "name": "stderr",
     "output_type": "stream",
     "text": [
      "\r",
      " 40%|████      | 147/366 [8:47:00<31:11:37, 512.78s/it]"
     ]
    },
    {
     "name": "stdout",
     "output_type": "stream",
     "text": [
      "Error requesting link: https://ekstrabladet.dk/penge/stor-mystik-koeber-landets-dyreste-lejlighed/9866747. Skipping to the next link.\n",
      "Error requesting link: https://ekstrabladet.dk/krimi/michael-draebt-af-stik-i-brystet-niece-husker-ham-som-et-godt-menneske/9888793. Skipping to the next link.\n",
      "Error requesting link: https://ekstrabladet.dk/underholdning/reality/realitystjerner-saadan-scorer-du-os/9685759. Skipping to the next link.\n"
     ]
    },
    {
     "name": "stderr",
     "output_type": "stream",
     "text": [
      " 42%|████▏     | 155/366 [8:47:00<10:23:53, 177.41s/it]"
     ]
    },
    {
     "name": "stdout",
     "output_type": "stream",
     "text": [
      "Error requesting link: https://ekstrabladet.dk/sport/fodbold/dansk_fodbold/superligaen/fc_koebenhavn/neestrup-om-eftertragtet-fcker-holder-kaeft-og-traener/9905414. Skipping to the next link.\n",
      "Error requesting link: https://ekstrabladet.dk/forbrug/dinepenge/mekanikeren-saadan-passer-jeg-paa-min-egen-bil/9475456. Skipping to the next link.\n",
      "Error requesting link: https://ekstrabladet.dk/forbrug/sundhed/hver-tredje-over-50-er-ramt-det-skal-du-holde-oeje-med/9859496. Skipping to the next link.\n",
      "Error requesting link: https://ekstrabladet.dk/nyheder/samfund/rejsegale-universitets-bosser-faerdige-paa-aalborg-universitet/9904681. Skipping to the next link.\n",
      "Error requesting link: https://ekstrabladet.dk/nyheder/politik/danskpolitik/lyssky-fonde-og-klubber-her-er-partiernes-hemmelige-pengetanke/9277601. Skipping to the next link.\n",
      "Error requesting link: https://ekstrabladet.dk/underholdning/dkkendte/janni-selvfoelgelig-skal-karsten-have-saereje/5476879. Skipping to the next link.\n",
      "Error requesting link: https://ekstrabladet.dk/underholdning/dkkendte/frygter-alvorlig-sygdom/9861934. Skipping to the next link.\n",
      "Error requesting link: https://ekstrabladet.dk/side9/miley/9894172. Skipping to the next link.\n",
      "Error requesting link: https://ekstrabladet.dk/forbrug/dinepenge/skaer-750-kroner-af-elregningen-med-et-klik/9261043. Skipping to the next link.\n",
      "Error requesting link: https://ekstrabladet.dk/forbrug/sundhed/90.000-danskere-ramt-saadan-opdager-du-demens/9366866. Skipping to the next link.\n",
      "Error requesting link: https://ekstrabladet.dk/underholdning/kongelige/danskekongelige/dansk-og-doedbringende/9690920. Skipping to the next link.\n",
      "Error requesting link: https://ekstrabladet.dk/sex_og_samliv/kys-og-kaerlighed/sexolog-derfor-er-vi-utro/9870550. Skipping to the next link.\n"
     ]
    },
    {
     "name": "stderr",
     "output_type": "stream",
     "text": [
      " 45%|████▌     | 166/366 [8:47:00<3:42:25, 66.73s/it]  "
     ]
    },
    {
     "name": "stdout",
     "output_type": "stream",
     "text": [
      "Error requesting link: https://ekstrabladet.dk/nyheder/samfund/vestens-oerer-mod-oest/9448754. Skipping to the next link.\n",
      "Error requesting link: https://ekstrabladet.dk/sex_og_samliv/kys-og-kaerlighed/nok-er-nok-afliver-4-sex-myter/9792237. Skipping to the next link.\n",
      "Error requesting link: https://ekstrabladet.dk/underholdning/reality/hun-var-der-kun-for-en-ting/9868411. Skipping to the next link.\n",
      "Error requesting link: https://ekstrabladet.dk/nyheder/politik/danskpolitik/engell-kan-kim-jong-un-tales-til-fornuft/9787812. Skipping to the next link.\n",
      "Error requesting link: https://ekstrabladet.dk/nyheder/samfund/se-listen-strandvejens-ti-vildeste-handler-og-personerne-bag/9791587. Skipping to the next link.\n",
      "Error requesting link: https://ekstrabladet.dk/nyheder/politik/danskpolitik/se-ellemanns-antistress-plan/9897132. Skipping to the next link.\n"
     ]
    },
    {
     "name": "stderr",
     "output_type": "stream",
     "text": [
      "\r",
      " 48%|████▊     | 177/366 [8:47:00<1:41:45, 32.30s/it]"
     ]
    },
    {
     "name": "stdout",
     "output_type": "stream",
     "text": [
      "Error requesting link: https://ekstrabladet.dk/underholdning/udlandkendte/bruce-willis-indstiller-karrieren-efter-sygdom/9195380. Skipping to the next link.\n",
      "Error requesting link: https://ekstrabladet.dk/nyheder/samfund/110.000-kr.-camilla-og-noel-har-ikke-raad-til-at-vaere-en-familie/9381767. Skipping to the next link.\n",
      "Error requesting link: https://ekstrabladet.dk/penge/stor-mystik-koeber-landets-dyreste-lejlighed/9866747. Skipping to the next link.\n",
      "Error requesting link: https://ekstrabladet.dk/nyheder/politik/danskpolitik/faelder-dom-over-partilederne-han-er-stoerre-end-elvis/9833281. Skipping to the next link.\n",
      "Error requesting link: https://ekstrabladet.dk/om_ekstra_bladet/faq-og-support/8425869. Skipping to the next link.\n",
      "Error requesting link: https://ekstrabladet.dk/nyheder/politik/danskpolitik/s-ordfoerer-indroemmer-uholdbar-situation-men-vil-ikke-aendre-loven/8590903. Skipping to the next link.\n",
      "Error requesting link: https://ekstrabladet.dk/om_ekstra_bladet/faq/faq-og-support/8425869. Skipping to the next link.\n",
      "Error requesting link: https://ekstrabladet.dk/forbrug/dinepenge/saadan-sikrer-du-dig-naar-du-handler/9747647. Skipping to the next link.\n",
      "Error requesting link: https://ekstrabladet.dk/nationen/netbutik-er-rasende-paa-postnord-porto-stigning-er-alt-for-lille/7053356. Skipping to the next link.\n",
      "Error requesting link: https://ekstrabladet.dkhttps://nordjyske.dk/nyheder/nordjylland/omstridte-chefer-paa-aalborg-universitet-faerdige/4515034. Skipping to the next link.\n",
      "Error requesting link: https://ekstrabladet.dk/underholdning/dkkendte/saa-rige-er-dine-boerns-idoler/9051347. Skipping to the next link.\n",
      "Error requesting link: https://ekstrabladet.dk/om_ekstra_bladet/faq/kundeservice/8425869. Skipping to the next link.\n",
      "Error requesting link: https://ekstrabladet.dk/nyheder/samfund/sigurds-koekkenchef-smidt-ud-af-danmark-paa-grund-af-teknisk-fejl/9142878. Skipping to the next link.\n",
      "Error requesting link: https://ekstrabladet.dk/nyheder/krigogkatastrofer/putins-inderkreds-han-bliver-kaldt-satan/9725200. Skipping to the next link.\n",
      "Error requesting link: https://ekstrabladet.dk/krimi/doemt-smuglede-vaaben-for-doedspatruljen/9654461. Skipping to the next link.\n",
      "Error requesting link: https://ekstrabladet.dk/nyheder/politik/danskpolitik/engell-skaeve-skinner-evige-forsinkelser-og-toiletter-der-stinker-af-pis/9702176. Skipping to the next link.\n",
      "Error requesting link: https://ekstrabladet.dk/nyheder/politik/danskpolitik/engell-danser-paa-knivsaeg/9787701. Skipping to the next link.\n"
     ]
    },
    {
     "name": "stderr",
     "output_type": "stream",
     "text": [
      " 52%|█████▏    | 191/366 [8:47:01<44:04, 15.11s/it]  "
     ]
    },
    {
     "name": "stdout",
     "output_type": "stream",
     "text": [
      "Error requesting link: https://ekstrabladet.dk/sport/fodbold/udenlandsk_fodbold/international_fodbold/officielt-neymar-skifter-til-al-hilal/9902917. Skipping to the next link.\n",
      "Error requesting link: https://ekstrabladet.dk/krimi/dommedagskulten-fra-helvede/7071828. Skipping to the next link.\n",
      "Error requesting link: https://ekstrabladet.dk/forbrug/madogdrikke/derfor-elsker-danskerne-grillpoelsen/9817656. Skipping to the next link.\n",
      "Error requesting link: https://ekstrabladet.dk/nyheder/samfund/ny-nedtur-for-stor-burgerkaede-straffet-med-boede-for-klamme-fund/9799867. Skipping to the next link.\n",
      "Error requesting link: https://ekstrabladet.dkhttps://ebcontent.ekstrabladet.dk/G_L/klar-ved-grillen-her-er-sommerens-laekreste-poelsemenu/9686003. Skipping to the next link.\n",
      "Error requesting link: https://ekstrabladet.dk/underholdning/filmogtv/det-vidste-du-ikke-om-julefilmen-die-hard/9052808. Skipping to the next link.\n",
      "Error requesting link: https://ekstrabladet.dk/forbrug/razzia-i-dansk-burgerkaede-omfattende-fup-og-farligt-koed/8207541. Skipping to the next link.\n",
      "Error requesting link: https://ekstrabladet.dk/forbrug/sundhed/saadan-undgaar-du-blodpropper/9790335. Skipping to the next link.\n",
      "Error requesting link: https://ekstrabladet.dk/nyheder/politik/danskpolitik/ny-metoo-sag-i-socialdemokratiet-folketingsmedlem-fik-nok/8498053. Skipping to the next link.\n"
     ]
    },
    {
     "name": "stderr",
     "output_type": "stream",
     "text": [
      " 55%|█████▌    | 202/366 [8:47:01<22:28,  8.22s/it]"
     ]
    },
    {
     "name": "stdout",
     "output_type": "stream",
     "text": [
      "Error requesting link: https://ekstrabladet.dk/krimi/mor-tiltalt-for-doedsvold-jeg-var-loevemor/9654479. Skipping to the next link.\n",
      "Error requesting link: https://ekstrabladet.dk/nyheder/politik/danskpolitik/engell-hvad-kan-ukraine-bruge-f-16-fly-til/9813921. Skipping to the next link.\n",
      "Error requesting link: https://ekstrabladet.dk/nyheder/politik/danskpolitik/influencer-smidt-ud-af-danmark-ramt-af-omstridt-lov/9627627. Skipping to the next link.\n",
      "Error requesting link: https://ekstrabladet.dk/nyheder/politik/danskpolitik/bajere-bold-og-billetter-folkevalgte-flyder-i-fryns/9848923. Skipping to the next link.\n",
      "Error requesting link: https://ekstrabladet.dk/sport/fodbold/se-fcks-sparta-brag-her/9899476. Skipping to the next link.\n",
      "Error requesting link: https://ekstrabladet.dk/nyheder/politik/danskpolitik/man-doer-jo-ikke-af-at-komme-for-en-rigsret/9847454. Skipping to the next link.\n",
      "Error requesting link: https://ekstrabladet.dk/krimi/bowlinghal-tiltalt-for-uagtsomt-manddrab/9904830. Skipping to the next link.\n",
      "Error requesting link: https://ekstrabladet.dk/krimi/dommedagskulten-fra-helvede/7071828. Skipping to the next link.\n",
      "Error requesting link: https://ekstrabladet.dk/nyheder/samfund/styrelse-advarede-tiaarig-om-straf-for-fravaer-men-meldte-ikke-selv-afbud/8843544. Skipping to the next link.\n",
      "Error requesting link: https://ekstrabladet.dk/nyheder/politik/bbb-beroemt-berygtet-brutal/9320810. Skipping to the next link.\n"
     ]
    },
    {
     "name": "stderr",
     "output_type": "stream",
     "text": [
      "\r",
      " 57%|█████▋    | 210/366 [8:47:01<13:39,  5.25s/it]"
     ]
    },
    {
     "name": "stdout",
     "output_type": "stream",
     "text": [
      "Error requesting link: https://ekstrabladet.dk/nyheder/politik/danskpolitik/tavs-tesfaye-vaekker-opsigt-klar-til-at-diskutere-omstridt-lov/8542449. Skipping to the next link.\n",
      "Error requesting link: https://ekstrabladet.dk/nyheder/samfund/michelin-kok-udvist-af-danmark-han-er-for-dygtig/8923256. Skipping to the next link.\n",
      "Error requesting link: https://ekstrabladet.dk/nyheder/samfund/vestens-oerer-mod-oest/9448754. Skipping to the next link.\n",
      "Error requesting link: https://ekstrabladet.dk/nyheder/politik/danskpolitik/lav-loven-om-tesfaye/8649353. Skipping to the next link.\n",
      "Error requesting link: https://ekstrabladet.dk/underholdning/dkkendte/haardt-angreb-paa-tv-2-jeg-vaemmes/9900549. Skipping to the next link.\n",
      "Error requesting link: https://ekstrabladet.dk/krimi/pet-og-fe-al-qaeda-udmelding-kan-inspirere-til-angreb/9905142. Skipping to the next link.\n",
      "Error requesting link: https://ekstrabladet.dk/krimi/indsat-afsloerer-her-er-faengsels-hierarkiet/9903127. Skipping to the next link.\n",
      "Error requesting link: https://ekstrabladet.dk/nyheder/samfund/nikitas-dom-det-absolut-vaerste-sted-at-bo-i-koebenhavn/9896826. Skipping to the next link.\n",
      "Error requesting link: https://ekstrabladet.dk/nyheder/politik/danskpolitik/venstre-klar-til-serviceeftersyn-af-omstridt-lov/8540404. Skipping to the next link.\n",
      "Error requesting link: https://ekstrabladet.dk/nyheder/samfund/kaempe-kovending-efter-fire-aars-helvede-nu-kommer-zahras-mand-til-danmark/8695273. Skipping to the next link.\n",
      "Error requesting link: https://ekstrabladet.dk/nyheder/politik/danskpolitik/politikernes-dilemma-kan-godt-se-det-er-haabloest-men-.../8636758. Skipping to the next link.\n",
      "Error requesting link: https://ekstrabladet.dk/nyheder/politik/danskpolitik/michelin-kok-udvist-igen-tjener-for-meget/9465972. Skipping to the next link.\n",
      "Error requesting link: https://ekstrabladet.dk/sport/fodbold/dansk_fodbold/superligaen/fc_koebenhavn/fcks-transferplaner-har-vild-daramy-droem/9828602. Skipping to the next link.\n"
     ]
    },
    {
     "name": "stderr",
     "output_type": "stream",
     "text": [
      " 61%|██████    | 222/366 [8:47:01<06:30,  2.71s/it]"
     ]
    },
    {
     "name": "stdout",
     "output_type": "stream",
     "text": [
      "Error requesting link: https://ekstrabladet.dk/nyheder/politik/danskpolitik/anthony-tjente-4-oere-for-lidt-nu-bliver-han-udvist/9466006. Skipping to the next link.\n",
      "Error requesting link: https://ekstrabladet.dk/nyheder/politik/danskpolitik/engell-her-er-mettes-ordre-til-ministrene/9692746. Skipping to the next link.\n",
      "Error requesting link: https://ekstrabladet.dk/nyheder/politik/danskpolitik/rapport-afsloerer-flere-danskere-faar-afslag-ikke-gode-nok-til-dansk/9407152. Skipping to the next link.\n",
      "Error requesting link: https://ekstrabladet.dk/nyheder/politik/danskpolitik/store-forskelle-det-tjener-partibosserne/9226010. Skipping to the next link.\n",
      "Error requesting link: https://ekstrabladet.dk/nationen/klart-at-postnord-mangler-penge-har-faaet-100-pakker-fra-kina-uden-porto/6548512. Skipping to the next link.\n",
      "Error requesting link: https://ekstrabladet.dk/forbrug/sundhed/ny-dansk-forskning-saadan-undgaas-demenstilfaelde/9718146. Skipping to the next link.\n",
      "Error requesting link: https://ekstrabladet.dk/nyheder/politik/bbb-beroemt-berygtet-brutal/9320810. Skipping to the next link.\n",
      "Error requesting link: https://ekstrabladet.dk/forbrug/sundhed/demenslaegen-saadan-lever-jeg-selv/9366852. Skipping to the next link.\n",
      "Error requesting link: https://ekstrabladet.dk/underholdning/dkkendte/danmarks-mest-kuloerte-rigmand/9895120. Skipping to the next link.\n",
      "Error requesting link: https://ekstrabladet.dk/sport/fodbold/dansk_fodbold/de-beskidte-hooligan-tricks-umuligt-at-stoppe/9297333. Skipping to the next link.\n",
      "Error requesting link: https://ekstrabladet.dk/om_ekstra_bladet/kontakt/5570293. Skipping to the next link.\n"
     ]
    },
    {
     "name": "stderr",
     "output_type": "stream",
     "text": [
      " 65%|██████▍   | 237/366 [8:47:01<02:36,  1.21s/it]"
     ]
    },
    {
     "name": "stdout",
     "output_type": "stream",
     "text": [
      "Error requesting link: https://ekstrabladet.dk/nationen/biksemadschok-i-silkeborg-usmageligt/9904891. Skipping to the next link.\n",
      "Error requesting link: https://ekstrabladet.dk/nyheder/samfund/briter-advares-mod-at-rejse-til-sverige/9901880. Skipping to the next link.\n",
      "Error requesting link: https://ekstrabladet.dk/nyheder/krigogkatastrofer/mytisk-lejesoldat-bagmanden-der-forsvandt/9834945. Skipping to the next link.\n",
      "Error requesting link: https://ekstrabladet.dk/nyheder/samfund/putins-store-oelkup-carlsberg-kylet-paa-porten/9868222. Skipping to the next link.\n",
      "Error requesting link: https://ekstrabladet.dk/nyheder/politik/danskpolitik/vil-lave-reglerne-om-danmark-spaender-ben-for-sine-egne-borgere/8590733. Skipping to the next link.\n",
      "Error requesting link: https://ekstrabladet.dk/nyheder/samfund/vil-smide-tiaarig-ud-af-danmark/8837195. Skipping to the next link.\n",
      "Error requesting link: https://ekstrabladet.dk/nyheder/samfund/2200-papirer-var-ikke-bevis-nok-jeg-er-rystet-i-min-grundvold/8622154. Skipping to the next link.\n",
      "Error requesting link: https://ekstrabladet.dk/nationen/lukker-butik-kunderne-var-flabede/9904477. Skipping to the next link.\n",
      "Error requesting link: https://ekstrabladet.dk/nyheder/politik/danskpolitik/indroemmer-selv-de-kvikke-farer-fuldstaendig-vild/8652924. Skipping to the next link.\n",
      "Error requesting link: https://ekstrabladet.dk/forbrug/madogdrikke/ekspert-saadan-bliver-du-en-rigtig-grillmester/9814081. Skipping to the next link.\n",
      "Error requesting link: https://ekstrabladet.dk/underholdning/dkkendte/karsten-ree-ramt-af-demens/9898396. Skipping to the next link.\n",
      "Error requesting link: https://ekstrabladet.dk/sport/fodbold/dansk_fodbold/superligaen/super-manager-dem-skal-du-vaelge/9876738. Skipping to the next link.\n",
      "Error requesting link: https://ekstrabladet.dk/nyheder/politik/danskpolitik/kalder-minister-i-samraad-det-goer-mig-rasende/8591560. Skipping to the next link.\n",
      "Error requesting link: https://ekstrabladet.dk/forbrug/dinepenge/mekanikeren-saadan-passer-jeg-paa-min-egen-bil/9475456. Skipping to the next link.\n"
     ]
    },
    {
     "name": "stderr",
     "output_type": "stream",
     "text": [
      " 69%|██████▉   | 253/366 [8:47:02<01:02,  1.80it/s]"
     ]
    },
    {
     "name": "stdout",
     "output_type": "stream",
     "text": [
      "Error requesting link: https://ekstrabladet.dk/nyheder/samfund/fejl-splittede-familie-i-fire-aar/8698168. Skipping to the next link.\n",
      "Error requesting link: https://ekstrabladet.dk/krimi/usas-mest-brutale-seriemorder-noed-at-pine-unge-kvinder-til-doede/9789609. Skipping to the next link.\n",
      "Error requesting link: https://ekstrabladet.dk/underholdning/dkkendte/bekraefter-vi-dater/9904686. Skipping to the next link.\n",
      "Error requesting link: https://ekstrabladet.dk/nyheder/krigogkatastrofer/bande-og-business-her-er-putins-hemmelige-ven/9826021. Skipping to the next link.\n",
      "Error requesting link: https://ekstrabladet.dk/nyheder/politik/danskpolitik/ellemann-alene-i-verden/9900600. Skipping to the next link.\n",
      "Error requesting link: https://ekstrabladet.dk/nyheder/samfund/praesidentens-skandaleombruste-soen/9882361. Skipping to the next link.\n",
      "Error requesting link: https://ekstrabladet.dk/underholdning/udlandkendte/popstjerne-anklaget-for-seksuel-chikane/9884214. Skipping to the next link.\n",
      "Error requesting link: https://ekstrabladet.dk/sport/fodbold/dansk_fodbold/superligaen/sisto-bryder-tavsheden-har-ikke-vaeret-der-siden/9894348. Skipping to the next link.\n",
      "Error requesting link: https://ekstrabladet.dk/underholdning/dkkendte/karsten-rees-milliarder-saa-rig-er-han/9898749. Skipping to the next link.\n",
      "Error requesting link: https://ekstrabladet.dk/underholdning/dkkendte/karsten-ree-har-kraeft/5512645. Skipping to the next link.\n",
      "Error requesting link: https://ekstrabladet.dk/nyheder/samfund/borgens-dybe-hemmeligheder/9202083. Skipping to the next link.\n",
      "Error requesting link: https://ekstrabladet.dk/nyheder/politik/villys-nye-comeback-derfor-stiller-jeg-op/9900422. Skipping to the next link.\n",
      "Error requesting link: https://ekstrabladet.dk/krimi/saadan-blev-23-tons-hash-fragtet-fra-landsby-til-landsby/9896641. Skipping to the next link.\n",
      "Error requesting link: https://ekstrabladet.dk/krimi/undersoeger-muligt-skyderi-i-vanloese/9905415. Skipping to the next link.\n",
      "Error requesting link: https://ekstrabladet.dk/underholdning/staar-til-at-arve-rees-milliarder-hold-da-kaeft-de-har-meget-at-laere-endnu/7231957. Skipping to the next link.\n"
     ]
    },
    {
     "name": "stderr",
     "output_type": "stream",
     "text": [
      "\r",
      " 72%|███████▏  | 264/366 [8:47:02<00:35,  2.89it/s]"
     ]
    },
    {
     "name": "stdout",
     "output_type": "stream",
     "text": [
      "Error requesting link: https://ekstrabladet.dk/underholdning/reality/gift-ved-foerste-blik-derfor-gaar-det-galt/9478855. Skipping to the next link.\n",
      "Error requesting link: https://ekstrabladet.dk/underholdning/dkkendte/har-faaet-svar-paa-afgoerende-proever-sendt-videre-i-kraeftpakke/9878145. Skipping to the next link.\n",
      "Error requesting link: https://ekstrabladet.dk/nyheder/samfund/Fanget-i-helvede-p%C3%A5-jord-M%C3%B8d-b%C3%B8rnene-i-Europas-st%C3%B8rste-flygtningelejr/7935304. Skipping to the next link.\n",
      "Error requesting link: https://ekstrabladet.dk/sport/fodbold/dansk_fodbold/superligaen/her-er-superliga-stjernernes-kendte-kaerester/9676384. Skipping to the next link.\n",
      "Error requesting link: https://ekstrabladet.dk/nyheder/politik/danskpolitik/slaar-fast-vi-vil-aendre-reglerne/9458657. Skipping to the next link.\n",
      "Error requesting link: https://ekstrabladet.dk/nyheder/politik/danskpolitik/bjarne-er-faerdig-med-danske-gakgak-regler-det-er-jeg-ked-af/9461330. Skipping to the next link.\n",
      "Error requesting link: https://ekstrabladet.dk/sport/fodbold/dansk_fodbold/superligaen/silkeborg-stjerne-beloennes-her-er-prisen/9308296. Skipping to the next link.\n",
      "Error requesting link: https://ekstrabladet.dk/sport/fodbold/dansk_fodbold/superligaen/fck-et-skridt-taettere-paa-cl-droemmen-efter-vildt-drama/9905044. Skipping to the next link.\n",
      "Error requesting link: https://ekstrabladet.dk/nyheder/politik/danskpolitik/udvist-influencer-var-paa-vej-til-lufthavnen-saa-ringede-de/9644939. Skipping to the next link.\n",
      "Error requesting link: https://ekstrabladet.dk/nyheder/politik/danskpolitik/engell-et-aabenlyst-aandssvagt-cirkus/9707559. Skipping to the next link.\n",
      "Error requesting link: https://ekstrabladet.dk/nyheder/krigogkatastrofer/vanvittige-fund-i-wagner-bossens-palae/9851013. Skipping to the next link.\n",
      "Error requesting link: https://ekstrabladet.dk/underholdning/karsten-ree-jeg-er-slidt-op/7427405. Skipping to the next link.\n",
      "Error requesting link: https://ekstrabladet.dk/underholdning/dkkendte/kendt-fra-tv-nu-er-han-single-igen/9904787. Skipping to the next link.\n",
      "Error requesting link: https://ekstrabladet.dk/nyheder/politik/danskpolitik/engell-ellemann-skal-levere-mirakler/9884183. Skipping to the next link.\n",
      "Error requesting link: https://ekstrabladet.dk/nyheder/samfund/egon-fanget-i-gakgak-regler-det-er-absurd/9389553. Skipping to the next link.\n"
     ]
    },
    {
     "name": "stderr",
     "output_type": "stream",
     "text": [
      " 77%|███████▋  | 282/366 [8:47:02<00:14,  5.86it/s]"
     ]
    },
    {
     "name": "stdout",
     "output_type": "stream",
     "text": [
      "Error requesting link: https://ekstrabladet.dk/nationen/har-daarlig-samvittighed-koeber-billige-el-paerer-i-kina-fragtfrit/6550895. Skipping to the next link.\n",
      "Error requesting link: https://ekstrabladet.dk/underholdning/udlandkendte/efter-voldsomme-anklager-nu-bryder-hun-tavsheden/9887038. Skipping to the next link.\n",
      "Error requesting link: https://ekstrabladet.dk/sport/fodbold/se-fcks-sparta-brag-her/9899476. Skipping to the next link.\n",
      "Error requesting link: https://ekstrabladet.dk/nyheder/samfund/de-vil-draebe-i-danmark-saadan-staar-al-qaeda/9904288. Skipping to the next link.\n",
      "Error requesting link: https://ekstrabladet.dk/nyheder/politik/danskpolitik/skandaloest/9522959. Skipping to the next link.\n",
      "Error requesting link: https://ekstrabladet.dk/nyheder/samfund/smidt-ud-efter-regel-koks-forsoegte-at-tage-sit-eget-liv/9652984. Skipping to the next link.\n",
      "Error requesting link: https://ekstrabladet.dk/forbrug/dinepenge/saadan-sikrer-du-dig-naar-du-handler/9747647. Skipping to the next link.\n",
      "Error requesting link: https://ekstrabladet.dk/underholdning/reality/hun-var-der-kun-for-en-ting/9868411. Skipping to the next link.\n",
      "Error requesting link: https://ekstrabladet.dkhttp://ekstrabladet.dk/services/spoergsmaal-og-svar-til-dit-medielogin-paa-ekstrabladetdk/4502895. Skipping to the next link.\n",
      "Error requesting link: https://ekstrabladet.dk/nyheder/samfund/dansk-topforsker-fanget-i-regel-helvede-nu-har-han-forladt-landet/9349239. Skipping to the next link.\n",
      "Error requesting link: https://ekstrabladet.dk/sport/cykling/dansk-erhvervsmand-reddede-cavendishs-karriere/9738769. Skipping to the next link.\n",
      "Error requesting link: https://ekstrabladet.dk/forbrug/dinepenge/aflyst-flyferie-det-kan-du-kraeve/9873970. Skipping to the next link.\n",
      "Error requesting link: https://ekstrabladet.dk/nyheder/politik/danskpolitik/bjarne-har-faaet-nok-af-politikernes-gakgakregler-farvel-danmark/9457293. Skipping to the next link.\n",
      "Error requesting link: https://ekstrabladet.dk/nyheder/politik/danskpolitik/laegger-pres-paa-minister/9414717. Skipping to the next link.\n",
      "Error requesting link: https://ekstrabladet.dk/underholdning/filmogtv/kom-med-beier-bag-om-landmand-soeger-kaerlighed/9482934. Skipping to the next link.\n",
      "Error requesting link: https://ekstrabladet.dk/nyheder/politik/danskpolitik/blaa-stue-vroevler/9528268. Skipping to the next link.\n",
      "Error requesting link: https://ekstrabladet.dk/nyheder/krigogkatastrofer/her-er-nord-stream-teorierne/9828334. Skipping to the next link.\n",
      "Error requesting link: https://ekstrabladet.dk/nyheder/politik/danskpolitik/se-billederne-kendis-politikerens-bolig-guld/9654563. Skipping to the next link.\n",
      "Error requesting link: https://ekstrabladet.dk/nyheder/samfund/se-listen-strandvejens-ti-vildeste-handler-og-personerne-bag/9791587. Skipping to the next link.\n",
      "Error requesting link: https://ekstrabladet.dk/nyheder/samfund/de-gjorde-alt-rigtigt-men-det-foeltes-som-12-maaneders-straf/8593445. Skipping to the next link.\n"
     ]
    },
    {
     "name": "stderr",
     "output_type": "stream",
     "text": [
      "\r",
      " 80%|████████  | 294/366 [8:47:02<00:08,  8.98it/s]"
     ]
    },
    {
     "name": "stdout",
     "output_type": "stream",
     "text": [
      "Error requesting link: https://ekstrabladet.dk/nyheder/politik/danskpolitik/nu-er-det-slut-influencer-skal-forlade-danmark/9770369. Skipping to the next link.\n",
      "Error requesting link: https://ekstrabladet.dk/underholdning/filmogtv/det-vidste-du-ikke-om-julefilmen-die-hard/9052808. Skipping to the next link.\n",
      "Error requesting link: https://ekstrabladet.dk/krimi/efter-laegedrab-og-strakspaabud-nu-skaerper-de-sikkerheden/9895487. Skipping to the next link.\n",
      "Error requesting link: https://ekstrabladet.dk/forbrug/sundhed/sidste-oejeblik-du-kan-stadig-naa-at-skaere-to-tre-minutter-af-din-dhl-tid/7281702. Skipping to the next link.\n",
      "Error requesting link: https://ekstrabladet.dk/sex_og_samliv/faa-bedre-rejsning-og-hold-laengere-i-sengen/9895212. Skipping to the next link.\n",
      "Error requesting link: https://ekstrabladet.dk/nyheder/samfund/ofre-for-fagbossen-hendes-haand-klapper-mig-tre-gange-paa-roeven/9737243. Skipping to the next link.\n",
      "Error requesting link: https://ekstrabladet.dk/nyheder/politik/danskpolitik/bomben-der-kostede-ham-jobbet-ekstremt-mistaenkeligt/9903088. Skipping to the next link.\n",
      "Error requesting link: https://ekstrabladet.dk/nyheder/politik/danskpolitik/borgmester-i-opraab/8841281. Skipping to the next link.\n",
      "Error requesting link: https://ekstrabladet.dk/sport/anden_sport/badminton/dansk-stjerne-melder-ud-klar-til-at-flytte-hjem/9899883. Skipping to the next link.\n",
      "Error requesting link: https://ekstrabladet.dk/underholdning/dkkendte/efter-skilsmisse-finder-sammen-med-eksen/9847194. Skipping to the next link.\n",
      "Error requesting link: https://ekstrabladet.dk/nyheder/krigogkatastrofer/manden-bag-vanviddet-her-er-wagner-gruppens-leder/9831945. Skipping to the next link.\n",
      "Error requesting link: https://ekstrabladet.dk/krimi/indsat-afsloerer-her-er-faengsels-hierarkiet/9903127. Skipping to the next link.\n",
      "Error requesting link: https://ekstrabladet.dk/forbrug/Teknologi/find-den-billigste-loesning-til-opladning-af-elbilen/9888363. Skipping to the next link.\n",
      "Error requesting link: https://ekstrabladet.dk/nyheder/samfund/ledige-pladser-tjen-40.000-som-nyuddannet/9895539. Skipping to the next link.\n",
      "Error requesting link: https://ekstrabladet.dk/sex_og_samliv/kys-og-kaerlighed/nok-er-nok-afliver-4-sex-myter/9792237. Skipping to the next link.\n",
      "Error requesting link: https://ekstrabladet.dk/nyheder/politik/danskpolitik/engell-om-v-og-k-som-hund-og-kat/9854414. Skipping to the next link.\n"
     ]
    },
    {
     "name": "stderr",
     "output_type": "stream",
     "text": [
      "\r",
      " 84%|████████▍ | 307/366 [8:47:13<00:22,  2.61it/s]"
     ]
    },
    {
     "name": "stdout",
     "output_type": "stream",
     "text": [
      "Error requesting link: https://ekstrabladet.dk/sport/fodbold/dansk_fodbold/superligaen/saa-mange-millioner-scorer-broendby-og-fck-paa-hoejlund-handel/9883553. Skipping to the next link.\n"
     ]
    },
    {
     "name": "stderr",
     "output_type": "stream",
     "text": [
      " 90%|█████████ | 331/366 [8:47:44<00:34,  1.03it/s]"
     ]
    },
    {
     "name": "stdout",
     "output_type": "stream",
     "text": [
      "Error requesting link: https://ekstrabladet.dkhttps://nordjyske.dk/nyheder/nordjylland/to-chefer-brugte-93-000-kroner-paa-faa-dage-aalborg-universitet-betalte/4463651. Skipping to the next link.\n"
     ]
    },
    {
     "name": "stderr",
     "output_type": "stream",
     "text": [
      " 93%|█████████▎| 340/366 [8:47:57<40:22, 93.17s/it]\n"
     ]
    },
    {
     "ename": "KeyboardInterrupt",
     "evalue": "",
     "output_type": "error",
     "traceback": [
      "\u001b[1;31m---------------------------------------------------------------------------\u001b[0m",
      "\u001b[1;31mKeyboardInterrupt\u001b[0m                         Traceback (most recent call last)",
      "\u001b[1;32m~\\AppData\\Local\\Temp\\ipykernel_7172\\3352955753.py\u001b[0m in \u001b[0;36m<module>\u001b[1;34m\u001b[0m\n\u001b[0;32m     31\u001b[0m             \u001b[0mresponse\u001b[0m\u001b[1;33m.\u001b[0m\u001b[0mraise_for_status\u001b[0m\u001b[1;33m(\u001b[0m\u001b[1;33m)\u001b[0m  \u001b[1;31m# Raise an exception for HTTP errors\u001b[0m\u001b[1;33m\u001b[0m\u001b[1;33m\u001b[0m\u001b[0m\n\u001b[0;32m     32\u001b[0m             \u001b[0msoup\u001b[0m \u001b[1;33m=\u001b[0m \u001b[0mBeautifulSoup\u001b[0m\u001b[1;33m(\u001b[0m\u001b[0mresponse\u001b[0m\u001b[1;33m.\u001b[0m\u001b[0mcontent\u001b[0m\u001b[1;33m,\u001b[0m \u001b[1;34m'lxml'\u001b[0m\u001b[1;33m)\u001b[0m\u001b[1;33m\u001b[0m\u001b[1;33m\u001b[0m\u001b[0m\n\u001b[1;32m---> 33\u001b[1;33m             \u001b[0mtime\u001b[0m\u001b[1;33m.\u001b[0m\u001b[0msleep\u001b[0m\u001b[1;33m(\u001b[0m\u001b[1;36m1\u001b[0m\u001b[1;33m)\u001b[0m  \u001b[1;31m# Pause for 1 second before the next request\u001b[0m\u001b[1;33m\u001b[0m\u001b[1;33m\u001b[0m\u001b[0m\n\u001b[0m\u001b[0;32m     34\u001b[0m \u001b[1;33m\u001b[0m\u001b[0m\n\u001b[0;32m     35\u001b[0m             \u001b[0mlinks\u001b[0m \u001b[1;33m=\u001b[0m \u001b[0msoup\u001b[0m\u001b[1;33m.\u001b[0m\u001b[0mfind_all\u001b[0m\u001b[1;33m(\u001b[0m\u001b[1;34m'a'\u001b[0m\u001b[1;33m)\u001b[0m\u001b[1;33m\u001b[0m\u001b[1;33m\u001b[0m\u001b[0m\n",
      "\u001b[1;31mKeyboardInterrupt\u001b[0m: "
     ]
    }
   ],
   "source": [
    "# loop to scrap articles urls from single articles\n",
    "\n",
    "import requests\n",
    "from bs4 import BeautifulSoup\n",
    "from tqdm import tqdm\n",
    "import re\n",
    "import pandas as pd\n",
    "import time\n",
    "\n",
    "links_round0 = pd.read_csv('links_round10.csv')\n",
    "\n",
    "# Function to create full link based on conditions\n",
    "def create_full_link(row):\n",
    "    if '/medielogin/login?returnTo=' in row['filtered_link']:\n",
    "        return row['filtered_link'].replace('/medielogin/login?returnTo=', '')\n",
    "    elif 'https://ekstrabladet.dk' in row['filtered_link']:\n",
    "        return row['filtered_link']\n",
    "    else:\n",
    "        return 'https://ekstrabladet.dk' + row['filtered_link']\n",
    "\n",
    "# Number of rounds and starting list\n",
    "num_rounds = 100  # Change this to the desired number of rounds\n",
    "starting_list = links_round0['full_link']  # Change this to the initial list you want to start with\n",
    "\n",
    "for round_num in range(num_rounds):\n",
    "    links1 = []\n",
    "\n",
    "    for link in tqdm(starting_list):\n",
    "        try:\n",
    "            response = requests.get(link, headers=headers)\n",
    "            response.raise_for_status()  # Raise an exception for HTTP errors\n",
    "            soup = BeautifulSoup(response.content, 'lxml')\n",
    "            time.sleep(1)  # Pause for 1 second before the next request\n",
    "\n",
    "            links = soup.find_all('a')\n",
    "            valid_links = [link['href'] for link in links if 'href' in link.attrs]\n",
    "            \n",
    "            if valid_links is not None:\n",
    "                links1.extend(valid_links)\n",
    "        except requests.exceptions.RequestException as e:\n",
    "            print(f\"Error requesting link: {link}. Skipping to the next link.\")\n",
    "\n",
    "    # Keep only links to articles with 7 digit article ids\n",
    "    filtered_links = [link for link in links1 if re.search(r'\\/\\d{7}$', link)]\n",
    "\n",
    "    # Remove duplicates  \n",
    "    filtered_links = list(set(filtered_links))\n",
    "\n",
    "    # Create a DataFrame with the filtered links\n",
    "    links_round = pd.DataFrame(filtered_links, columns=['filtered_link'])\n",
    "\n",
    "    # Apply the 'create_full_link' function to create 'full_link' column\n",
    "    links_round['full_link'] = links_round.apply(create_full_link, axis=1)\n",
    "\n",
    "    # Save DataFrame to CSV\n",
    "    csv_filename = f'links_round{round_num + 1}.csv'\n",
    "    links_round.drop(columns=['filtered_link'], inplace=True)\n",
    "    links_round.to_csv(csv_filename, index=False)\n",
    "\n",
    "    # Use the new list for the next round\n",
    "    starting_list = links_round['full_link']\n",
    "\n",
    "    # Display progress\n",
    "    print(f\"Round {round_num + 1} completed. Saved to {csv_filename}\")\n",
    "\n",
    "print(\"Loop completed.\")\n"
   ]
  },
  {
   "cell_type": "code",
   "execution_count": 10,
   "id": "49fd76e5",
   "metadata": {},
   "outputs": [
    {
     "name": "stdout",
     "output_type": "stream",
     "text": [
      "Combined URLs from all files: 697\n"
     ]
    }
   ],
   "source": [
    "#create combined list of urls to scrap articles data\n",
    "# later on new lists of urls are combined and deduplicated to separate new articles for scraping\n",
    "\n",
    "import pandas as pd\n",
    "\n",
    "combined_urls = []\n",
    "\n",
    "# Loop to read and concatenate 'full_link' columns from CSV files\n",
    "round_num = 1\n",
    "while True:\n",
    "    csv_filename = f'links_round{round_num}.csv'\n",
    "    try:\n",
    "        df = pd.read_csv(csv_filename)\n",
    "        combined_urls.extend(df['full_link'])\n",
    "        round_num += 1\n",
    "    except FileNotFoundError:\n",
    "        break\n",
    "\n",
    "combined_urls = list(set(combined_urls)) # drop duplicates\n",
    "\n",
    "combined_urls= pd.DataFrame(combined_urls)\n",
    "combined_urls.to_csv('combined_urls_17082023.csv', index=False)       \n",
    "print(f\"Combined URLs from all files: {len(combined_urls)}\")\n",
    "\n",
    "\n"
   ]
  },
  {
   "cell_type": "code",
   "execution_count": 198,
   "id": "90f05f27",
   "metadata": {},
   "outputs": [
    {
     "name": "stdout",
     "output_type": "stream",
     "text": [
      "Combined data: 395\n"
     ]
    }
   ],
   "source": [
    "# combine scraped data files with the look that take all csv files in place with data\n",
    "\n",
    "import pandas as pd\n",
    "\n",
    "combined_data = []\n",
    "\n",
    "round_num = 1\n",
    "while True:\n",
    "    csv_filename = f'extrabladet_{round_num}.csv'\n",
    "    try:\n",
    "        df = pd.read_csv(csv_filename)\n",
    "        combined_data.append(df)\n",
    "        round_num += 1\n",
    "    except FileNotFoundError:\n",
    "        break\n",
    "\n",
    "# Concatenate all DataFrames in the list\n",
    "combined_data = pd.concat(combined_data, ignore_index=True)\n",
    "\n",
    "# Drop duplicates based on the 'link' column\n",
    "combined_data.drop_duplicates(subset=['link'], inplace=True)\n",
    "\n",
    "# Save combined data to a CSV file\n",
    "combined_data.to_csv('data_1_4.csv', index=False)\n",
    "\n",
    "print(f\"Combined data: {len(combined_data)}\")\n"
   ]
  },
  {
   "cell_type": "code",
   "execution_count": 2,
   "id": "b1a086ba",
   "metadata": {},
   "outputs": [
    {
     "data": {
      "text/plain": [
       "196"
      ]
     },
     "execution_count": 2,
     "metadata": {},
     "output_type": "execute_result"
    }
   ],
   "source": [
    "#compare urls to sort out those that haven't been scraped before\n",
    "import pandas as pd\n",
    "data_urls=pd.read_csv('extrabladet_555.csv') #555\n",
    "all_urls=pd.read_csv('combined_urls_17082023_697.csv')   #697\n",
    "\n",
    "\n",
    "\n",
    "\n",
    "\n",
    "mask = all_urls['0'].isin(data_urls['link'])\n",
    "\n",
    "# Invert the mask to select rows that are NOT present in df2\n",
    "new_links_to_scrap = all_urls[~mask]\n",
    "len(new_links_to_scrap)\n"
   ]
  },
  {
   "cell_type": "code",
   "execution_count": 225,
   "id": "27c2a72d",
   "metadata": {},
   "outputs": [
    {
     "data": {
      "text/plain": [
       "512"
      ]
     },
     "execution_count": 225,
     "metadata": {},
     "output_type": "execute_result"
    }
   ],
   "source": [
    "#combine all links and compare to combined dataset to find if any links are missing\n",
    "comb=pd.concat([new,old]) #1129 art\n",
    "comb_dedup= list(set(comb['0']))\n",
    "len(comb_dedup) #512\n"
   ]
  },
  {
   "cell_type": "code",
   "execution_count": null,
   "id": "0dd95c0b",
   "metadata": {},
   "outputs": [],
   "source": []
  }
 ],
 "metadata": {
  "kernelspec": {
   "display_name": "Python 3 (ipykernel)",
   "language": "python",
   "name": "python3"
  },
  "language_info": {
   "codemirror_mode": {
    "name": "ipython",
    "version": 3
   },
   "file_extension": ".py",
   "mimetype": "text/x-python",
   "name": "python",
   "nbconvert_exporter": "python",
   "pygments_lexer": "ipython3",
   "version": "3.9.13"
  }
 },
 "nbformat": 4,
 "nbformat_minor": 5
}
