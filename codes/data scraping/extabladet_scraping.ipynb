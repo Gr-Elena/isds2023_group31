{
 "cells": [
  {
   "cell_type": "code",
   "execution_count": 202,
   "id": "24664f47",
   "metadata": {},
   "outputs": [
    {
     "ename": "SyntaxError",
     "evalue": "invalid syntax (1644446244.py, line 1)",
     "output_type": "error",
     "traceback": [
      "\u001b[1;36m  File \u001b[1;32m\"C:\\Users\\lenovo\\AppData\\Local\\Temp\\ipykernel_7172\\1644446244.py\"\u001b[1;36m, line \u001b[1;32m1\u001b[0m\n\u001b[1;33m    1. we create initial list of urls of articles that we take from news categories (politik, samfund, etc) web-pages from extrabladet\u001b[0m\n\u001b[1;37m       ^\u001b[0m\n\u001b[1;31mSyntaxError\u001b[0m\u001b[1;31m:\u001b[0m invalid syntax\n"
     ]
    }
   ],
   "source": []
  },
  {
   "cell_type": "code",
   "execution_count": 106,
   "id": "d46b7d90",
   "metadata": {},
   "outputs": [],
   "source": [
    "from selenium import webdriver\n",
    "from webdriver_manager.chrome import ChromeDriverManager\n",
    "from selenium.webdriver.common.keys import Keys\n",
    "from selenium.webdriver.common.by import By\n",
    "import time\n",
    "from bs4 import BeautifulSoup\n",
    "import re\n",
    "from tqdm import tqdm\n",
    "import pandas as pd\n",
    "import requests\n",
    "\n",
    "headers = {\n",
    "    'name': 'Elena Gritskevich',\n",
    "    'email': 'hfb570@alumni.ku.dk',\n",
    "    'message': \"Student of Copenhagen University, doing 1 week research project on machine learning\"\n",
    "}"
   ]
  },
  {
   "cell_type": "code",
   "execution_count": 107,
   "id": "5fe25897",
   "metadata": {},
   "outputs": [
    {
     "data": {
      "text/html": [
       "<div>\n",
       "<style scoped>\n",
       "    .dataframe tbody tr th:only-of-type {\n",
       "        vertical-align: middle;\n",
       "    }\n",
       "\n",
       "    .dataframe tbody tr th {\n",
       "        vertical-align: top;\n",
       "    }\n",
       "\n",
       "    .dataframe thead th {\n",
       "        text-align: right;\n",
       "    }\n",
       "</style>\n",
       "<table border=\"1\" class=\"dataframe\">\n",
       "  <thead>\n",
       "    <tr style=\"text-align: right;\">\n",
       "      <th></th>\n",
       "      <th>categories</th>\n",
       "      <th>urls</th>\n",
       "    </tr>\n",
       "    <tr>\n",
       "      <th>url_num</th>\n",
       "      <th></th>\n",
       "      <th></th>\n",
       "    </tr>\n",
       "  </thead>\n",
       "  <tbody>\n",
       "    <tr>\n",
       "      <th>url0</th>\n",
       "      <td>Nyheder</td>\n",
       "      <td>https://ekstrabladet.dk/nyheder/</td>\n",
       "    </tr>\n",
       "    <tr>\n",
       "      <th>url1</th>\n",
       "      <td>Samfund</td>\n",
       "      <td>https://ekstrabladet.dk/nyheder/samfund/</td>\n",
       "    </tr>\n",
       "    <tr>\n",
       "      <th>url2</th>\n",
       "      <td>Krimi</td>\n",
       "      <td>https://ekstrabladet.dk/krimi/</td>\n",
       "    </tr>\n",
       "    <tr>\n",
       "      <th>url3</th>\n",
       "      <td>Penge</td>\n",
       "      <td>https://ekstrabladet.dk/penge/</td>\n",
       "    </tr>\n",
       "    <tr>\n",
       "      <th>url4</th>\n",
       "      <td>Politik</td>\n",
       "      <td>https://ekstrabladet.dk/nyheder/politik/</td>\n",
       "    </tr>\n",
       "    <tr>\n",
       "      <th>url5</th>\n",
       "      <td>Dansk politik</td>\n",
       "      <td>https://ekstrabladet.dk/nyheder/politik/danskp...</td>\n",
       "    </tr>\n",
       "    <tr>\n",
       "      <th>url6</th>\n",
       "      <td>Terror</td>\n",
       "      <td>https://ekstrabladet.dk/nyheder/terror/</td>\n",
       "    </tr>\n",
       "    <tr>\n",
       "      <th>url7</th>\n",
       "      <td>Krig &amp; katastrofer</td>\n",
       "      <td>https://ekstrabladet.dk/nyheder/krigogkatastro...</td>\n",
       "    </tr>\n",
       "    <tr>\n",
       "      <th>url8</th>\n",
       "      <td>Sport</td>\n",
       "      <td>https://ekstrabladet.dk/sport/</td>\n",
       "    </tr>\n",
       "    <tr>\n",
       "      <th>url9</th>\n",
       "      <td>Vejret</td>\n",
       "      <td>https://ekstrabladet.dk/nyheder/samfund/vejret/</td>\n",
       "    </tr>\n",
       "  </tbody>\n",
       "</table>\n",
       "</div>"
      ],
      "text/plain": [
       "                 categories                                               urls\n",
       "url_num                                                                       \n",
       "url0                Nyheder                   https://ekstrabladet.dk/nyheder/\n",
       "url1                Samfund           https://ekstrabladet.dk/nyheder/samfund/\n",
       "url2                  Krimi                     https://ekstrabladet.dk/krimi/\n",
       "url3                  Penge                     https://ekstrabladet.dk/penge/\n",
       "url4                Politik           https://ekstrabladet.dk/nyheder/politik/\n",
       "url5          Dansk politik  https://ekstrabladet.dk/nyheder/politik/danskp...\n",
       "url6                 Terror            https://ekstrabladet.dk/nyheder/terror/\n",
       "url7     Krig & katastrofer  https://ekstrabladet.dk/nyheder/krigogkatastro...\n",
       "url8                  Sport                     https://ekstrabladet.dk/sport/\n",
       "url9                 Vejret    https://ekstrabladet.dk/nyheder/samfund/vejret/"
      ]
     },
     "execution_count": 107,
     "metadata": {},
     "output_type": "execute_result"
    }
   ],
   "source": [
    "#create list of urls for scraping - news' categories pages\n",
    "url0 = 'https://ekstrabladet.dk/nyheder/'\n",
    "url1='https://ekstrabladet.dk/nyheder/samfund/'\n",
    "url2='https://ekstrabladet.dk/krimi/'\n",
    "url3='https://ekstrabladet.dk/penge/'\n",
    "url4='https://ekstrabladet.dk/nyheder/politik/'\n",
    "url5='https://ekstrabladet.dk/nyheder/politik/danskpolitik/'\n",
    "url6='https://ekstrabladet.dk/nyheder/terror/'\n",
    "url7='https://ekstrabladet.dk/nyheder/krigogkatastrofer/'\n",
    "url8= 'https://ekstrabladet.dk/sport/'  #10 additional sub urls\n",
    "#url81= 'https://ekstrabladet.dk/sport/fodbold/landsholdsfodbold/VM2022/'\n",
    "url9= 'https://ekstrabladet.dk/nyheder/samfund/vejret/'\n",
    "#url10= 'https://ekstrabladet.dk/underholdning/' #8 sub categories\n",
    "\n",
    "url_num= ['url0', 'url1', 'url2', 'url3', 'url4', 'url5', 'url6', 'url7', 'url8', 'url9']\n",
    "categories = ['Nyheder', 'Samfund', 'Krimi', 'Penge', 'Politik','Dansk politik', 'Terror', 'Krig & katastrofer', 'Sport', 'Vejret']\n",
    "urls = ['https://ekstrabladet.dk/nyheder/' \\\n",
    "        ,'https://ekstrabladet.dk/nyheder/samfund/' \\\n",
    "        ,'https://ekstrabladet.dk/krimi/' \\\n",
    "        ,'https://ekstrabladet.dk/penge/' \\\n",
    "        ,'https://ekstrabladet.dk/nyheder/politik/'\\\n",
    "        ,'https://ekstrabladet.dk/nyheder/politik/danskpolitik/'\\\n",
    "        ,'https://ekstrabladet.dk/nyheder/terror/'\\\n",
    "        ,'https://ekstrabladet.dk/nyheder/krigogkatastrofer/'\\\n",
    "        ,'https://ekstrabladet.dk/sport/' \\\n",
    "        ,'https://ekstrabladet.dk/nyheder/samfund/vejret/' ]\n",
    "\n",
    "data = {'url_num': url_num, 'categories': categories, 'urls': urls}\n",
    "url_list = pd.DataFrame(data)\n",
    "url_list.set_index('url_num', inplace=True)\n",
    "url_list"
   ]
  },
  {
   "cell_type": "code",
   "execution_count": 108,
   "id": "a8b7287b",
   "metadata": {},
   "outputs": [
    {
     "name": "stderr",
     "output_type": "stream",
     "text": [
      "100%|██████████| 10/10 [00:12<00:00,  1.20s/it]\n"
     ]
    },
    {
     "data": {
      "text/plain": [
       "['/nyheder/politik/villys-nye-comeback-derfor-stiller-jeg-op/9900422',\n",
       " '/nyheder/politik/danskpolitik/se-ellemanns-antistress-plan/9897132',\n",
       " '/nyheder/samfund/nikitas-dom-det-absolut-vaerste-sted-at-bo-i-koebenhavn/9896826',\n",
       " '/nyheder/politik/danskpolitik/ellemann-alene-i-verden/9900600',\n",
       " '/krimi/saadan-blev-23-tons-hash-fragtet-fra-landsby-til-landsby/9896641',\n",
       " '/nyheder/politik/danskpolitik/kaempeskandale-endte-som-fuser/9847290',\n",
       " '/nyheder/politik/danskpolitik/konservativ-krise-papes-problemer-staar-i-koe/9896705',\n",
       " '/nyheder/samfund/ledige-pladser-tjen-40.000-som-nyuddannet/9895539',\n",
       " '/nyheder/politik/danskpolitik/engells-dom-svag-start/9894415',\n",
       " '/nyheder/politik/danskpolitik/engell-alle-tabte-paa-lizette-sagen/9889779',\n",
       " '/krimi/michael-draebt-af-stik-i-brystet-niece-husker-ham-som-et-godt-menneske/9888793',\n",
       " '/krimi/svenske-narkobagmaend-mistaenkt-for-eksplosioner-i-fynsk-boligkvarterer/9883349',\n",
       " '/nyheder/politik/danskpolitik/man-doer-jo-ikke-af-at-komme-for-en-rigsret/9847454',\n",
       " '/nyheder/politik/danskpolitik/engell-ellemann-skal-levere-mirakler/9884183',\n",
       " '/nyheder/samfund/dmi-her-er-der-risiko-for-skybrud/9904045',\n",
       " '/nyheder/samfund/donald-trump-i-haardt-modsvar/9904017',\n",
       " '/nyheder/samfund/nikitas-dom-det-absolut-vaerste-sted-at-bo-i-koebenhavn/9896826',\n",
       " '/nyheder/krigogkatastrofer/bosniere-demonstrerer-efter-livestreaming-af-kvindedrab/9903779',\n",
       " '/nyheder/samfund/helt-ekstremt-jernbro-kollapset-i-norge/9903468',\n",
       " '/nyheder/samfund/biden-slagtet-fucking-ligeglad/9903318',\n",
       " '/nyheder/samfund/ledige-pladser-tjen-40.000-som-nyuddannet/9895539',\n",
       " '/nyheder/forsvundet-14-aarig-dreng-i-sverige-mistaenkt-draebt/9903376',\n",
       " '/nyheder/samfund/privatskole-bortviste-11-aarig-elev-for-at-gaa-med-toerklaede/9903265',\n",
       " '/nyheder/samfund/dmi-med-ny-melding-risiko-for-lokale-skybrud/9903066',\n",
       " '/nyheder/samfund/praesidentens-skandaleombruste-soen/9882361',\n",
       " '/nyheder/samfund/militaeranalytiker-russiske-fly-var-en-magtdemonstration/9902947',\n",
       " '/nyheder/samfund/vulkanudbrud-skaber-flykaos/9902868',\n",
       " '/nyheder/samfund/forsvaret-undersoegte-russiske-fly/9902693',\n",
       " '/nyheder/samfund/putins-store-oelkup-carlsberg-kylet-paa-porten/9868222',\n",
       " '/nyheder/samfund/mirakuloest-dreng-overlever-fald-paa-30-meter/9902505',\n",
       " '/nyheder/samfund/mandag-kan-blive-foerste-sommerdag-i-august/9902446',\n",
       " '/nyheder/samfund/tusindvis-af-patienter-mangler-kritisk-medicin-problem-vokser/9902323',\n",
       " '/penge/stor-mystik-koeber-landets-dyreste-lejlighed/9866747',\n",
       " '/nyheder/mineryddere-goer-voldsomt-fund-under-skole/9902408',\n",
       " '/nyheder/politik/villys-nye-comeback-derfor-stiller-jeg-op/9900422',\n",
       " '/nyheder/politik/danskpolitik/se-ellemanns-antistress-plan/9897132',\n",
       " '/nyheder/samfund/nikitas-dom-det-absolut-vaerste-sted-at-bo-i-koebenhavn/9896826',\n",
       " '/nyheder/politik/danskpolitik/ellemann-alene-i-verden/9900600',\n",
       " '/krimi/saadan-blev-23-tons-hash-fragtet-fra-landsby-til-landsby/9896641',\n",
       " '/nyheder/politik/danskpolitik/kaempeskandale-endte-som-fuser/9847290',\n",
       " '/nyheder/politik/danskpolitik/konservativ-krise-papes-problemer-staar-i-koe/9896705',\n",
       " '/nyheder/samfund/ledige-pladser-tjen-40.000-som-nyuddannet/9895539',\n",
       " '/nyheder/politik/danskpolitik/engells-dom-svag-start/9894415',\n",
       " '/nyheder/politik/danskpolitik/engell-alle-tabte-paa-lizette-sagen/9889779',\n",
       " '/krimi/michael-draebt-af-stik-i-brystet-niece-husker-ham-som-et-godt-menneske/9888793',\n",
       " '/krimi/svenske-narkobagmaend-mistaenkt-for-eksplosioner-i-fynsk-boligkvarterer/9883349',\n",
       " '/nyheder/politik/danskpolitik/man-doer-jo-ikke-af-at-komme-for-en-rigsret/9847454',\n",
       " '/nyheder/politik/danskpolitik/engell-ellemann-skal-levere-mirakler/9884183',\n",
       " '/nyheder/trump-tiltale-saerdeles-alvorlig/9904089',\n",
       " '/nyheder/guvernoer-stort-luftangreb-mod-ukraine/9904073',\n",
       " '/nyheder/politik/ny-tiltale-mod-kryptobaron-brugte-kundemidler-til-donationer/9903748',\n",
       " '/nyheder/politik/danskpolitik/fn-eksperter-om-afghanistan-loefterne-om-et-nyt-taliban-var-falske/9903847',\n",
       " '/nyheder/donald-trump-tiltalt-for-indblanding-i-praesidentvalg/9903851',\n",
       " '/nyheder/politik/danskpolitik/ecuadoriansk-politiker-meldes-draebt-nummer-to-paa-en-uge/9903816',\n",
       " '/nyheder/politik/danskpolitik/storjury-i-trump-sag-om-valgsnyd-indleverer-anklageskrift/9903826',\n",
       " '/nyheder/politik/danskpolitik/putin-og-kim-jong-un-udveksler-breve-og-lover-partnerskab/9903802',\n",
       " '/nyheder/politik/vild-forvirring-om-ny-trump-sag/9903438',\n",
       " '/nyheder/politik/storsmilende-diktator-kim-jong-un-paa-tur-i-kampvogn/9902990',\n",
       " '/nyheder/politik/danskpolitik/rebeller-afviser-mistillid-i-k-nu-har-en-af-dem-fortrudt/9903057',\n",
       " '/nyheder/politik/villys-nye-comeback-derfor-stiller-jeg-op/9900422',\n",
       " '/nyheder/politik/danskpolitik/statsrevisorerne-kritiserer-regelbrud-hos-sundhedsministeriet/9902870',\n",
       " '/penge/rublen-falder-laveste-siden-starten-af-krigen/9902571',\n",
       " '/nyheder/politik/danskpolitik/mystik-i-oesten-moedes-med-sporloest-forsvunden-kinesers-afloeser/9902526',\n",
       " '/nyheder/politik/danskpolitik/sosu-hjaelper-i-noedraab-hvorfor-vil-danmark-ikke-have-mig/9901583',\n",
       " '/nyheder/politik/danskpolitik/politisk-aftale-skal-saette-stopper-for-ulovligt-syn-af-biler/9902464',\n",
       " '/nyheder/politik/danskpolitik/olsen-dyhr-skoser-socialdemokratiets-indsats-for-rent-drikkevand/9902427',\n",
       " '/nyheder/politik/danskpolitik/se-ellemanns-antistress-plan/9897132',\n",
       " '/nyheder/politik/outsider-chokerer-med-foersteplads-i-argentinas-primaervalg/9902412',\n",
       " '/nyheder/politik/villys-nye-comeback-derfor-stiller-jeg-op/9900422',\n",
       " '/nyheder/politik/danskpolitik/se-ellemanns-antistress-plan/9897132',\n",
       " '/nyheder/samfund/nikitas-dom-det-absolut-vaerste-sted-at-bo-i-koebenhavn/9896826',\n",
       " '/nyheder/politik/danskpolitik/ellemann-alene-i-verden/9900600',\n",
       " '/krimi/saadan-blev-23-tons-hash-fragtet-fra-landsby-til-landsby/9896641',\n",
       " '/nyheder/politik/danskpolitik/kaempeskandale-endte-som-fuser/9847290',\n",
       " '/nyheder/politik/danskpolitik/konservativ-krise-papes-problemer-staar-i-koe/9896705',\n",
       " '/nyheder/samfund/ledige-pladser-tjen-40.000-som-nyuddannet/9895539',\n",
       " '/nyheder/politik/danskpolitik/engells-dom-svag-start/9894415',\n",
       " '/nyheder/politik/danskpolitik/engell-alle-tabte-paa-lizette-sagen/9889779',\n",
       " '/krimi/michael-draebt-af-stik-i-brystet-niece-husker-ham-som-et-godt-menneske/9888793',\n",
       " '/krimi/svenske-narkobagmaend-mistaenkt-for-eksplosioner-i-fynsk-boligkvarterer/9883349',\n",
       " '/nyheder/politik/danskpolitik/man-doer-jo-ikke-af-at-komme-for-en-rigsret/9847454',\n",
       " '/nyheder/politik/danskpolitik/engell-ellemann-skal-levere-mirakler/9884183',\n",
       " '/nyheder/politik/danskpolitik/fn-eksperter-om-afghanistan-loefterne-om-et-nyt-taliban-var-falske/9903847',\n",
       " '/nyheder/donald-trump-tiltalt-for-indblanding-i-praesidentvalg/9903851',\n",
       " '/nyheder/politik/danskpolitik/ecuadoriansk-politiker-meldes-draebt-nummer-to-paa-en-uge/9903816',\n",
       " '/nyheder/politik/danskpolitik/storjury-i-trump-sag-om-valgsnyd-indleverer-anklageskrift/9903826',\n",
       " '/nyheder/politik/danskpolitik/putin-og-kim-jong-un-udveksler-breve-og-lover-partnerskab/9903802',\n",
       " '/nyheder/politik/danskpolitik/rebeller-afviser-mistillid-i-k-nu-har-en-af-dem-fortrudt/9903057',\n",
       " '/nyheder/politik/danskpolitik/statsrevisorerne-kritiserer-regelbrud-hos-sundhedsministeriet/9902870',\n",
       " '/penge/rublen-falder-laveste-siden-starten-af-krigen/9902571',\n",
       " '/nyheder/politik/danskpolitik/mystik-i-oesten-moedes-med-sporloest-forsvunden-kinesers-afloeser/9902526',\n",
       " '/nyheder/politik/danskpolitik/sosu-hjaelper-i-noedraab-hvorfor-vil-danmark-ikke-have-mig/9901583',\n",
       " '/nyheder/politik/danskpolitik/politisk-aftale-skal-saette-stopper-for-ulovligt-syn-af-biler/9902464',\n",
       " '/nyheder/politik/danskpolitik/olsen-dyhr-skoser-socialdemokratiets-indsats-for-rent-drikkevand/9902427',\n",
       " '/nyheder/politik/danskpolitik/se-ellemanns-antistress-plan/9897132',\n",
       " '/nyheder/krigogkatastrofer/nigers-militaerjunta-vil-retsforfoelge-praesident-for-forraederi/9902392',\n",
       " '/nyheder/samfund/briter-advares-mod-at-rejse-til-sverige/9901880',\n",
       " '/nyheder/haardt-presset-nye-tider-for-wagner-gruppe/9901574',\n",
       " '/nyheder/politik/danskpolitik/ellemann-alene-i-verden/9900600',\n",
       " '/nyheder/politik/regeringen-du-skal-ikke-selv-spare-op-til-aeldrepleje/9901434',\n",
       " '/nyheder/politik/danskpolitik/engell-er-hun-tosset/9839469',\n",
       " '/nyheder/politik/danskpolitik/mette-f.-garanterer-vil-sige-nej-til-nato-post/9901054',\n",
       " '/nyheder/politik/danskpolitik/se-ellemanns-antistress-plan/9897132',\n",
       " '/nyheder/politik/danskpolitik/konservativ-krise-papes-problemer-staar-i-koe/9896705',\n",
       " '/nyheder/politik/danskpolitik/engells-dom-svag-start/9894415',\n",
       " '/nyheder/politik/danskpolitik/hemmeligt-projekt-vil-skjule-store-ejendomsopkoeb/9868752',\n",
       " '/nyheder/politik/danskpolitik/engell-om-v-og-k-som-hund-og-kat/9854414',\n",
       " '/nyheder/politik/danskpolitik/hvis-hund-har-skidt-paa-borgen/9851172',\n",
       " '/nyheder/politik/danskpolitik/bajere-bold-og-billetter-folkevalgte-flyder-i-fryns/9848923',\n",
       " '/nyheder/politik/danskpolitik/masterplan-smuldrer-loeber-fra-loefterne/9763311',\n",
       " '/nyheder/politik/engell-her-er-problemet/9845109',\n",
       " '/nyheder/politik/engell-bomberegn-af-krav-venter-ellemann/9840031',\n",
       " '/nyheder/seks-kendt-skyldige-i-drab-i-bruxelles-terrorsag/9876023',\n",
       " '/nyheder/krigogkatastrofer/rusland-ukraine-har-angrebet-bro-til-krim/9865349',\n",
       " '/nyheder/krigogkatastrofer/svensk-iraner-er-blevet-henrettet-i-iran-trods-protester/9751517',\n",
       " '/nyheder/krigogkatastrofer/flere-3d-printede-vaaben-beslaglaegges-i-sverige/9681054',\n",
       " '/nyheder/putin-forlanger-dansk-samarbejde-i-sag-om-nord-stream-sabotage/9675349',\n",
       " '/nyheder/krigogkatastrofer/irans-oeverste-domstol-stadfaester-doedsdom-til-svensk-iraner/9672051',\n",
       " '/nyheder/krigogkatastrofer/manchester-angreb-i-2017-kunne-maaske-have-vaeret-afvaerget/9658056',\n",
       " '/nyheder/terror/cia-kina-overvejer-vaabenhjaelp-til-putin/9651134',\n",
       " '/nyheder/krigogkatastrofer/mindst-ti-draebt-i-bombeangreb-mod-kirke/9590995',\n",
       " '/nyheder/krigogkatastrofer/bombe-eksploderer-i-det-centrale-kabul-med-mange-ofre/9584550',\n",
       " '/nyheder/krigogkatastrofer/1200-personer-er-anholdt-i-brasilien-efter-stormloeb/9581563',\n",
       " '/nyheder/krigogkatastrofer/202-doede-nu-er-mand-bag-bali-bomber-loesladt/9544294',\n",
       " '/nyheder/krigogkatastrofer/tyrkiet-haevner-istanbul-angreb-og-bomber-kurdere-i-irak-og-syrien/9519915',\n",
       " '/nyheder/terror/spionchef-afsloerer-uhyggelige-attentatplaner/9516723',\n",
       " '/nyheder/krigogkatastrofer/ofre-afviser-undskyldning-fra-bombemand/9465463',\n",
       " '/nyheder/krigogkatastrofer/russisk-angreb-har-ramt-infrastruktur-i-lviv-i-ukraine/9464117',\n",
       " '/nyheder/putin-vi-har-i-foretaget-missilangreb-i-ukraine/9462404',\n",
       " '/nyheder/krigogkatastrofer/putin-kalder-sabotage-af-nord-stream-international-terror/9448943',\n",
       " '/nyheder/krigogkatastrofer/fn-slaar-alarm-reel-risiko-for-atomkatastrofe-ved-kraftvaerk/9368399',\n",
       " '/nyheder/krigogkatastrofer/russisk-embedsmand-likvideret/9314144',\n",
       " '/nyheder/politik/villys-nye-comeback-derfor-stiller-jeg-op/9900422',\n",
       " '/nyheder/politik/danskpolitik/se-ellemanns-antistress-plan/9897132',\n",
       " '/nyheder/samfund/nikitas-dom-det-absolut-vaerste-sted-at-bo-i-koebenhavn/9896826',\n",
       " '/nyheder/politik/danskpolitik/ellemann-alene-i-verden/9900600',\n",
       " '/krimi/saadan-blev-23-tons-hash-fragtet-fra-landsby-til-landsby/9896641',\n",
       " '/nyheder/politik/danskpolitik/kaempeskandale-endte-som-fuser/9847290',\n",
       " '/nyheder/politik/danskpolitik/konservativ-krise-papes-problemer-staar-i-koe/9896705',\n",
       " '/nyheder/samfund/ledige-pladser-tjen-40.000-som-nyuddannet/9895539',\n",
       " '/nyheder/politik/danskpolitik/engells-dom-svag-start/9894415',\n",
       " '/nyheder/politik/danskpolitik/engell-alle-tabte-paa-lizette-sagen/9889779',\n",
       " '/krimi/michael-draebt-af-stik-i-brystet-niece-husker-ham-som-et-godt-menneske/9888793',\n",
       " '/krimi/svenske-narkobagmaend-mistaenkt-for-eksplosioner-i-fynsk-boligkvarterer/9883349',\n",
       " '/nyheder/politik/danskpolitik/man-doer-jo-ikke-af-at-komme-for-en-rigsret/9847454',\n",
       " '/nyheder/politik/danskpolitik/engell-ellemann-skal-levere-mirakler/9884183',\n",
       " '/nyheder/krigogkatastrofer/doedstal-stiger-til-99-efter-skovbrande-paa-hawaii/9903792',\n",
       " '/nyheder/krigogkatastrofer/bosniere-demonstrerer-efter-livestreaming-af-kvindedrab/9903779',\n",
       " '/nyheder/krigogkatastrofer/vanvittige-fund-i-wagner-bossens-palae/9851013',\n",
       " '/nyheder/12-draebt-og-50-saaret-i-brand-i-rusland/9903765',\n",
       " '/penge/rublen-falder-laveste-siden-starten-af-krigen/9902571',\n",
       " '/nyheder/mineryddere-goer-voldsomt-fund-under-skole/9902408',\n",
       " '/nyheder/krigogkatastrofer/mytisk-lejesoldat-bagmanden-der-forsvandt/9834945',\n",
       " '/nyheder/krigogkatastrofer/nigers-militaerjunta-vil-retsforfoelge-praesident-for-forraederi/9902392',\n",
       " '/nyheder/advarer-turister-hold-jer-vaek/9902383',\n",
       " '/nyheder/samfund/briter-advares-mod-at-rejse-til-sverige/9901880',\n",
       " '/nyheder/krigogkatastrofer/de-skal-redde-putin/9832179',\n",
       " '/nyheder/krigogkatastrofer/de-braender-lig/9898174',\n",
       " '/nyheder/krigogkatastrofer/russiske-bomber-far-mor-12-aarig-og-baby-draebt/9901650',\n",
       " '/nyheder/haardt-presset-nye-tider-for-wagner-gruppe/9901574',\n",
       " '/nyheder/krigogkatastrofer/manden-bag-vanviddet-her-er-wagner-gruppens-leder/9831945',\n",
       " '/nyheder/krigogkatastrofer/beboere-paa-hawaii-kritiserer-manglende-varsel-under-skovbrand/9901374',\n",
       " '/nyheder/krigogkatastrofer/tragedie-i-ferieparadis-doedeligste-i-100-aar/9901380',\n",
       " '/nyheder/krigogkatastrofer/ukraine-slaar-fast-forvent-flere-angreb/9900345',\n",
       " '/nyheder/krigogkatastrofer/her-er-nord-stream-teorierne/9828334',\n",
       " '/nyheder/krigogkatastrofer/goer-fund-i-putins-forladte-luksusvilla/9824114',\n",
       " '/nyheder/politik/villys-nye-comeback-derfor-stiller-jeg-op/9900422',\n",
       " '/nyheder/politik/danskpolitik/se-ellemanns-antistress-plan/9897132',\n",
       " '/nyheder/samfund/nikitas-dom-det-absolut-vaerste-sted-at-bo-i-koebenhavn/9896826',\n",
       " '/nyheder/politik/danskpolitik/ellemann-alene-i-verden/9900600',\n",
       " '/krimi/saadan-blev-23-tons-hash-fragtet-fra-landsby-til-landsby/9896641',\n",
       " '/nyheder/politik/danskpolitik/kaempeskandale-endte-som-fuser/9847290',\n",
       " '/nyheder/politik/danskpolitik/konservativ-krise-papes-problemer-staar-i-koe/9896705',\n",
       " '/nyheder/samfund/ledige-pladser-tjen-40.000-som-nyuddannet/9895539',\n",
       " '/nyheder/politik/danskpolitik/engells-dom-svag-start/9894415',\n",
       " '/nyheder/politik/danskpolitik/engell-alle-tabte-paa-lizette-sagen/9889779',\n",
       " '/krimi/michael-draebt-af-stik-i-brystet-niece-husker-ham-som-et-godt-menneske/9888793',\n",
       " '/krimi/svenske-narkobagmaend-mistaenkt-for-eksplosioner-i-fynsk-boligkvarterer/9883349',\n",
       " '/nyheder/politik/danskpolitik/man-doer-jo-ikke-af-at-komme-for-en-rigsret/9847454',\n",
       " '/nyheder/politik/danskpolitik/engell-ellemann-skal-levere-mirakler/9884183',\n",
       " '/nyheder/krigogkatastrofer/beboere-paa-hawaii-kritiserer-manglende-varsel-under-skovbrand/9901374',\n",
       " '/nyheder/samfund/vejret/hundredvis-af-stjerneskud-vil-ramme-nattehimlen/9901023',\n",
       " '/nyheder/samfund/efter-jordskred-i-norge-65-huse-evakueret/9896022',\n",
       " '/nyheder/samfund/vanvittigt-vejr-2000-anmeldelser-om-skader/9895668',\n",
       " '/nyheder/krigogkatastrofer/kina-frygter-smittespredning-fra-doede-dyr-efter-uvejr/9894670',\n",
       " '/nyheder/samfund/vejret/voldsomt-vejr-har-affoedt-over-1000-skadesanmeldelser/9894584',\n",
       " '/nyheder/samfund/vejret/utaette-tage-og-flyvende-trampoliner-uvejr-giver-flere-skader/9893558',\n",
       " '/nyheder/juli-slaar-varmerekord/9893246',\n",
       " '/nyheder/vejrkaos-rammer-usa-to-personer-doede/9893169',\n",
       " '/nyheder/samfund/vildt-vejr-togdriften-paavirket-i-hele-landet/9893159',\n",
       " '/nyheder/samfund/vejret/oslos-borgmester-opfordrer-til-hjemmearbejde-under-uvejr/9893024',\n",
       " '/nyheder/samfund/vejret/alle-afgange-med-hurtigfaergen-fra-sverige-til-bornholm-aflyst/9891890',\n",
       " '/nyheder/krigogkatastrofer/orkanvarsel-faar-danske-spejdere-til-at-forlade-lejr-i-sydkorea/9891811',\n",
       " '/nyheder/samfund/vejret/voldsomt-vejr-rammer-danmark-masser-af-regn-og-blaest/9891764',\n",
       " '/nyheder/samfund/vejret/ny-kedelig-temperaturrekord/9888674',\n",
       " '/nyheder/samfund/vejret/skybrud-truer-mulighed-for-sjaeldent-vejrfaenomen/9886624',\n",
       " '/nyheder/krigogkatastrofer/onsdag-er-jordens-ressourcer-opbrugt-for-2023/9884501',\n",
       " '/nyheder/samfund/vejret/rekordregnvejr-rammer-beijing-efter-ekstreme-hedeboelger/9884585',\n",
       " '/nyheder/krigogkatastrofer/kina-ramt-af-kraftigste-storm-i-aarevis-11-er-draebt-i-beijing/9883031',\n",
       " '/nyheder/samfund/juli-kan-blive-den-vaadeste-nogensinde-i-danmark/9882786',\n",
       " '/nyheder/trump-tiltale-saerdeles-alvorlig/9904089',\n",
       " '/nyheder/guvernoer-stort-luftangreb-mod-ukraine/9904073',\n",
       " '/nyheder/samfund/dmi-her-er-der-risiko-for-skybrud/9904045',\n",
       " '/nyheder/krigogkatastrofer/doedstal-stiger-til-99-efter-skovbrande-paa-hawaii/9903792',\n",
       " '/nyheder/samfund/donald-trump-i-haardt-modsvar/9904017',\n",
       " '/nyheder/politik/ny-tiltale-mod-kryptobaron-brugte-kundemidler-til-donationer/9903748',\n",
       " '/nyheder/politik/danskpolitik/fn-eksperter-om-afghanistan-loefterne-om-et-nyt-taliban-var-falske/9903847',\n",
       " '/nyheder/lederen/mette-har-en-anden-version/9903287',\n",
       " '/nyheder/donald-trump-tiltalt-for-indblanding-i-praesidentvalg/9903851',\n",
       " '/nyheder/politik/danskpolitik/ecuadoriansk-politiker-meldes-draebt-nummer-to-paa-en-uge/9903816',\n",
       " '/nyheder/politik/danskpolitik/storjury-i-trump-sag-om-valgsnyd-indleverer-anklageskrift/9903826',\n",
       " '/nyheder/politik/danskpolitik/putin-og-kim-jong-un-udveksler-breve-og-lover-partnerskab/9903802',\n",
       " '/nyheder/krigogkatastrofer/bosniere-demonstrerer-efter-livestreaming-af-kvindedrab/9903779',\n",
       " '/nyheder/12-draebt-og-50-saaret-i-brand-i-rusland/9903765',\n",
       " '/nyheder/videnskab/mand-smittet-med-ukendt-bakterie-efter-bid/9898893',\n",
       " '/nyheder/videnskab/600-mio.-aar-gammel-forskere-forstaar-det-ikke/9896842',\n",
       " '/nyheder/samfund/helt-ekstremt-jernbro-kollapset-i-norge/9903468',\n",
       " '/nyheder/politik/vild-forvirring-om-ny-trump-sag/9903438',\n",
       " '/nyheder/samfund/biden-slagtet-fucking-ligeglad/9903318',\n",
       " '/nyheder/forsvundet-14-aarig-dreng-i-sverige-mistaenkt-draebt/9903376',\n",
       " '/nyheder/samfund/dmi-her-er-der-risiko-for-skybrud/9904045',\n",
       " '/nyheder/samfund/donald-trump-i-haardt-modsvar/9904017',\n",
       " '/nyheder/krigogkatastrofer/bosniere-demonstrerer-efter-livestreaming-af-kvindedrab/9903779',\n",
       " '/nyheder/samfund/helt-ekstremt-jernbro-kollapset-i-norge/9903468',\n",
       " '/nyheder/samfund/biden-slagtet-fucking-ligeglad/9903318',\n",
       " '/nyheder/forsvundet-14-aarig-dreng-i-sverige-mistaenkt-draebt/9903376',\n",
       " '/nyheder/samfund/privatskole-bortviste-11-aarig-elev-for-at-gaa-med-toerklaede/9903265',\n",
       " '/nyheder/samfund/dmi-med-ny-melding-risiko-for-lokale-skybrud/9903066',\n",
       " '/nyheder/samfund/militaeranalytiker-russiske-fly-var-en-magtdemonstration/9902947',\n",
       " '/nyheder/samfund/vulkanudbrud-skaber-flykaos/9902868',\n",
       " '/nyheder/samfund/forsvaret-undersoegte-russiske-fly/9902693',\n",
       " '/nyheder/samfund/mirakuloest-dreng-overlever-fald-paa-30-meter/9902505',\n",
       " '/nyheder/samfund/mandag-kan-blive-foerste-sommerdag-i-august/9902446',\n",
       " '/nyheder/samfund/tusindvis-af-patienter-mangler-kritisk-medicin-problem-vokser/9902323',\n",
       " '/nyheder/mineryddere-goer-voldsomt-fund-under-skole/9902408',\n",
       " '/nyheder/advarer-turister-hold-jer-vaek/9902383',\n",
       " '/nyheder/samfund/jordansk-haer-nedskyder-drone-floej-med-meth/9902321',\n",
       " '/nyheder/samfund/tidligere-folketingsmedlem-og-borgmester-politianmeldt/9902286',\n",
       " '/nyheder/samfund/nyt-studie-afliver-myte-dansk-ekspert-bakker-op/9896481',\n",
       " '/nyheder/samfund/morten-skov-christiansen-stiller-op-til-fh-formandsvalg/9902041']"
      ]
     },
     "execution_count": 108,
     "metadata": {},
     "output_type": "execute_result"
    }
   ],
   "source": [
    "#scrap all links to articles from category pages\n",
    "\n",
    "art_urls= []\n",
    "\n",
    "for link in tqdm(url_list['urls']):\n",
    "    response= requests.get(link, headers=headers)\n",
    "    soup = BeautifulSoup(response.content, 'lxml')\n",
    "    time.sleep(1)\n",
    "    \n",
    "    # Find all <a> elements with class 'card-mode' and extract href attribute\n",
    "    href_elements = soup.find_all('a', class_='card-mode')\n",
    "    \n",
    "    # Extract href attribute value from each <a> element and append to art_urls list\n",
    "    for href_element in href_elements:\n",
    "        href = href_element.get('href')\n",
    "        if href:\n",
    "            art_urls.append(href)\n",
    "\n",
    "art_urls\n",
    "\n",
    "      "
   ]
  },
  {
   "cell_type": "code",
   "execution_count": 109,
   "id": "d972891d",
   "metadata": {},
   "outputs": [
    {
     "data": {
      "text/html": [
       "<div>\n",
       "<style scoped>\n",
       "    .dataframe tbody tr th:only-of-type {\n",
       "        vertical-align: middle;\n",
       "    }\n",
       "\n",
       "    .dataframe tbody tr th {\n",
       "        vertical-align: top;\n",
       "    }\n",
       "\n",
       "    .dataframe thead th {\n",
       "        text-align: right;\n",
       "    }\n",
       "</style>\n",
       "<table border=\"1\" class=\"dataframe\">\n",
       "  <thead>\n",
       "    <tr style=\"text-align: right;\">\n",
       "      <th></th>\n",
       "      <th>full_link</th>\n",
       "    </tr>\n",
       "  </thead>\n",
       "  <tbody>\n",
       "    <tr>\n",
       "      <th>0</th>\n",
       "      <td>https://ekstrabladet.dk/nyheder/politik/villys...</td>\n",
       "    </tr>\n",
       "    <tr>\n",
       "      <th>1</th>\n",
       "      <td>https://ekstrabladet.dk/nyheder/politik/danskp...</td>\n",
       "    </tr>\n",
       "    <tr>\n",
       "      <th>2</th>\n",
       "      <td>https://ekstrabladet.dk/nyheder/samfund/nikita...</td>\n",
       "    </tr>\n",
       "    <tr>\n",
       "      <th>3</th>\n",
       "      <td>https://ekstrabladet.dk/nyheder/politik/danskp...</td>\n",
       "    </tr>\n",
       "    <tr>\n",
       "      <th>4</th>\n",
       "      <td>https://ekstrabladet.dk/krimi/saadan-blev-23-t...</td>\n",
       "    </tr>\n",
       "    <tr>\n",
       "      <th>...</th>\n",
       "      <td>...</td>\n",
       "    </tr>\n",
       "    <tr>\n",
       "      <th>235</th>\n",
       "      <td>https://ekstrabladet.dk/nyheder/advarer-turist...</td>\n",
       "    </tr>\n",
       "    <tr>\n",
       "      <th>236</th>\n",
       "      <td>https://ekstrabladet.dk/nyheder/samfund/jordan...</td>\n",
       "    </tr>\n",
       "    <tr>\n",
       "      <th>237</th>\n",
       "      <td>https://ekstrabladet.dk/nyheder/samfund/tidlig...</td>\n",
       "    </tr>\n",
       "    <tr>\n",
       "      <th>238</th>\n",
       "      <td>https://ekstrabladet.dk/nyheder/samfund/nyt-st...</td>\n",
       "    </tr>\n",
       "    <tr>\n",
       "      <th>239</th>\n",
       "      <td>https://ekstrabladet.dk/nyheder/samfund/morten...</td>\n",
       "    </tr>\n",
       "  </tbody>\n",
       "</table>\n",
       "<p>240 rows × 1 columns</p>\n",
       "</div>"
      ],
      "text/plain": [
       "                                             full_link\n",
       "0    https://ekstrabladet.dk/nyheder/politik/villys...\n",
       "1    https://ekstrabladet.dk/nyheder/politik/danskp...\n",
       "2    https://ekstrabladet.dk/nyheder/samfund/nikita...\n",
       "3    https://ekstrabladet.dk/nyheder/politik/danskp...\n",
       "4    https://ekstrabladet.dk/krimi/saadan-blev-23-t...\n",
       "..                                                 ...\n",
       "235  https://ekstrabladet.dk/nyheder/advarer-turist...\n",
       "236  https://ekstrabladet.dk/nyheder/samfund/jordan...\n",
       "237  https://ekstrabladet.dk/nyheder/samfund/tidlig...\n",
       "238  https://ekstrabladet.dk/nyheder/samfund/nyt-st...\n",
       "239  https://ekstrabladet.dk/nyheder/samfund/morten...\n",
       "\n",
       "[240 rows x 1 columns]"
      ]
     },
     "execution_count": 109,
     "metadata": {},
     "output_type": "execute_result"
    }
   ],
   "source": [
    "art_links1= pd.DataFrame(art_urls)\n",
    "art_links1['full_link'] = 'https://ekstrabladet.dk' + art_links1[0]\n",
    "art_links1.drop(columns=[0], inplace=True)\n",
    "art_links1"
   ]
  },
  {
   "cell_type": "code",
   "execution_count": 196,
   "id": "9f95d22b",
   "metadata": {},
   "outputs": [
    {
     "name": "stderr",
     "output_type": "stream",
     "text": [
      "100%|██████████| 240/240 [01:25<00:00,  2.82it/s]"
     ]
    },
    {
     "name": "stdout",
     "output_type": "stream",
     "text": [
      "Scraping completed.\n"
     ]
    },
    {
     "name": "stderr",
     "output_type": "stream",
     "text": [
      "\n"
     ]
    }
   ],
   "source": [
    "# scrap data about each article \n",
    "data = []\n",
    "\n",
    "\n",
    "#for link in tqdm(art_links1['full_link']): ## first itteration, later to be changed for scrapped 'combined_urls[0]'\n",
    "for link in tqdm(df['link']):\n",
    "    try:\n",
    "        response = requests.get(link, headers=headers)\n",
    "        response.raise_for_status()\n",
    "        soup = BeautifulSoup(response.content, 'lxml')\n",
    "\n",
    "        try:\n",
    "            title = soup.find(class_='art-title').text.strip()\n",
    "        except AttributeError:\n",
    "            title = None\n",
    "\n",
    "        try:\n",
    "            category = soup.find(class_='section-indicator flex flex-align--center margin-m--r').text.strip()\n",
    "        except AttributeError:\n",
    "            category = None\n",
    "\n",
    "        try:\n",
    "            body = soup.find(class_='article-bodytext').text.strip()\n",
    "        except AttributeError:\n",
    "            body = None\n",
    "\n",
    "        try:\n",
    "            time = soup.find('div', class_='toggle toggle-off').find('span', {'data-timestamp': True})['data-timestamp']\n",
    "        except AttributeError:\n",
    "            time = None\n",
    "\n",
    "        try:\n",
    "            author = soup.find(class_='flex flex-wrap--wrap').text.strip()\n",
    "        except AttributeError:\n",
    "            author = None\n",
    "\n",
    "            if author is None:\n",
    "                try:\n",
    "                    author = soup.find(class_='fontweight-bold').text.strip()\n",
    "                except AttributeError:\n",
    "                    author = None\n",
    "\n",
    "        data.append({'link': link, 'title': title, 'category': category, 'body': body, 'time': time, 'author': author})\n",
    "    \n",
    "    except requests.exceptions.RequestException as e:\n",
    "        print(f\"Error requesting link: {link}. Skipping to the next link.\")\n",
    "        continue  # Skip to the next iteration if erroneous link\n",
    "\n",
    "data = pd.DataFrame(data)\n",
    "data.to_csv('extrabladet_14082023_2.csv', index=False)\n",
    "\n",
    "print(\"Scraping completed.\")\n"
   ]
  },
  {
   "cell_type": "code",
   "execution_count": 197,
   "id": "5f6f2e58",
   "metadata": {},
   "outputs": [
    {
     "data": {
      "text/html": [
       "<div>\n",
       "<style scoped>\n",
       "    .dataframe tbody tr th:only-of-type {\n",
       "        vertical-align: middle;\n",
       "    }\n",
       "\n",
       "    .dataframe tbody tr th {\n",
       "        vertical-align: top;\n",
       "    }\n",
       "\n",
       "    .dataframe thead th {\n",
       "        text-align: right;\n",
       "    }\n",
       "</style>\n",
       "<table border=\"1\" class=\"dataframe\">\n",
       "  <thead>\n",
       "    <tr style=\"text-align: right;\">\n",
       "      <th></th>\n",
       "      <th>link</th>\n",
       "      <th>title</th>\n",
       "      <th>category</th>\n",
       "      <th>body</th>\n",
       "      <th>time</th>\n",
       "      <th>author</th>\n",
       "    </tr>\n",
       "  </thead>\n",
       "  <tbody>\n",
       "    <tr>\n",
       "      <th>0</th>\n",
       "      <td>https://ekstrabladet.dk/nyheder/politik/villys...</td>\n",
       "      <td>Villys nye comeback: Derfor stiller jeg op</td>\n",
       "      <td>Politik</td>\n",
       "      <td>Villy!, Villy! Villy! Der var jubel og vilde k...</td>\n",
       "      <td>2023-08-14T13:13:46+02:00</td>\n",
       "      <td>Marie Lade</td>\n",
       "    </tr>\n",
       "    <tr>\n",
       "      <th>1</th>\n",
       "      <td>https://ekstrabladet.dk/nyheder/politik/danskp...</td>\n",
       "      <td>Se Ellemanns antistress-plan</td>\n",
       "      <td>Dansk politik</td>\n",
       "      <td>Venstre-formand og forsvarsminister Jakob Elle...</td>\n",
       "      <td>2023-08-14T05:12:04+02:00</td>\n",
       "      <td>Jonas Sahl</td>\n",
       "    </tr>\n",
       "    <tr>\n",
       "      <th>2</th>\n",
       "      <td>https://ekstrabladet.dk/nyheder/samfund/nikita...</td>\n",
       "      <td>Nikitas dom: - Det absolut værste sted at bo i...</td>\n",
       "      <td>Samfund</td>\n",
       "      <td>Til næste sommer har jeg boet i København i ti...</td>\n",
       "      <td>2023-08-13T17:02:27+02:00</td>\n",
       "      <td>Nikita Klaestrup</td>\n",
       "    </tr>\n",
       "    <tr>\n",
       "      <th>3</th>\n",
       "      <td>https://ekstrabladet.dk/nyheder/politik/danskp...</td>\n",
       "      <td>Ellemann alene i verden</td>\n",
       "      <td>Dansk politik</td>\n",
       "      <td>Som minister findes der ingen i systemet, man ...</td>\n",
       "      <td>2023-08-13T09:54:10+02:00</td>\n",
       "      <td>Hans Engell</td>\n",
       "    </tr>\n",
       "    <tr>\n",
       "      <th>4</th>\n",
       "      <td>https://ekstrabladet.dk/krimi/saadan-blev-23-t...</td>\n",
       "      <td>Sådan blev 2,3 tons hash fragtet fra landsby t...</td>\n",
       "      <td>Krimi</td>\n",
       "      <td>Tre byer på Sjælland spiller afgørende roller ...</td>\n",
       "      <td>2023-08-13T07:11:03+02:00</td>\n",
       "      <td>Bjarke Vestesen</td>\n",
       "    </tr>\n",
       "    <tr>\n",
       "      <th>...</th>\n",
       "      <td>...</td>\n",
       "      <td>...</td>\n",
       "      <td>...</td>\n",
       "      <td>...</td>\n",
       "      <td>...</td>\n",
       "      <td>...</td>\n",
       "    </tr>\n",
       "    <tr>\n",
       "      <th>235</th>\n",
       "      <td>https://ekstrabladet.dk/nyheder/samfund/unders...</td>\n",
       "      <td>Underskud på 51 milliarder</td>\n",
       "      <td>Samfund</td>\n",
       "      <td>51.000.000.000.51 milliarder, et ubeskriveligt...</td>\n",
       "      <td>2023-08-13T10:59:38+02:00</td>\n",
       "      <td>Lasse Emil Stiigvad</td>\n",
       "    </tr>\n",
       "    <tr>\n",
       "      <th>236</th>\n",
       "      <td>https://ekstrabladet.dk/nyheder/samfund/person...</td>\n",
       "      <td>Personer under 18 år kan have ret til juridisk...</td>\n",
       "      <td>Samfund</td>\n",
       "      <td>Personer under 18 år kan på trods af dansk lov...</td>\n",
       "      <td>2023-08-13T10:58:52+02:00</td>\n",
       "      <td>/ritzau/</td>\n",
       "    </tr>\n",
       "    <tr>\n",
       "      <th>237</th>\n",
       "      <td>https://ekstrabladet.dk/nyheder/samfund/dmi-so...</td>\n",
       "      <td>DMI: Sommeren gør comeback</td>\n",
       "      <td>Samfund</td>\n",
       "      <td>Man tør næsten ikke tro det, men den skulle væ...</td>\n",
       "      <td>2023-08-13T07:54:07+02:00</td>\n",
       "      <td>Mads Romme\\n\\nHusk den gode tone!\\n\\n         ...</td>\n",
       "    </tr>\n",
       "    <tr>\n",
       "      <th>238</th>\n",
       "      <td>https://ekstrabladet.dk/nyheder/krigogkatastro...</td>\n",
       "      <td>Beboere på Hawaii kritiserer manglende varsel ...</td>\n",
       "      <td>Krig &amp; katastrofer</td>\n",
       "      <td>Indbyggere på den amerikanske ø Maui føler, at...</td>\n",
       "      <td>2023-08-13T06:34:51+02:00</td>\n",
       "      <td>/ritzau/AFP</td>\n",
       "    </tr>\n",
       "    <tr>\n",
       "      <th>239</th>\n",
       "      <td>https://ekstrabladet.dk/nyheder/samfund/claus-...</td>\n",
       "      <td>Claus fik p-bøde: Men bilen befandt sig 350 km...</td>\n",
       "      <td>Samfund</td>\n",
       "      <td>Har du prøvet noget lignende, så hører vi gern...</td>\n",
       "      <td>2023-08-13T06:14:23+02:00</td>\n",
       "      <td>David Attardo\\n\\nHusk den gode tone!\\n\\n      ...</td>\n",
       "    </tr>\n",
       "  </tbody>\n",
       "</table>\n",
       "<p>240 rows × 6 columns</p>\n",
       "</div>"
      ],
      "text/plain": [
       "                                                  link  \\\n",
       "0    https://ekstrabladet.dk/nyheder/politik/villys...   \n",
       "1    https://ekstrabladet.dk/nyheder/politik/danskp...   \n",
       "2    https://ekstrabladet.dk/nyheder/samfund/nikita...   \n",
       "3    https://ekstrabladet.dk/nyheder/politik/danskp...   \n",
       "4    https://ekstrabladet.dk/krimi/saadan-blev-23-t...   \n",
       "..                                                 ...   \n",
       "235  https://ekstrabladet.dk/nyheder/samfund/unders...   \n",
       "236  https://ekstrabladet.dk/nyheder/samfund/person...   \n",
       "237  https://ekstrabladet.dk/nyheder/samfund/dmi-so...   \n",
       "238  https://ekstrabladet.dk/nyheder/krigogkatastro...   \n",
       "239  https://ekstrabladet.dk/nyheder/samfund/claus-...   \n",
       "\n",
       "                                                 title            category  \\\n",
       "0           Villys nye comeback: Derfor stiller jeg op             Politik   \n",
       "1                         Se Ellemanns antistress-plan       Dansk politik   \n",
       "2    Nikitas dom: - Det absolut værste sted at bo i...             Samfund   \n",
       "3                              Ellemann alene i verden       Dansk politik   \n",
       "4    Sådan blev 2,3 tons hash fragtet fra landsby t...               Krimi   \n",
       "..                                                 ...                 ...   \n",
       "235                         Underskud på 51 milliarder             Samfund   \n",
       "236  Personer under 18 år kan have ret til juridisk...             Samfund   \n",
       "237                         DMI: Sommeren gør comeback             Samfund   \n",
       "238  Beboere på Hawaii kritiserer manglende varsel ...  Krig & katastrofer   \n",
       "239  Claus fik p-bøde: Men bilen befandt sig 350 km...             Samfund   \n",
       "\n",
       "                                                  body  \\\n",
       "0    Villy!, Villy! Villy! Der var jubel og vilde k...   \n",
       "1    Venstre-formand og forsvarsminister Jakob Elle...   \n",
       "2    Til næste sommer har jeg boet i København i ti...   \n",
       "3    Som minister findes der ingen i systemet, man ...   \n",
       "4    Tre byer på Sjælland spiller afgørende roller ...   \n",
       "..                                                 ...   \n",
       "235  51.000.000.000.51 milliarder, et ubeskriveligt...   \n",
       "236  Personer under 18 år kan på trods af dansk lov...   \n",
       "237  Man tør næsten ikke tro det, men den skulle væ...   \n",
       "238  Indbyggere på den amerikanske ø Maui føler, at...   \n",
       "239  Har du prøvet noget lignende, så hører vi gern...   \n",
       "\n",
       "                          time  \\\n",
       "0    2023-08-14T13:13:46+02:00   \n",
       "1    2023-08-14T05:12:04+02:00   \n",
       "2    2023-08-13T17:02:27+02:00   \n",
       "3    2023-08-13T09:54:10+02:00   \n",
       "4    2023-08-13T07:11:03+02:00   \n",
       "..                         ...   \n",
       "235  2023-08-13T10:59:38+02:00   \n",
       "236  2023-08-13T10:58:52+02:00   \n",
       "237  2023-08-13T07:54:07+02:00   \n",
       "238  2023-08-13T06:34:51+02:00   \n",
       "239  2023-08-13T06:14:23+02:00   \n",
       "\n",
       "                                                author  \n",
       "0                                           Marie Lade  \n",
       "1                                           Jonas Sahl  \n",
       "2                                     Nikita Klaestrup  \n",
       "3                                          Hans Engell  \n",
       "4                                      Bjarke Vestesen  \n",
       "..                                                 ...  \n",
       "235                                Lasse Emil Stiigvad  \n",
       "236                                           /ritzau/  \n",
       "237  Mads Romme\\n\\nHusk den gode tone!\\n\\n         ...  \n",
       "238                                        /ritzau/AFP  \n",
       "239  David Attardo\\n\\nHusk den gode tone!\\n\\n      ...  \n",
       "\n",
       "[240 rows x 6 columns]"
      ]
     },
     "execution_count": 197,
     "metadata": {},
     "output_type": "execute_result"
    }
   ],
   "source": [
    "data"
   ]
  },
  {
   "cell_type": "code",
   "execution_count": 112,
   "id": "cbd27f06",
   "metadata": {},
   "outputs": [
    {
     "data": {
      "text/html": [
       "<div>\n",
       "<style scoped>\n",
       "    .dataframe tbody tr th:only-of-type {\n",
       "        vertical-align: middle;\n",
       "    }\n",
       "\n",
       "    .dataframe tbody tr th {\n",
       "        vertical-align: top;\n",
       "    }\n",
       "\n",
       "    .dataframe thead th {\n",
       "        text-align: right;\n",
       "    }\n",
       "</style>\n",
       "<table border=\"1\" class=\"dataframe\">\n",
       "  <thead>\n",
       "    <tr style=\"text-align: right;\">\n",
       "      <th></th>\n",
       "      <th>link</th>\n",
       "      <th>title</th>\n",
       "      <th>category</th>\n",
       "      <th>body</th>\n",
       "      <th>time</th>\n",
       "      <th>author</th>\n",
       "    </tr>\n",
       "  </thead>\n",
       "  <tbody>\n",
       "    <tr>\n",
       "      <th>0</th>\n",
       "      <td>https://ekstrabladet.dk/nyheder/politik/villys...</td>\n",
       "      <td>Villys nye comeback: Derfor stiller jeg op</td>\n",
       "      <td>Politik</td>\n",
       "      <td>Villy!, Villy! Villy! Der var jubel og vilde k...</td>\n",
       "      <td>2023-08-14T13:13:46+02:00</td>\n",
       "      <td>Marie Lade</td>\n",
       "    </tr>\n",
       "    <tr>\n",
       "      <th>1</th>\n",
       "      <td>https://ekstrabladet.dk/nyheder/politik/danskp...</td>\n",
       "      <td>Se Ellemanns antistress-plan</td>\n",
       "      <td>Dansk politik</td>\n",
       "      <td>Venstre-formand og forsvarsminister Jakob Elle...</td>\n",
       "      <td>2023-08-14T05:12:04+02:00</td>\n",
       "      <td>Jonas Sahl</td>\n",
       "    </tr>\n",
       "    <tr>\n",
       "      <th>2</th>\n",
       "      <td>https://ekstrabladet.dk/nyheder/samfund/nikita...</td>\n",
       "      <td>Nikitas dom: - Det absolut værste sted at bo i...</td>\n",
       "      <td>Samfund</td>\n",
       "      <td>Til næste sommer har jeg boet i København i ti...</td>\n",
       "      <td>2023-08-13T17:02:27+02:00</td>\n",
       "      <td>Nikita Klaestrup</td>\n",
       "    </tr>\n",
       "    <tr>\n",
       "      <th>3</th>\n",
       "      <td>https://ekstrabladet.dk/nyheder/politik/danskp...</td>\n",
       "      <td>Ellemann alene i verden</td>\n",
       "      <td>Dansk politik</td>\n",
       "      <td>Som minister findes der ingen i systemet, man ...</td>\n",
       "      <td>2023-08-13T09:54:10+02:00</td>\n",
       "      <td>Hans Engell</td>\n",
       "    </tr>\n",
       "    <tr>\n",
       "      <th>4</th>\n",
       "      <td>https://ekstrabladet.dk/krimi/saadan-blev-23-t...</td>\n",
       "      <td>Sådan blev 2,3 tons hash fragtet fra landsby t...</td>\n",
       "      <td>Krimi</td>\n",
       "      <td>Tre byer på Sjælland spiller afgørende roller ...</td>\n",
       "      <td>2023-08-13T07:11:03+02:00</td>\n",
       "      <td>Bjarke Vestesen</td>\n",
       "    </tr>\n",
       "    <tr>\n",
       "      <th>...</th>\n",
       "      <td>...</td>\n",
       "      <td>...</td>\n",
       "      <td>...</td>\n",
       "      <td>...</td>\n",
       "      <td>...</td>\n",
       "      <td>...</td>\n",
       "    </tr>\n",
       "    <tr>\n",
       "      <th>235</th>\n",
       "      <td>https://ekstrabladet.dk/nyheder/advarer-turist...</td>\n",
       "      <td>Advarer turister: Hold jer væk</td>\n",
       "      <td>Nyheder</td>\n",
       "      <td>Turister bliver bedt om at holde sig væk fra h...</td>\n",
       "      <td>2023-08-14T00:54:07+02:00</td>\n",
       "      <td>/ritzau/</td>\n",
       "    </tr>\n",
       "    <tr>\n",
       "      <th>236</th>\n",
       "      <td>https://ekstrabladet.dk/nyheder/samfund/jordan...</td>\n",
       "      <td>Jordansk hær nedskyder drone: Fløj med 'meth'</td>\n",
       "      <td>Samfund</td>\n",
       "      <td>Det jordanske militær nedskød søndag en drone ...</td>\n",
       "      <td>2023-08-13T22:41:03+02:00</td>\n",
       "      <td>Matias Grønborg\\n\\nHusk den gode tone!\\n\\n    ...</td>\n",
       "    </tr>\n",
       "    <tr>\n",
       "      <th>237</th>\n",
       "      <td>https://ekstrabladet.dk/nyheder/samfund/tidlig...</td>\n",
       "      <td>Tidligere folketingsmedlem og borgmester polit...</td>\n",
       "      <td>Samfund</td>\n",
       "      <td>Det tidligere folketingsmedlem og forhenværend...</td>\n",
       "      <td>2023-08-13T21:43:11+02:00</td>\n",
       "      <td>Matias Grønborg\\n\\nHusk den gode tone!\\n\\n    ...</td>\n",
       "    </tr>\n",
       "    <tr>\n",
       "      <th>238</th>\n",
       "      <td>https://ekstrabladet.dk/nyheder/samfund/nyt-st...</td>\n",
       "      <td>Nyt studie afliver myte: Dansk ekspert bakker op</td>\n",
       "      <td>Samfund</td>\n",
       "      <td>10.000 skridt.\\nDet har længe været det hellig...</td>\n",
       "      <td>2023-08-13T21:06:21+02:00</td>\n",
       "      <td>Lasse Emil Stiigvad</td>\n",
       "    </tr>\n",
       "    <tr>\n",
       "      <th>239</th>\n",
       "      <td>https://ekstrabladet.dk/nyheder/samfund/morten...</td>\n",
       "      <td>Morten Skov Christiansen stiller op til FH for...</td>\n",
       "      <td>Samfund</td>\n",
       "      <td>Morten Skov Christiansen, der for nuværende er...</td>\n",
       "      <td>2023-08-13T18:18:41+02:00</td>\n",
       "      <td>/ritzau/</td>\n",
       "    </tr>\n",
       "  </tbody>\n",
       "</table>\n",
       "<p>240 rows × 6 columns</p>\n",
       "</div>"
      ],
      "text/plain": [
       "                                                  link  \\\n",
       "0    https://ekstrabladet.dk/nyheder/politik/villys...   \n",
       "1    https://ekstrabladet.dk/nyheder/politik/danskp...   \n",
       "2    https://ekstrabladet.dk/nyheder/samfund/nikita...   \n",
       "3    https://ekstrabladet.dk/nyheder/politik/danskp...   \n",
       "4    https://ekstrabladet.dk/krimi/saadan-blev-23-t...   \n",
       "..                                                 ...   \n",
       "235  https://ekstrabladet.dk/nyheder/advarer-turist...   \n",
       "236  https://ekstrabladet.dk/nyheder/samfund/jordan...   \n",
       "237  https://ekstrabladet.dk/nyheder/samfund/tidlig...   \n",
       "238  https://ekstrabladet.dk/nyheder/samfund/nyt-st...   \n",
       "239  https://ekstrabladet.dk/nyheder/samfund/morten...   \n",
       "\n",
       "                                                 title       category  \\\n",
       "0           Villys nye comeback: Derfor stiller jeg op        Politik   \n",
       "1                         Se Ellemanns antistress-plan  Dansk politik   \n",
       "2    Nikitas dom: - Det absolut værste sted at bo i...        Samfund   \n",
       "3                              Ellemann alene i verden  Dansk politik   \n",
       "4    Sådan blev 2,3 tons hash fragtet fra landsby t...          Krimi   \n",
       "..                                                 ...            ...   \n",
       "235                     Advarer turister: Hold jer væk        Nyheder   \n",
       "236      Jordansk hær nedskyder drone: Fløj med 'meth'        Samfund   \n",
       "237  Tidligere folketingsmedlem og borgmester polit...        Samfund   \n",
       "238   Nyt studie afliver myte: Dansk ekspert bakker op        Samfund   \n",
       "239  Morten Skov Christiansen stiller op til FH for...        Samfund   \n",
       "\n",
       "                                                  body  \\\n",
       "0    Villy!, Villy! Villy! Der var jubel og vilde k...   \n",
       "1    Venstre-formand og forsvarsminister Jakob Elle...   \n",
       "2    Til næste sommer har jeg boet i København i ti...   \n",
       "3    Som minister findes der ingen i systemet, man ...   \n",
       "4    Tre byer på Sjælland spiller afgørende roller ...   \n",
       "..                                                 ...   \n",
       "235  Turister bliver bedt om at holde sig væk fra h...   \n",
       "236  Det jordanske militær nedskød søndag en drone ...   \n",
       "237  Det tidligere folketingsmedlem og forhenværend...   \n",
       "238  10.000 skridt.\\nDet har længe været det hellig...   \n",
       "239  Morten Skov Christiansen, der for nuværende er...   \n",
       "\n",
       "                          time  \\\n",
       "0    2023-08-14T13:13:46+02:00   \n",
       "1    2023-08-14T05:12:04+02:00   \n",
       "2    2023-08-13T17:02:27+02:00   \n",
       "3    2023-08-13T09:54:10+02:00   \n",
       "4    2023-08-13T07:11:03+02:00   \n",
       "..                         ...   \n",
       "235  2023-08-14T00:54:07+02:00   \n",
       "236  2023-08-13T22:41:03+02:00   \n",
       "237  2023-08-13T21:43:11+02:00   \n",
       "238  2023-08-13T21:06:21+02:00   \n",
       "239  2023-08-13T18:18:41+02:00   \n",
       "\n",
       "                                                author  \n",
       "0                                           Marie Lade  \n",
       "1                                           Jonas Sahl  \n",
       "2                                     Nikita Klaestrup  \n",
       "3                                          Hans Engell  \n",
       "4                                      Bjarke Vestesen  \n",
       "..                                                 ...  \n",
       "235                                           /ritzau/  \n",
       "236  Matias Grønborg\\n\\nHusk den gode tone!\\n\\n    ...  \n",
       "237  Matias Grønborg\\n\\nHusk den gode tone!\\n\\n    ...  \n",
       "238                                Lasse Emil Stiigvad  \n",
       "239                                           /ritzau/  \n",
       "\n",
       "[240 rows x 6 columns]"
      ]
     },
     "execution_count": 112,
     "metadata": {},
     "output_type": "execute_result"
    }
   ],
   "source": [
    "data\n"
   ]
  },
  {
   "cell_type": "code",
   "execution_count": 172,
   "id": "58e8a57f",
   "metadata": {},
   "outputs": [
    {
     "name": "stderr",
     "output_type": "stream",
     "text": [
      "100%|██████████| 240/240 [01:20<00:00,  2.97it/s]\n"
     ]
    },
    {
     "data": {
      "text/html": [
       "<div>\n",
       "<style scoped>\n",
       "    .dataframe tbody tr th:only-of-type {\n",
       "        vertical-align: middle;\n",
       "    }\n",
       "\n",
       "    .dataframe tbody tr th {\n",
       "        vertical-align: top;\n",
       "    }\n",
       "\n",
       "    .dataframe thead th {\n",
       "        text-align: right;\n",
       "    }\n",
       "</style>\n",
       "<table border=\"1\" class=\"dataframe\">\n",
       "  <thead>\n",
       "    <tr style=\"text-align: right;\">\n",
       "      <th></th>\n",
       "      <th>full_link</th>\n",
       "    </tr>\n",
       "  </thead>\n",
       "  <tbody>\n",
       "    <tr>\n",
       "      <th>0</th>\n",
       "      <td>https://ekstrabladet.dk/nyheder/politik/danskp...</td>\n",
       "    </tr>\n",
       "    <tr>\n",
       "      <th>1</th>\n",
       "      <td>https://ekstrabladet.dk/nyheder/politik/danskp...</td>\n",
       "    </tr>\n",
       "    <tr>\n",
       "      <th>2</th>\n",
       "      <td>https://ekstrabladet.dk/sport/fodbold/se-fcks-...</td>\n",
       "    </tr>\n",
       "    <tr>\n",
       "      <th>3</th>\n",
       "      <td>https://ekstrabladet.dk/sport/cykling/kaempeta...</td>\n",
       "    </tr>\n",
       "    <tr>\n",
       "      <th>4</th>\n",
       "      <td>https://ekstrabladet.dk/nyheder/samfund/britis...</td>\n",
       "    </tr>\n",
       "    <tr>\n",
       "      <th>...</th>\n",
       "      <td>...</td>\n",
       "    </tr>\n",
       "    <tr>\n",
       "      <th>153</th>\n",
       "      <td>https://ekstrabladet.dk/nyheder/trump-tiltale-...</td>\n",
       "    </tr>\n",
       "    <tr>\n",
       "      <th>154</th>\n",
       "      <td>https://ekstrabladet.dk/nyheder/politik/danskp...</td>\n",
       "    </tr>\n",
       "    <tr>\n",
       "      <th>155</th>\n",
       "      <td>https://ekstrabladet.dk/nyheder/politik/danskp...</td>\n",
       "    </tr>\n",
       "    <tr>\n",
       "      <th>156</th>\n",
       "      <td>https://ekstrabladet.dk/sport/fodbold/dansk_fo...</td>\n",
       "    </tr>\n",
       "    <tr>\n",
       "      <th>157</th>\n",
       "      <td>https://ekstrabladet.dk/nyheder/politik/danskp...</td>\n",
       "    </tr>\n",
       "  </tbody>\n",
       "</table>\n",
       "<p>158 rows × 1 columns</p>\n",
       "</div>"
      ],
      "text/plain": [
       "                                             full_link\n",
       "0    https://ekstrabladet.dk/nyheder/politik/danskp...\n",
       "1    https://ekstrabladet.dk/nyheder/politik/danskp...\n",
       "2    https://ekstrabladet.dk/sport/fodbold/se-fcks-...\n",
       "3    https://ekstrabladet.dk/sport/cykling/kaempeta...\n",
       "4    https://ekstrabladet.dk/nyheder/samfund/britis...\n",
       "..                                                 ...\n",
       "153  https://ekstrabladet.dk/nyheder/trump-tiltale-...\n",
       "154  https://ekstrabladet.dk/nyheder/politik/danskp...\n",
       "155  https://ekstrabladet.dk/nyheder/politik/danskp...\n",
       "156  https://ekstrabladet.dk/sport/fodbold/dansk_fo...\n",
       "157  https://ekstrabladet.dk/nyheder/politik/danskp...\n",
       "\n",
       "[158 rows x 1 columns]"
      ]
     },
     "execution_count": 172,
     "metadata": {},
     "output_type": "execute_result"
    }
   ],
   "source": [
    "#scrap urls from single articles (above ~240 articles), one time run, later a loop will be applied (see below code)\n",
    "\n",
    "links1= []\n",
    "\n",
    "for link in tqdm(art_links1['full_link']):\n",
    "    response= requests.get(link, headers=headers)\n",
    "    soup = BeautifulSoup(response.content, 'lxml')\n",
    "\n",
    "    try:\n",
    "        links = soup.find_all('a')\n",
    "        valid_links = [link['href'] for link in links if 'href' in link.attrs]\n",
    "    except Exception:\n",
    "        valid_links = None\n",
    "\n",
    "    if valid_links is not None:\n",
    "        links1.extend(valid_links)\n",
    "\n",
    "    # keep only links to articles with 7 digit article ids\n",
    "    filtered_links = [link for link in links1 if re.search(r'\\/\\d{7}$', link)]\n",
    "\n",
    "    # Remove duplicates  \n",
    "    filtered_links = list(set(filtered_links))\n",
    "\n",
    "    # Create a DataFrame with the filtered links\n",
    "links_round1 = pd.DataFrame(filtered_links, columns=['filtered_link'])\n",
    "\n",
    "# Create the 'full_link' column based on the conditions\n",
    "def create_full_link(row):\n",
    "    if '/medielogin/login?returnTo=' in row['filtered_link']:\n",
    "        return row['filtered_link'].replace('/medielogin/login?returnTo=', '')\n",
    "    elif 'https://ekstrabladet.dk' in row['filtered_link']:\n",
    "        return row['filtered_link']\n",
    "    else:\n",
    "        return 'https://ekstrabladet.dk' + row['filtered_link']\n",
    "\n",
    "# Apply the 'create_full_link' function to create 'full_link' column\n",
    "links_round1['full_link'] = links_round1.apply(create_full_link, axis=1)\n",
    "\n",
    "    \n",
    "links_round1.drop(columns=['filtered_link'], inplace=True)\n",
    "links_round1.to_csv('links_round4.csv', index=False)\n",
    "    \n",
    "links_round1\n"
   ]
  },
  {
   "cell_type": "code",
   "execution_count": 201,
   "id": "c6c320b9",
   "metadata": {},
   "outputs": [
    {
     "name": "stderr",
     "output_type": "stream",
     "text": [
      "100%|██████████| 158/158 [04:17<00:00,  1.63s/it]\n"
     ]
    },
    {
     "name": "stdout",
     "output_type": "stream",
     "text": [
      "Round 1 completed. Saved to links_round1.csv\n"
     ]
    },
    {
     "name": "stderr",
     "output_type": "stream",
     "text": [
      " 93%|█████████▎| 232/250 [05:25<00:23,  1.32s/it]"
     ]
    },
    {
     "name": "stdout",
     "output_type": "stream",
     "text": [
      "Error requesting link: https://ekstrabladet.dkhttp://ekstrabladet.dk/services/spoergsmaal-og-svar-til-dit-medielogin-paa-ekstrabladetdk/4502895. Skipping to the next link.\n"
     ]
    },
    {
     "name": "stderr",
     "output_type": "stream",
     "text": [
      " 96%|█████████▋| 241/250 [05:35<00:11,  1.22s/it]"
     ]
    },
    {
     "name": "stdout",
     "output_type": "stream",
     "text": [
      "Error requesting link: https://ekstrabladet.dkhttps://ebcontent.ekstrabladet.dk/G_L/klar-ved-grillen-her-er-sommerens-laekreste-poelsemenu/9686003. Skipping to the next link.\n"
     ]
    },
    {
     "name": "stderr",
     "output_type": "stream",
     "text": [
      "100%|██████████| 250/250 [05:45<00:00,  1.38s/it]\n"
     ]
    },
    {
     "name": "stdout",
     "output_type": "stream",
     "text": [
      "Round 2 completed. Saved to links_round2.csv\n"
     ]
    },
    {
     "name": "stderr",
     "output_type": "stream",
     "text": [
      " 11%|█         | 34/305 [00:42<05:43,  1.27s/it]"
     ]
    },
    {
     "name": "stdout",
     "output_type": "stream",
     "text": [
      "Error requesting link: https://ekstrabladet.dk/incoming/ingen-kommentarer-regeringens-kovending-og-galimatias-v-maalsaetning/8585060. Skipping to the next link.\n"
     ]
    },
    {
     "name": "stderr",
     "output_type": "stream",
     "text": [
      " 28%|██▊       | 84/305 [01:44<04:52,  1.32s/it]"
     ]
    },
    {
     "name": "stdout",
     "output_type": "stream",
     "text": [
      "Error requesting link: https://ekstrabladet.dkhttps://www.herognu.dk/nyheder/tv-kendis-afslorer-konkurs/1051117. Skipping to the next link.\n"
     ]
    },
    {
     "name": "stderr",
     "output_type": "stream",
     "text": [
      " 93%|█████████▎| 283/305 [06:11<00:29,  1.32s/it]"
     ]
    },
    {
     "name": "stdout",
     "output_type": "stream",
     "text": [
      "Error requesting link: https://ekstrabladet.dkhttp://ekstrabladet.dk/services/spoergsmaal-og-svar-til-dit-medielogin-paa-ekstrabladetdk/4502895. Skipping to the next link.\n"
     ]
    },
    {
     "name": "stderr",
     "output_type": "stream",
     "text": [
      " 95%|█████████▌| 291/305 [06:22<00:19,  1.39s/it]"
     ]
    },
    {
     "name": "stdout",
     "output_type": "stream",
     "text": [
      "Error requesting link: https://ekstrabladet.dkhttps://ebcontent.ekstrabladet.dk/G_L/klar-ved-grillen-her-er-sommerens-laekreste-poelsemenu/9686003. Skipping to the next link.\n"
     ]
    },
    {
     "name": "stderr",
     "output_type": "stream",
     "text": [
      "100%|██████████| 305/305 [06:50<00:00,  1.35s/it]\n"
     ]
    },
    {
     "name": "stdout",
     "output_type": "stream",
     "text": [
      "Round 3 completed. Saved to links_round3.csv\n"
     ]
    },
    {
     "name": "stderr",
     "output_type": "stream",
     "text": [
      "  1%|▏         | 5/338 [00:06<06:59,  1.26s/it]"
     ]
    },
    {
     "name": "stdout",
     "output_type": "stream",
     "text": [
      "Error requesting link: https://ekstrabladet.dk/incoming/ingen-kommentarer-regeringens-kovending-og-galimatias-v-maalsaetning/8585060. Skipping to the next link.\n"
     ]
    },
    {
     "name": "stderr",
     "output_type": "stream",
     "text": [
      " 51%|█████     | 172/338 [04:00<11:30,  4.16s/it]"
     ]
    },
    {
     "name": "stdout",
     "output_type": "stream",
     "text": [
      "Error requesting link: https://ekstrabladet.dkhttps://ebcontent.ekstrabladet.dk/G_L/klar-ved-grillen-her-er-sommerens-laekreste-poelsemenu/9686003. Skipping to the next link.\n"
     ]
    },
    {
     "name": "stderr",
     "output_type": "stream",
     "text": [
      " 78%|███████▊  | 264/338 [05:55<01:33,  1.26s/it]"
     ]
    },
    {
     "name": "stdout",
     "output_type": "stream",
     "text": [
      "Error requesting link: https://ekstrabladet.dkhttp://ekstrabladet.dk/services/spoergsmaal-og-svar-til-dit-medielogin-paa-ekstrabladetdk/4502895. Skipping to the next link.\n"
     ]
    },
    {
     "name": "stderr",
     "output_type": "stream",
     "text": [
      " 86%|████████▌ | 290/338 [06:27<01:01,  1.27s/it]"
     ]
    },
    {
     "name": "stdout",
     "output_type": "stream",
     "text": [
      "Error requesting link: https://ekstrabladet.dkhttps://www.herognu.dk/nyheder/tv-kendis-afslorer-konkurs/1051117. Skipping to the next link.\n"
     ]
    },
    {
     "name": "stderr",
     "output_type": "stream",
     "text": [
      "100%|██████████| 338/338 [07:27<00:00,  1.32s/it]\n"
     ]
    },
    {
     "name": "stdout",
     "output_type": "stream",
     "text": [
      "Round 4 completed. Saved to links_round4.csv\n"
     ]
    },
    {
     "name": "stderr",
     "output_type": "stream",
     "text": [
      "  2%|▏         | 6/346 [00:07<07:00,  1.24s/it]"
     ]
    },
    {
     "name": "stdout",
     "output_type": "stream",
     "text": [
      "Error requesting link: https://ekstrabladet.dk/incoming/ingen-kommentarer-regeringens-kovending-og-galimatias-v-maalsaetning/8585060. Skipping to the next link.\n"
     ]
    },
    {
     "name": "stderr",
     "output_type": "stream",
     "text": [
      " 50%|█████     | 173/346 [03:50<03:34,  1.24s/it]"
     ]
    },
    {
     "name": "stdout",
     "output_type": "stream",
     "text": [
      "Error requesting link: https://ekstrabladet.dkhttps://ebcontent.ekstrabladet.dk/G_L/klar-ved-grillen-her-er-sommerens-laekreste-poelsemenu/9686003. Skipping to the next link.\n"
     ]
    },
    {
     "name": "stderr",
     "output_type": "stream",
     "text": [
      " 78%|███████▊  | 269/346 [05:56<01:37,  1.27s/it]"
     ]
    },
    {
     "name": "stdout",
     "output_type": "stream",
     "text": [
      "Error requesting link: https://ekstrabladet.dkhttp://ekstrabladet.dk/services/spoergsmaal-og-svar-til-dit-medielogin-paa-ekstrabladetdk/4502895. Skipping to the next link.\n"
     ]
    },
    {
     "name": "stderr",
     "output_type": "stream",
     "text": [
      " 86%|████████▋ | 299/346 [06:34<01:00,  1.29s/it]"
     ]
    },
    {
     "name": "stdout",
     "output_type": "stream",
     "text": [
      "Error requesting link: https://ekstrabladet.dkhttps://www.herognu.dk/nyheder/tv-kendis-afslorer-konkurs/1051117. Skipping to the next link.\n"
     ]
    },
    {
     "name": "stderr",
     "output_type": "stream",
     "text": [
      "100%|██████████| 346/346 [07:51<00:00,  1.36s/it]\n"
     ]
    },
    {
     "name": "stdout",
     "output_type": "stream",
     "text": [
      "Round 5 completed. Saved to links_round5.csv\n"
     ]
    },
    {
     "name": "stderr",
     "output_type": "stream",
     "text": [
      "  2%|▏         | 6/347 [00:07<07:11,  1.27s/it]"
     ]
    },
    {
     "name": "stdout",
     "output_type": "stream",
     "text": [
      "Error requesting link: https://ekstrabladet.dk/incoming/ingen-kommentarer-regeringens-kovending-og-galimatias-v-maalsaetning/8585060. Skipping to the next link.\n"
     ]
    },
    {
     "name": "stderr",
     "output_type": "stream",
     "text": [
      " 50%|█████     | 174/347 [03:44<03:38,  1.26s/it]"
     ]
    },
    {
     "name": "stdout",
     "output_type": "stream",
     "text": [
      "Error requesting link: https://ekstrabladet.dkhttps://ebcontent.ekstrabladet.dk/G_L/klar-ved-grillen-her-er-sommerens-laekreste-poelsemenu/9686003. Skipping to the next link.\n"
     ]
    },
    {
     "name": "stderr",
     "output_type": "stream",
     "text": [
      " 78%|███████▊  | 270/347 [06:12<01:38,  1.27s/it]"
     ]
    },
    {
     "name": "stdout",
     "output_type": "stream",
     "text": [
      "Error requesting link: https://ekstrabladet.dkhttp://ekstrabladet.dk/services/spoergsmaal-og-svar-til-dit-medielogin-paa-ekstrabladetdk/4502895. Skipping to the next link.\n"
     ]
    },
    {
     "name": "stderr",
     "output_type": "stream",
     "text": [
      " 86%|████████▌ | 299/347 [06:47<01:01,  1.27s/it]"
     ]
    },
    {
     "name": "stdout",
     "output_type": "stream",
     "text": [
      "Error requesting link: https://ekstrabladet.dkhttps://www.herognu.dk/nyheder/tv-kendis-afslorer-konkurs/1051117. Skipping to the next link.\n"
     ]
    },
    {
     "name": "stderr",
     "output_type": "stream",
     "text": [
      "100%|██████████| 347/347 [07:49<00:00,  1.35s/it]\n"
     ]
    },
    {
     "name": "stdout",
     "output_type": "stream",
     "text": [
      "Round 6 completed. Saved to links_round6.csv\n"
     ]
    },
    {
     "name": "stderr",
     "output_type": "stream",
     "text": [
      "  2%|▏         | 7/347 [00:07<04:58,  1.14it/s]"
     ]
    },
    {
     "name": "stdout",
     "output_type": "stream",
     "text": [
      "Error requesting link: https://ekstrabladet.dk/incoming/ingen-kommentarer-regeringens-kovending-og-galimatias-v-maalsaetning/8585060. Skipping to the next link.\n"
     ]
    },
    {
     "name": "stderr",
     "output_type": "stream",
     "text": [
      " 50%|█████     | 174/347 [04:23<03:52,  1.35s/it]"
     ]
    },
    {
     "name": "stdout",
     "output_type": "stream",
     "text": [
      "Error requesting link: https://ekstrabladet.dkhttps://ebcontent.ekstrabladet.dk/G_L/klar-ved-grillen-her-er-sommerens-laekreste-poelsemenu/9686003. Skipping to the next link.\n"
     ]
    },
    {
     "name": "stderr",
     "output_type": "stream",
     "text": [
      " 78%|███████▊  | 269/347 [06:26<01:43,  1.33s/it]"
     ]
    },
    {
     "name": "stdout",
     "output_type": "stream",
     "text": [
      "Error requesting link: https://ekstrabladet.dkhttp://ekstrabladet.dk/services/spoergsmaal-og-svar-til-dit-medielogin-paa-ekstrabladetdk/4502895. Skipping to the next link.\n"
     ]
    },
    {
     "name": "stderr",
     "output_type": "stream",
     "text": [
      " 86%|████████▌ | 298/347 [07:00<01:00,  1.23s/it]"
     ]
    },
    {
     "name": "stdout",
     "output_type": "stream",
     "text": [
      "Error requesting link: https://ekstrabladet.dkhttps://www.herognu.dk/nyheder/tv-kendis-afslorer-konkurs/1051117. Skipping to the next link.\n"
     ]
    },
    {
     "name": "stderr",
     "output_type": "stream",
     "text": [
      "100%|██████████| 347/347 [08:02<00:00,  1.39s/it]\n"
     ]
    },
    {
     "name": "stdout",
     "output_type": "stream",
     "text": [
      "Round 7 completed. Saved to links_round7.csv\n"
     ]
    },
    {
     "name": "stderr",
     "output_type": "stream",
     "text": [
      "  1%|▏         | 5/348 [00:06<07:13,  1.26s/it]"
     ]
    },
    {
     "name": "stdout",
     "output_type": "stream",
     "text": [
      "Error requesting link: https://ekstrabladet.dk/incoming/ingen-kommentarer-regeringens-kovending-og-galimatias-v-maalsaetning/8585060. Skipping to the next link.\n"
     ]
    },
    {
     "name": "stderr",
     "output_type": "stream",
     "text": [
      " 50%|█████     | 174/348 [03:47<03:38,  1.25s/it]"
     ]
    },
    {
     "name": "stdout",
     "output_type": "stream",
     "text": [
      "Error requesting link: https://ekstrabladet.dkhttps://ebcontent.ekstrabladet.dk/G_L/klar-ved-grillen-her-er-sommerens-laekreste-poelsemenu/9686003. Skipping to the next link.\n"
     ]
    },
    {
     "name": "stderr",
     "output_type": "stream",
     "text": [
      " 77%|███████▋  | 269/348 [05:42<01:38,  1.24s/it]"
     ]
    },
    {
     "name": "stdout",
     "output_type": "stream",
     "text": [
      "Error requesting link: https://ekstrabladet.dkhttp://ekstrabladet.dk/services/spoergsmaal-og-svar-til-dit-medielogin-paa-ekstrabladetdk/4502895. Skipping to the next link.\n"
     ]
    },
    {
     "name": "stderr",
     "output_type": "stream",
     "text": [
      " 86%|████████▌ | 298/348 [06:36<01:02,  1.25s/it]"
     ]
    },
    {
     "name": "stdout",
     "output_type": "stream",
     "text": [
      "Error requesting link: https://ekstrabladet.dkhttps://www.herognu.dk/nyheder/tv-kendis-afslorer-konkurs/1051117. Skipping to the next link.\n"
     ]
    },
    {
     "name": "stderr",
     "output_type": "stream",
     "text": [
      "100%|██████████| 348/348 [07:44<00:00,  1.33s/it]\n"
     ]
    },
    {
     "name": "stdout",
     "output_type": "stream",
     "text": [
      "Round 8 completed. Saved to links_round8.csv\n"
     ]
    },
    {
     "name": "stderr",
     "output_type": "stream",
     "text": [
      "  1%|▏         | 5/343 [00:06<06:43,  1.19s/it]"
     ]
    },
    {
     "name": "stdout",
     "output_type": "stream",
     "text": [
      "Error requesting link: https://ekstrabladet.dk/incoming/ingen-kommentarer-regeringens-kovending-og-galimatias-v-maalsaetning/8585060. Skipping to the next link.\n"
     ]
    },
    {
     "name": "stderr",
     "output_type": "stream",
     "text": [
      " 49%|████▉     | 168/343 [03:27<03:45,  1.29s/it]"
     ]
    },
    {
     "name": "stdout",
     "output_type": "stream",
     "text": [
      "Error requesting link: https://ekstrabladet.dkhttps://ebcontent.ekstrabladet.dk/G_L/klar-ved-grillen-her-er-sommerens-laekreste-poelsemenu/9686003. Skipping to the next link.\n"
     ]
    },
    {
     "name": "stderr",
     "output_type": "stream",
     "text": [
      " 77%|███████▋  | 264/343 [05:33<01:40,  1.27s/it]"
     ]
    },
    {
     "name": "stdout",
     "output_type": "stream",
     "text": [
      "Error requesting link: https://ekstrabladet.dkhttp://ekstrabladet.dk/services/spoergsmaal-og-svar-til-dit-medielogin-paa-ekstrabladetdk/4502895. Skipping to the next link.\n"
     ]
    },
    {
     "name": "stderr",
     "output_type": "stream",
     "text": [
      " 85%|████████▌ | 293/343 [06:08<01:01,  1.23s/it]"
     ]
    },
    {
     "name": "stdout",
     "output_type": "stream",
     "text": [
      "Error requesting link: https://ekstrabladet.dkhttps://www.herognu.dk/nyheder/tv-kendis-afslorer-konkurs/1051117. Skipping to the next link.\n"
     ]
    },
    {
     "name": "stderr",
     "output_type": "stream",
     "text": [
      "100%|██████████| 343/343 [07:18<00:00,  1.28s/it]\n"
     ]
    },
    {
     "name": "stdout",
     "output_type": "stream",
     "text": [
      "Round 9 completed. Saved to links_round9.csv\n"
     ]
    },
    {
     "name": "stderr",
     "output_type": "stream",
     "text": [
      "  1%|▏         | 5/338 [00:06<06:50,  1.23s/it]"
     ]
    },
    {
     "name": "stdout",
     "output_type": "stream",
     "text": [
      "Error requesting link: https://ekstrabladet.dk/incoming/ingen-kommentarer-regeringens-kovending-og-galimatias-v-maalsaetning/8585060. Skipping to the next link.\n"
     ]
    },
    {
     "name": "stderr",
     "output_type": "stream",
     "text": [
      " 49%|████▉     | 166/338 [03:28<03:24,  1.19s/it]"
     ]
    },
    {
     "name": "stdout",
     "output_type": "stream",
     "text": [
      "Error requesting link: https://ekstrabladet.dkhttps://ebcontent.ekstrabladet.dk/G_L/klar-ved-grillen-her-er-sommerens-laekreste-poelsemenu/9686003. Skipping to the next link.\n"
     ]
    },
    {
     "name": "stderr",
     "output_type": "stream",
     "text": [
      " 77%|███████▋  | 260/338 [05:28<01:38,  1.26s/it]"
     ]
    },
    {
     "name": "stdout",
     "output_type": "stream",
     "text": [
      "Error requesting link: https://ekstrabladet.dkhttp://ekstrabladet.dk/services/spoergsmaal-og-svar-til-dit-medielogin-paa-ekstrabladetdk/4502895. Skipping to the next link.\n"
     ]
    },
    {
     "name": "stderr",
     "output_type": "stream",
     "text": [
      "100%|██████████| 338/338 [07:11<00:00,  1.28s/it]\n"
     ]
    },
    {
     "name": "stdout",
     "output_type": "stream",
     "text": [
      "Round 10 completed. Saved to links_round10.csv\n",
      "Loop completed.\n"
     ]
    }
   ],
   "source": [
    "# loop to scrap articles urls from single articles\n",
    "\n",
    "import requests\n",
    "from bs4 import BeautifulSoup\n",
    "from tqdm import tqdm\n",
    "import re\n",
    "import pandas as pd\n",
    "import time\n",
    "\n",
    "links_round0 = pd.read_csv('links_round0.csv')\n",
    "\n",
    "# Function to create full link based on conditions\n",
    "def create_full_link(row):\n",
    "    if '/medielogin/login?returnTo=' in row['filtered_link']:\n",
    "        return row['filtered_link'].replace('/medielogin/login?returnTo=', '')\n",
    "    elif 'https://ekstrabladet.dk' in row['filtered_link']:\n",
    "        return row['filtered_link']\n",
    "    else:\n",
    "        return 'https://ekstrabladet.dk' + row['filtered_link']\n",
    "\n",
    "# Number of rounds and starting list\n",
    "num_rounds = 10  # Change this to the desired number of rounds\n",
    "starting_list = links_round0['full_link']  # Change this to the initial list you want to start with\n",
    "\n",
    "for round_num in range(num_rounds):\n",
    "    links1 = []\n",
    "\n",
    "    for link in tqdm(starting_list):\n",
    "        try:\n",
    "            response = requests.get(link, headers=headers)\n",
    "            response.raise_for_status()  # Raise an exception for HTTP errors\n",
    "            soup = BeautifulSoup(response.content, 'lxml')\n",
    "            time.sleep(1)  # Pause for 1 second before the next request\n",
    "\n",
    "            links = soup.find_all('a')\n",
    "            valid_links = [link['href'] for link in links if 'href' in link.attrs]\n",
    "            \n",
    "            if valid_links is not None:\n",
    "                links1.extend(valid_links)\n",
    "        except requests.exceptions.RequestException as e:\n",
    "            print(f\"Error requesting link: {link}. Skipping to the next link.\")\n",
    "\n",
    "    # Keep only links to articles with 7 digit article ids\n",
    "    filtered_links = [link for link in links1 if re.search(r'\\/\\d{7}$', link)]\n",
    "\n",
    "    # Remove duplicates  \n",
    "    filtered_links = list(set(filtered_links))\n",
    "\n",
    "    # Create a DataFrame with the filtered links\n",
    "    links_round = pd.DataFrame(filtered_links, columns=['filtered_link'])\n",
    "\n",
    "    # Apply the 'create_full_link' function to create 'full_link' column\n",
    "    links_round['full_link'] = links_round.apply(create_full_link, axis=1)\n",
    "\n",
    "    # Save DataFrame to CSV\n",
    "    csv_filename = f'links_round{round_num + 1}.csv'\n",
    "    links_round.drop(columns=['filtered_link'], inplace=True)\n",
    "    links_round.to_csv(csv_filename, index=False)\n",
    "\n",
    "    # Use the new list for the next round\n",
    "    starting_list = links_round['full_link']\n",
    "\n",
    "    # Display progress\n",
    "    print(f\"Round {round_num + 1} completed. Saved to {csv_filename}\")\n",
    "\n",
    "print(\"Loop completed.\")\n"
   ]
  },
  {
   "cell_type": "code",
   "execution_count": 191,
   "id": "49fd76e5",
   "metadata": {},
   "outputs": [
    {
     "name": "stdout",
     "output_type": "stream",
     "text": [
      "Combined URLs from all files: 303\n"
     ]
    }
   ],
   "source": [
    "#create combined list of urls to scrap articles data\n",
    "# later on new lists of urls are combined and deduplicated to separate new articles for scraping\n",
    "\n",
    "import pandas as pd\n",
    "\n",
    "combined_urls = []\n",
    "\n",
    "# Loop to read and concatenate 'full_link' columns from CSV files\n",
    "round_num = 1\n",
    "while True:\n",
    "    csv_filename = f'links_round{round_num}.csv'\n",
    "    try:\n",
    "        df = pd.read_csv(csv_filename)\n",
    "        combined_urls.extend(df['full_link'])\n",
    "        round_num += 1\n",
    "    except FileNotFoundError:\n",
    "        break\n",
    "\n",
    "combined_urls = list(set(combined_urls)) # drop duplicates\n",
    "\n",
    "combined_urls= pd.DataFrame(combined_urls)\n",
    "combined_urls.to_csv('combined_urls_1_4_rounds.csv', index=False)       \n",
    "print(f\"Combined URLs from all files: {len(combined_urls)}\")\n",
    "\n",
    "\n"
   ]
  },
  {
   "cell_type": "code",
   "execution_count": 198,
   "id": "90f05f27",
   "metadata": {},
   "outputs": [
    {
     "name": "stdout",
     "output_type": "stream",
     "text": [
      "Combined data: 395\n"
     ]
    }
   ],
   "source": [
    "# combine scraped data files with the look that take all csv files in place with data\n",
    "\n",
    "import pandas as pd\n",
    "\n",
    "combined_data = []\n",
    "\n",
    "round_num = 1\n",
    "while True:\n",
    "    csv_filename = f'extrabladet_{round_num}.csv'\n",
    "    try:\n",
    "        df = pd.read_csv(csv_filename)\n",
    "        combined_data.append(df)\n",
    "        round_num += 1\n",
    "    except FileNotFoundError:\n",
    "        break\n",
    "\n",
    "# Concatenate all DataFrames in the list\n",
    "combined_data = pd.concat(combined_data, ignore_index=True)\n",
    "\n",
    "# Drop duplicates based on the 'link' column\n",
    "combined_data.drop_duplicates(subset=['link'], inplace=True)\n",
    "\n",
    "# Save combined data to a CSV file\n",
    "combined_data.to_csv('data_1_4.csv', index=False)\n",
    "\n",
    "print(f\"Combined data: {len(combined_data)}\")\n"
   ]
  },
  {
   "cell_type": "code",
   "execution_count": 199,
   "id": "76a27390",
   "metadata": {},
   "outputs": [
    {
     "data": {
      "text/html": [
       "<div>\n",
       "<style scoped>\n",
       "    .dataframe tbody tr th:only-of-type {\n",
       "        vertical-align: middle;\n",
       "    }\n",
       "\n",
       "    .dataframe tbody tr th {\n",
       "        vertical-align: top;\n",
       "    }\n",
       "\n",
       "    .dataframe thead th {\n",
       "        text-align: right;\n",
       "    }\n",
       "</style>\n",
       "<table border=\"1\" class=\"dataframe\">\n",
       "  <thead>\n",
       "    <tr style=\"text-align: right;\">\n",
       "      <th></th>\n",
       "      <th>link</th>\n",
       "      <th>title</th>\n",
       "      <th>category</th>\n",
       "      <th>body</th>\n",
       "      <th>time</th>\n",
       "      <th>author</th>\n",
       "    </tr>\n",
       "  </thead>\n",
       "  <tbody>\n",
       "    <tr>\n",
       "      <th>0</th>\n",
       "      <td>https://ekstrabladet.dk/nyheder/politik/villys...</td>\n",
       "      <td>Villys nye comeback: Derfor stiller jeg op</td>\n",
       "      <td>Politik</td>\n",
       "      <td>Villy!, Villy! Villy! Der var jubel og vilde k...</td>\n",
       "      <td>2023-08-14T13:13:46+02:00</td>\n",
       "      <td>Marie Lade</td>\n",
       "    </tr>\n",
       "    <tr>\n",
       "      <th>1</th>\n",
       "      <td>https://ekstrabladet.dk/nyheder/politik/danskp...</td>\n",
       "      <td>Se Ellemanns antistress-plan</td>\n",
       "      <td>Dansk politik</td>\n",
       "      <td>Venstre-formand og forsvarsminister Jakob Elle...</td>\n",
       "      <td>2023-08-14T05:12:04+02:00</td>\n",
       "      <td>Jonas Sahl</td>\n",
       "    </tr>\n",
       "    <tr>\n",
       "      <th>2</th>\n",
       "      <td>https://ekstrabladet.dk/nyheder/samfund/nikita...</td>\n",
       "      <td>Nikitas dom: - Det absolut værste sted at bo i...</td>\n",
       "      <td>Samfund</td>\n",
       "      <td>Til næste sommer har jeg boet i København i ti...</td>\n",
       "      <td>2023-08-13T17:02:27+02:00</td>\n",
       "      <td>Nikita Klaestrup</td>\n",
       "    </tr>\n",
       "    <tr>\n",
       "      <th>3</th>\n",
       "      <td>https://ekstrabladet.dk/nyheder/politik/danskp...</td>\n",
       "      <td>Ellemann alene i verden</td>\n",
       "      <td>Dansk politik</td>\n",
       "      <td>Som minister findes der ingen i systemet, man ...</td>\n",
       "      <td>2023-08-13T09:54:10+02:00</td>\n",
       "      <td>Hans Engell</td>\n",
       "    </tr>\n",
       "    <tr>\n",
       "      <th>4</th>\n",
       "      <td>https://ekstrabladet.dk/krimi/saadan-blev-23-t...</td>\n",
       "      <td>Sådan blev 2,3 tons hash fragtet fra landsby t...</td>\n",
       "      <td>Krimi</td>\n",
       "      <td>Tre byer på Sjælland spiller afgørende roller ...</td>\n",
       "      <td>2023-08-13T07:11:03+02:00</td>\n",
       "      <td>Bjarke Vestesen</td>\n",
       "    </tr>\n",
       "    <tr>\n",
       "      <th>...</th>\n",
       "      <td>...</td>\n",
       "      <td>...</td>\n",
       "      <td>...</td>\n",
       "      <td>...</td>\n",
       "      <td>...</td>\n",
       "      <td>...</td>\n",
       "    </tr>\n",
       "    <tr>\n",
       "      <th>773</th>\n",
       "      <td>https://ekstrabladet.dk/nyheder/politik/danskp...</td>\n",
       "      <td>Engell: Hvad kan Ukraine bruge F-16-fly til?</td>\n",
       "      <td>Dansk politik</td>\n",
       "      <td>Politisk kommentator Hans Engell svarer hver u...</td>\n",
       "      <td>2023-06-17T09:44:08+02:00</td>\n",
       "      <td>Hans Engell</td>\n",
       "    </tr>\n",
       "    <tr>\n",
       "      <th>774</th>\n",
       "      <td>https://ekstrabladet.dk/krimi/husspetakler-42-...</td>\n",
       "      <td>42-årig sigtet for trusler på livet</td>\n",
       "      <td>Krimi</td>\n",
       "      <td>Mandag aften rykkede Midt- og Vestsjællands Po...</td>\n",
       "      <td>2023-08-15T11:38:32+02:00</td>\n",
       "      <td>Petra Akullu Møller\\n\\nHusk den gode tone!\\n\\n...</td>\n",
       "    </tr>\n",
       "    <tr>\n",
       "      <th>776</th>\n",
       "      <td>https://ekstrabladet.dk/krimi/indsat-afsloerer...</td>\n",
       "      <td>Indsat afslører: Her er fængsels-hierarkiet</td>\n",
       "      <td>Krimi</td>\n",
       "      <td>Når mange indsatte hører fængselsdøren smække ...</td>\n",
       "      <td>2023-08-15T07:21:48+02:00</td>\n",
       "      <td>Kristian Kornø</td>\n",
       "    </tr>\n",
       "    <tr>\n",
       "      <th>777</th>\n",
       "      <td>https://ekstrabladet.dk/nyheder/politik/danskp...</td>\n",
       "      <td>Influencer smidt ud af Danmark: Ramt af omstri...</td>\n",
       "      <td>Dansk politik</td>\n",
       "      <td>Er du en af de danskere, der kæmper med at få ...</td>\n",
       "      <td>2023-02-11T17:49:41+01:00</td>\n",
       "      <td>Cecilie Guldberg\\n•\\n\\n\\n                    E...</td>\n",
       "    </tr>\n",
       "    <tr>\n",
       "      <th>778</th>\n",
       "      <td>https://ekstrabladet.dk/sport/formel_1/f1-mana...</td>\n",
       "      <td>F1 Manager: Her er det store scoop</td>\n",
       "      <td>Formel 1</td>\n",
       "      <td>Sæsonstarten i Formel 1 er en ekstraordinær mu...</td>\n",
       "      <td>2023-03-03T18:02:20+01:00</td>\n",
       "      <td>Jonas Hüttel\\n•\\n\\nFrederik Ingemann</td>\n",
       "    </tr>\n",
       "  </tbody>\n",
       "</table>\n",
       "<p>395 rows × 6 columns</p>\n",
       "</div>"
      ],
      "text/plain": [
       "                                                  link  \\\n",
       "0    https://ekstrabladet.dk/nyheder/politik/villys...   \n",
       "1    https://ekstrabladet.dk/nyheder/politik/danskp...   \n",
       "2    https://ekstrabladet.dk/nyheder/samfund/nikita...   \n",
       "3    https://ekstrabladet.dk/nyheder/politik/danskp...   \n",
       "4    https://ekstrabladet.dk/krimi/saadan-blev-23-t...   \n",
       "..                                                 ...   \n",
       "773  https://ekstrabladet.dk/nyheder/politik/danskp...   \n",
       "774  https://ekstrabladet.dk/krimi/husspetakler-42-...   \n",
       "776  https://ekstrabladet.dk/krimi/indsat-afsloerer...   \n",
       "777  https://ekstrabladet.dk/nyheder/politik/danskp...   \n",
       "778  https://ekstrabladet.dk/sport/formel_1/f1-mana...   \n",
       "\n",
       "                                                 title       category  \\\n",
       "0           Villys nye comeback: Derfor stiller jeg op        Politik   \n",
       "1                         Se Ellemanns antistress-plan  Dansk politik   \n",
       "2    Nikitas dom: - Det absolut værste sted at bo i...        Samfund   \n",
       "3                              Ellemann alene i verden  Dansk politik   \n",
       "4    Sådan blev 2,3 tons hash fragtet fra landsby t...          Krimi   \n",
       "..                                                 ...            ...   \n",
       "773       Engell: Hvad kan Ukraine bruge F-16-fly til?  Dansk politik   \n",
       "774                42-årig sigtet for trusler på livet          Krimi   \n",
       "776        Indsat afslører: Her er fængsels-hierarkiet          Krimi   \n",
       "777  Influencer smidt ud af Danmark: Ramt af omstri...  Dansk politik   \n",
       "778                 F1 Manager: Her er det store scoop       Formel 1   \n",
       "\n",
       "                                                  body  \\\n",
       "0    Villy!, Villy! Villy! Der var jubel og vilde k...   \n",
       "1    Venstre-formand og forsvarsminister Jakob Elle...   \n",
       "2    Til næste sommer har jeg boet i København i ti...   \n",
       "3    Som minister findes der ingen i systemet, man ...   \n",
       "4    Tre byer på Sjælland spiller afgørende roller ...   \n",
       "..                                                 ...   \n",
       "773  Politisk kommentator Hans Engell svarer hver u...   \n",
       "774  Mandag aften rykkede Midt- og Vestsjællands Po...   \n",
       "776  Når mange indsatte hører fængselsdøren smække ...   \n",
       "777  Er du en af de danskere, der kæmper med at få ...   \n",
       "778  Sæsonstarten i Formel 1 er en ekstraordinær mu...   \n",
       "\n",
       "                          time  \\\n",
       "0    2023-08-14T13:13:46+02:00   \n",
       "1    2023-08-14T05:12:04+02:00   \n",
       "2    2023-08-13T17:02:27+02:00   \n",
       "3    2023-08-13T09:54:10+02:00   \n",
       "4    2023-08-13T07:11:03+02:00   \n",
       "..                         ...   \n",
       "773  2023-06-17T09:44:08+02:00   \n",
       "774  2023-08-15T11:38:32+02:00   \n",
       "776  2023-08-15T07:21:48+02:00   \n",
       "777  2023-02-11T17:49:41+01:00   \n",
       "778  2023-03-03T18:02:20+01:00   \n",
       "\n",
       "                                                author  \n",
       "0                                           Marie Lade  \n",
       "1                                           Jonas Sahl  \n",
       "2                                     Nikita Klaestrup  \n",
       "3                                          Hans Engell  \n",
       "4                                      Bjarke Vestesen  \n",
       "..                                                 ...  \n",
       "773                                        Hans Engell  \n",
       "774  Petra Akullu Møller\\n\\nHusk den gode tone!\\n\\n...  \n",
       "776                                     Kristian Kornø  \n",
       "777  Cecilie Guldberg\\n•\\n\\n\\n                    E...  \n",
       "778               Jonas Hüttel\\n•\\n\\nFrederik Ingemann  \n",
       "\n",
       "[395 rows x 6 columns]"
      ]
     },
     "execution_count": 199,
     "metadata": {},
     "output_type": "execute_result"
    }
   ],
   "source": [
    "combined_data"
   ]
  },
  {
   "cell_type": "code",
   "execution_count": null,
   "id": "b1a086ba",
   "metadata": {},
   "outputs": [],
   "source": []
  }
 ],
 "metadata": {
  "kernelspec": {
   "display_name": "Python 3 (ipykernel)",
   "language": "python",
   "name": "python3"
  },
  "language_info": {
   "codemirror_mode": {
    "name": "ipython",
    "version": 3
   },
   "file_extension": ".py",
   "mimetype": "text/x-python",
   "name": "python",
   "nbconvert_exporter": "python",
   "pygments_lexer": "ipython3",
   "version": "3.9.13"
  }
 },
 "nbformat": 4,
 "nbformat_minor": 5
}
