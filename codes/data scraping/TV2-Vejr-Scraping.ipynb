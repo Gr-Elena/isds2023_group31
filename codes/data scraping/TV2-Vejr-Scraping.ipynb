{
 "cells": [
  {
   "cell_type": "code",
   "execution_count": 20,
   "id": "8afa7a47-6c13-4bad-b977-154054597692",
   "metadata": {
    "tags": []
   },
   "outputs": [],
   "source": [
    "from selenium import webdriver\n",
    "from webdriver_manager.chrome import ChromeDriverManager\n",
    "from selenium.webdriver.common.keys import Keys\n",
    "from selenium.webdriver.common.by import By\n",
    "import time\n",
    "from bs4 import BeautifulSoup\n",
    "import re\n",
    "from tqdm.notebook import tqdm\n",
    "import pandas as pd\n",
    "import requests\n",
    "import matplotlib.pyplot as plt"
   ]
  },
  {
   "cell_type": "code",
   "execution_count": 33,
   "id": "2679af5e-16af-42f0-b8b8-ad2681a5168a",
   "metadata": {
    "tags": []
   },
   "outputs": [
    {
     "data": {
      "text/plain": [
       "<Response [200]>"
      ]
     },
     "execution_count": 33,
     "metadata": {},
     "output_type": "execute_result"
    }
   ],
   "source": [
    "url = 'https://vejr.tv2.dk/seneste'\n",
    "driver = webdriver.Edge()\n",
    "driver.get(url)\n",
    "\n",
    "headers = {\n",
    "    'Name': 'Mathias Udsen', \n",
    "    'E-mail':'lcv842@alumni.ku.dk',\n",
    "    'Message': 'Scraping as a part of our exam project at UCPH, Intoduction to social data science' \n",
    "}\n",
    "requests.get(url, headers)\n",
    "#time.sleep(5)"
   ]
  },
  {
   "cell_type": "code",
   "execution_count": 34,
   "id": "122d94bb-025c-4c6d-a0c3-249410debb53",
   "metadata": {
    "tags": []
   },
   "outputs": [],
   "source": [
    "cookie = driver.find_element(By.CSS_SELECTOR, '#onetrust-reject-all-handler')\n",
    "cookie.click()\n",
    "#time.sleep(5)"
   ]
  },
  {
   "cell_type": "code",
   "execution_count": 8,
   "id": "01573abb-64e5-47fa-b085-cb378f3022a0",
   "metadata": {
    "tags": []
   },
   "outputs": [],
   "source": [
    "Vis_flere = driver.find_element(By.CSS_SELECTOR, '.js-tc_load-more__bound')\n",
    "Vis_flere.click()\n",
    "#time.sleep(5)"
   ]
  },
  {
   "cell_type": "code",
   "execution_count": 35,
   "id": "ec7e12ec-9335-4813-98ef-c6e6aa8f369d",
   "metadata": {
    "tags": []
   },
   "outputs": [],
   "source": [
    "nummer=0\n",
    "\n",
    "max_retries = 30\n",
    "retries = 0\n",
    "\n",
    "Mathias = 'Nej'\n",
    "\n",
    "max_iter = 500\n",
    "i = 500\n",
    "\n",
    "soup = BeautifulSoup(driver.page_source, 'html.parser')\n",
    "count_of_one_column_lists = len(soup.find_all('ul', {'data-columns': '1'}))\n",
    "\n",
    "if Mathias == 'Ja':\n",
    "    \n",
    "    pbar1 = tqdm(total=max_iter, desc=\"Loading content\")\n",
    "\n",
    "    while i < 1000 or retries < max_retries:\n",
    "        retries = 0\n",
    "        try:\n",
    "            Vis_flere = driver.find_element(By.CSS_SELECTOR, '.js-tc_load-more__trigger.tc_button--secondary.tc_button--default.js-tc_load-more__bound')\n",
    "            Vis_flere.click()\n",
    "\n",
    "            new_count_of_one_column_lists = 0\n",
    "            while new_count_of_one_column_lists <= count_of_one_column_lists:\n",
    "                #soup = BeautifulSoup(driver.page_source, 'html.parser')\n",
    "                soup = BeautifulSoup(driver.page_source, 'lxml')\n",
    "                new_count_of_one_column_lists = len(soup.find_all('ul', {'data-columns': '1'}))\n",
    "                time.sleep(0.5)\n",
    "\n",
    "            count_of_one_column_lists = new_count_of_one_column_lists\n",
    "            i += 1\n",
    "            nummer += 1\n",
    "            pbar1.update(1)\n",
    "        except:\n",
    "            time.sleep(1)\n",
    "            retries += 1\n",
    "    pbar1.close()\n",
    "time.sleep(5)"
   ]
  },
  {
   "cell_type": "code",
   "execution_count": 4,
   "id": "1cdf9d79-3e9b-428c-808f-66a817933eb1",
   "metadata": {
    "tags": []
   },
   "outputs": [
    {
     "data": {
      "text/plain": [
       "\"\\ni = 0\\ncount_of_one_column_lists = 0\\nwhile i <= 10:\\n    try:\\n        Vis_flere = driver.find_element(By.CSS_SELECTOR, '.js-tc_load-more__trigger.tc_button--secondary.tc_button--default.js-tc_load-more__bound')\\n        Vis_flere.click()\\n\\n        new_count_of_one_column_lists = 0\\n        while new_count_of_one_column_lists <= count_of_one_column_lists:\\n            soup = BeautifulSoup(driver.page_source, 'html.parser')\\n            new_count_of_one_column_lists = len(soup.find_all('ul', {'data-columns': '1'}))\\n            time.sleep(0.25)\\n\\n        count_of_one_column_lists = new_count_of_one_column_lists\\n        i += 1\\n    except:\\n        time.sleep(1)\\n\""
      ]
     },
     "execution_count": 4,
     "metadata": {},
     "output_type": "execute_result"
    }
   ],
   "source": [
    "\"\"\"\n",
    "i = 0\n",
    "count_of_one_column_lists = 0\n",
    "while i <= 10:\n",
    "    try:\n",
    "        Vis_flere = driver.find_element(By.CSS_SELECTOR, '.js-tc_load-more__trigger.tc_button--secondary.tc_button--default.js-tc_load-more__bound')\n",
    "        Vis_flere.click()\n",
    "\n",
    "        new_count_of_one_column_lists = 0\n",
    "        while new_count_of_one_column_lists <= count_of_one_column_lists:\n",
    "            soup = BeautifulSoup(driver.page_source, 'html.parser')\n",
    "            new_count_of_one_column_lists = len(soup.find_all('ul', {'data-columns': '1'}))\n",
    "            time.sleep(0.25)\n",
    "\n",
    "        count_of_one_column_lists = new_count_of_one_column_lists\n",
    "        i += 1\n",
    "    except:\n",
    "        time.sleep(1)\n",
    "\"\"\""
   ]
  },
  {
   "cell_type": "code",
   "execution_count": 36,
   "id": "f50ab441-7834-4e0d-afc6-f3849ed7ff90",
   "metadata": {
    "tags": []
   },
   "outputs": [
    {
     "data": {
      "application/vnd.jupyter.widget-view+json": {
       "model_id": "2b4a64903c9e4eb7ab9713a8d5e6e980",
       "version_major": 2,
       "version_minor": 0
      },
      "text/plain": [
       "Scraping: 0it [00:00, ?it/s]"
      ]
     },
     "metadata": {},
     "output_type": "display_data"
    },
    {
     "data": {
      "application/vnd.jupyter.widget-view+json": {
       "model_id": "",
       "version_major": 2,
       "version_minor": 0
      },
      "text/plain": [
       "Articles:   0%|          | 0/5 [00:00<?, ?it/s]"
      ]
     },
     "metadata": {},
     "output_type": "display_data"
    },
    {
     "data": {
      "application/vnd.jupyter.widget-view+json": {
       "model_id": "",
       "version_major": 2,
       "version_minor": 0
      },
      "text/plain": [
       "Articles:   0%|          | 0/5 [00:00<?, ?it/s]"
      ]
     },
     "metadata": {},
     "output_type": "display_data"
    },
    {
     "data": {
      "application/vnd.jupyter.widget-view+json": {
       "model_id": "",
       "version_major": 2,
       "version_minor": 0
      },
      "text/plain": [
       "Articles:   0%|          | 0/19 [00:00<?, ?it/s]"
      ]
     },
     "metadata": {},
     "output_type": "display_data"
    },
    {
     "data": {
      "application/vnd.jupyter.widget-view+json": {
       "model_id": "",
       "version_major": 2,
       "version_minor": 0
      },
      "text/plain": [
       "Articles:   0%|          | 0/50 [00:00<?, ?it/s]"
      ]
     },
     "metadata": {},
     "output_type": "display_data"
    },
    {
     "data": {
      "application/vnd.jupyter.widget-view+json": {
       "model_id": "",
       "version_major": 2,
       "version_minor": 0
      },
      "text/plain": [
       "Articles:   0%|          | 0/50 [00:00<?, ?it/s]"
      ]
     },
     "metadata": {},
     "output_type": "display_data"
    },
    {
     "data": {
      "application/vnd.jupyter.widget-view+json": {
       "model_id": "",
       "version_major": 2,
       "version_minor": 0
      },
      "text/plain": [
       "Articles:   0%|          | 0/50 [00:00<?, ?it/s]"
      ]
     },
     "metadata": {},
     "output_type": "display_data"
    },
    {
     "name": "stdout",
     "output_type": "stream",
     "text": [
      "Skipped article at nummer: 144 due to missing details: https://vejr.tv2.dk/2023-06-26-tanev-vi-kan-lige-saa-godt-vaenne-os-til-det\n",
      "1: Tanev: Vi kan lige så godt vænne os til det 2: None 3: None 4: None\n",
      "Skipped article at nummer: 145 due to missing details: https://vejr.tv2.dk/2023-06-26-galleri-saa-kom-uvejret-til-danmark\n",
      "1: Galleri - så kom uvejret til Danmark 2: Jeppe Lykke Hansen 3: 2023-06-26T15:10:45.835Z 4: None\n"
     ]
    },
    {
     "data": {
      "application/vnd.jupyter.widget-view+json": {
       "model_id": "",
       "version_major": 2,
       "version_minor": 0
      },
      "text/plain": [
       "Articles:   0%|          | 0/50 [00:00<?, ?it/s]"
      ]
     },
     "metadata": {},
     "output_type": "display_data"
    },
    {
     "data": {
      "application/vnd.jupyter.widget-view+json": {
       "model_id": "",
       "version_major": 2,
       "version_minor": 0
      },
      "text/plain": [
       "Articles:   0%|          | 0/50 [00:00<?, ?it/s]"
      ]
     },
     "metadata": {},
     "output_type": "display_data"
    },
    {
     "name": "stdout",
     "output_type": "stream",
     "text": [
      "Skipped article at nummer: 238 due to missing details: https://vejr.tv2.dk/2023-05-29-saerligt-faenomen-spottet-paa-pinsehimlen\n",
      "1: Særligt fænomen spottet på pinsehimlen 2: Rune Zeitzen 3: 2023-05-29T16:37:30.258Z 4: None\n",
      "Skipped article at nummer: 259 due to missing details: https://vejr.tv2.dk/2023-05-23-satellitbillede-viser-toerkes-enorme-omfang\n",
      "1: Satellitbillede viser tørkes enorme omfang 2: None 3: None 4: None\n",
      "Skipped article at nummer: 266 due to missing details: https://vejr.tv2.dk/2023-05-21-laenge-ventet-regn-har-store-konsekvenser\n",
      "1: Længe ventet regn har store konsekvenser 2: None 3: None 4: None\n"
     ]
    },
    {
     "data": {
      "application/vnd.jupyter.widget-view+json": {
       "model_id": "",
       "version_major": 2,
       "version_minor": 0
      },
      "text/plain": [
       "Articles:   0%|          | 0/50 [00:00<?, ?it/s]"
      ]
     },
     "metadata": {},
     "output_type": "display_data"
    },
    {
     "name": "stdout",
     "output_type": "stream",
     "text": [
      "Skipped article at nummer: 296 due to missing details: https://vejr.tv2.dk/2023-05-11-brutal-hedeboelge-i-asien-smadrer-alle-rekorder\n",
      "1: Brutal hedebølge i Asien smadrer alle rekorder 2: None 3: None 4: None\n",
      "Skipped article at nummer: 299 due to missing details: https://vejr.tv2.dk/2023-05-10-toerke-medfoerer-restriktioner-i-sydfrankrig-private-swimmingpools-forbydes\n",
      "1: Tørke medfører restriktioner i Sydfrankrig – private swimmingpools forbydes 2: None 3: None 4: None\n"
     ]
    },
    {
     "data": {
      "application/vnd.jupyter.widget-view+json": {
       "model_id": "",
       "version_major": 2,
       "version_minor": 0
      },
      "text/plain": [
       "Articles:   0%|          | 0/50 [00:00<?, ?it/s]"
      ]
     },
     "metadata": {},
     "output_type": "display_data"
    },
    {
     "data": {
      "application/vnd.jupyter.widget-view+json": {
       "model_id": "",
       "version_major": 2,
       "version_minor": 0
      },
      "text/plain": [
       "Articles:   0%|          | 0/50 [00:00<?, ?it/s]"
      ]
     },
     "metadata": {},
     "output_type": "display_data"
    },
    {
     "name": "stdout",
     "output_type": "stream",
     "text": [
      "Skipped article at nummer: 381 due to missing details: https://vejr.tv2.dk/2023-04-10-marts-skriver-sig-ind-i-historieboegerne\n",
      "1: Marts skriver sig ind i historiebøgerne 2: None 3: None 4: None\n",
      "Skipped article at nummer: 392 due to missing details: https://vejr.tv2.dk/2023-04-06-se-billederne-her-er-der-faldet-10-centimeter-sne-i-dag\n",
      "1: Se billederne: Her er der faldet 10 centimeter sne i dag 2: Rune Zeitzen 3: 2023-04-06T09:34:48.590Z 4: None\n"
     ]
    },
    {
     "data": {
      "application/vnd.jupyter.widget-view+json": {
       "model_id": "",
       "version_major": 2,
       "version_minor": 0
      },
      "text/plain": [
       "Articles:   0%|          | 0/50 [00:00<?, ?it/s]"
      ]
     },
     "metadata": {},
     "output_type": "display_data"
    },
    {
     "data": {
      "application/vnd.jupyter.widget-view+json": {
       "model_id": "",
       "version_major": 2,
       "version_minor": 0
      },
      "text/plain": [
       "Articles:   0%|          | 0/50 [00:00<?, ?it/s]"
      ]
     },
     "metadata": {},
     "output_type": "display_data"
    },
    {
     "name": "stdout",
     "output_type": "stream",
     "text": [
      "Skipped article at nummer: 483 due to missing details: https://vejr.tv2.dk/2023-03-07-snestorm-har-ramt-danmark-se-danskernes-egne-billeder-her\n",
      "1: Snestorm har ramt Danmark - se danskernes egne billeder her 2: None 3: None 4: None\n"
     ]
    },
    {
     "data": {
      "application/vnd.jupyter.widget-view+json": {
       "model_id": "",
       "version_major": 2,
       "version_minor": 0
      },
      "text/plain": [
       "Articles:   0%|          | 0/50 [00:00<?, ?it/s]"
      ]
     },
     "metadata": {},
     "output_type": "display_data"
    },
    {
     "data": {
      "application/vnd.jupyter.widget-view+json": {
       "model_id": "",
       "version_major": 2,
       "version_minor": 0
      },
      "text/plain": [
       "Articles:   0%|          | 0/50 [00:00<?, ?it/s]"
      ]
     },
     "metadata": {},
     "output_type": "display_data"
    }
   ],
   "source": [
    "html = driver.page_source\n",
    "soup = BeautifulSoup(html, 'lxml')\n",
    "\n",
    "Headline = []\n",
    "Category = []\n",
    "Authors = []\n",
    "Time = []\n",
    "Live = []\n",
    "All_text = []\n",
    "Fejl = []\n",
    "#nummer=0\n",
    "\n",
    "Live_find1 = False\n",
    "Live_find2 = False\n",
    "\n",
    "if nummer == 500:\n",
    "    max_iter = 1000\n",
    "elif nummer == 0:\n",
    "    max_iter = 500\n",
    "else: \n",
    "    max_iter = nummer\n",
    "    nummer = 0\n",
    "\n",
    "pbar2 = tqdm(total=15, desc=\"Scraping\")\n",
    "i = 0\n",
    "#for i in range(0, 500, 1):\n",
    "for i in range(0, 15, 1):\n",
    "    try:\n",
    "        Vis_flere = driver.find_element(By.CSS_SELECTOR, '.js-tc_load-more__trigger.tc_button--secondary.tc_button--default.js-tc_load-more__bound')\n",
    "        Vis_flere.click()\n",
    "\n",
    "        new_count_of_one_column_lists = 0\n",
    "        while new_count_of_one_column_lists <= count_of_one_column_lists:\n",
    "            soup = BeautifulSoup(driver.page_source, 'lxml')\n",
    "            new_count_of_one_column_lists = len(soup.find_all('ul', {'data-columns': '1'}))\n",
    "            time.sleep(0.25)\n",
    "\n",
    "        count_of_one_column_lists = new_count_of_one_column_lists\n",
    "    except:\n",
    "        time.sleep(1)\n",
    "        \n",
    "    retries = 0\n",
    "    while retries < max_retries:\n",
    "        try:\n",
    "            one_column_lists = soup.find_all('ul', {'data-columns': '1'})[i]\n",
    "            break\n",
    "        except:\n",
    "            #print(i)\n",
    "            retries = retries + 1\n",
    "            time.sleep(1)\n",
    "    \n",
    "    if retries == max_retries:\n",
    "        print(f\"Max tries at: Number {nummer} and i: {i}\")\n",
    "        continue\n",
    "        \n",
    "    pbar3 = tqdm(total=len(soup.find_all('ul', {'data-columns': '1'})[i].find_all(class_='tc_teaser')), desc=\"Articles\", leave=False)\n",
    "\n",
    "    for one_column_list in one_column_lists:\n",
    "        artikler = one_column_list.find_all(class_='tc_teaser')\n",
    "            \n",
    "        for artikel in artikler:\n",
    "            nummer += 1\n",
    "\n",
    "            # Initializations\n",
    "            current_headline = None\n",
    "            current_author = None\n",
    "            current_time = None\n",
    "            current_category = None\n",
    "            current_text = []\n",
    "            current_live = 0\n",
    "\n",
    "            if artikel.find('span', class_='tc_label tc_label--color-live'):\n",
    "                Live_find1 = True\n",
    "            else:\n",
    "                Live_find1 = False\n",
    "\n",
    "            # Extract link\n",
    "            href = artikel.find('a', class_='tc_teaser__link').get('href')\n",
    "            \n",
    "            try:\n",
    "                if href:\n",
    "                    driver.execute_script(f'window.open(\"{href}\", \"_blank\");')\n",
    "                    driver.switch_to.window(driver.window_handles[-1])\n",
    "\n",
    "                    new_html = driver.page_source\n",
    "                    new_soup = BeautifulSoup(new_html, 'lxml')\n",
    "\n",
    "                    liveblog_body = new_soup.find('div', class_=\"tc_liveblog__body\", attrs={'data-adobe-context': \"article-body\"})\n",
    "                    Live_find2 = bool(liveblog_body and liveblog_body.find('em') and liveblog_body.find('em').text == 'Denne liveblog opdateres ikke længere.')\n",
    "\n",
    "                    if Live_find1 or Live_find2:\n",
    "                        current_headline = new_soup.find('header', class_=\"tc_page__header\").find('h1').text\n",
    "\n",
    "                    byline = new_soup.find('div', class_=\"tc_byline\")\n",
    "                    if byline:\n",
    "                        current_author = byline.find('strong').text\n",
    "                    timestamp = new_soup.find('time', class_='tc_timestamp')\n",
    "                    if timestamp:\n",
    "                        current_time = timestamp.get('datetime')\n",
    "\n",
    "                    if liveblog_body:\n",
    "                        article_body_div = liveblog_body\n",
    "                    else:\n",
    "                        article_body_div = new_soup.find('div', class_='tc_page__body', attrs={'data-adobe-context': 'article-body'})\n",
    "\n",
    "                    if article_body_div:\n",
    "                        rich_content_paragraphs = article_body_div.find_all('p')\n",
    "                        for paragraph in rich_content_paragraphs:\n",
    "                            current_text.append(paragraph.text)\n",
    "\n",
    "                    driver.close()\n",
    "                    driver.switch_to.window(driver.window_handles[0])\n",
    "                \n",
    "            except Exception as e:\n",
    "                print(f\"Error processing article at nummer: {nummer}. Error: {e}. {href}\")\n",
    "                driver.close()   # Ensure the article page is closed even on error\n",
    "                driver.switch_to.window(driver.window_handles[0])\n",
    "                Fejl.append(href)\n",
    "                continue\n",
    "\n",
    "            if Live_find1 or Live_find2:\n",
    "                current_live = 1\n",
    "            else:\n",
    "                current_headline = artikel.find('a', class_='tc_teaser__link').get('aria-label')\n",
    "\n",
    "            #label = artikel.find('span', class_='tc_label tc_label--color-nyheder')\n",
    "            #if label:\n",
    "                #current_category = label.text\n",
    "\n",
    "            if all([current_headline, current_author, current_time, current_text]):\n",
    "                Headline.append(current_headline)\n",
    "                Authors.append(current_author)\n",
    "                Time.append(current_time)\n",
    "                #Category.append(current_category)\n",
    "                All_text.append(current_text)\n",
    "                Live.append(current_live)\n",
    "            else:\n",
    "                print(f\"Skipped article at nummer: {nummer} due to missing details: {href}\")\n",
    "                \n",
    "                print(\"Headline:\", current_headline, \", Authors:\", current_author, \", Time:\", current_time)\n",
    "                \n",
    "                Fejl.append(href)\n",
    "            pbar3.update(1)\n",
    "    pbar3.close()\n",
    "    pbar2.update(1)\n",
    "pbar2.close()\n",
    "time.sleep(5)"
   ]
  },
  {
   "cell_type": "code",
   "execution_count": 37,
   "id": "2b7a1de7-b7d6-4eee-8134-afe13a268545",
   "metadata": {
    "tags": []
   },
   "outputs": [
    {
     "ename": "IndexError",
     "evalue": "list index out of range",
     "output_type": "error",
     "traceback": [
      "\u001b[1;31m---------------------------------------------------------------------------\u001b[0m",
      "\u001b[1;31mIndexError\u001b[0m                                Traceback (most recent call last)",
      "Cell \u001b[1;32mIn[37], line 1\u001b[0m\n\u001b[1;32m----> 1\u001b[0m \u001b[38;5;28mprint\u001b[39m(\u001b[38;5;28mlen\u001b[39m(Category), Category[\u001b[38;5;241m0\u001b[39m])\n\u001b[0;32m      2\u001b[0m \u001b[38;5;28mprint\u001b[39m(\u001b[38;5;28mlen\u001b[39m(Authors), Authors[\u001b[38;5;241m0\u001b[39m])\n\u001b[0;32m      3\u001b[0m \u001b[38;5;28mprint\u001b[39m(\u001b[38;5;28mlen\u001b[39m(Headline), Headline[\u001b[38;5;241m0\u001b[39m])\n",
      "\u001b[1;31mIndexError\u001b[0m: list index out of range"
     ]
    }
   ],
   "source": [
    "print(len(Category), Category[0])\n",
    "print(len(Authors), Authors[0])\n",
    "print(len(Headline), Headline[0])\n",
    "print(len(Time), Time[0])\n",
    "print(len(Live), Live[0])\n",
    "print(len(All_text), All_text[0])\n",
    "time.sleep(5)"
   ]
  },
  {
   "cell_type": "code",
   "execution_count": 43,
   "id": "daabea2a-2841-4b85-8c72-f5a236fa059f",
   "metadata": {
    "tags": []
   },
   "outputs": [
    {
     "data": {
      "text/html": [
       "<div>\n",
       "<style scoped>\n",
       "    .dataframe tbody tr th:only-of-type {\n",
       "        vertical-align: middle;\n",
       "    }\n",
       "\n",
       "    .dataframe tbody tr th {\n",
       "        vertical-align: top;\n",
       "    }\n",
       "\n",
       "    .dataframe thead th {\n",
       "        text-align: right;\n",
       "    }\n",
       "</style>\n",
       "<table border=\"1\" class=\"dataframe\">\n",
       "  <thead>\n",
       "    <tr style=\"text-align: right;\">\n",
       "      <th></th>\n",
       "      <th>Authors</th>\n",
       "      <th>Headline</th>\n",
       "      <th>Time</th>\n",
       "      <th>Live</th>\n",
       "      <th>All_text</th>\n",
       "      <th>Category</th>\n",
       "    </tr>\n",
       "  </thead>\n",
       "  <tbody>\n",
       "    <tr>\n",
       "      <th>0</th>\n",
       "      <td>Jens Ringgård Christiansen</td>\n",
       "      <td>Sommervejr med meget sol – men her truer regnb...</td>\n",
       "      <td>2023-08-16T05:10:53.980Z</td>\n",
       "      <td>0</td>\n",
       "      <td>[Lokalt vil der falde byger, men bygerne er få...</td>\n",
       "      <td>Vejr</td>\n",
       "    </tr>\n",
       "    <tr>\n",
       "      <th>1</th>\n",
       "      <td>Jeppe Lykke Hansen</td>\n",
       "      <td>Fiskesøer gør klar til varmere klima med ny ty...</td>\n",
       "      <td>2023-08-15T18:52:01.787Z</td>\n",
       "      <td>0</td>\n",
       "      <td>[Vejrskifte i danske put-and-take-søer – går f...</td>\n",
       "      <td>Vejr</td>\n",
       "    </tr>\n",
       "    <tr>\n",
       "      <th>2</th>\n",
       "      <td>Jens Ringgård Christiansen</td>\n",
       "      <td>Prognoser viser meget solskin i vente</td>\n",
       "      <td>2023-08-15T10:13:05.135Z</td>\n",
       "      <td>0</td>\n",
       "      <td>[De næste dage byder på mere sol, men kortvari...</td>\n",
       "      <td>Vejr</td>\n",
       "    </tr>\n",
       "    <tr>\n",
       "      <th>3</th>\n",
       "      <td>Jens Ringgård Christiansen</td>\n",
       "      <td>Lun tirsdag med risiko for lokale skybrud</td>\n",
       "      <td>2023-08-15T05:51:15.495Z</td>\n",
       "      <td>0</td>\n",
       "      <td>[Termometrene når over 25 grader, men bygerne ...</td>\n",
       "      <td>Vejr</td>\n",
       "    </tr>\n",
       "    <tr>\n",
       "      <th>4</th>\n",
       "      <td>Sebastian Pelt</td>\n",
       "      <td>Kraftige regn- og tordenbyger kan ramme tirsdag</td>\n",
       "      <td>2023-08-14T16:33:32.711Z</td>\n",
       "      <td>0</td>\n",
       "      <td>[Allerede natten til tirsdag er der risiko for...</td>\n",
       "      <td>Vejr</td>\n",
       "    </tr>\n",
       "    <tr>\n",
       "      <th>...</th>\n",
       "      <td>...</td>\n",
       "      <td>...</td>\n",
       "      <td>...</td>\n",
       "      <td>...</td>\n",
       "      <td>...</td>\n",
       "      <td>...</td>\n",
       "    </tr>\n",
       "    <tr>\n",
       "      <th>614</th>\n",
       "      <td>Jonas Damsbo</td>\n",
       "      <td>Ny kulderekord i Kina</td>\n",
       "      <td>2023-01-24T15:41:29.000Z</td>\n",
       "      <td>0</td>\n",
       "      <td>[Kina har sat ny officiel kulderekord, efter a...</td>\n",
       "      <td>Vejr</td>\n",
       "    </tr>\n",
       "    <tr>\n",
       "      <th>615</th>\n",
       "      <td>Jonas Damsbo</td>\n",
       "      <td>Pænt tirsdagsvejr – her kommer der mest sol</td>\n",
       "      <td>2023-01-24T06:30:33.000Z</td>\n",
       "      <td>0</td>\n",
       "      <td>[Temperaturen forventes at nå over frysepunkte...</td>\n",
       "      <td>Vejr</td>\n",
       "    </tr>\n",
       "    <tr>\n",
       "      <th>616</th>\n",
       "      <td>Jonas Damsbo</td>\n",
       "      <td>Spektakulært isfænomen vokser frem i danske skove</td>\n",
       "      <td>2023-01-23T17:20:57.000Z</td>\n",
       "      <td>0</td>\n",
       "      <td>[Fænomenet ligner fine, hvide hår og går under...</td>\n",
       "      <td>Vejr</td>\n",
       "    </tr>\n",
       "    <tr>\n",
       "      <th>617</th>\n",
       "      <td>Jeppe Lykke Hansen</td>\n",
       "      <td>Sæler forvirret af varmt vejr – kan ikke finde...</td>\n",
       "      <td>2023-01-23T17:20:27.000Z</td>\n",
       "      <td>0</td>\n",
       "      <td>[Når vejret er for varmt til det tykke lag vin...</td>\n",
       "      <td>Vejr</td>\n",
       "    </tr>\n",
       "    <tr>\n",
       "      <th>618</th>\n",
       "      <td>Jonas Damsbo</td>\n",
       "      <td>Muligt vejrskifte kan give ny vejrrekord</td>\n",
       "      <td>2023-01-23T09:55:45.000Z</td>\n",
       "      <td>0</td>\n",
       "      <td>[Ustadigt vejr i slutningen af måneden kan sik...</td>\n",
       "      <td>Vejr</td>\n",
       "    </tr>\n",
       "  </tbody>\n",
       "</table>\n",
       "<p>619 rows × 6 columns</p>\n",
       "</div>"
      ],
      "text/plain": [
       "                        Authors  \\\n",
       "0    Jens Ringgård Christiansen   \n",
       "1            Jeppe Lykke Hansen   \n",
       "2    Jens Ringgård Christiansen   \n",
       "3    Jens Ringgård Christiansen   \n",
       "4                Sebastian Pelt   \n",
       "..                          ...   \n",
       "614                Jonas Damsbo   \n",
       "615                Jonas Damsbo   \n",
       "616                Jonas Damsbo   \n",
       "617          Jeppe Lykke Hansen   \n",
       "618                Jonas Damsbo   \n",
       "\n",
       "                                              Headline  \\\n",
       "0    Sommervejr med meget sol – men her truer regnb...   \n",
       "1    Fiskesøer gør klar til varmere klima med ny ty...   \n",
       "2                Prognoser viser meget solskin i vente   \n",
       "3            Lun tirsdag med risiko for lokale skybrud   \n",
       "4      Kraftige regn- og tordenbyger kan ramme tirsdag   \n",
       "..                                                 ...   \n",
       "614                             Ny kulderekord i Kina    \n",
       "615        Pænt tirsdagsvejr – her kommer der mest sol   \n",
       "616  Spektakulært isfænomen vokser frem i danske skove   \n",
       "617  Sæler forvirret af varmt vejr – kan ikke finde...   \n",
       "618           Muligt vejrskifte kan give ny vejrrekord   \n",
       "\n",
       "                         Time  Live  \\\n",
       "0    2023-08-16T05:10:53.980Z     0   \n",
       "1    2023-08-15T18:52:01.787Z     0   \n",
       "2    2023-08-15T10:13:05.135Z     0   \n",
       "3    2023-08-15T05:51:15.495Z     0   \n",
       "4    2023-08-14T16:33:32.711Z     0   \n",
       "..                        ...   ...   \n",
       "614  2023-01-24T15:41:29.000Z     0   \n",
       "615  2023-01-24T06:30:33.000Z     0   \n",
       "616  2023-01-23T17:20:57.000Z     0   \n",
       "617  2023-01-23T17:20:27.000Z     0   \n",
       "618  2023-01-23T09:55:45.000Z     0   \n",
       "\n",
       "                                              All_text Category  \n",
       "0    [Lokalt vil der falde byger, men bygerne er få...     Vejr  \n",
       "1    [Vejrskifte i danske put-and-take-søer – går f...     Vejr  \n",
       "2    [De næste dage byder på mere sol, men kortvari...     Vejr  \n",
       "3    [Termometrene når over 25 grader, men bygerne ...     Vejr  \n",
       "4    [Allerede natten til tirsdag er der risiko for...     Vejr  \n",
       "..                                                 ...      ...  \n",
       "614  [Kina har sat ny officiel kulderekord, efter a...     Vejr  \n",
       "615  [Temperaturen forventes at nå over frysepunkte...     Vejr  \n",
       "616  [Fænomenet ligner fine, hvide hår og går under...     Vejr  \n",
       "617  [Når vejret er for varmt til det tykke lag vin...     Vejr  \n",
       "618  [Ustadigt vejr i slutningen af måneden kan sik...     Vejr  \n",
       "\n",
       "[619 rows x 6 columns]"
      ]
     },
     "execution_count": 43,
     "metadata": {},
     "output_type": "execute_result"
    }
   ],
   "source": [
    "data = {\n",
    "    #'Category': Category,\n",
    "    'Authors': Authors,\n",
    "    'Headline': Headline,\n",
    "    'Time': Time,\n",
    "    'Live': Live,\n",
    "    'All_text': All_text\n",
    "}\n",
    "df = pd.DataFrame(data)\n",
    "time.sleep(5)\n",
    "#pd.set_option('display.max_rows', None)\n",
    "#pd.set_option('display.max_columns', None)\n",
    "df['Category'] = 'Vejr'\n",
    "df\n",
    "#sorted_df = df.sort_values(by='Time')\n",
    "#sorted_df"
   ]
  },
  {
   "cell_type": "code",
   "execution_count": null,
   "id": "cd653571-b19e-4cc3-a7d0-36cb36d969c0",
   "metadata": {
    "tags": []
   },
   "outputs": [],
   "source": [
    "df.to_csv('Data-Vejr.csv', index=False)\n",
    "time.sleep(5)"
   ]
  },
  {
   "cell_type": "code",
   "execution_count": 45,
   "id": "b8ca0105-5efe-4a78-a3e9-3157cd9599c8",
   "metadata": {
    "tags": []
   },
   "outputs": [],
   "source": [
    "#df.to_csv(r'C:\\Users\\Mathias\\Desktop\\Privat\\Uni\\~Kandidat\\ISDS\\Data.csv', index=False)\n",
    "df.to_csv(r'C:\\Users\\B164306\\Desktop\\Mathias\\Privat\\Uni\\Introduction to Social Data Science\\Data-Vejr.csv', index=False)\n",
    "time.sleep(5)"
   ]
  },
  {
   "cell_type": "code",
   "execution_count": null,
   "id": "0fea4881-2899-42dc-a50e-4db93dbe7f93",
   "metadata": {},
   "outputs": [],
   "source": [
    "import os\n",
    "os.system(\"shutdown /s /t 10\")"
   ]
  },
  {
   "cell_type": "code",
   "execution_count": null,
   "id": "dbb36b0b-0794-4048-966a-ef1d3e3fe61d",
   "metadata": {
    "tags": []
   },
   "outputs": [],
   "source": [
    "#os.system(\"shutdown /a\")"
   ]
  },
  {
   "cell_type": "code",
   "execution_count": 9,
   "id": "a5f63a13-b66a-4c80-bd3e-b8b2c2d5e2ec",
   "metadata": {
    "tags": []
   },
   "outputs": [
    {
     "data": {
      "text/plain": [
       "'[\\'Efter to år ved magten har Taliban gjort det sværere at være kvinde. Senest har de lukket kvindernes \"sidste fristed\", fortæller Simi Jan.\\', \\'Bag de lukkede hvide døre er der falske blomster, imiterede diamanter og blankpoleret hvidt gulv. \\', \\'Og så er det forbudt for mænd.\\', \"Eller det var det i hvert fald indtil slutningen af juli år, hvor Taliban beordrede 34-årige Marzia Reyazees\\' skønhedssalon lukket.\", \\'For otte år siden brugte Marzia Reyazees mere 120.000 kroner af sin opsparing på at indrette salonen. Siden har den været med til at forsørge hendes familie.\\', \\'Men i juni besluttede Afghanistans ledelse – Taliban – at alle landets skønhedssaloner skulle lukke inden en måned, fordi de ifølge det islamiske regime ikke er forenelig med islam.\\', \"Det fortæller TV 2s mellemøstkorrespondent Simi Jan i TV 2s nyhedspodcast \\'Dato\\'.\", \\'Lukningen af skønhedssalonerne i Afghanistan er blot det seneste skridt, som Taliban har taget i retning af at indrette det afghanske samfund, som det var senest, de havde magten.\\', \\'Simi Jan har boet i Kabul og også besøgt Afghanistan flere gange, efter at Taliban overtog magten i landet for to år siden. \\', \\'Hun har jævnlig besøgt skønhedssaloner, fordi hun her har god mulighed for at tale frit med de afghanske kvinder.\\', \"- Da jeg var der sidste år, tog jeg på en skønhedssalon, mens Taliban rendte rundt udenfor. Der fortalte kvinderne mig, at det var deres sidste fristed, fortæller Simi Jan i nyhedspodcasten \\'Dato\\'.\", \"Efter USA\\'s præsident, Joe Biden, i april 2021 annoncerede en tilbagetrækning fra Afghanistan, overtog Taliban på få måneder magten over landet.\", \\'På et pressemøde lovede Taliban resten af verden, at kvinder og piger fortsat skulle få lov at være en del af samfundet, men da Simi Jan i lufthavnen i Kabul hørte pressemødet på sin telefon, havde hun svært ved at tro på deres løfter.\\', \\'- Jeg husker, hvordan de lover verdenssamfundet, at piger nok skal få lov til at gå i skole, og kvinderne fortsat skal arbejde, og er ligeværdige borgere. Og der står jeg og tænker, det tror jeg simpelthen ikke på. Jeg har jo mødt Taliban-krigere gennem årene, jeg ved, hvad deres kvindesyn er, og jeg tror ikke, at det har ændret sig, fortæller Simi Jan om begivenheden for to år siden.\\', \\'Det skulle vise sig, at der var hold i hendes forudsigelser.\\', \\'Allerede tre måneder senere suspenderede styret undervisning af kvinder på landets universiteter. Siden fulgte begrænsninger på rejser, skoleadgang og påbud om at være tildækket fra top til tå.\\', \\'- Det er sådan en dominoeffekt, der bliver sat i gang. Og det bliver bare værre og værre, fortæller Simi Jan, der stadig har kontakt med mange afghanere.\\', \\'- Der sidder jo rigtig mange fædre og mødre derude, som er ulykkelige over, at deres piger ikke må gå i skole. Stadig flere piger bliver gift tidligere og tidligere, fordi forældrene ikke har råd til at have dem hjemme, og fordi forældrene har brug for pengene, man får i medgift.\\', \\'Med lukningen af skønhedssalonerne er endnu en indtægtsmulighed for kvinder forsvundet.\\', \\'Skønhedssalonerne er \"big business\" i Afghanistan. Ifølge Reuters er der omkring 12.000 skønhedssaloner med i omegnen af 60.000 jobs, der nu er forsvundet.\\', \\'Siden Taliban kom til magten, er antallet af kvinder i job faldet fra 22 procent til 15 procent, ifølge Verdensbanken.\\', \\'En gang om året udkommer World Economic Forum med et ligestillingsindex – og her har Afghanistan indtaget sidstepladsen. Til trods for, at der gradvist er kommet flere rettigheder til kvinderne i de 20 år, hvor vestlige styrker befandt sig i landet.\\', \\'- Det er jo derfor, de kvinder, jeg er i kontakt med, jo nærmest har været i choktilstand over, at bum, så vendte deres verden pludselig fra den ene dag til den anden. Den ene, hun sagde til mig, \"jeg blinkede med øjnene, og så havde verden forandret sig\", fortæller Simi Jan.\\', \\'34-årige Marzia Reyazees har nu lukket sin skønhedssalon – og hun frygter, at hun nu ikke kan forsørge sine to børn.\\', \\'- Nu kan vi ikke arbejde, og så kan vi ikke skaffe mad til vores familier. Vi har brug for arbejde, siger Marzia Reyazees til Reuters.\\', \\'To år efter, at Taliban igen har overtaget magten i Afghanistan, er det tydeligt, at det er kvinderne, der lider de største tab på grund af styret, lyder det fra Simi Jan.\\', \"- Det virker for mig, som om Taliban fører en eller anden form for krig mod kvinderne. Det er som om, at det ingen ende vil tage. Og en af mine venner sagde her for lidt siden, at Taliban ønsker jo bare, at kvinderne skal fjernes fra gadebilledet og bare sidde derhjemme og lave ingenting. Altså, de er ved at ødelægge en hel generation af piger og kvinder. Og det er jo præcis det, der skete tilbage i 90\\'erne.\", \\'Du kan høre hele podcasten med Simi Jan her, eller hvor du normalt finder dine podcasts.\\']'"
      ]
     },
     "execution_count": 9,
     "metadata": {},
     "output_type": "execute_result"
    }
   ],
   "source": [
    "df = pd.read_csv (r'C:\\Users\\B164306\\Desktop\\Mathias\\Privat\\Uni\\Introduction to Social Data Science\\TV2_1-93.csv')\n",
    "df['All_text'][0]"
   ]
  },
  {
   "cell_type": "code",
   "execution_count": 19,
   "id": "64f2ef2a-906c-4c51-9302-91afcbff716e",
   "metadata": {
    "tags": []
   },
   "outputs": [],
   "source": [
    "df_Cat = df['Category'].value_counts()\n",
    "df_Cat\n",
    "\n",
    "Time = pd.to_datetime(df['Time'])\n",
    "\n",
    "hours = Time.dt.hour\n",
    "\n",
    "# Distribution of hours\n",
    "distribution = hours.value_counts().sort_index()\n"
   ]
  },
  {
   "cell_type": "code",
   "execution_count": 23,
   "id": "899845ed-2885-45f8-87cc-b4ba236e16fa",
   "metadata": {
    "tags": []
   },
   "outputs": [
    {
     "data": {
      "text/plain": [
       "\"\\ndistribution.plot(kind='bar')\\nplt.title('Hourly Distribution')\\nplt.xlabel('Hour of the day')\\nplt.ylabel('Count')\\nplt.grid(axis='y')\\nplt.show()\\n\""
      ]
     },
     "execution_count": 23,
     "metadata": {},
     "output_type": "execute_result"
    }
   ],
   "source": [
    "\"\"\"\n",
    "distribution.plot(kind='bar')\n",
    "plt.title('Hourly Distribution')\n",
    "plt.xlabel('Hour of the day')\n",
    "plt.ylabel('Count')\n",
    "plt.grid(axis='y')\n",
    "plt.show()\n",
    "\"\"\""
   ]
  },
  {
   "cell_type": "code",
   "execution_count": null,
   "id": "55cff0bb-f677-4020-bb16-1caa845bbd9e",
   "metadata": {},
   "outputs": [],
   "source": []
  }
 ],
 "metadata": {
  "kernelspec": {
   "display_name": "Python 3 (ipykernel)",
   "language": "python",
   "name": "python3"
  },
  "language_info": {
   "codemirror_mode": {
    "name": "ipython",
    "version": 3
   },
   "file_extension": ".py",
   "mimetype": "text/x-python",
   "name": "python",
   "nbconvert_exporter": "python",
   "pygments_lexer": "ipython3",
   "version": "3.11.3"
  }
 },
 "nbformat": 4,
 "nbformat_minor": 5
}
